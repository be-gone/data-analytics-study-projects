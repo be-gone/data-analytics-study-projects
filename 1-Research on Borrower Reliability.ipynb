{
 "cells": [
  {
   "cell_type": "markdown",
   "id": "386f2ae7",
   "metadata": {
    "deletable": false,
    "editable": false,
    "id": "386f2ae7"
   },
   "source": [
    "# Research on Borrower Reliability\n",
    "\n",
    "## Open the table and study the general information about the data\n",
    "\n",
    "### Task 1. \n",
    "Import the pandas library. Read the data from the csv-file into a dataframe and save it to the variable `data`. File path: `/datasets/data.csv`"
   ]
  },
  {
   "cell_type": "code",
   "execution_count": 1,
   "id": "77a68a90",
   "metadata": {
    "deletable": false,
    "id": "77a68a90"
   },
   "outputs": [],
   "source": [
    "import pandas as pd\n",
    "\n",
    "try:\n",
    "    data = pd.read_csv('/datasets/data.csv')\n",
    "except:\n",
    "    data = pd.read_csv('https://code.s3.yandex.net/datasets/data.csv')"
   ]
  },
  {
   "cell_type": "markdown",
   "id": "45365635",
   "metadata": {
    "deletable": false,
    "editable": false,
    "id": "45365635"
   },
   "source": [
    "### Task 2. \n",
    "Display the first 20 rows of the `data` dataframe on the screen."
   ]
  },
  {
   "cell_type": "code",
   "execution_count": 2,
   "id": "b0451a9a",
   "metadata": {
    "deletable": false,
    "id": "b0451a9a",
    "outputId": "1a8f3ef2-d323-4ec2-ddf7-89670b5944c4"
   },
   "outputs": [
    {
     "data": {
      "text/html": [
       "<div>\n",
       "<style scoped>\n",
       "    .dataframe tbody tr th:only-of-type {\n",
       "        vertical-align: middle;\n",
       "    }\n",
       "\n",
       "    .dataframe tbody tr th {\n",
       "        vertical-align: top;\n",
       "    }\n",
       "\n",
       "    .dataframe thead th {\n",
       "        text-align: right;\n",
       "    }\n",
       "</style>\n",
       "<table border=\"1\" class=\"dataframe\">\n",
       "  <thead>\n",
       "    <tr style=\"text-align: right;\">\n",
       "      <th></th>\n",
       "      <th>children</th>\n",
       "      <th>days_employed</th>\n",
       "      <th>dob_years</th>\n",
       "      <th>education</th>\n",
       "      <th>education_id</th>\n",
       "      <th>family_status</th>\n",
       "      <th>family_status_id</th>\n",
       "      <th>gender</th>\n",
       "      <th>income_type</th>\n",
       "      <th>debt</th>\n",
       "      <th>total_income</th>\n",
       "      <th>purpose</th>\n",
       "    </tr>\n",
       "  </thead>\n",
       "  <tbody>\n",
       "    <tr>\n",
       "      <th>0</th>\n",
       "      <td>1</td>\n",
       "      <td>-8437.673028</td>\n",
       "      <td>42</td>\n",
       "      <td>высшее</td>\n",
       "      <td>0</td>\n",
       "      <td>женат / замужем</td>\n",
       "      <td>0</td>\n",
       "      <td>F</td>\n",
       "      <td>сотрудник</td>\n",
       "      <td>0</td>\n",
       "      <td>253875.639453</td>\n",
       "      <td>покупка жилья</td>\n",
       "    </tr>\n",
       "    <tr>\n",
       "      <th>1</th>\n",
       "      <td>1</td>\n",
       "      <td>-4024.803754</td>\n",
       "      <td>36</td>\n",
       "      <td>среднее</td>\n",
       "      <td>1</td>\n",
       "      <td>женат / замужем</td>\n",
       "      <td>0</td>\n",
       "      <td>F</td>\n",
       "      <td>сотрудник</td>\n",
       "      <td>0</td>\n",
       "      <td>112080.014102</td>\n",
       "      <td>приобретение автомобиля</td>\n",
       "    </tr>\n",
       "    <tr>\n",
       "      <th>2</th>\n",
       "      <td>0</td>\n",
       "      <td>-5623.422610</td>\n",
       "      <td>33</td>\n",
       "      <td>Среднее</td>\n",
       "      <td>1</td>\n",
       "      <td>женат / замужем</td>\n",
       "      <td>0</td>\n",
       "      <td>M</td>\n",
       "      <td>сотрудник</td>\n",
       "      <td>0</td>\n",
       "      <td>145885.952297</td>\n",
       "      <td>покупка жилья</td>\n",
       "    </tr>\n",
       "    <tr>\n",
       "      <th>3</th>\n",
       "      <td>3</td>\n",
       "      <td>-4124.747207</td>\n",
       "      <td>32</td>\n",
       "      <td>среднее</td>\n",
       "      <td>1</td>\n",
       "      <td>женат / замужем</td>\n",
       "      <td>0</td>\n",
       "      <td>M</td>\n",
       "      <td>сотрудник</td>\n",
       "      <td>0</td>\n",
       "      <td>267628.550329</td>\n",
       "      <td>дополнительное образование</td>\n",
       "    </tr>\n",
       "    <tr>\n",
       "      <th>4</th>\n",
       "      <td>0</td>\n",
       "      <td>340266.072047</td>\n",
       "      <td>53</td>\n",
       "      <td>среднее</td>\n",
       "      <td>1</td>\n",
       "      <td>гражданский брак</td>\n",
       "      <td>1</td>\n",
       "      <td>F</td>\n",
       "      <td>пенсионер</td>\n",
       "      <td>0</td>\n",
       "      <td>158616.077870</td>\n",
       "      <td>сыграть свадьбу</td>\n",
       "    </tr>\n",
       "    <tr>\n",
       "      <th>5</th>\n",
       "      <td>0</td>\n",
       "      <td>-926.185831</td>\n",
       "      <td>27</td>\n",
       "      <td>высшее</td>\n",
       "      <td>0</td>\n",
       "      <td>гражданский брак</td>\n",
       "      <td>1</td>\n",
       "      <td>M</td>\n",
       "      <td>компаньон</td>\n",
       "      <td>0</td>\n",
       "      <td>255763.565419</td>\n",
       "      <td>покупка жилья</td>\n",
       "    </tr>\n",
       "    <tr>\n",
       "      <th>6</th>\n",
       "      <td>0</td>\n",
       "      <td>-2879.202052</td>\n",
       "      <td>43</td>\n",
       "      <td>высшее</td>\n",
       "      <td>0</td>\n",
       "      <td>женат / замужем</td>\n",
       "      <td>0</td>\n",
       "      <td>F</td>\n",
       "      <td>компаньон</td>\n",
       "      <td>0</td>\n",
       "      <td>240525.971920</td>\n",
       "      <td>операции с жильем</td>\n",
       "    </tr>\n",
       "    <tr>\n",
       "      <th>7</th>\n",
       "      <td>0</td>\n",
       "      <td>-152.779569</td>\n",
       "      <td>50</td>\n",
       "      <td>СРЕДНЕЕ</td>\n",
       "      <td>1</td>\n",
       "      <td>женат / замужем</td>\n",
       "      <td>0</td>\n",
       "      <td>M</td>\n",
       "      <td>сотрудник</td>\n",
       "      <td>0</td>\n",
       "      <td>135823.934197</td>\n",
       "      <td>образование</td>\n",
       "    </tr>\n",
       "    <tr>\n",
       "      <th>8</th>\n",
       "      <td>2</td>\n",
       "      <td>-6929.865299</td>\n",
       "      <td>35</td>\n",
       "      <td>ВЫСШЕЕ</td>\n",
       "      <td>0</td>\n",
       "      <td>гражданский брак</td>\n",
       "      <td>1</td>\n",
       "      <td>F</td>\n",
       "      <td>сотрудник</td>\n",
       "      <td>0</td>\n",
       "      <td>95856.832424</td>\n",
       "      <td>на проведение свадьбы</td>\n",
       "    </tr>\n",
       "    <tr>\n",
       "      <th>9</th>\n",
       "      <td>0</td>\n",
       "      <td>-2188.756445</td>\n",
       "      <td>41</td>\n",
       "      <td>среднее</td>\n",
       "      <td>1</td>\n",
       "      <td>женат / замужем</td>\n",
       "      <td>0</td>\n",
       "      <td>M</td>\n",
       "      <td>сотрудник</td>\n",
       "      <td>0</td>\n",
       "      <td>144425.938277</td>\n",
       "      <td>покупка жилья для семьи</td>\n",
       "    </tr>\n",
       "    <tr>\n",
       "      <th>10</th>\n",
       "      <td>2</td>\n",
       "      <td>-4171.483647</td>\n",
       "      <td>36</td>\n",
       "      <td>высшее</td>\n",
       "      <td>0</td>\n",
       "      <td>женат / замужем</td>\n",
       "      <td>0</td>\n",
       "      <td>M</td>\n",
       "      <td>компаньон</td>\n",
       "      <td>0</td>\n",
       "      <td>113943.491460</td>\n",
       "      <td>покупка недвижимости</td>\n",
       "    </tr>\n",
       "    <tr>\n",
       "      <th>11</th>\n",
       "      <td>0</td>\n",
       "      <td>-792.701887</td>\n",
       "      <td>40</td>\n",
       "      <td>среднее</td>\n",
       "      <td>1</td>\n",
       "      <td>женат / замужем</td>\n",
       "      <td>0</td>\n",
       "      <td>F</td>\n",
       "      <td>сотрудник</td>\n",
       "      <td>0</td>\n",
       "      <td>77069.234271</td>\n",
       "      <td>покупка коммерческой недвижимости</td>\n",
       "    </tr>\n",
       "    <tr>\n",
       "      <th>12</th>\n",
       "      <td>0</td>\n",
       "      <td>NaN</td>\n",
       "      <td>65</td>\n",
       "      <td>среднее</td>\n",
       "      <td>1</td>\n",
       "      <td>гражданский брак</td>\n",
       "      <td>1</td>\n",
       "      <td>M</td>\n",
       "      <td>пенсионер</td>\n",
       "      <td>0</td>\n",
       "      <td>NaN</td>\n",
       "      <td>сыграть свадьбу</td>\n",
       "    </tr>\n",
       "    <tr>\n",
       "      <th>13</th>\n",
       "      <td>0</td>\n",
       "      <td>-1846.641941</td>\n",
       "      <td>54</td>\n",
       "      <td>неоконченное высшее</td>\n",
       "      <td>2</td>\n",
       "      <td>женат / замужем</td>\n",
       "      <td>0</td>\n",
       "      <td>F</td>\n",
       "      <td>сотрудник</td>\n",
       "      <td>0</td>\n",
       "      <td>130458.228857</td>\n",
       "      <td>приобретение автомобиля</td>\n",
       "    </tr>\n",
       "    <tr>\n",
       "      <th>14</th>\n",
       "      <td>0</td>\n",
       "      <td>-1844.956182</td>\n",
       "      <td>56</td>\n",
       "      <td>высшее</td>\n",
       "      <td>0</td>\n",
       "      <td>гражданский брак</td>\n",
       "      <td>1</td>\n",
       "      <td>F</td>\n",
       "      <td>компаньон</td>\n",
       "      <td>1</td>\n",
       "      <td>165127.911772</td>\n",
       "      <td>покупка жилой недвижимости</td>\n",
       "    </tr>\n",
       "    <tr>\n",
       "      <th>15</th>\n",
       "      <td>1</td>\n",
       "      <td>-972.364419</td>\n",
       "      <td>26</td>\n",
       "      <td>среднее</td>\n",
       "      <td>1</td>\n",
       "      <td>женат / замужем</td>\n",
       "      <td>0</td>\n",
       "      <td>F</td>\n",
       "      <td>сотрудник</td>\n",
       "      <td>0</td>\n",
       "      <td>116820.904450</td>\n",
       "      <td>строительство собственной недвижимости</td>\n",
       "    </tr>\n",
       "    <tr>\n",
       "      <th>16</th>\n",
       "      <td>0</td>\n",
       "      <td>-1719.934226</td>\n",
       "      <td>35</td>\n",
       "      <td>среднее</td>\n",
       "      <td>1</td>\n",
       "      <td>женат / замужем</td>\n",
       "      <td>0</td>\n",
       "      <td>F</td>\n",
       "      <td>сотрудник</td>\n",
       "      <td>0</td>\n",
       "      <td>289202.704229</td>\n",
       "      <td>недвижимость</td>\n",
       "    </tr>\n",
       "    <tr>\n",
       "      <th>17</th>\n",
       "      <td>0</td>\n",
       "      <td>-2369.999720</td>\n",
       "      <td>33</td>\n",
       "      <td>высшее</td>\n",
       "      <td>0</td>\n",
       "      <td>гражданский брак</td>\n",
       "      <td>1</td>\n",
       "      <td>M</td>\n",
       "      <td>сотрудник</td>\n",
       "      <td>0</td>\n",
       "      <td>90410.586745</td>\n",
       "      <td>строительство недвижимости</td>\n",
       "    </tr>\n",
       "    <tr>\n",
       "      <th>18</th>\n",
       "      <td>0</td>\n",
       "      <td>400281.136913</td>\n",
       "      <td>53</td>\n",
       "      <td>среднее</td>\n",
       "      <td>1</td>\n",
       "      <td>вдовец / вдова</td>\n",
       "      <td>2</td>\n",
       "      <td>F</td>\n",
       "      <td>пенсионер</td>\n",
       "      <td>0</td>\n",
       "      <td>56823.777243</td>\n",
       "      <td>на покупку подержанного автомобиля</td>\n",
       "    </tr>\n",
       "    <tr>\n",
       "      <th>19</th>\n",
       "      <td>0</td>\n",
       "      <td>-10038.818549</td>\n",
       "      <td>48</td>\n",
       "      <td>СРЕДНЕЕ</td>\n",
       "      <td>1</td>\n",
       "      <td>в разводе</td>\n",
       "      <td>3</td>\n",
       "      <td>F</td>\n",
       "      <td>сотрудник</td>\n",
       "      <td>0</td>\n",
       "      <td>242831.107982</td>\n",
       "      <td>на покупку своего автомобиля</td>\n",
       "    </tr>\n",
       "  </tbody>\n",
       "</table>\n",
       "</div>"
      ],
      "text/plain": [
       "    children  days_employed  dob_years            education  education_id  \\\n",
       "0          1   -8437.673028         42               высшее             0   \n",
       "1          1   -4024.803754         36              среднее             1   \n",
       "2          0   -5623.422610         33              Среднее             1   \n",
       "3          3   -4124.747207         32              среднее             1   \n",
       "4          0  340266.072047         53              среднее             1   \n",
       "5          0    -926.185831         27               высшее             0   \n",
       "6          0   -2879.202052         43               высшее             0   \n",
       "7          0    -152.779569         50              СРЕДНЕЕ             1   \n",
       "8          2   -6929.865299         35               ВЫСШЕЕ             0   \n",
       "9          0   -2188.756445         41              среднее             1   \n",
       "10         2   -4171.483647         36               высшее             0   \n",
       "11         0    -792.701887         40              среднее             1   \n",
       "12         0            NaN         65              среднее             1   \n",
       "13         0   -1846.641941         54  неоконченное высшее             2   \n",
       "14         0   -1844.956182         56               высшее             0   \n",
       "15         1    -972.364419         26              среднее             1   \n",
       "16         0   -1719.934226         35              среднее             1   \n",
       "17         0   -2369.999720         33               высшее             0   \n",
       "18         0  400281.136913         53              среднее             1   \n",
       "19         0  -10038.818549         48              СРЕДНЕЕ             1   \n",
       "\n",
       "       family_status  family_status_id gender income_type  debt  \\\n",
       "0    женат / замужем                 0      F   сотрудник     0   \n",
       "1    женат / замужем                 0      F   сотрудник     0   \n",
       "2    женат / замужем                 0      M   сотрудник     0   \n",
       "3    женат / замужем                 0      M   сотрудник     0   \n",
       "4   гражданский брак                 1      F   пенсионер     0   \n",
       "5   гражданский брак                 1      M   компаньон     0   \n",
       "6    женат / замужем                 0      F   компаньон     0   \n",
       "7    женат / замужем                 0      M   сотрудник     0   \n",
       "8   гражданский брак                 1      F   сотрудник     0   \n",
       "9    женат / замужем                 0      M   сотрудник     0   \n",
       "10   женат / замужем                 0      M   компаньон     0   \n",
       "11   женат / замужем                 0      F   сотрудник     0   \n",
       "12  гражданский брак                 1      M   пенсионер     0   \n",
       "13   женат / замужем                 0      F   сотрудник     0   \n",
       "14  гражданский брак                 1      F   компаньон     1   \n",
       "15   женат / замужем                 0      F   сотрудник     0   \n",
       "16   женат / замужем                 0      F   сотрудник     0   \n",
       "17  гражданский брак                 1      M   сотрудник     0   \n",
       "18    вдовец / вдова                 2      F   пенсионер     0   \n",
       "19         в разводе                 3      F   сотрудник     0   \n",
       "\n",
       "     total_income                                 purpose  \n",
       "0   253875.639453                           покупка жилья  \n",
       "1   112080.014102                 приобретение автомобиля  \n",
       "2   145885.952297                           покупка жилья  \n",
       "3   267628.550329              дополнительное образование  \n",
       "4   158616.077870                         сыграть свадьбу  \n",
       "5   255763.565419                           покупка жилья  \n",
       "6   240525.971920                       операции с жильем  \n",
       "7   135823.934197                             образование  \n",
       "8    95856.832424                   на проведение свадьбы  \n",
       "9   144425.938277                 покупка жилья для семьи  \n",
       "10  113943.491460                    покупка недвижимости  \n",
       "11   77069.234271       покупка коммерческой недвижимости  \n",
       "12            NaN                         сыграть свадьбу  \n",
       "13  130458.228857                 приобретение автомобиля  \n",
       "14  165127.911772              покупка жилой недвижимости  \n",
       "15  116820.904450  строительство собственной недвижимости  \n",
       "16  289202.704229                            недвижимость  \n",
       "17   90410.586745              строительство недвижимости  \n",
       "18   56823.777243      на покупку подержанного автомобиля  \n",
       "19  242831.107982            на покупку своего автомобиля  "
      ]
     },
     "execution_count": 2,
     "metadata": {},
     "output_type": "execute_result"
    }
   ],
   "source": [
    "data.head(20)"
   ]
  },
  {
   "cell_type": "markdown",
   "id": "0ed8f27f",
   "metadata": {
    "deletable": false,
    "editable": false,
    "id": "0ed8f27f"
   },
   "source": [
    "### Task 3. \n",
    "Display the main information about the dataframe using the `info()` method."
   ]
  },
  {
   "cell_type": "code",
   "execution_count": 3,
   "id": "bbedaa31",
   "metadata": {},
   "outputs": [
    {
     "name": "stdout",
     "output_type": "stream",
     "text": [
      "<class 'pandas.core.frame.DataFrame'>\n",
      "RangeIndex: 21525 entries, 0 to 21524\n",
      "Data columns (total 12 columns):\n",
      " #   Column            Non-Null Count  Dtype  \n",
      "---  ------            --------------  -----  \n",
      " 0   children          21525 non-null  int64  \n",
      " 1   days_employed     19351 non-null  float64\n",
      " 2   dob_years         21525 non-null  int64  \n",
      " 3   education         21525 non-null  object \n",
      " 4   education_id      21525 non-null  int64  \n",
      " 5   family_status     21525 non-null  object \n",
      " 6   family_status_id  21525 non-null  int64  \n",
      " 7   gender            21525 non-null  object \n",
      " 8   income_type       21525 non-null  object \n",
      " 9   debt              21525 non-null  int64  \n",
      " 10  total_income      19351 non-null  float64\n",
      " 11  purpose           21525 non-null  object \n",
      "dtypes: float64(2), int64(5), object(5)\n",
      "memory usage: 2.0+ MB\n"
     ]
    }
   ],
   "source": [
    "data.info()"
   ]
  },
  {
   "cell_type": "markdown",
   "id": "ab3f863b",
   "metadata": {
    "deletable": false,
    "id": "ab3f863b",
    "outputId": "15376089-8dad-46c9-b520-c05248d43158"
   },
   "source": [
    "### Task 3. \n",
    "Display the main information about the dataframe using the `info()` method."
   ]
  },
  {
   "cell_type": "code",
   "execution_count": 5,
   "id": "c589b7ad",
   "metadata": {},
   "outputs": [
    {
     "name": "stdout",
     "output_type": "stream",
     "text": [
      "<class 'pandas.core.frame.DataFrame'>\n",
      "RangeIndex: 21525 entries, 0 to 21524\n",
      "Data columns (total 12 columns):\n",
      " #   Column            Non-Null Count  Dtype  \n",
      "---  ------            --------------  -----  \n",
      " 0   children          21525 non-null  int64  \n",
      " 1   days_employed     19351 non-null  float64\n",
      " 2   dob_years         21525 non-null  int64  \n",
      " 3   education         21525 non-null  object \n",
      " 4   education_id      21525 non-null  int64  \n",
      " 5   family_status     21525 non-null  object \n",
      " 6   family_status_id  21525 non-null  int64  \n",
      " 7   gender            21525 non-null  object \n",
      " 8   income_type       21525 non-null  object \n",
      " 9   debt              21525 non-null  int64  \n",
      " 10  total_income      19351 non-null  float64\n",
      " 11  purpose           21525 non-null  object \n",
      "dtypes: float64(2), int64(5), object(5)\n",
      "memory usage: 2.0+ MB\n"
     ]
    }
   ],
   "source": [
    "data.info()"
   ]
  },
  {
   "cell_type": "markdown",
   "id": "60e3e22d",
   "metadata": {
    "deletable": false,
    "editable": false,
    "id": "60e3e22d"
   },
   "source": [
    "## Data Preprocessing\n",
    "\n",
    "### Handling Missing Values\n",
    "\n",
    "### Task 4. \n",
    "Display the number of missing values for each column. Use a combination of two methods."
   ]
  },
  {
   "cell_type": "code",
   "execution_count": null,
   "id": "2dc372b2",
   "metadata": {
    "deletable": false,
    "id": "2dc372b2",
    "outputId": "81f4d817-781c-465c-ed15-91ce4446810d"
   },
   "outputs": [
    {
     "data": {
      "text/plain": [
       "children               0\n",
       "days_employed       2174\n",
       "dob_years              0\n",
       "education              0\n",
       "education_id           0\n",
       "family_status          0\n",
       "family_status_id       0\n",
       "gender                 0\n",
       "income_type            0\n",
       "debt                   0\n",
       "total_income        2174\n",
       "purpose                0\n",
       "dtype: int64"
      ]
     },
     "execution_count": 4,
     "metadata": {},
     "output_type": "execute_result"
    }
   ],
   "source": [
    "data.isna().sum()"
   ]
  },
  {
   "cell_type": "markdown",
   "id": "14f011b1",
   "metadata": {
    "deletable": false,
    "editable": false,
    "id": "14f011b1"
   },
   "source": [
    "### Task 5. \n",
    "There are missing values in two columns. One of them is `days_employed`. You will handle the missing values in this column in the next step. The other column with missing values, `total_income`, stores income data. The income amount is most strongly influenced by the employment type, so the missing values in this column should be filled with the median value for each type from the `income_type` column. For example, a person with the employment type 'employee' who has a missing value in the `total_income` column should have it filled with the median income among all records with the same type."
   ]
  },
  {
   "cell_type": "code",
   "execution_count": null,
   "id": "bdabfb6e",
   "metadata": {
    "deletable": false,
    "id": "bdabfb6e"
   },
   "outputs": [],
   "source": [
    "for t in data['income_type'].unique():\n",
    "    data.loc[(data['income_type'] == t) & (data['total_income'].isna()), 'total_income'] = \\\n",
    "    data.loc[(data['income_type'] == t), 'total_income'].median()"
   ]
  },
  {
   "cell_type": "markdown",
   "id": "5be34059",
   "metadata": {
    "deletable": false,
    "editable": false,
    "id": "5be34059"
   },
   "source": [
    "### Handling Anomalous Values\n",
    "\n",
    "### Task 6. \n",
    "The data may contain artifacts (anomalies) — values that do not reflect reality and appeared due to some error. Such an artifact would be a negative number of days of employment in the `days_employed` column. For real data, this is normal. Process the values in this column: replace all negative values with positive ones using the `abs()` method."
   ]
  },
  {
   "cell_type": "code",
   "execution_count": null,
   "id": "020c46cc",
   "metadata": {
    "deletable": false,
    "id": "020c46cc"
   },
   "outputs": [],
   "source": [
    "data['days_employed'] = data['days_employed'].abs()"
   ]
  },
  {
   "cell_type": "markdown",
   "id": "45538a3a",
   "metadata": {
    "deletable": false,
    "editable": false,
    "id": "45538a3a"
   },
   "source": [
    "### Task 7. \n",
    "For each employment type, display the median value of `days_employed` in days."
   ]
  },
  {
   "cell_type": "code",
   "execution_count": null,
   "id": "cd3e6328",
   "metadata": {
    "deletable": false,
    "id": "cd3e6328",
    "outputId": "801ef80e-522b-4668-f34e-565af7432bcf"
   },
   "outputs": [
    {
     "data": {
      "text/plain": [
       "income_type\n",
       "безработный        366413.652744\n",
       "в декрете            3296.759962\n",
       "госслужащий          2689.368353\n",
       "компаньон            1547.382223\n",
       "пенсионер          365213.306266\n",
       "предприниматель       520.848083\n",
       "сотрудник            1574.202821\n",
       "студент               578.751554\n",
       "Name: days_employed, dtype: float64"
      ]
     },
     "execution_count": 7,
     "metadata": {},
     "output_type": "execute_result"
    }
   ],
   "source": [
    "data.groupby('income_type')['days_employed'].agg('median')"
   ]
  },
  {
   "cell_type": "markdown",
   "id": "90c5f058",
   "metadata": {
    "deletable": false,
    "editable": false,
    "id": "90c5f058"
   },
   "source": [
    "Two types (unemployed and pensioners) have abnormally large values. It is difficult to correct such values, so leave them as they are.\n",
    "\n",
    "### Task 8. \n",
    "Display the list of unique values in the `children` column."
   ]
  },
  {
   "cell_type": "code",
   "execution_count": null,
   "id": "dbb37b8e",
   "metadata": {
    "deletable": false,
    "id": "dbb37b8e",
    "outputId": "6975b15c-7f95-4697-d16d-a0c79b657b03"
   },
   "outputs": [
    {
     "data": {
      "text/plain": [
       "array([ 1,  0,  3,  2, -1,  4, 20,  5])"
      ]
     },
     "execution_count": 8,
     "metadata": {},
     "output_type": "execute_result"
    }
   ],
   "source": [
    "data['children'].unique()"
   ]
  },
  {
   "cell_type": "markdown",
   "id": "2b8b0715",
   "metadata": {
    "deletable": false,
    "editable": false,
    "id": "2b8b0715"
   },
   "source": [
    "### Task 9. \n",
    "There are two anomalous values in the `children` column. Remove the rows containing these anomalous values from the `data` dataframe."
   ]
  },
  {
   "cell_type": "code",
   "execution_count": null,
   "id": "20009df8",
   "metadata": {
    "deletable": false,
    "id": "20009df8"
   },
   "outputs": [],
   "source": [
    "data = data[(data['children'] != -1) & (data['children'] != 20)]"
   ]
  },
  {
   "cell_type": "markdown",
   "id": "8c6ac9f1",
   "metadata": {
    "deletable": false,
    "editable": false,
    "id": "8c6ac9f1"
   },
   "source": [
    "### Task 10. \n",
    "Display the list of unique values in the `children` column again to ensure the artifacts have been removed."
   ]
  },
  {
   "cell_type": "code",
   "execution_count": null,
   "id": "07337b81",
   "metadata": {
    "deletable": false,
    "id": "07337b81",
    "outputId": "b2097101-d49d-44d9-901b-32a65c9463d1"
   },
   "outputs": [
    {
     "data": {
      "text/plain": [
       "array([1, 0, 3, 2, 4, 5])"
      ]
     },
     "execution_count": 10,
     "metadata": {},
     "output_type": "execute_result"
    }
   ],
   "source": [
    "data['children'].unique()"
   ]
  },
  {
   "cell_type": "markdown",
   "id": "ee3f52d4",
   "metadata": {
    "deletable": false,
    "editable": false,
    "id": "ee3f52d4"
   },
   "source": [
    "### Handling Missing Values (continued)\n",
    "\n",
    "### Task 11. \n",
    "Fill the missing values in the `days_employed` column with the median values for each `income_type`."
   ]
  },
  {
   "cell_type": "code",
   "execution_count": null,
   "id": "61946b83",
   "metadata": {
    "deletable": false,
    "id": "61946b83"
   },
   "outputs": [],
   "source": [
    "for t in data['income_type'].unique():\n",
    "    data.loc[(data['income_type'] == t) & (data['days_employed'].isna()), 'days_employed'] = \\\n",
    "    data.loc[(data['income_type'] == t), 'days_employed'].median()"
   ]
  },
  {
   "cell_type": "markdown",
   "id": "550dcd9b",
   "metadata": {
    "deletable": false,
    "editable": false,
    "id": "550dcd9b"
   },
   "source": [
    "### Task 12. \n",
    "Make sure all missing values are filled. Check your work and display the number of missing values for each column again using two methods."
   ]
  },
  {
   "cell_type": "code",
   "execution_count": null,
   "id": "937c7014",
   "metadata": {
    "deletable": false,
    "id": "937c7014",
    "outputId": "8da1e4e1-358e-4e87-98c9-f261bce0a7b2"
   },
   "outputs": [
    {
     "data": {
      "text/plain": [
       "children            0\n",
       "days_employed       0\n",
       "dob_years           0\n",
       "education           0\n",
       "education_id        0\n",
       "family_status       0\n",
       "family_status_id    0\n",
       "gender              0\n",
       "income_type         0\n",
       "debt                0\n",
       "total_income        0\n",
       "purpose             0\n",
       "dtype: int64"
      ]
     },
     "execution_count": 12,
     "metadata": {},
     "output_type": "execute_result"
    }
   ],
   "source": [
    "data.isna().sum()"
   ]
  },
  {
   "cell_type": "markdown",
   "id": "d522e295",
   "metadata": {
    "deletable": false,
    "editable": false,
    "id": "d522e295"
   },
   "source": [
    "### Changing Data Types\n",
    "\n",
    "### Task 13. \n",
    "Replace the float data type in the `total_income` column with an integer data type using the `astype()` method."
   ]
  },
  {
   "cell_type": "code",
   "execution_count": null,
   "id": "31036462",
   "metadata": {
    "deletable": false,
    "id": "31036462"
   },
   "outputs": [],
   "source": [
    "data['total_income'] = data['total_income'].astype(int)"
   ]
  },
  {
   "cell_type": "markdown",
   "id": "b8e3d1d9",
   "metadata": {
    "deletable": false,
    "editable": false,
    "id": "b8e3d1d9"
   },
   "source": [
    "### Handling Duplicates\n",
    "\n",
    "### Task 14. \n",
    "Handle implicit duplicates in the `education` column. This column contains the same values written differently: using uppercase and lowercase letters. Convert them to lowercase."
   ]
  },
  {
   "cell_type": "code",
   "execution_count": null,
   "id": "d89e73e1",
   "metadata": {
    "deletable": false,
    "id": "d89e73e1"
   },
   "outputs": [],
   "source": [
    "data['education'] = data['education'].str.lower()"
   ]
  },
  {
   "cell_type": "markdown",
   "id": "01d4500e",
   "metadata": {
    "deletable": false,
    "editable": false,
    "id": "01d4500e"
   },
   "source": [
    "### Task 15. \n",
    "Display the number of duplicate rows in the data. If such rows are present, remove them."
   ]
  },
  {
   "cell_type": "code",
   "execution_count": null,
   "id": "e10efb23",
   "metadata": {
    "deletable": false,
    "id": "e10efb23",
    "outputId": "9684deba-1934-42d1-99e1-cda61740f822"
   },
   "outputs": [
    {
     "data": {
      "text/plain": [
       "71"
      ]
     },
     "execution_count": 15,
     "metadata": {},
     "output_type": "execute_result"
    }
   ],
   "source": [
    "data.duplicated().sum()"
   ]
  },
  {
   "cell_type": "code",
   "execution_count": null,
   "id": "df853f20",
   "metadata": {
    "deletable": false,
    "id": "df853f20"
   },
   "outputs": [],
   "source": [
    "data = data.drop_duplicates()"
   ]
  },
  {
   "cell_type": "markdown",
   "id": "627be38f",
   "metadata": {
    "deletable": false,
    "editable": false,
    "id": "627be38f"
   },
   "source": [
    "### Data Categorization\n",
    "\n",
    "### Task 16. \n",
    "Based on the ranges specified below, create a new column `total_income_category` in the `data` dataframe with the following categories: \n",
    "- 0–30000 — 'E' \n",
    "- 30001–50000 — 'D' \n",
    "- 50001–200000 — 'C' \n",
    "- 200001–1000000 — 'B' \n",
    "- 1000001 and above — 'A'. \n",
    "\n",
    "For example, a borrower with an income of 25,000 should be assigned the category 'E', and a client with an income of 235,000 should be assigned 'B'. Use your own function named `categorize_income()` and the `apply()` method."
   ]
  },
  {
   "cell_type": "code",
   "execution_count": null,
   "id": "78965238",
   "metadata": {
    "deletable": false,
    "id": "78965238"
   },
   "outputs": [],
   "source": [
    "def categorize_income(income):\n",
    "    try:\n",
    "        if 0 <= income <= 30000:\n",
    "            return 'E'\n",
    "        elif 30001 <= income <= 50000:\n",
    "            return 'D'\n",
    "        elif 50001 <= income <= 200000:\n",
    "            return 'C'\n",
    "        elif 200001 <= income <= 1000000:\n",
    "            return 'B'\n",
    "        elif income >= 1000001:\n",
    "            return 'A'\n",
    "    except:\n",
    "        pass"
   ]
  },
  {
   "cell_type": "code",
   "execution_count": null,
   "id": "0980ada1",
   "metadata": {
    "deletable": false,
    "id": "0980ada1"
   },
   "outputs": [],
   "source": [
    "data['total_income_category'] = data['total_income'].apply(categorize_income)"
   ]
  },
  {
   "cell_type": "markdown",
   "id": "9917bba0",
   "metadata": {
    "deletable": false,
    "editable": false,
    "id": "9917bba0"
   },
   "source": [
    "### Task 17. \n",
    "Display the list of unique loan purposes from the `purpose` column."
   ]
  },
  {
   "cell_type": "code",
   "execution_count": null,
   "id": "ee07b65e",
   "metadata": {
    "deletable": false,
    "id": "ee07b65e",
    "outputId": "673c12d9-7d7e-4ae0-9812-c622c89dd244"
   },
   "outputs": [
    {
     "data": {
      "text/plain": [
       "array(['покупка жилья', 'приобретение автомобиля',\n",
       "       'дополнительное образование', 'сыграть свадьбу',\n",
       "       'операции с жильем', 'образование', 'на проведение свадьбы',\n",
       "       'покупка жилья для семьи', 'покупка недвижимости',\n",
       "       'покупка коммерческой недвижимости', 'покупка жилой недвижимости',\n",
       "       'строительство собственной недвижимости', 'недвижимость',\n",
       "       'строительство недвижимости', 'на покупку подержанного автомобиля',\n",
       "       'на покупку своего автомобиля',\n",
       "       'операции с коммерческой недвижимостью',\n",
       "       'строительство жилой недвижимости', 'жилье',\n",
       "       'операции со своей недвижимостью', 'автомобили',\n",
       "       'заняться образованием', 'сделка с подержанным автомобилем',\n",
       "       'получение образования', 'автомобиль', 'свадьба',\n",
       "       'получение дополнительного образования', 'покупка своего жилья',\n",
       "       'операции с недвижимостью', 'получение высшего образования',\n",
       "       'свой автомобиль', 'сделка с автомобилем',\n",
       "       'профильное образование', 'высшее образование',\n",
       "       'покупка жилья для сдачи', 'на покупку автомобиля', 'ремонт жилью',\n",
       "       'заняться высшим образованием'], dtype=object)"
      ]
     },
     "execution_count": 19,
     "metadata": {},
     "output_type": "execute_result"
    }
   ],
   "source": [
    "data['purpose'].unique()"
   ]
  },
  {
   "cell_type": "markdown",
   "id": "52b79d56",
   "metadata": {
    "deletable": false,
    "editable": false,
    "id": "52b79d56"
   },
   "source": [
    "### Task 18. \n",
    "Create a function that, based on the data from the `purpose` column, will form a new column `purpose_category`, which will include the following categories: \n",
    "- 'car operations' \n",
    "- 'real estate operations' \n",
    "- 'hosting a wedding' \n",
    "- 'getting an education'. \n",
    "\n",
    "For example, if the `purpose` column contains the substring 'to buy a car', then the `purpose_category` column should contain the string 'car operations'. \n",
    "\n",
    "Use your own function named `categorize_purpose()` and the `apply()` method. Study the data in the `purpose` column and determine which substrings will help you correctly identify the category."
   ]
  },
  {
   "cell_type": "code",
   "execution_count": null,
   "id": "be41da5d",
   "metadata": {
    "deletable": false,
    "id": "be41da5d"
   },
   "outputs": [],
   "source": [
    "def categorize_purpose(row):\n",
    "    try:\n",
    "        if 'автом' in row:\n",
    "            return 'операции с автомобилем'\n",
    "        elif 'жил' in row or 'недвиж' in row:\n",
    "            return 'операции с недвижимостью'\n",
    "        elif 'свад' in row:\n",
    "            return 'проведение свадьбы'\n",
    "        elif 'образов' in row:\n",
    "            return 'получение образования'\n",
    "    except:\n",
    "        return 'нет категории'"
   ]
  },
  {
   "cell_type": "code",
   "execution_count": null,
   "id": "94c4a19a",
   "metadata": {
    "deletable": false,
    "id": "94c4a19a"
   },
   "outputs": [],
   "source": [
    "data['purpose_category'] = data['purpose'].apply(categorize_purpose)"
   ]
  },
  {
   "cell_type": "markdown",
   "id": "3d596c34",
   "metadata": {
    "deletable": false,
    "editable": false,
    "id": "3d596c34"
   },
   "source": [
    "## Step 3. Explore the data and answer the questions\n",
    "\n",
    "### 3.1 Is there a relationship between the number of children and repaying the loan on time?"
   ]
  },
  {
   "cell_type": "code",
   "execution_count": null,
   "id": "7fcff25e",
   "metadata": {
    "deletable": false,
    "id": "7fcff25e",
    "scrolled": true
   },
   "outputs": [
    {
     "data": {
      "text/html": [
       "<div>\n",
       "<style scoped>\n",
       "    .dataframe tbody tr th:only-of-type {\n",
       "        vertical-align: middle;\n",
       "    }\n",
       "\n",
       "    .dataframe tbody tr th {\n",
       "        vertical-align: top;\n",
       "    }\n",
       "\n",
       "    .dataframe thead th {\n",
       "        text-align: right;\n",
       "    }\n",
       "</style>\n",
       "<table border=\"1\" class=\"dataframe\">\n",
       "  <thead>\n",
       "    <tr style=\"text-align: right;\">\n",
       "      <th></th>\n",
       "      <th>count</th>\n",
       "      <th>mean</th>\n",
       "    </tr>\n",
       "    <tr>\n",
       "      <th>children</th>\n",
       "      <th></th>\n",
       "      <th></th>\n",
       "    </tr>\n",
       "  </thead>\n",
       "  <tbody>\n",
       "    <tr>\n",
       "      <th>0</th>\n",
       "      <td>14091</td>\n",
       "      <td>0.075438</td>\n",
       "    </tr>\n",
       "    <tr>\n",
       "      <th>1</th>\n",
       "      <td>4808</td>\n",
       "      <td>0.092346</td>\n",
       "    </tr>\n",
       "    <tr>\n",
       "      <th>2</th>\n",
       "      <td>2052</td>\n",
       "      <td>0.094542</td>\n",
       "    </tr>\n",
       "    <tr>\n",
       "      <th>3</th>\n",
       "      <td>330</td>\n",
       "      <td>0.081818</td>\n",
       "    </tr>\n",
       "    <tr>\n",
       "      <th>4</th>\n",
       "      <td>41</td>\n",
       "      <td>0.097561</td>\n",
       "    </tr>\n",
       "    <tr>\n",
       "      <th>5</th>\n",
       "      <td>9</td>\n",
       "      <td>0.000000</td>\n",
       "    </tr>\n",
       "  </tbody>\n",
       "</table>\n",
       "</div>"
      ],
      "text/plain": [
       "          count      mean\n",
       "children                 \n",
       "0         14091  0.075438\n",
       "1          4808  0.092346\n",
       "2          2052  0.094542\n",
       "3           330  0.081818\n",
       "4            41  0.097561\n",
       "5             9  0.000000"
      ]
     },
     "metadata": {},
     "output_type": "display_data"
    }
   ],
   "source": [
    "grouped_data = data.groupby('children')['debt']\n",
    "count = grouped_data.size()\n",
    "mean = grouped_data.mean()\n",
    "results = pd.DataFrame({'count': count, 'mean': mean})\n",
    "display(results)"
   ]
  },
  {
   "cell_type": "markdown",
   "id": "2eb9088e",
   "metadata": {
    "deletable": false,
    "id": "2eb9088e"
   },
   "source": [
    "**Conclusion:** It can be concluded that childless borrowers more often repay their loans on time. The difference between borrowers with one and two children is small, only 0.2%. No conclusions can be drawn about families with five children, as the sample size is too small."
   ]
  },
  {
   "cell_type": "markdown",
   "id": "74c9b3a7",
   "metadata": {
    "deletable": false,
    "editable": false,
    "id": "74c9b3a7"
   },
   "source": [
    "### 3.2 Is there a relationship between marital status and repaying the loan on time?"
   ]
  },
  {
   "cell_type": "code",
   "execution_count": null,
   "id": "8098ab3b",
   "metadata": {
    "deletable": false,
    "id": "8098ab3b"
   },
   "outputs": [
    {
     "name": "stdout",
     "output_type": "stream",
     "text": [
      "                       count      mean\n",
      "family_status                         \n",
      "Не женат / не замужем   2796  0.097639\n",
      "в разводе               1189  0.070648\n",
      "вдовец / вдова           951  0.066246\n",
      "гражданский брак        4134  0.093130\n",
      "женат / замужем        12261  0.075606\n"
     ]
    }
   ],
   "source": [
    "grouped_data = data.groupby('family_status')['debt']\n",
    "count = grouped_data.size()\n",
    "mean = grouped_data.mean()\n",
    "results = pd.DataFrame({'count': count, 'mean': mean})\n",
    "print(results)"
   ]
  },
  {
   "cell_type": "markdown",
   "id": "c389ca63",
   "metadata": {
    "deletable": false,
    "id": "c389ca63"
   },
   "source": [
    "**Conclusion:** The highest number of loan defaulters is among borrowers with the status 'Not married' at 9.7%. The lowest number of loan defaulters is among borrowers with the status 'widower / widow' at 6.6%. This result is likely related to the age of the two groups: widowers and widows are, on average, likely older than the group of unmarried people, and consequently, they approach their financial planning more responsibly."
   ]
  },
  {
   "cell_type": "markdown",
   "id": "9529de68",
   "metadata": {
    "deletable": false,
    "editable": false,
    "id": "9529de68"
   },
   "source": [
    "### 3.3 Is there a relationship between income level and repaying the loan on time?"
   ]
  },
  {
   "cell_type": "code",
   "execution_count": null,
   "id": "8787f44a",
   "metadata": {
    "deletable": false,
    "id": "8787f44a",
    "scrolled": true
   },
   "outputs": [
    {
     "name": "stdout",
     "output_type": "stream",
     "text": [
      "                       count      mean\n",
      "total_income_category                 \n",
      "A                         25  0.080000\n",
      "B                       5014  0.070602\n",
      "C                      15921  0.084982\n",
      "D                        349  0.060172\n",
      "E                         22  0.090909\n"
     ]
    }
   ],
   "source": [
    "grouped_data = data.groupby('total_income_category')['debt']\n",
    "count = grouped_data.size()\n",
    "mean = grouped_data.mean()\n",
    "results = pd.DataFrame({'count': count, 'mean': mean})\n",
    "print(results)"
   ]
  },
  {
   "cell_type": "markdown",
   "id": "6dd14b57",
   "metadata": {
    "deletable": false,
    "id": "6dd14b57"
   },
   "source": [
    "**Conclusion:** Borrowers from group B (income 200,001–1,000,000) are more likely to repay their loans on time than borrowers from group C (50,001–200,000). It is impossible to draw conclusions about the other groups due to small sample sizes."
   ]
  },
  {
   "cell_type": "markdown",
   "id": "1dcc9b12",
   "metadata": {
    "deletable": false,
    "editable": false,
    "id": "1dcc9b12"
   },
   "source": [
    "### 3.4 How do different loan purposes affect on-time repayment?"
   ]
  },
  {
   "cell_type": "code",
   "execution_count": null,
   "id": "c602bc8b",
   "metadata": {
    "deletable": false,
    "id": "c602bc8b"
   },
   "outputs": [
    {
     "name": "stdout",
     "output_type": "stream",
     "text": [
      "                            count      mean\n",
      "purpose_category                           \n",
      "операции с автомобилем     4279.0  0.093480\n",
      "операции с недвижимостью  10751.0  0.072551\n",
      "получение образования      3988.0  0.092528\n",
      "проведение свадьбы         2313.0  0.079118\n"
     ]
    }
   ],
   "source": [
    "pivot_table = data.pivot_table(values='debt', index='purpose_category', aggfunc={'debt': ['count', 'mean']})\n",
    "pivot_table.columns = ['count', 'mean']\n",
    "print(pivot_table)"
   ]
  },
  {
   "cell_type": "markdown",
   "id": "cf05ed63",
   "metadata": {
    "deletable": false,
    "id": "cf05ed63"
   },
   "source": [
    "**Conclusion:** Clients who took out a loan for real estate operations have the highest rates of on-time repayment. Clients who took out a loan for car operations have the lowest rates of on-time repayment."
   ]
  },
  {
   "cell_type": "markdown",
   "id": "46c1f10b",
   "metadata": {
    "deletable": false,
    "editable": false,
    "id": "46c1f10b"
   },
   "source": [
    "### 3.5 State possible reasons for the appearance of missing values in the source data.\n",
    "\n",
    "**Answer:** There were missing values in the columns for days of employment and income in the source data. Most likely, this data was missing due to some error, as these indicators are key for issuing a loan.\n",
    "\n",
    "### 3.6 Explain why filling missing values with the median is the best solution for quantitative variables.\n",
    "\n",
    "**Answer:** The median is a better solution for filling missing values compared to the mean because the median is less sensitive to anomalous values in the sample (in the presence of several extremely large or small values, the median will show a value closer to the truth)."
   ]
  },
  {
   "cell_type": "markdown",
   "id": "57bc304e",
   "metadata": {
    "deletable": false,
    "editable": false,
    "id": "57bc304e"
   },
   "source": [
    "## Step 4: General Conclusion\n",
    "\n",
    "During the research on borrower reliability, data preprocessing was performed: handling missing values, changing data types, removing duplicates, and also grouping data. The study showed that parameters such as the number of children, marital status, income level, and loan purpose affect on-time loan repayment.\n",
    "\n",
    "Childless borrowers more often repay the loan on time. The difference between borrowers with one and two children is small, only 0.2%.\n",
    "\n",
    "The most loan defaulters are among borrowers with the status 'Not married' - 9.7%. The fewest loan defaulters are among borrowers with the status 'widower / widow' - 6.6%. This result is likely related to the age of the two groups: widowers and widows are, on average, likely older than the group of unmarried people, and as a result, approach their financial planning more responsibly.\n",
    "\n",
    "Borrowers with an income from 200,001 to 1,000,000 are more likely to repay the loan on time than borrowers with an income from 50,001 to 200,000.\n",
    "\n",
    "* Clients who took out a loan for real estate operations have the highest rates of on-time repayment.\n",
    "* Clients who took out a loan for car operations have the lowest rates of on-time repayment."
   ]
  }
 ],
 "metadata": {
  "ExecuteTimeLog": [
   {
    "duration": 521,
    "start_time": "2024-03-26T16:10:44.460Z"
   },
   {
    "duration": 78,
    "start_time": "2024-03-26T16:13:45.321Z"
   },
   {
    "duration": 25,
    "start_time": "2024-03-26T16:13:50.450Z"
   },
   {
    "duration": 504,
    "start_time": "2024-03-26T16:14:04.803Z"
   },
   {
    "duration": 23,
    "start_time": "2024-03-26T16:14:05.309Z"
   },
   {
    "duration": 16,
    "start_time": "2024-03-26T16:14:05.334Z"
   },
   {
    "duration": 22,
    "start_time": "2024-03-26T16:14:05.352Z"
   },
   {
    "duration": 65,
    "start_time": "2024-03-26T16:14:05.377Z"
   },
   {
    "duration": 4,
    "start_time": "2024-03-26T16:14:05.444Z"
   },
   {
    "duration": 26,
    "start_time": "2024-03-26T16:14:05.449Z"
   },
   {
    "duration": 16,
    "start_time": "2024-03-26T16:14:05.477Z"
   },
   {
    "duration": 30,
    "start_time": "2024-03-26T16:14:05.495Z"
   },
   {
    "duration": 17,
    "start_time": "2024-03-26T16:14:05.526Z"
   },
   {
    "duration": 57,
    "start_time": "2024-03-26T16:14:05.544Z"
   },
   {
    "duration": 731,
    "start_time": "2024-03-27T12:14:36.872Z"
   },
   {
    "duration": 31,
    "start_time": "2024-03-27T12:14:37.606Z"
   },
   {
    "duration": 20,
    "start_time": "2024-03-27T12:14:37.638Z"
   },
   {
    "duration": 11,
    "start_time": "2024-03-27T12:14:37.660Z"
   },
   {
    "duration": 57,
    "start_time": "2024-03-27T12:14:37.673Z"
   },
   {
    "duration": 4,
    "start_time": "2024-03-27T12:14:37.732Z"
   },
   {
    "duration": 13,
    "start_time": "2024-03-27T12:14:37.737Z"
   },
   {
    "duration": 5,
    "start_time": "2024-03-27T12:14:37.751Z"
   },
   {
    "duration": 15,
    "start_time": "2024-03-27T12:14:37.758Z"
   },
   {
    "duration": 5,
    "start_time": "2024-03-27T12:14:37.791Z"
   },
   {
    "duration": 64,
    "start_time": "2024-03-27T12:14:37.798Z"
   },
   {
    "duration": 11,
    "start_time": "2024-03-27T12:14:37.864Z"
   },
   {
    "duration": 8,
    "start_time": "2024-03-27T12:14:37.877Z"
   },
   {
    "duration": 18,
    "start_time": "2024-03-27T12:14:37.887Z"
   },
   {
    "duration": 24,
    "start_time": "2024-03-27T12:14:37.907Z"
   },
   {
    "duration": 21,
    "start_time": "2024-03-27T12:14:37.933Z"
   },
   {
    "duration": 4,
    "start_time": "2024-03-27T12:14:37.956Z"
   },
   {
    "duration": 39,
    "start_time": "2024-03-27T12:14:37.961Z"
   },
   {
    "duration": 7,
    "start_time": "2024-03-27T12:14:38.002Z"
   },
   {
    "duration": 6,
    "start_time": "2024-03-27T12:14:38.011Z"
   },
   {
    "duration": 20,
    "start_time": "2024-03-27T12:14:38.019Z"
   },
   {
    "duration": 35,
    "start_time": "2024-03-27T12:14:38.041Z"
   },
   {
    "duration": 26,
    "start_time": "2024-03-27T12:14:38.078Z"
   },
   {
    "duration": 16,
    "start_time": "2024-03-27T12:14:38.106Z"
   },
   {
    "duration": 12,
    "start_time": "2024-03-27T12:14:38.124Z"
   },
   {
    "duration": 5,
    "start_time": "2024-03-27T12:19:50.764Z"
   },
   {
    "duration": 4,
    "start_time": "2024-03-27T12:20:13.088Z"
   },
   {
    "duration": 3,
    "start_time": "2024-03-27T12:20:24.791Z"
   },
   {
    "duration": 6,
    "start_time": "2024-03-27T12:23:17.736Z"
   },
   {
    "duration": 6,
    "start_time": "2024-03-27T12:23:33.144Z"
   },
   {
    "duration": 19,
    "start_time": "2024-03-27T12:34:40.462Z"
   },
   {
    "duration": 6,
    "start_time": "2024-03-27T12:38:51.129Z"
   },
   {
    "duration": 4,
    "start_time": "2024-03-27T12:43:07.378Z"
   },
   {
    "duration": 4,
    "start_time": "2024-03-27T12:43:10.417Z"
   },
   {
    "duration": 5,
    "start_time": "2024-03-27T13:03:05.144Z"
   },
   {
    "duration": 85,
    "start_time": "2024-03-27T13:15:06.075Z"
   },
   {
    "duration": 6,
    "start_time": "2024-03-27T13:15:30.700Z"
   },
   {
    "duration": 6,
    "start_time": "2024-03-27T13:15:52.469Z"
   },
   {
    "duration": 6,
    "start_time": "2024-03-27T13:26:48.480Z"
   },
   {
    "duration": 3,
    "start_time": "2024-03-27T13:27:11.880Z"
   },
   {
    "duration": 12,
    "start_time": "2024-03-27T13:27:18.542Z"
   },
   {
    "duration": 8,
    "start_time": "2024-03-27T13:27:42.190Z"
   },
   {
    "duration": 10,
    "start_time": "2024-03-27T13:34:45.154Z"
   },
   {
    "duration": 9,
    "start_time": "2024-03-27T13:35:40.033Z"
   },
   {
    "duration": 10,
    "start_time": "2024-03-27T13:37:14.049Z"
   },
   {
    "duration": 3,
    "start_time": "2024-03-27T13:38:31.224Z"
   },
   {
    "duration": 4,
    "start_time": "2024-03-27T13:38:35.912Z"
   },
   {
    "duration": 511,
    "start_time": "2024-03-27T13:39:10.707Z"
   },
   {
    "duration": 36,
    "start_time": "2024-03-27T13:39:11.221Z"
   },
   {
    "duration": 47,
    "start_time": "2024-03-27T13:39:11.258Z"
   },
   {
    "duration": 29,
    "start_time": "2024-03-27T13:39:11.306Z"
   },
   {
    "duration": 40,
    "start_time": "2024-03-27T13:39:11.337Z"
   },
   {
    "duration": 3,
    "start_time": "2024-03-27T13:39:11.379Z"
   },
   {
    "duration": 10,
    "start_time": "2024-03-27T13:39:11.384Z"
   },
   {
    "duration": 4,
    "start_time": "2024-03-27T13:39:11.396Z"
   },
   {
    "duration": 8,
    "start_time": "2024-03-27T13:39:11.402Z"
   },
   {
    "duration": 5,
    "start_time": "2024-03-27T13:39:11.411Z"
   },
   {
    "duration": 75,
    "start_time": "2024-03-27T13:39:11.418Z"
   },
   {
    "duration": 12,
    "start_time": "2024-03-27T13:39:11.494Z"
   },
   {
    "duration": 5,
    "start_time": "2024-03-27T13:39:11.507Z"
   },
   {
    "duration": 14,
    "start_time": "2024-03-27T13:39:11.514Z"
   },
   {
    "duration": 22,
    "start_time": "2024-03-27T13:39:11.530Z"
   },
   {
    "duration": 48,
    "start_time": "2024-03-27T13:39:11.553Z"
   },
   {
    "duration": 4,
    "start_time": "2024-03-27T13:39:11.603Z"
   },
   {
    "duration": 18,
    "start_time": "2024-03-27T13:39:11.608Z"
   },
   {
    "duration": 17,
    "start_time": "2024-03-27T13:39:11.628Z"
   },
   {
    "duration": 8,
    "start_time": "2024-03-27T13:39:11.647Z"
   },
   {
    "duration": 12,
    "start_time": "2024-03-27T13:39:11.657Z"
   },
   {
    "duration": 29,
    "start_time": "2024-03-27T13:39:11.670Z"
   },
   {
    "duration": 2,
    "start_time": "2024-03-27T13:39:11.701Z"
   },
   {
    "duration": 6,
    "start_time": "2024-03-27T13:39:11.705Z"
   },
   {
    "duration": 4,
    "start_time": "2024-03-27T13:39:11.713Z"
   },
   {
    "duration": 9,
    "start_time": "2024-03-27T13:39:19.443Z"
   },
   {
    "duration": 9,
    "start_time": "2024-03-27T13:41:11.236Z"
   },
   {
    "duration": 12,
    "start_time": "2024-03-27T13:49:03.824Z"
   },
   {
    "duration": 11,
    "start_time": "2024-03-27T14:08:16.702Z"
   },
   {
    "duration": 10,
    "start_time": "2024-03-27T14:13:34.151Z"
   },
   {
    "duration": 621,
    "start_time": "2024-03-28T16:04:37.231Z"
   },
   {
    "duration": 24,
    "start_time": "2024-03-28T16:04:37.857Z"
   },
   {
    "duration": 18,
    "start_time": "2024-03-28T16:04:37.882Z"
   },
   {
    "duration": 27,
    "start_time": "2024-03-28T16:04:37.902Z"
   },
   {
    "duration": 38,
    "start_time": "2024-03-28T16:04:37.930Z"
   },
   {
    "duration": 4,
    "start_time": "2024-03-28T16:04:37.970Z"
   },
   {
    "duration": 9,
    "start_time": "2024-03-28T16:04:37.976Z"
   },
   {
    "duration": 5,
    "start_time": "2024-03-28T16:04:37.987Z"
   },
   {
    "duration": 33,
    "start_time": "2024-03-28T16:04:37.994Z"
   },
   {
    "duration": 8,
    "start_time": "2024-03-28T16:04:38.030Z"
   },
   {
    "duration": 50,
    "start_time": "2024-03-28T16:04:38.039Z"
   },
   {
    "duration": 11,
    "start_time": "2024-03-28T16:04:38.091Z"
   },
   {
    "duration": 4,
    "start_time": "2024-03-28T16:04:38.103Z"
   },
   {
    "duration": 14,
    "start_time": "2024-03-28T16:04:38.126Z"
   },
   {
    "duration": 23,
    "start_time": "2024-03-28T16:04:38.142Z"
   },
   {
    "duration": 20,
    "start_time": "2024-03-28T16:04:38.167Z"
   },
   {
    "duration": 4,
    "start_time": "2024-03-28T16:04:38.189Z"
   },
   {
    "duration": 39,
    "start_time": "2024-03-28T16:04:38.195Z"
   },
   {
    "duration": 10,
    "start_time": "2024-03-28T16:04:38.235Z"
   },
   {
    "duration": 3,
    "start_time": "2024-03-28T16:04:38.246Z"
   },
   {
    "duration": 28,
    "start_time": "2024-03-28T16:04:38.251Z"
   },
   {
    "duration": 10,
    "start_time": "2024-03-28T16:04:38.281Z"
   },
   {
    "duration": 14,
    "start_time": "2024-03-28T16:04:38.292Z"
   },
   {
    "duration": 19,
    "start_time": "2024-03-28T16:04:38.307Z"
   },
   {
    "duration": 9,
    "start_time": "2024-03-28T16:04:38.327Z"
   },
   {
    "duration": 23,
    "start_time": "2024-03-28T16:08:49.265Z"
   },
   {
    "duration": 480,
    "start_time": "2024-03-28T16:08:59.741Z"
   },
   {
    "duration": 23,
    "start_time": "2024-03-28T16:09:00.223Z"
   },
   {
    "duration": 32,
    "start_time": "2024-03-28T16:09:00.248Z"
   },
   {
    "duration": 55,
    "start_time": "2024-03-28T16:09:00.282Z"
   },
   {
    "duration": 79,
    "start_time": "2024-03-28T16:09:00.339Z"
   },
   {
    "duration": 25,
    "start_time": "2024-03-28T16:09:00.421Z"
   },
   {
    "duration": 47,
    "start_time": "2024-03-28T16:09:00.447Z"
   },
   {
    "duration": 91,
    "start_time": "2024-03-28T16:09:00.496Z"
   },
   {
    "duration": 80,
    "start_time": "2024-03-28T16:09:00.589Z"
   },
   {
    "duration": 35,
    "start_time": "2024-03-28T16:09:00.671Z"
   },
   {
    "duration": 65,
    "start_time": "2024-03-28T16:09:00.708Z"
   },
   {
    "duration": 9,
    "start_time": "2024-03-28T16:09:00.775Z"
   },
   {
    "duration": 33,
    "start_time": "2024-03-28T16:09:00.786Z"
   },
   {
    "duration": 32,
    "start_time": "2024-03-28T16:09:00.826Z"
   },
   {
    "duration": 86,
    "start_time": "2024-03-28T16:09:00.860Z"
   },
   {
    "duration": 44,
    "start_time": "2024-03-28T16:09:00.947Z"
   },
   {
    "duration": 40,
    "start_time": "2024-03-28T16:09:00.993Z"
   },
   {
    "duration": 48,
    "start_time": "2024-03-28T16:09:01.035Z"
   },
   {
    "duration": 64,
    "start_time": "2024-03-28T16:09:01.085Z"
   },
   {
    "duration": 22,
    "start_time": "2024-03-28T16:09:01.150Z"
   },
   {
    "duration": 35,
    "start_time": "2024-03-28T16:09:01.173Z"
   },
   {
    "duration": 43,
    "start_time": "2024-03-28T16:09:01.209Z"
   },
   {
    "duration": 77,
    "start_time": "2024-03-28T16:09:01.254Z"
   },
   {
    "duration": 43,
    "start_time": "2024-03-28T16:09:01.332Z"
   },
   {
    "duration": 70,
    "start_time": "2024-03-28T16:09:01.377Z"
   }
  ],
  "colab": {
   "provenance": []
  },
  "kernelspec": {
   "display_name": "Python [conda env:base] *",
   "language": "python",
   "name": "conda-base-py"
  },
  "language_info": {
   "codemirror_mode": {
    "name": "ipython",
    "version": 3
   },
   "file_extension": ".py",
   "mimetype": "text/x-python",
   "name": "python",
   "nbconvert_exporter": "python",
   "pygments_lexer": "ipython3",
   "version": "3.12.7"
  },
  "toc": {
   "base_numbering": 1,
   "nav_menu": {},
   "number_sections": true,
   "sideBar": true,
   "skip_h1_title": true,
   "title_cell": "Table of Contents",
   "title_sidebar": "Contents",
   "toc_cell": false,
   "toc_position": {},
   "toc_section_display": true,
   "toc_window_display": false
  }
 },
 "nbformat": 4,
 "nbformat_minor": 5
}
