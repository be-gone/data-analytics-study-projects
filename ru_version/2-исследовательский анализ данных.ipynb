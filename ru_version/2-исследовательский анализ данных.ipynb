{
 "cells": [
  {
   "cell_type": "markdown",
   "metadata": {
    "id": "-VFbjcb3Awb7"
   },
   "source": [
    "# Исследование объявлений о продаже квартир\n",
    "\n",
    "В вашем распоряжении данные сервиса Яндекс Недвижимость — архив объявлений о продаже квартир в Санкт-Петербурге и соседних населённых пунктах за несколько лет. Вам нужно научиться определять рыночную стоимость объектов недвижимости. Для этого проведите исследовательский анализ данных и установите параметры, влияющие на цену объектов. Это позволит построить автоматизированную систему: она отследит аномалии и мошенническую деятельность.\n",
    "\n",
    "По каждой квартире на продажу доступны два вида данных. Первые вписаны пользователем, вторые — получены автоматически на основе картографических данных. Например, расстояние до центра, аэропорта и других объектов — эти данные автоматически получены из геосервисов. Количество парков и водоёмов также заполняется без участия пользователя."
   ]
  },
  {
   "cell_type": "markdown",
   "metadata": {
    "id": "aeFLH07FAwb9"
   },
   "source": [
    "### Откройте файл с данными и изучите общую информацию"
   ]
  },
  {
   "cell_type": "code",
   "execution_count": 1,
   "metadata": {
    "id": "7MZxY65pAwb9",
    "scrolled": true
   },
   "outputs": [
    {
     "data": {
      "text/html": [
       "<div>\n",
       "<style scoped>\n",
       "    .dataframe tbody tr th:only-of-type {\n",
       "        vertical-align: middle;\n",
       "    }\n",
       "\n",
       "    .dataframe tbody tr th {\n",
       "        vertical-align: top;\n",
       "    }\n",
       "\n",
       "    .dataframe thead th {\n",
       "        text-align: right;\n",
       "    }\n",
       "</style>\n",
       "<table border=\"1\" class=\"dataframe\">\n",
       "  <thead>\n",
       "    <tr style=\"text-align: right;\">\n",
       "      <th></th>\n",
       "      <th>total_images</th>\n",
       "      <th>last_price</th>\n",
       "      <th>total_area</th>\n",
       "      <th>first_day_exposition</th>\n",
       "      <th>rooms</th>\n",
       "      <th>ceiling_height</th>\n",
       "      <th>floors_total</th>\n",
       "      <th>living_area</th>\n",
       "      <th>floor</th>\n",
       "      <th>is_apartment</th>\n",
       "      <th>studio</th>\n",
       "      <th>open_plan</th>\n",
       "      <th>kitchen_area</th>\n",
       "      <th>balcony</th>\n",
       "      <th>locality_name</th>\n",
       "      <th>airports_nearest</th>\n",
       "      <th>cityCenters_nearest</th>\n",
       "      <th>parks_around3000</th>\n",
       "      <th>parks_nearest</th>\n",
       "      <th>ponds_around3000</th>\n",
       "      <th>ponds_nearest</th>\n",
       "      <th>days_exposition</th>\n",
       "    </tr>\n",
       "  </thead>\n",
       "  <tbody>\n",
       "    <tr>\n",
       "      <th>0</th>\n",
       "      <td>20</td>\n",
       "      <td>13000000.0</td>\n",
       "      <td>108.0</td>\n",
       "      <td>2019-03-07T00:00:00</td>\n",
       "      <td>3</td>\n",
       "      <td>2.70</td>\n",
       "      <td>16.0</td>\n",
       "      <td>51.0</td>\n",
       "      <td>8</td>\n",
       "      <td>NaN</td>\n",
       "      <td>False</td>\n",
       "      <td>False</td>\n",
       "      <td>25.0</td>\n",
       "      <td>NaN</td>\n",
       "      <td>Санкт-Петербург</td>\n",
       "      <td>18863.0</td>\n",
       "      <td>16028.0</td>\n",
       "      <td>1.0</td>\n",
       "      <td>482.0</td>\n",
       "      <td>2.0</td>\n",
       "      <td>755.0</td>\n",
       "      <td>NaN</td>\n",
       "    </tr>\n",
       "    <tr>\n",
       "      <th>1</th>\n",
       "      <td>7</td>\n",
       "      <td>3350000.0</td>\n",
       "      <td>40.4</td>\n",
       "      <td>2018-12-04T00:00:00</td>\n",
       "      <td>1</td>\n",
       "      <td>NaN</td>\n",
       "      <td>11.0</td>\n",
       "      <td>18.6</td>\n",
       "      <td>1</td>\n",
       "      <td>NaN</td>\n",
       "      <td>False</td>\n",
       "      <td>False</td>\n",
       "      <td>11.0</td>\n",
       "      <td>2.0</td>\n",
       "      <td>посёлок Шушары</td>\n",
       "      <td>12817.0</td>\n",
       "      <td>18603.0</td>\n",
       "      <td>0.0</td>\n",
       "      <td>NaN</td>\n",
       "      <td>0.0</td>\n",
       "      <td>NaN</td>\n",
       "      <td>81.0</td>\n",
       "    </tr>\n",
       "    <tr>\n",
       "      <th>2</th>\n",
       "      <td>10</td>\n",
       "      <td>5196000.0</td>\n",
       "      <td>56.0</td>\n",
       "      <td>2015-08-20T00:00:00</td>\n",
       "      <td>2</td>\n",
       "      <td>NaN</td>\n",
       "      <td>5.0</td>\n",
       "      <td>34.3</td>\n",
       "      <td>4</td>\n",
       "      <td>NaN</td>\n",
       "      <td>False</td>\n",
       "      <td>False</td>\n",
       "      <td>8.3</td>\n",
       "      <td>0.0</td>\n",
       "      <td>Санкт-Петербург</td>\n",
       "      <td>21741.0</td>\n",
       "      <td>13933.0</td>\n",
       "      <td>1.0</td>\n",
       "      <td>90.0</td>\n",
       "      <td>2.0</td>\n",
       "      <td>574.0</td>\n",
       "      <td>558.0</td>\n",
       "    </tr>\n",
       "    <tr>\n",
       "      <th>3</th>\n",
       "      <td>0</td>\n",
       "      <td>64900000.0</td>\n",
       "      <td>159.0</td>\n",
       "      <td>2015-07-24T00:00:00</td>\n",
       "      <td>3</td>\n",
       "      <td>NaN</td>\n",
       "      <td>14.0</td>\n",
       "      <td>NaN</td>\n",
       "      <td>9</td>\n",
       "      <td>NaN</td>\n",
       "      <td>False</td>\n",
       "      <td>False</td>\n",
       "      <td>NaN</td>\n",
       "      <td>0.0</td>\n",
       "      <td>Санкт-Петербург</td>\n",
       "      <td>28098.0</td>\n",
       "      <td>6800.0</td>\n",
       "      <td>2.0</td>\n",
       "      <td>84.0</td>\n",
       "      <td>3.0</td>\n",
       "      <td>234.0</td>\n",
       "      <td>424.0</td>\n",
       "    </tr>\n",
       "    <tr>\n",
       "      <th>4</th>\n",
       "      <td>2</td>\n",
       "      <td>10000000.0</td>\n",
       "      <td>100.0</td>\n",
       "      <td>2018-06-19T00:00:00</td>\n",
       "      <td>2</td>\n",
       "      <td>3.03</td>\n",
       "      <td>14.0</td>\n",
       "      <td>32.0</td>\n",
       "      <td>13</td>\n",
       "      <td>NaN</td>\n",
       "      <td>False</td>\n",
       "      <td>False</td>\n",
       "      <td>41.0</td>\n",
       "      <td>NaN</td>\n",
       "      <td>Санкт-Петербург</td>\n",
       "      <td>31856.0</td>\n",
       "      <td>8098.0</td>\n",
       "      <td>2.0</td>\n",
       "      <td>112.0</td>\n",
       "      <td>1.0</td>\n",
       "      <td>48.0</td>\n",
       "      <td>121.0</td>\n",
       "    </tr>\n",
       "  </tbody>\n",
       "</table>\n",
       "</div>"
      ],
      "text/plain": [
       "   total_images  last_price  total_area first_day_exposition  rooms  \\\n",
       "0            20  13000000.0       108.0  2019-03-07T00:00:00      3   \n",
       "1             7   3350000.0        40.4  2018-12-04T00:00:00      1   \n",
       "2            10   5196000.0        56.0  2015-08-20T00:00:00      2   \n",
       "3             0  64900000.0       159.0  2015-07-24T00:00:00      3   \n",
       "4             2  10000000.0       100.0  2018-06-19T00:00:00      2   \n",
       "\n",
       "   ceiling_height  floors_total  living_area  floor is_apartment  studio  \\\n",
       "0            2.70          16.0         51.0      8          NaN   False   \n",
       "1             NaN          11.0         18.6      1          NaN   False   \n",
       "2             NaN           5.0         34.3      4          NaN   False   \n",
       "3             NaN          14.0          NaN      9          NaN   False   \n",
       "4            3.03          14.0         32.0     13          NaN   False   \n",
       "\n",
       "   open_plan  kitchen_area  balcony    locality_name  airports_nearest  \\\n",
       "0      False          25.0      NaN  Санкт-Петербург           18863.0   \n",
       "1      False          11.0      2.0   посёлок Шушары           12817.0   \n",
       "2      False           8.3      0.0  Санкт-Петербург           21741.0   \n",
       "3      False           NaN      0.0  Санкт-Петербург           28098.0   \n",
       "4      False          41.0      NaN  Санкт-Петербург           31856.0   \n",
       "\n",
       "   cityCenters_nearest  parks_around3000  parks_nearest  ponds_around3000  \\\n",
       "0              16028.0               1.0          482.0               2.0   \n",
       "1              18603.0               0.0            NaN               0.0   \n",
       "2              13933.0               1.0           90.0               2.0   \n",
       "3               6800.0               2.0           84.0               3.0   \n",
       "4               8098.0               2.0          112.0               1.0   \n",
       "\n",
       "   ponds_nearest  days_exposition  \n",
       "0          755.0              NaN  \n",
       "1            NaN             81.0  \n",
       "2          574.0            558.0  \n",
       "3          234.0            424.0  \n",
       "4           48.0            121.0  "
      ]
     },
     "execution_count": 1,
     "metadata": {},
     "output_type": "execute_result"
    }
   ],
   "source": [
    "import pandas as pd\n",
    "import matplotlib.pyplot as plt\n",
    "df = pd.read_csv('/datasets/real_estate_data.csv', sep='\\t')\n",
    "pd.set_option('max_columns', None) #без этого параметра jupyter не отображает таблицу полностью\n",
    "df.head()"
   ]
  },
  {
   "cell_type": "code",
   "execution_count": 2,
   "metadata": {
    "scrolled": false
   },
   "outputs": [],
   "source": [
    "shape = df.shape "
   ]
  },
  {
   "cell_type": "code",
   "execution_count": 3,
   "metadata": {
    "scrolled": true
   },
   "outputs": [
    {
     "name": "stdout",
     "output_type": "stream",
     "text": [
      "<class 'pandas.core.frame.DataFrame'>\n",
      "RangeIndex: 23699 entries, 0 to 23698\n",
      "Data columns (total 22 columns):\n",
      " #   Column                Non-Null Count  Dtype  \n",
      "---  ------                --------------  -----  \n",
      " 0   total_images          23699 non-null  int64  \n",
      " 1   last_price            23699 non-null  float64\n",
      " 2   total_area            23699 non-null  float64\n",
      " 3   first_day_exposition  23699 non-null  object \n",
      " 4   rooms                 23699 non-null  int64  \n",
      " 5   ceiling_height        14504 non-null  float64\n",
      " 6   floors_total          23613 non-null  float64\n",
      " 7   living_area           21796 non-null  float64\n",
      " 8   floor                 23699 non-null  int64  \n",
      " 9   is_apartment          2775 non-null   object \n",
      " 10  studio                23699 non-null  bool   \n",
      " 11  open_plan             23699 non-null  bool   \n",
      " 12  kitchen_area          21421 non-null  float64\n",
      " 13  balcony               12180 non-null  float64\n",
      " 14  locality_name         23650 non-null  object \n",
      " 15  airports_nearest      18157 non-null  float64\n",
      " 16  cityCenters_nearest   18180 non-null  float64\n",
      " 17  parks_around3000      18181 non-null  float64\n",
      " 18  parks_nearest         8079 non-null   float64\n",
      " 19  ponds_around3000      18181 non-null  float64\n",
      " 20  ponds_nearest         9110 non-null   float64\n",
      " 21  days_exposition       20518 non-null  float64\n",
      "dtypes: bool(2), float64(14), int64(3), object(3)\n",
      "memory usage: 3.7+ MB\n"
     ]
    }
   ],
   "source": [
    "df.info()"
   ]
  },
  {
   "cell_type": "code",
   "execution_count": 4,
   "metadata": {
    "scrolled": true
   },
   "outputs": [
    {
     "data": {
      "text/plain": [
       "array([[<AxesSubplot:title={'center':'total_images'}>,\n",
       "        <AxesSubplot:title={'center':'last_price'}>,\n",
       "        <AxesSubplot:title={'center':'total_area'}>,\n",
       "        <AxesSubplot:title={'center':'rooms'}>],\n",
       "       [<AxesSubplot:title={'center':'ceiling_height'}>,\n",
       "        <AxesSubplot:title={'center':'floors_total'}>,\n",
       "        <AxesSubplot:title={'center':'living_area'}>,\n",
       "        <AxesSubplot:title={'center':'floor'}>],\n",
       "       [<AxesSubplot:title={'center':'kitchen_area'}>,\n",
       "        <AxesSubplot:title={'center':'balcony'}>,\n",
       "        <AxesSubplot:title={'center':'airports_nearest'}>,\n",
       "        <AxesSubplot:title={'center':'cityCenters_nearest'}>],\n",
       "       [<AxesSubplot:title={'center':'parks_around3000'}>,\n",
       "        <AxesSubplot:title={'center':'parks_nearest'}>,\n",
       "        <AxesSubplot:title={'center':'ponds_around3000'}>,\n",
       "        <AxesSubplot:title={'center':'ponds_nearest'}>],\n",
       "       [<AxesSubplot:title={'center':'days_exposition'}>, <AxesSubplot:>,\n",
       "        <AxesSubplot:>, <AxesSubplot:>]], dtype=object)"
      ]
     },
     "execution_count": 4,
     "metadata": {},
     "output_type": "execute_result"
    },
    {
     "data": {
      "image/png": "[encoded data removed]",
      "text/plain": [
       "<Figure size 1080x1440 with 20 Axes>"
      ]
     },
     "metadata": {
      "needs_background": "light"
     },
     "output_type": "display_data"
    }
   ],
   "source": [
    "df.hist(figsize=(15, 20))"
   ]
  },
  {
   "cell_type": "code",
   "execution_count": 5,
   "metadata": {},
   "outputs": [
    {
     "data": {
      "text/plain": [
       "0"
      ]
     },
     "execution_count": 5,
     "metadata": {},
     "output_type": "execute_result"
    }
   ],
   "source": [
    "df.duplicated().sum()"
   ]
  },
  {
   "cell_type": "markdown",
   "metadata": {},
   "source": [
    "По предварительной оценке данный можно сказать, что явные дубликаты отсутствуют, но в некоторых столбцах есть пропущенные данные, а так же не везде корректный тип данных. В гистрограммах также встречаются некоторые аномалии. "
   ]
  },
  {
   "cell_type": "markdown",
   "metadata": {
    "id": "-O5NtivEAwb9"
   },
   "source": [
    "### Выполните предобработку данных"
   ]
  },
  {
   "cell_type": "markdown",
   "metadata": {},
   "source": [
    "Начнем с очевидных ошибок в названиях столбцов. cityCenters_nearest не соответствует правилам стиля, исправим это:"
   ]
  },
  {
   "cell_type": "code",
   "execution_count": 6,
   "metadata": {
    "id": "7v3vAeTuAwb-",
    "scrolled": true
   },
   "outputs": [],
   "source": [
    "df.rename(columns = {'cityCenters_nearest':'city_centers_nearest'}, inplace = True )"
   ]
  },
  {
   "cell_type": "markdown",
   "metadata": {},
   "source": [
    "Сразу изменим тип данных в тех столбцах, где это нужно и возможно без дополнительной предобработки:"
   ]
  },
  {
   "cell_type": "code",
   "execution_count": 7,
   "metadata": {},
   "outputs": [],
   "source": [
    "df['last_price'].astype('int')\n",
    "df['first_day_exposition'] = pd.to_datetime(df['first_day_exposition'], format='%Y-%m-%dT%H:%M:%S')\n"
   ]
  },
  {
   "cell_type": "markdown",
   "metadata": {},
   "source": [
    "Колонка last_price содержит целые числа, следовательно меняем тип данных на int. Колонка first_day_exposition содержит данные о дате и времени, следовательно меняем тип данных на datetime. "
   ]
  },
  {
   "cell_type": "markdown",
   "metadata": {},
   "source": [
    "Заменим значения NaN в столбце ceiling_height на медианное значение высоты потолков:"
   ]
  },
  {
   "cell_type": "code",
   "execution_count": 8,
   "metadata": {
    "scrolled": true
   },
   "outputs": [
    {
     "data": {
      "text/plain": [
       "array([  2.7 ,    nan,   3.03,   2.5 ,   2.67,   2.56,   3.05,   2.75,\n",
       "         2.6 ,   2.9 ,   2.8 ,   2.55,   3.  ,   2.65,   3.2 ,   2.61,\n",
       "         3.25,   3.45,   2.77,   2.85,   2.64,   2.57,   4.15,   3.5 ,\n",
       "         3.3 ,   2.71,   4.  ,   2.47,   2.73,   2.84,   3.1 ,   2.34,\n",
       "         3.4 ,   3.06,   2.72,   2.54,   2.51,   2.78,   2.76,  25.  ,\n",
       "         2.58,   3.7 ,   2.52,   5.2 ,   2.87,   2.66,   2.59,   2.  ,\n",
       "         2.45,   3.6 ,   2.92,   3.11,   3.13,   3.8 ,   3.15,   3.55,\n",
       "         3.16,   3.62,   3.12,   2.53,   2.74,   2.96,   2.46,   5.3 ,\n",
       "         5.  ,   2.79,   2.95,   4.06,   2.94,   3.82,   3.54,   3.53,\n",
       "         2.83,   4.7 ,   2.4 ,   3.38,   3.01,   5.6 ,   3.65,   3.9 ,\n",
       "         3.18,   3.35,   2.3 ,   3.57,   2.48,   2.62,   2.82,   3.98,\n",
       "         2.63,   3.83,   3.52,   3.95,   3.75,   2.88,   3.67,   3.87,\n",
       "         3.66,   3.85,   3.86,   4.19,   3.24,   4.8 ,   4.5 ,   4.2 ,\n",
       "         3.36,  32.  ,   3.08,   3.68,   3.07,   3.37,   3.09,   8.  ,\n",
       "         3.26,   3.34,   2.81,   3.44,   2.97,   3.14,   4.37,   2.68,\n",
       "         3.22,   3.27,  27.  ,   4.1 ,   2.93,   3.46,  24.  ,   3.47,\n",
       "         3.33,   3.63,   3.32,  26.  ,   1.2 ,   8.3 ,   2.98,   2.86,\n",
       "         3.17,   4.4 ,   3.28,   3.04,   4.45,   5.5 ,   3.84,   3.23,\n",
       "         3.02,   3.21,   3.43,   3.78,   4.3 ,   3.39,   2.69,   3.31,\n",
       "         4.65,   3.56,   2.2 ,   3.51,   3.93,   3.42,   2.99,   3.49,\n",
       "        14.  ,   4.14,   2.91,   3.88,   1.75,   4.25,   3.29,  20.  ,\n",
       "         2.25,   3.76,   3.69,   6.  ,  22.6 ,   2.89,   3.58,   5.8 ,\n",
       "        27.5 ,   2.49,   4.9 ,   3.48,  10.3 ,   1.  , 100.  ,   3.59])"
      ]
     },
     "execution_count": 8,
     "metadata": {},
     "output_type": "execute_result"
    }
   ],
   "source": [
    "df['ceiling_height'].unique()"
   ]
  },
  {
   "cell_type": "markdown",
   "metadata": {},
   "source": [
    "В столбце высоты потолков встречаются нереалистично большие значения. Скорее всего, при заполнении данных произошла ошибка и некоторые значения оказались на порядок больше, чем должны быть. Исправим это, поделив все значения, превышающие 20 на 10:"
   ]
  },
  {
   "cell_type": "code",
   "execution_count": 9,
   "metadata": {},
   "outputs": [],
   "source": [
    "df.loc[df['ceiling_height'] >= 20.0, 'ceiling_height'] = df['ceiling_height']/10\n",
    "df['ceiling_height'] = df['ceiling_height'].fillna(df['ceiling_height'].median())"
   ]
  },
  {
   "cell_type": "markdown",
   "metadata": {},
   "source": [
    "Заменим пропуски в столбце floors_total на медианное значение количества этажей:"
   ]
  },
  {
   "cell_type": "code",
   "execution_count": 10,
   "metadata": {},
   "outputs": [],
   "source": [
    "df['floors_total'] = df['floors_total'].fillna(df['floors_total'].median())"
   ]
  },
  {
   "cell_type": "markdown",
   "metadata": {},
   "source": [
    "Пропуски в living_area пока оставим без изменений, т.к. данный параметр может оказаться важным в ценообразовании. Лучше позднее более подробно изучить влияние данного столбца на рыночную стоимость недвижимости."
   ]
  },
  {
   "cell_type": "markdown",
   "metadata": {},
   "source": [
    "Проверим среднее число аппартаментов:"
   ]
  },
  {
   "cell_type": "code",
   "execution_count": 11,
   "metadata": {
    "scrolled": false
   },
   "outputs": [
    {
     "data": {
      "text/plain": [
       "0.018018018018018018"
      ]
     },
     "execution_count": 11,
     "metadata": {},
     "output_type": "execute_result"
    }
   ],
   "source": [
    "df['is_apartment'].mean()"
   ]
  },
  {
   "cell_type": "markdown",
   "metadata": {},
   "source": [
    "Поскольку процент аппартаментов составляет меньше 2%, можно заменить пустые значения на False:"
   ]
  },
  {
   "cell_type": "code",
   "execution_count": 12,
   "metadata": {},
   "outputs": [],
   "source": [
    "df['is_apartment'] = df['is_apartment'].fillna(False)"
   ]
  },
  {
   "cell_type": "markdown",
   "metadata": {},
   "source": [
    "    Заменим пропуски в kitchen_area и living_area:"
   ]
  },
  {
   "cell_type": "code",
   "execution_count": 13,
   "metadata": {},
   "outputs": [],
   "source": [
    "median_living_area = df['living_area'].median()\n",
    "median_total_area = df['total_area'].median()\n",
    "ratio1 = median_total_area / median_living_area \n",
    "df['living_area'] = df['living_area'].fillna(df['total_area'] / ratio1)"
   ]
  },
  {
   "cell_type": "code",
   "execution_count": 14,
   "metadata": {},
   "outputs": [],
   "source": [
    "median_kitchen_area = df['kitchen_area'].median()\n",
    "median_total_area = df['total_area'].median()\n",
    "ratio2 = median_total_area / median_kitchen_area \n",
    "df['kitchen_area'] = df['kitchen_area'].fillna(df['total_area'] / ratio2)"
   ]
  },
  {
   "cell_type": "markdown",
   "metadata": {},
   "source": [
    "Аналогичная ситуация с количеством балконов из столбца balcony - пропуски скорее всего означают отсутствие балконов. Аналогичным образом заменяем пропуски на нули:"
   ]
  },
  {
   "cell_type": "code",
   "execution_count": 15,
   "metadata": {},
   "outputs": [],
   "source": [
    "df['balcony'] = df['balcony'].fillna(0)"
   ]
  },
  {
   "cell_type": "markdown",
   "metadata": {},
   "source": [
    "Столбец locality_name это названия населенных пунктов. В данном столбце не хватает всего 49 значений (23699-23650). Заменим эти пропуски на \"неизвестно\":"
   ]
  },
  {
   "cell_type": "code",
   "execution_count": 16,
   "metadata": {},
   "outputs": [],
   "source": [
    "df['locality_name'] = df['locality_name'].fillna('unknown')"
   ]
  },
  {
   "cell_type": "markdown",
   "metadata": {},
   "source": [
    "Переведем регистр всех названий в строчные буквы:"
   ]
  },
  {
   "cell_type": "code",
   "execution_count": 17,
   "metadata": {},
   "outputs": [],
   "source": [
    "df['locality_name'] = df['locality_name'].str.lower()"
   ]
  },
  {
   "cell_type": "markdown",
   "metadata": {},
   "source": [
    "Избавимся от явных дубликатов в названиях:"
   ]
  },
  {
   "cell_type": "code",
   "execution_count": 18,
   "metadata": {},
   "outputs": [],
   "source": [
    "df['locality_name'] = (\n",
    "    df['locality_name']\n",
    "    .str.replace('ё','е')\n",
    "    .replace(['городской поселок ','деревня ', 'коттеджный поселок ', 'поселок ',\n",
    "             'посёлок городского типа ', 'садоводческое некоммерческое товарищество ', 'садовое товарищество ', 'село ', 'городского типа ', 'при железнодорожной станции ', 'станции '], '', regex=True)\n",
    ")"
   ]
  },
  {
   "cell_type": "markdown",
   "metadata": {},
   "source": [
    "Пропуски в столбце airport_nearest могут означать, что в данном населенном пункте аэропорта нет. В данном случае пропуски лучше оставить."
   ]
  },
  {
   "cell_type": "markdown",
   "metadata": {},
   "source": [
    "Пропуски в столбце city_centers_nearest могут означать, что данная недвижимость находится за пределами города. В данном случае пропуски оставим."
   ]
  },
  {
   "cell_type": "markdown",
   "metadata": {},
   "source": [
    "Пропуски в столбце parks_nearest могут означать, что данная недвижимость находится слишком далеко от парков. В данном случае пропуски оставим."
   ]
  },
  {
   "cell_type": "markdown",
   "metadata": {},
   "source": [
    "Пропуски в столбце ponds_nearest оставим без изменений."
   ]
  },
  {
   "cell_type": "markdown",
   "metadata": {},
   "source": [
    "Пропуски в столбце days_exposition могут означать, что данная недвижимость находится слишком далеко от водоемов. В данном случае пропуски оставим."
   ]
  },
  {
   "cell_type": "markdown",
   "metadata": {},
   "source": [
    "Изменим тип данных изменённых столбцов:"
   ]
  },
  {
   "cell_type": "code",
   "execution_count": 19,
   "metadata": {
    "scrolled": true
   },
   "outputs": [
    {
     "name": "stdout",
     "output_type": "stream",
     "text": [
      "<class 'pandas.core.frame.DataFrame'>\n",
      "RangeIndex: 23699 entries, 0 to 23698\n",
      "Data columns (total 22 columns):\n",
      " #   Column                Non-Null Count  Dtype         \n",
      "---  ------                --------------  -----         \n",
      " 0   total_images          23699 non-null  int64         \n",
      " 1   last_price            23699 non-null  float64       \n",
      " 2   total_area            23699 non-null  float64       \n",
      " 3   first_day_exposition  23699 non-null  datetime64[ns]\n",
      " 4   rooms                 23699 non-null  int64         \n",
      " 5   ceiling_height        23699 non-null  float64       \n",
      " 6   floors_total          23699 non-null  float64       \n",
      " 7   living_area           23699 non-null  float64       \n",
      " 8   floor                 23699 non-null  int64         \n",
      " 9   is_apartment          23699 non-null  bool          \n",
      " 10  studio                23699 non-null  bool          \n",
      " 11  open_plan             23699 non-null  bool          \n",
      " 12  kitchen_area          23699 non-null  float64       \n",
      " 13  balcony               23699 non-null  float64       \n",
      " 14  locality_name         23699 non-null  object        \n",
      " 15  airports_nearest      18157 non-null  float64       \n",
      " 16  city_centers_nearest  18180 non-null  float64       \n",
      " 17  parks_around3000      18181 non-null  float64       \n",
      " 18  parks_nearest         8079 non-null   float64       \n",
      " 19  ponds_around3000      18181 non-null  float64       \n",
      " 20  ponds_nearest         9110 non-null   float64       \n",
      " 21  days_exposition       20518 non-null  float64       \n",
      "dtypes: bool(3), datetime64[ns](1), float64(14), int64(3), object(1)\n",
      "memory usage: 3.5+ MB\n"
     ]
    }
   ],
   "source": [
    "df['floors_total'].astype('int')\n",
    "df['is_apartment'].astype('bool')\n",
    "df['balcony'].astype('int')\n",
    "df.info()"
   ]
  },
  {
   "cell_type": "markdown",
   "metadata": {},
   "source": [
    "По итогам предобработки данных были удалены явные и неявные дубликаты, переименован один из столбцов, уменьшено количество пропусков в таблице и изменены типы данных там, где это было необходимо. Так же были обработаны найденные аномалии."
   ]
  },
  {
   "cell_type": "markdown",
   "metadata": {
    "id": "QCcvyY6YAwb-"
   },
   "source": [
    "### Добавьте в таблицу новые столбцы"
   ]
  },
  {
   "cell_type": "markdown",
   "metadata": {
    "id": "Z8eJek3IAwb-"
   },
   "source": [
    "Добавим в таблицу столбец с ценой одного квадратного метра:"
   ]
  },
  {
   "cell_type": "code",
   "execution_count": 20,
   "metadata": {},
   "outputs": [],
   "source": [
    "df['price_sq_m'] = (df['last_price'] / df['total_area']).round(2)"
   ]
  },
  {
   "cell_type": "markdown",
   "metadata": {},
   "source": [
    "Добавим столбцы с днем недели, месяцем и годом публикации объявления:"
   ]
  },
  {
   "cell_type": "code",
   "execution_count": 21,
   "metadata": {},
   "outputs": [],
   "source": [
    "df['day_publication'] = df['first_day_exposition'].dt.weekday\n",
    "df['month_publication'] = df['first_day_exposition'].dt.month\n",
    "df['year_publication'] = df['first_day_exposition'].dt.year"
   ]
  },
  {
   "cell_type": "markdown",
   "metadata": {},
   "source": [
    "Добавим столбец с типом этажа квартиры:"
   ]
  },
  {
   "cell_type": "code",
   "execution_count": 22,
   "metadata": {},
   "outputs": [],
   "source": [
    "def floor(row):\n",
    "    if row['floor'] == 1:\n",
    "        return 'первый'\n",
    "    if row['floor'] == row['floors_total']:\n",
    "        return 'последний'\n",
    "    else:\n",
    "        return 'другой'\n",
    "\n",
    "df['type_apartment_floor'] = df.apply(floor, axis=1)"
   ]
  },
  {
   "cell_type": "markdown",
   "metadata": {},
   "source": [
    "Добавим столбец с расстоянием до центра города в км:"
   ]
  },
  {
   "cell_type": "code",
   "execution_count": 23,
   "metadata": {},
   "outputs": [],
   "source": [
    "df['distance_city_center'] = (df['city_centers_nearest'] / 1000).round(0)"
   ]
  },
  {
   "cell_type": "markdown",
   "metadata": {},
   "source": [
    "\n",
    "    Посмотрим на дополненный датасет:"
   ]
  },
  {
   "cell_type": "code",
   "execution_count": 24,
   "metadata": {
    "scrolled": true
   },
   "outputs": [
    {
     "data": {
      "text/html": [
       "<div>\n",
       "<style scoped>\n",
       "    .dataframe tbody tr th:only-of-type {\n",
       "        vertical-align: middle;\n",
       "    }\n",
       "\n",
       "    .dataframe tbody tr th {\n",
       "        vertical-align: top;\n",
       "    }\n",
       "\n",
       "    .dataframe thead th {\n",
       "        text-align: right;\n",
       "    }\n",
       "</style>\n",
       "<table border=\"1\" class=\"dataframe\">\n",
       "  <thead>\n",
       "    <tr style=\"text-align: right;\">\n",
       "      <th></th>\n",
       "      <th>total_images</th>\n",
       "      <th>last_price</th>\n",
       "      <th>total_area</th>\n",
       "      <th>first_day_exposition</th>\n",
       "      <th>rooms</th>\n",
       "      <th>ceiling_height</th>\n",
       "      <th>floors_total</th>\n",
       "      <th>living_area</th>\n",
       "      <th>floor</th>\n",
       "      <th>is_apartment</th>\n",
       "      <th>studio</th>\n",
       "      <th>open_plan</th>\n",
       "      <th>kitchen_area</th>\n",
       "      <th>balcony</th>\n",
       "      <th>locality_name</th>\n",
       "      <th>airports_nearest</th>\n",
       "      <th>city_centers_nearest</th>\n",
       "      <th>parks_around3000</th>\n",
       "      <th>parks_nearest</th>\n",
       "      <th>ponds_around3000</th>\n",
       "      <th>ponds_nearest</th>\n",
       "      <th>days_exposition</th>\n",
       "      <th>price_sq_m</th>\n",
       "      <th>day_publication</th>\n",
       "      <th>month_publication</th>\n",
       "      <th>year_publication</th>\n",
       "      <th>type_apartment_floor</th>\n",
       "      <th>distance_city_center</th>\n",
       "    </tr>\n",
       "  </thead>\n",
       "  <tbody>\n",
       "    <tr>\n",
       "      <th>0</th>\n",
       "      <td>20</td>\n",
       "      <td>13000000.0</td>\n",
       "      <td>108.0</td>\n",
       "      <td>2019-03-07</td>\n",
       "      <td>3</td>\n",
       "      <td>2.70</td>\n",
       "      <td>16.0</td>\n",
       "      <td>51.000000</td>\n",
       "      <td>8</td>\n",
       "      <td>False</td>\n",
       "      <td>False</td>\n",
       "      <td>False</td>\n",
       "      <td>25.000</td>\n",
       "      <td>0.0</td>\n",
       "      <td>санкт-петербург</td>\n",
       "      <td>18863.0</td>\n",
       "      <td>16028.0</td>\n",
       "      <td>1.0</td>\n",
       "      <td>482.0</td>\n",
       "      <td>2.0</td>\n",
       "      <td>755.0</td>\n",
       "      <td>NaN</td>\n",
       "      <td>120370.37</td>\n",
       "      <td>3</td>\n",
       "      <td>3</td>\n",
       "      <td>2019</td>\n",
       "      <td>другой</td>\n",
       "      <td>16.0</td>\n",
       "    </tr>\n",
       "    <tr>\n",
       "      <th>1</th>\n",
       "      <td>7</td>\n",
       "      <td>3350000.0</td>\n",
       "      <td>40.4</td>\n",
       "      <td>2018-12-04</td>\n",
       "      <td>1</td>\n",
       "      <td>2.65</td>\n",
       "      <td>11.0</td>\n",
       "      <td>18.600000</td>\n",
       "      <td>1</td>\n",
       "      <td>False</td>\n",
       "      <td>False</td>\n",
       "      <td>False</td>\n",
       "      <td>11.000</td>\n",
       "      <td>2.0</td>\n",
       "      <td>шушары</td>\n",
       "      <td>12817.0</td>\n",
       "      <td>18603.0</td>\n",
       "      <td>0.0</td>\n",
       "      <td>NaN</td>\n",
       "      <td>0.0</td>\n",
       "      <td>NaN</td>\n",
       "      <td>81.0</td>\n",
       "      <td>82920.79</td>\n",
       "      <td>1</td>\n",
       "      <td>12</td>\n",
       "      <td>2018</td>\n",
       "      <td>первый</td>\n",
       "      <td>19.0</td>\n",
       "    </tr>\n",
       "    <tr>\n",
       "      <th>2</th>\n",
       "      <td>10</td>\n",
       "      <td>5196000.0</td>\n",
       "      <td>56.0</td>\n",
       "      <td>2015-08-20</td>\n",
       "      <td>2</td>\n",
       "      <td>2.65</td>\n",
       "      <td>5.0</td>\n",
       "      <td>34.300000</td>\n",
       "      <td>4</td>\n",
       "      <td>False</td>\n",
       "      <td>False</td>\n",
       "      <td>False</td>\n",
       "      <td>8.300</td>\n",
       "      <td>0.0</td>\n",
       "      <td>санкт-петербург</td>\n",
       "      <td>21741.0</td>\n",
       "      <td>13933.0</td>\n",
       "      <td>1.0</td>\n",
       "      <td>90.0</td>\n",
       "      <td>2.0</td>\n",
       "      <td>574.0</td>\n",
       "      <td>558.0</td>\n",
       "      <td>92785.71</td>\n",
       "      <td>3</td>\n",
       "      <td>8</td>\n",
       "      <td>2015</td>\n",
       "      <td>другой</td>\n",
       "      <td>14.0</td>\n",
       "    </tr>\n",
       "    <tr>\n",
       "      <th>3</th>\n",
       "      <td>0</td>\n",
       "      <td>64900000.0</td>\n",
       "      <td>159.0</td>\n",
       "      <td>2015-07-24</td>\n",
       "      <td>3</td>\n",
       "      <td>2.65</td>\n",
       "      <td>14.0</td>\n",
       "      <td>91.730769</td>\n",
       "      <td>9</td>\n",
       "      <td>False</td>\n",
       "      <td>False</td>\n",
       "      <td>False</td>\n",
       "      <td>27.825</td>\n",
       "      <td>0.0</td>\n",
       "      <td>санкт-петербург</td>\n",
       "      <td>28098.0</td>\n",
       "      <td>6800.0</td>\n",
       "      <td>2.0</td>\n",
       "      <td>84.0</td>\n",
       "      <td>3.0</td>\n",
       "      <td>234.0</td>\n",
       "      <td>424.0</td>\n",
       "      <td>408176.10</td>\n",
       "      <td>4</td>\n",
       "      <td>7</td>\n",
       "      <td>2015</td>\n",
       "      <td>другой</td>\n",
       "      <td>7.0</td>\n",
       "    </tr>\n",
       "    <tr>\n",
       "      <th>4</th>\n",
       "      <td>2</td>\n",
       "      <td>10000000.0</td>\n",
       "      <td>100.0</td>\n",
       "      <td>2018-06-19</td>\n",
       "      <td>2</td>\n",
       "      <td>3.03</td>\n",
       "      <td>14.0</td>\n",
       "      <td>32.000000</td>\n",
       "      <td>13</td>\n",
       "      <td>False</td>\n",
       "      <td>False</td>\n",
       "      <td>False</td>\n",
       "      <td>41.000</td>\n",
       "      <td>0.0</td>\n",
       "      <td>санкт-петербург</td>\n",
       "      <td>31856.0</td>\n",
       "      <td>8098.0</td>\n",
       "      <td>2.0</td>\n",
       "      <td>112.0</td>\n",
       "      <td>1.0</td>\n",
       "      <td>48.0</td>\n",
       "      <td>121.0</td>\n",
       "      <td>100000.00</td>\n",
       "      <td>1</td>\n",
       "      <td>6</td>\n",
       "      <td>2018</td>\n",
       "      <td>другой</td>\n",
       "      <td>8.0</td>\n",
       "    </tr>\n",
       "  </tbody>\n",
       "</table>\n",
       "</div>"
      ],
      "text/plain": [
       "   total_images  last_price  total_area first_day_exposition  rooms  \\\n",
       "0            20  13000000.0       108.0           2019-03-07      3   \n",
       "1             7   3350000.0        40.4           2018-12-04      1   \n",
       "2            10   5196000.0        56.0           2015-08-20      2   \n",
       "3             0  64900000.0       159.0           2015-07-24      3   \n",
       "4             2  10000000.0       100.0           2018-06-19      2   \n",
       "\n",
       "   ceiling_height  floors_total  living_area  floor  is_apartment  studio  \\\n",
       "0            2.70          16.0    51.000000      8         False   False   \n",
       "1            2.65          11.0    18.600000      1         False   False   \n",
       "2            2.65           5.0    34.300000      4         False   False   \n",
       "3            2.65          14.0    91.730769      9         False   False   \n",
       "4            3.03          14.0    32.000000     13         False   False   \n",
       "\n",
       "   open_plan  kitchen_area  balcony    locality_name  airports_nearest  \\\n",
       "0      False        25.000      0.0  санкт-петербург           18863.0   \n",
       "1      False        11.000      2.0           шушары           12817.0   \n",
       "2      False         8.300      0.0  санкт-петербург           21741.0   \n",
       "3      False        27.825      0.0  санкт-петербург           28098.0   \n",
       "4      False        41.000      0.0  санкт-петербург           31856.0   \n",
       "\n",
       "   city_centers_nearest  parks_around3000  parks_nearest  ponds_around3000  \\\n",
       "0               16028.0               1.0          482.0               2.0   \n",
       "1               18603.0               0.0            NaN               0.0   \n",
       "2               13933.0               1.0           90.0               2.0   \n",
       "3                6800.0               2.0           84.0               3.0   \n",
       "4                8098.0               2.0          112.0               1.0   \n",
       "\n",
       "   ponds_nearest  days_exposition  price_sq_m  day_publication  \\\n",
       "0          755.0              NaN   120370.37                3   \n",
       "1            NaN             81.0    82920.79                1   \n",
       "2          574.0            558.0    92785.71                3   \n",
       "3          234.0            424.0   408176.10                4   \n",
       "4           48.0            121.0   100000.00                1   \n",
       "\n",
       "   month_publication  year_publication type_apartment_floor  \\\n",
       "0                  3              2019               другой   \n",
       "1                 12              2018               первый   \n",
       "2                  8              2015               другой   \n",
       "3                  7              2015               другой   \n",
       "4                  6              2018               другой   \n",
       "\n",
       "   distance_city_center  \n",
       "0                  16.0  \n",
       "1                  19.0  \n",
       "2                  14.0  \n",
       "3                   7.0  \n",
       "4                   8.0  "
      ]
     },
     "execution_count": 24,
     "metadata": {},
     "output_type": "execute_result"
    }
   ],
   "source": [
    "df.head()"
   ]
  },
  {
   "cell_type": "markdown",
   "metadata": {
    "id": "pPyxrKWTAwb-"
   },
   "source": [
    "### Проведите исследовательский анализ данных"
   ]
  },
  {
   "cell_type": "markdown",
   "metadata": {},
   "source": [
    "**Общая площадь**"
   ]
  },
  {
   "cell_type": "code",
   "execution_count": 25,
   "metadata": {
    "id": "V2f0D3kLAwb-",
    "scrolled": true
   },
   "outputs": [
    {
     "data": {
      "image/png": "[encoded data removed]",
      "text/plain": [
       "<Figure size 432x288 with 1 Axes>"
      ]
     },
     "metadata": {
      "needs_background": "light"
     },
     "output_type": "display_data"
    }
   ],
   "source": [
    "df['total_area'].plot.hist(bins=50, range=(0, 300))\n",
    "plt.title('Распределение количества квартир по площади')\n",
    "plt.xlabel('Площадь квартиры (кв.м)')\n",
    "plt.ylabel('Количество квартир')\n",
    "plt.show()"
   ]
  },
  {
   "cell_type": "markdown",
   "metadata": {},
   "source": [
    "Больше всего на продажу выставлено квартир с площадью около 55 кв.м. Далее следуют квартиры с площадью около 30 кв.м и 65 кв.м."
   ]
  },
  {
   "cell_type": "markdown",
   "metadata": {},
   "source": [
    "**Жилая площадь**"
   ]
  },
  {
   "cell_type": "code",
   "execution_count": 26,
   "metadata": {},
   "outputs": [
    {
     "data": {
      "image/png": "[encoded data removed]",
      "text/plain": [
       "<Figure size 432x288 with 1 Axes>"
      ]
     },
     "metadata": {
      "needs_background": "light"
     },
     "output_type": "display_data"
    }
   ],
   "source": [
    "plt.hist(df['living_area'], bins=50, range=(0,100))\n",
    "plt.title('Распределение количества квартир по жилой площади')\n",
    "plt.xlabel('Жилая площадь квартиры (кв.м)')\n",
    "plt.ylabel('Количество квартир')\n",
    "plt.show()"
   ]
  },
  {
   "cell_type": "markdown",
   "metadata": {},
   "source": [
    "Больше всего на продажу выставлено квартир с жилой площадью около 18 кв.м. Далее следуют квартиры с жилой площадью около 19 кв.м и 32 кв.м. "
   ]
  },
  {
   "cell_type": "markdown",
   "metadata": {},
   "source": [
    "**Площадь кухни**"
   ]
  },
  {
   "cell_type": "code",
   "execution_count": 27,
   "metadata": {
    "scrolled": true
   },
   "outputs": [
    {
     "data": {
      "image/png": "[encoded data removed]",
      "text/plain": [
       "<Figure size 432x288 with 1 Axes>"
      ]
     },
     "metadata": {
      "needs_background": "light"
     },
     "output_type": "display_data"
    }
   ],
   "source": [
    "plt.hist(df['kitchen_area'], bins=50, range=(1,25))\n",
    "plt.title('Распределение количества квартир по площади кухни')\n",
    "plt.xlabel('Площадь кухни (кв.м)')\n",
    "plt.ylabel('Количество квартир')\n",
    "plt.show()"
   ]
  },
  {
   "cell_type": "markdown",
   "metadata": {},
   "source": [
    "Больше всего на продажу выставлено квартир с площадью кухни около 6 кв.м.  Далее следуют квартиры с площадью кухни 10 кв.м. Квартиры с площадями кухни от 7 до 9 метров также популярны."
   ]
  },
  {
   "cell_type": "markdown",
   "metadata": {},
   "source": [
    "**Цена на квартиру**"
   ]
  },
  {
   "cell_type": "code",
   "execution_count": 28,
   "metadata": {},
   "outputs": [
    {
     "data": {
      "image/png": "[encoded data removed]",
      "text/plain": [
       "<Figure size 432x288 with 1 Axes>"
      ]
     },
     "metadata": {
      "needs_background": "light"
     },
     "output_type": "display_data"
    }
   ],
   "source": [
    "plt.hist(df['last_price'], bins=50, range=(0,9.00000e+06))\n",
    "plt.title('Распределение квартир по цене на момент снятия с публикации')\n",
    "plt.xlabel('Цена (млн. руб.)')\n",
    "plt.ylabel('Количество квартир')\n",
    "plt.show()"
   ]
  },
  {
   "cell_type": "markdown",
   "metadata": {},
   "source": [
    "Больше всего объявлений о продаже квартир с ценой около 4 миллионов."
   ]
  },
  {
   "cell_type": "markdown",
   "metadata": {},
   "source": [
    "**Количество комнат**"
   ]
  },
  {
   "cell_type": "code",
   "execution_count": 29,
   "metadata": {},
   "outputs": [
    {
     "data": {
      "image/png": "[encoded data removed]",
      "text/plain": [
       "<Figure size 432x288 with 1 Axes>"
      ]
     },
     "metadata": {
      "needs_background": "light"
     },
     "output_type": "display_data"
    }
   ],
   "source": [
    "plt.hist(df['rooms'], bins=15, range=(0,7))\n",
    "plt.title('Распределение квартир по количеству комнат')\n",
    "plt.xlabel('Количество комнат')\n",
    "plt.ylabel('Количество квартир')\n",
    "plt.show()"
   ]
  },
  {
   "cell_type": "markdown",
   "metadata": {},
   "source": [
    "Больше всего объявлений о продаже 1-комнатных и 2-комнатных квартир."
   ]
  },
  {
   "cell_type": "markdown",
   "metadata": {},
   "source": [
    "**Высота потолков**"
   ]
  },
  {
   "cell_type": "code",
   "execution_count": 30,
   "metadata": {},
   "outputs": [
    {
     "data": {
      "image/png": "[encoded data removed]",
      "text/plain": [
       "<Figure size 432x288 with 1 Axes>"
      ]
     },
     "metadata": {
      "needs_background": "light"
     },
     "output_type": "display_data"
    }
   ],
   "source": [
    "plt.hist(df.query('(ceiling_height > 2) & (ceiling_height < 4)')['ceiling_height'], bins=20, range=(2.3,3.25))\n",
    "plt.title('Распределение квартир по высоте потолков')\n",
    "plt.xlabel('Высота потолка (м)')\n",
    "plt.ylabel('Количество квартир')\n",
    "plt.show()"
   ]
  },
  {
   "cell_type": "markdown",
   "metadata": {},
   "source": [
    "Самая распространенная среди объявлений высота потолка составляет 2.65 метров.\n"
   ]
  },
  {
   "cell_type": "markdown",
   "metadata": {},
   "source": [
    "**Тип этажа квартиры**"
   ]
  },
  {
   "cell_type": "markdown",
   "metadata": {},
   "source": [
    "Поскольку всего три категории нагляднее будет построить pie chart."
   ]
  },
  {
   "cell_type": "code",
   "execution_count": 31,
   "metadata": {
    "scrolled": false
   },
   "outputs": [
    {
     "data": {
      "image/png": "[encoded data removed]",
      "text/plain": [
       "<Figure size 1080x720 with 1 Axes>"
      ]
     },
     "metadata": {},
     "output_type": "display_data"
    }
   ],
   "source": [
    "df.pivot_table(index='type_apartment_floor',values='last_price',aggfunc='count').plot.pie(y='last_price', figsize=(15,10), label='', title='Распределение квартир по этажам')\n",
    "plt.show()"
   ]
  },
  {
   "cell_type": "markdown",
   "metadata": {},
   "source": [
    "Квартиры на первом и последнем этажах составляют в сумме примерно 25% от общего количества квартир."
   ]
  },
  {
   "cell_type": "markdown",
   "metadata": {},
   "source": [
    "**Количество этажей в доме**"
   ]
  },
  {
   "cell_type": "code",
   "execution_count": 32,
   "metadata": {
    "scrolled": true
   },
   "outputs": [
    {
     "data": {
      "image/png": "[encoded data removed]",
      "text/plain": [
       "<Figure size 432x288 with 1 Axes>"
      ]
     },
     "metadata": {
      "needs_background": "light"
     },
     "output_type": "display_data"
    }
   ],
   "source": [
    "plt.hist(df['floors_total'], bins=60, range=(1,30))\n",
    "plt.title('Распределение квартир по этажности домов')\n",
    "plt.xlabel('Этаж')\n",
    "plt.ylabel('Количество квартир')\n",
    "plt.show()"
   ]
  },
  {
   "cell_type": "markdown",
   "metadata": {},
   "source": [
    "Больше всего пытаются продать квартир в пятиэтажках."
   ]
  },
  {
   "cell_type": "markdown",
   "metadata": {},
   "source": [
    "**Расстояние до центра города**"
   ]
  },
  {
   "cell_type": "code",
   "execution_count": 33,
   "metadata": {},
   "outputs": [
    {
     "data": {
      "image/png": "[encoded data removed]",
      "text/plain": [
       "<Figure size 432x288 with 1 Axes>"
      ]
     },
     "metadata": {
      "needs_background": "light"
     },
     "output_type": "display_data"
    }
   ],
   "source": [
    "plt.hist(df['city_centers_nearest'], bins=80, range=(0,30000))\n",
    "plt.title('Распределение квартир по удаленности от центра города')\n",
    "plt.xlabel('Расстояние до центра города (м)')\n",
    "plt.ylabel('Количество квартир')\n",
    "plt.show()"
   ]
  },
  {
   "cell_type": "markdown",
   "metadata": {},
   "source": [
    "Больше всего предложений о продаже на расстоянии 12-15 километров. Также немало объявлений о продаже квартир в 5 километрах от  центра.\n"
   ]
  },
  {
   "cell_type": "markdown",
   "metadata": {},
   "source": [
    "**Расстояние до ближайшего парка**"
   ]
  },
  {
   "cell_type": "code",
   "execution_count": 34,
   "metadata": {},
   "outputs": [
    {
     "data": {
      "image/png": "[encoded data removed]",
      "text/plain": [
       "<Figure size 432x288 with 1 Axes>"
      ]
     },
     "metadata": {
      "needs_background": "light"
     },
     "output_type": "display_data"
    }
   ],
   "source": [
    "plt.hist(df['parks_nearest'], bins=80, range=(100,1200))\n",
    "plt.title('Зависимость квартир в продаже от удаленности от парка')\n",
    "plt.xlabel('Расстояние до Парка (м)')\n",
    "plt.ylabel('Количество квартир')\n",
    "plt.show()"
   ]
  },
  {
   "cell_type": "markdown",
   "metadata": {},
   "source": [
    "Большее число квартир находится от 200 до 650 метров от парков."
   ]
  },
  {
   "cell_type": "markdown",
   "metadata": {},
   "source": [
    "\n",
    "Сравним формы изначального и модифицированного датасетов:"
   ]
  },
  {
   "cell_type": "code",
   "execution_count": 35,
   "metadata": {},
   "outputs": [],
   "source": [
    "shape2 = df.shape "
   ]
  },
  {
   "cell_type": "code",
   "execution_count": 36,
   "metadata": {
    "scrolled": false
   },
   "outputs": [
    {
     "name": "stdout",
     "output_type": "stream",
     "text": [
      "\n",
      "Original DataFrame Shape : (23699, 22)\n",
      "\n",
      "Original Number of rows : 23699\n",
      "\n",
      "Original Number of columns : 22\n",
      "\n",
      "New DataFrame Shape : (23699, 28)\n",
      "\n",
      "New Number of rows : 23699\n",
      "\n",
      "New Number of columns : 28\n"
     ]
    }
   ],
   "source": [
    "print('\\nOriginal DataFrame Shape :', shape)\n",
    "print('\\nOriginal Number of rows :', shape[0]) \n",
    "print('\\nOriginal Number of columns :', shape[1])\n",
    "print('\\nNew DataFrame Shape :', shape2)\n",
    "print('\\nNew Number of rows :', shape2[0]) \n",
    "print('\\nNew Number of columns :', shape2[1])"
   ]
  },
  {
   "cell_type": "markdown",
   "metadata": {},
   "source": [
    "Число данных в новом датасете позволяет провести дальнейший анализ данных."
   ]
  },
  {
   "cell_type": "markdown",
   "metadata": {},
   "source": [
    "# Исследование того, как быстро продавались квартиры"
   ]
  },
  {
   "cell_type": "code",
   "execution_count": 37,
   "metadata": {},
   "outputs": [
    {
     "data": {
      "image/png": "[encoded data removed]",
      "text/plain": [
       "<Figure size 432x288 with 1 Axes>"
      ]
     },
     "metadata": {
      "needs_background": "light"
     },
     "output_type": "display_data"
    }
   ],
   "source": [
    "plt.hist(df['days_exposition'], bins=100, range=(0,250))\n",
    "plt.title('Распределение количества продаж по времени')\n",
    "plt.xlabel('Длительность размещения объявлений')\n",
    "plt.ylabel('Количество объявлений')\n",
    "plt.show()"
   ]
  },
  {
   "cell_type": "code",
   "execution_count": 38,
   "metadata": {},
   "outputs": [
    {
     "name": "stdout",
     "output_type": "stream",
     "text": [
      "count    20518.000000\n",
      "mean       180.888634\n",
      "std        219.727988\n",
      "min          1.000000\n",
      "25%         45.000000\n",
      "50%         95.000000\n",
      "75%        232.000000\n",
      "max       1580.000000\n",
      "Name: days_exposition, dtype: float64\n"
     ]
    }
   ],
   "source": [
    "print(df['days_exposition'].describe())"
   ]
  },
  {
   "cell_type": "markdown",
   "metadata": {},
   "source": [
    "В среднем квартиры продаются за 95 дней (медианное значение). На гистограмме наблюдаются пики снятия предложений на 45 и 60 дни.\n",
    "Быстрыми можно считать продажи до 45 дней (первый квартиль), чрезвычайно долгими - от 230 дней (четвертый квартиль)."
   ]
  },
  {
   "cell_type": "markdown",
   "metadata": {},
   "source": [
    "**Факторы, которые больше всего влияют на общую (полную) стоимость объекта.**"
   ]
  },
  {
   "cell_type": "markdown",
   "metadata": {},
   "source": [
    "Изучим, зависимость цены от:\n",
    "общей площади;\n",
    "жилой площади;\n",
    "площади кухни;\n",
    "количества комнат;\n",
    "этажа, на котором расположена квартира (первый, последний, другой);\n",
    "даты размещения (день недели, месяц, год)."
   ]
  },
  {
   "cell_type": "code",
   "execution_count": 39,
   "metadata": {},
   "outputs": [
    {
     "name": "stdout",
     "output_type": "stream",
     "text": [
      "Корреляция между 'last_price' и 'total_area': 0.65\n",
      "Корреляция между 'last_price' и 'living_area': 0.59\n",
      "Корреляция между 'last_price' и 'rooms': 0.36\n",
      "Корреляция между 'last_price' и 'floors_total': -0.01\n",
      "Корреляция между 'last_price' и 'kitchen_area': 0.51\n",
      "Корреляция между 'last_price' и 'days_exposition': 0.08\n",
      "Корреляция между 'last_price' и 'price_sq_m': 0.74\n",
      "Корреляция между 'last_price' и 'distance_city_center': -0.21\n"
     ]
    }
   ],
   "source": [
    "target_column = 'last_price'\n",
    "numerical_cols = ['total_area', 'living_area', 'rooms', \n",
    "                  'floors_total', 'kitchen_area', 'days_exposition', 'price_sq_m', \n",
    "                  'distance_city_center']\n",
    "filtered_df = df[numerical_cols]\n",
    "for col in filtered_df:\n",
    "  \n",
    "  if col != target_column:\n",
    "    \n",
    "    correlation = df[target_column].corr(df[col])\n",
    "    \n",
    "    print(f\"Корреляция между '{target_column}' и '{col}': {correlation:.2f}\")"
   ]
  },
  {
   "cell_type": "markdown",
   "metadata": {},
   "source": [
    "Показатели корреляции практически не изменились, значит исходные данные имели малое количество выбросов.\n",
    "корреляция между ценой продажи и общей площадью квартиры - средняя,\n",
    "корреляция между ценой продажи и жилой площадью квартиры - средняя,\n",
    "корреляция между ценой за кв.м и ценой продажи квартиры - средняя,\n",
    "корреляция между ценой продажи квартиры и количеством комнат - слабая.\n",
    "корреляция между остальными параметрами и ценой продажи квартиры - очень слабая."
   ]
  },
  {
   "cell_type": "markdown",
   "metadata": {},
   "source": [
    "Посмотрим на корреляцию между ценой и датой размещения:"
   ]
  },
  {
   "cell_type": "code",
   "execution_count": 40,
   "metadata": {},
   "outputs": [
    {
     "name": "stdout",
     "output_type": "stream",
     "text": [
      "Корреляция между 'last_price' и 'day_publication': 0.00\n",
      "Корреляция между 'last_price' и 'month_publication': 0.00\n",
      "Корреляция между 'last_price' и 'year_publication': -0.04\n"
     ]
    }
   ],
   "source": [
    "target_column = 'last_price'\n",
    "numerical_cols = ['day_publication', 'month_publication', 'year_publication']\n",
    "filtered_df = df[numerical_cols]\n",
    "for col in filtered_df:\n",
    "  \n",
    "  if col != target_column:\n",
    "    \n",
    "    correlation = df[target_column].corr(df[col])\n",
    "    \n",
    "    print(f\"Корреляция между '{target_column}' и '{col}': {correlation:.2f}\")"
   ]
  },
  {
   "cell_type": "markdown",
   "metadata": {},
   "source": [
    "Корреляции между ценой и датой размещения не наблюдается."
   ]
  },
  {
   "cell_type": "markdown",
   "metadata": {},
   "source": [
    "Построим диграммы рассеяния:"
   ]
  },
  {
   "cell_type": "markdown",
   "metadata": {},
   "source": [
    "Избавимся от выбросов:"
   ]
  },
  {
   "cell_type": "code",
   "execution_count": 41,
   "metadata": {
    "scrolled": true
   },
   "outputs": [
    {
     "name": "stdout",
     "output_type": "stream",
     "text": [
      "Корреляция между 'last_price' и 'day_publication' : 0.00\n",
      "Корреляция между 'last_price' и 'month_publication' : 0.00\n",
      "Корреляция между 'last_price' и 'year_publication' : -0.01\n"
     ]
    }
   ],
   "source": [
    "def filter_iqr(df, col):\n",
    "    q1 = df[col].quantile(0.25)\n",
    "    q3 = df[col].quantile(0.75)\n",
    "    iqr = q3 - q1\n",
    "    filtered_df = df.loc[(df[col] >= q1 - 1.5 * iqr) & (df[col] <= q3 + 1.5 * iqr), :]\n",
    "    return filtered_df\n",
    "for col in numerical_cols:\n",
    "    filtered_df = filter_iqr(df.copy(), col)\n",
    "    correlation = filtered_df[target_column].corr(filtered_df[col])\n",
    "    print(f\"Корреляция между '{target_column}' и '{col}' : {correlation:.2f}\")"
   ]
  },
  {
   "cell_type": "code",
   "execution_count": 42,
   "metadata": {},
   "outputs": [
    {
     "data": {
      "image/png": "[encoded data removed]",
      "text/plain": [
       "<Figure size 576x576 with 1 Axes>"
      ]
     },
     "metadata": {
      "needs_background": "light"
     },
     "output_type": "display_data"
    }
   ],
   "source": [
    "(df.pivot_table(index='total_area', values='last_price').plot(grid=True, style='o', figsize=(8, 8)))\n",
    "plt.title('Зависимость цены от общей площади')\n",
    "plt.show()"
   ]
  },
  {
   "cell_type": "code",
   "execution_count": 43,
   "metadata": {},
   "outputs": [
    {
     "data": {
      "image/png": "[encoded data removed]",
      "text/plain": [
       "<Figure size 576x576 with 1 Axes>"
      ]
     },
     "metadata": {
      "needs_background": "light"
     },
     "output_type": "display_data"
    }
   ],
   "source": [
    "(df.pivot_table(index='living_area', values='last_price').plot(grid=True, style='o', figsize=(8, 8)))\n",
    "plt.title('Зависимость цены от жилой площади')\n",
    "plt.show()"
   ]
  },
  {
   "cell_type": "code",
   "execution_count": 44,
   "metadata": {},
   "outputs": [
    {
     "data": {
      "image/png": "[encoded data removed]",
      "text/plain": [
       "<Figure size 576x576 with 1 Axes>"
      ]
     },
     "metadata": {
      "needs_background": "light"
     },
     "output_type": "display_data"
    }
   ],
   "source": [
    "(df.pivot_table(index='kitchen_area', values='last_price').plot(grid=True, style='o', figsize=(8, 8)))\n",
    "plt.title('Зависимость цены от площади кухни')\n",
    "plt.show()"
   ]
  },
  {
   "cell_type": "code",
   "execution_count": 45,
   "metadata": {},
   "outputs": [
    {
     "data": {
      "image/png": "[encoded data removed]",
      "text/plain": [
       "<Figure size 576x576 with 1 Axes>"
      ]
     },
     "metadata": {
      "needs_background": "light"
     },
     "output_type": "display_data"
    }
   ],
   "source": [
    "(df.pivot_table(index='rooms', values='last_price').plot(grid=True, style='o-', figsize=(8, 8)))\n",
    "plt.title('Зависимость цены от площади кухни')\n",
    "plt.show()"
   ]
  },
  {
   "cell_type": "code",
   "execution_count": 46,
   "metadata": {},
   "outputs": [
    {
     "data": {
      "image/png": "[encoded data removed]",
      "text/plain": [
       "<Figure size 576x576 with 1 Axes>"
      ]
     },
     "metadata": {
      "needs_background": "light"
     },
     "output_type": "display_data"
    }
   ],
   "source": [
    "(df.pivot_table(index='type_apartment_floor', values='last_price').plot(grid=True, style='o-', figsize=(8, 8)))\n",
    "plt.title('Зависимость цены от типа этажа')\n",
    "plt.show()"
   ]
  },
  {
   "cell_type": "markdown",
   "metadata": {},
   "source": [
    "Хорошо видно, что цена на квартиры на первом и последнем этажах ниже, чем на других."
   ]
  },
  {
   "cell_type": "code",
   "execution_count": 47,
   "metadata": {
    "scrolled": false
   },
   "outputs": [
    {
     "data": {
      "image/png": "[encoded data removed]",
      "text/plain": [
       "<Figure size 576x576 with 1 Axes>"
      ]
     },
     "metadata": {
      "needs_background": "light"
     },
     "output_type": "display_data"
    }
   ],
   "source": [
    "(df.pivot_table(index='day_publication', values='last_price').plot(grid=True, style='o-', figsize=(8, 8)))\n",
    "plt.title('Зависимость цены от дня публикации')\n",
    "plt.show()"
   ]
  },
  {
   "cell_type": "code",
   "execution_count": 48,
   "metadata": {
    "scrolled": false
   },
   "outputs": [
    {
     "data": {
      "image/png": "[encoded data removed]",
      "text/plain": [
       "<Figure size 576x576 with 1 Axes>"
      ]
     },
     "metadata": {
      "needs_background": "light"
     },
     "output_type": "display_data"
    }
   ],
   "source": [
    "(df.pivot_table(index='month_publication', values='last_price').plot(grid=True, style='o-', figsize=(8, 8)))\n",
    "plt.title('Зависимость цены месяца публикации')\n",
    "plt.show()"
   ]
  },
  {
   "cell_type": "code",
   "execution_count": 49,
   "metadata": {
    "scrolled": false
   },
   "outputs": [
    {
     "data": {
      "image/png": "[encoded data removed]",
      "text/plain": [
       "<Figure size 576x576 with 1 Axes>"
      ]
     },
     "metadata": {
      "needs_background": "light"
     },
     "output_type": "display_data"
    }
   ],
   "source": [
    "(df.pivot_table(index='year_publication', values='last_price').plot(grid=True, style='o-', figsize=(8, 8)))\n",
    "plt.title('Зависимость цены от года публикации')\n",
    "plt.show()"
   ]
  },
  {
   "cell_type": "code",
   "execution_count": null,
   "metadata": {},
   "outputs": [],
   "source": []
  },
  {
   "cell_type": "markdown",
   "metadata": {},
   "source": [
    "Хорошо видна тенденция изменения цены по годам: с 2014 по 2017 наблюдался резкий спад, а с 2018 к 2019 начался подъем в цене."
   ]
  },
  {
   "cell_type": "code",
   "execution_count": 50,
   "metadata": {
    "scrolled": false
   },
   "outputs": [
    {
     "data": {
      "image/png": "[encoded data removed]",
      "text/plain": [
       "<Figure size 576x576 with 1 Axes>"
      ]
     },
     "metadata": {
      "needs_background": "light"
     },
     "output_type": "display_data"
    }
   ],
   "source": [
    "(df.pivot_table(index='year_publication', values='total_area').plot(grid=True, style='o-', figsize=(8, 8)))\n",
    "plt.title('Зависимость площади продаваемых квартир от года публикации')\n",
    "plt.show()"
   ]
  },
  {
   "cell_type": "markdown",
   "metadata": {},
   "source": [
    "Тенденция изменения цены по годам совпадает со снижением площади продаваемых квартир: с 2014 по 2018 площадь продаваемых квартир упала с 87 до 55 кв.м.  \n",
    "\n"
   ]
  },
  {
   "cell_type": "markdown",
   "metadata": {},
   "source": [
    "**Посчитаем среднюю цену одного квадратного метра в 10 населённых пунктах с наибольшим числом объявлений**"
   ]
  },
  {
   "cell_type": "code",
   "execution_count": 51,
   "metadata": {},
   "outputs": [
    {
     "data": {
      "text/html": [
       "<div>\n",
       "<style scoped>\n",
       "    .dataframe tbody tr th:only-of-type {\n",
       "        vertical-align: middle;\n",
       "    }\n",
       "\n",
       "    .dataframe tbody tr th {\n",
       "        vertical-align: top;\n",
       "    }\n",
       "\n",
       "    .dataframe thead th {\n",
       "        text-align: right;\n",
       "    }\n",
       "</style>\n",
       "<table border=\"1\" class=\"dataframe\">\n",
       "  <thead>\n",
       "    <tr style=\"text-align: right;\">\n",
       "      <th></th>\n",
       "      <th>count</th>\n",
       "      <th>price_sq_m</th>\n",
       "    </tr>\n",
       "    <tr>\n",
       "      <th>locality_name</th>\n",
       "      <th></th>\n",
       "      <th></th>\n",
       "    </tr>\n",
       "  </thead>\n",
       "  <tbody>\n",
       "    <tr>\n",
       "      <th>санкт-петербург</th>\n",
       "      <td>15721</td>\n",
       "      <td>114849.01</td>\n",
       "    </tr>\n",
       "    <tr>\n",
       "      <th>пушкин</th>\n",
       "      <td>369</td>\n",
       "      <td>103125.82</td>\n",
       "    </tr>\n",
       "    <tr>\n",
       "      <th>кудрово</th>\n",
       "      <td>472</td>\n",
       "      <td>95324.93</td>\n",
       "    </tr>\n",
       "    <tr>\n",
       "      <th>парголово</th>\n",
       "      <td>327</td>\n",
       "      <td>90175.91</td>\n",
       "    </tr>\n",
       "    <tr>\n",
       "      <th>мурино</th>\n",
       "      <td>590</td>\n",
       "      <td>86087.51</td>\n",
       "    </tr>\n",
       "    <tr>\n",
       "      <th>шушары</th>\n",
       "      <td>440</td>\n",
       "      <td>78677.36</td>\n",
       "    </tr>\n",
       "    <tr>\n",
       "      <th>колпино</th>\n",
       "      <td>338</td>\n",
       "      <td>75424.58</td>\n",
       "    </tr>\n",
       "    <tr>\n",
       "      <th>гатчина</th>\n",
       "      <td>307</td>\n",
       "      <td>68746.15</td>\n",
       "    </tr>\n",
       "    <tr>\n",
       "      <th>всеволожск</th>\n",
       "      <td>398</td>\n",
       "      <td>68654.47</td>\n",
       "    </tr>\n",
       "    <tr>\n",
       "      <th>выборг</th>\n",
       "      <td>237</td>\n",
       "      <td>58141.91</td>\n",
       "    </tr>\n",
       "  </tbody>\n",
       "</table>\n",
       "</div>"
      ],
      "text/plain": [
       "                 count  price_sq_m\n",
       "locality_name                     \n",
       "санкт-петербург  15721   114849.01\n",
       "пушкин             369   103125.82\n",
       "кудрово            472    95324.93\n",
       "парголово          327    90175.91\n",
       "мурино             590    86087.51\n",
       "шушары             440    78677.36\n",
       "колпино            338    75424.58\n",
       "гатчина            307    68746.15\n",
       "всеволожск         398    68654.47\n",
       "выборг             237    58141.91"
      ]
     },
     "execution_count": 51,
     "metadata": {},
     "output_type": "execute_result"
    }
   ],
   "source": [
    "price_sqm_locality = df.pivot_table(index='locality_name', values='last_price', aggfunc=['count'])\n",
    "price_sqm_locality.columns = ['count']\n",
    "price_sqm_locality = price_sqm_locality.sort_values(by='count', ascending=False).head(10)\n",
    "price_sqm_locality['price_sq_m'] = df.pivot_table(index='locality_name', values='price_sq_m').round(2)\n",
    "price_sqm_locality.sort_values(by='price_sq_m', ascending=False)\n"
   ]
  },
  {
   "cell_type": "markdown",
   "metadata": {},
   "source": [
    "Дороже всего квадратный метр жилья в Санкт-Петербурге. Наименьшая стоимость метра жилья в Выборге."
   ]
  },
  {
   "cell_type": "markdown",
   "metadata": {},
   "source": [
    "Вычислим среднюю стоимость квартир в Санкт-Петербурге в зависимсоти от удаленности от центра города."
   ]
  },
  {
   "cell_type": "code",
   "execution_count": 52,
   "metadata": {
    "scrolled": false
   },
   "outputs": [
    {
     "data": {
      "image/png": "[encoded data removed]",
      "text/plain": [
       "<Figure size 720x360 with 1 Axes>"
      ]
     },
     "metadata": {
      "needs_background": "light"
     },
     "output_type": "display_data"
    }
   ],
   "source": [
    "(\n",
    "    df.query('locality_name == \"санкт-петербург\"')\n",
    "    .pivot_table(index='distance_city_center', values='last_price')\n",
    "    .plot(grid=True, style='o-', xlim=(0,30), figsize=(10, 5))\n",
    ")\n",
    "plt.title('Зависимость цены от расстояния от центра Санкт-Петербурга')\n",
    "plt.xlabel('Расстояние от центра города (км)')\n",
    "plt.ylabel('Цена (млн. руб.)')\n",
    "plt.show()"
   ]
  },
  {
   "cell_type": "markdown",
   "metadata": {},
   "source": [
    "Как видно из графика самые дорогие квартиры - в центре. Стоимость квартир снижается с удалением от центра города. Начиная с удаленности в 10км стоимость практически не меняется. Есть небольшое увеличение в стоимости в 27-28км от города, что может быть связано с элитным жильем на окраине города."
   ]
  },
  {
   "cell_type": "markdown",
   "metadata": {
    "id": "h7VpzkIDAwb-"
   },
   "source": [
    "### Напишите общий вывод"
   ]
  },
  {
   "cell_type": "markdown",
   "metadata": {},
   "source": [
    "Был проведен анализ объявлений о продаже квартир по следующим шагам:\n",
    "#### Проведен **предварительный анализ данных** \n",
    " - Было выяснено, что в данных для ряда столбцов есть пропущенные значения и неправильный тип данных. Явных дубликатов обнаружено не было. \n",
    "#### **Была выполнена предобработка данных**:\n",
    " - Столбец cityCenters_nearest был переименован на city_centers_nearest\n",
    " - Заполнены явные пропуски в данных.\n",
    " - Был изменен тип данных столбцов на корректный.\n",
    " - Появление пропусков, скорее всего, связано с человеческим фактором - люди, размещавшие объявление не заполняли все поля.\n",
    "#### **Добавлены новые столбцы**\n",
    " - price_square_meter - цена квадратного метра объекта\n",
    " - day_publication - день недели публикации объявления\n",
    " - month_publication - месяц публикации объявления\n",
    " - year_publication - год публикации объявления\n",
    " - type_apartment_floor - тип этажа квартиры\n",
    " - distance_city_center - расстояние до центра города в целых километрах\n",
    "#### **Проведен исследовательский анализ данных**\n",
    " - Больше всего на продажу выставлено квартир с площадью около 55 кв.м. Далее следуют квартиры с площадью около 30 кв.м и 65 кв.м.\n",
    " - Больше всего на продажу выставлено квартир с жилой площадью около 18 кв.м. Далее следуют квартиры с жилой площадью около 19 кв.м и 32 кв.м.\n",
    " - Больше всего на продажу выставлено квартир с площадью кухни около 6 кв.м. Далее следуют квартиры с площадью кухни 10 кв.м. Квартиры с площадями кухни от 7 до 9 метров также популярны.\n",
    " - Больше всего объявлений о продаже квартир с ценой около 4 миллионов.\n",
    " - Больше всего объявлений о продаже 1-комнатных и 2-комнатных квартир.\n",
    " - Самая распространенная среди объявлений высота потолка составляет 2.6 метров.\n",
    " - Квартиры на первом и последнем этажах составляют в сумме примерно 25% от общего количества квартир. Цена на квартиры на первом и последнем этажах ниже, чем на других.\n",
    " - Больше всего пытаются продать квартир в пятиэтажках.\n",
    " - Больше всего предложений о продаже на расстоянии 12-15 километров. Также немало объявлений о продаже квартир в 5 километрах от центра.\n",
    " - Большее число квартир находится от 200 до 650 метров от парков.\n",
    " - В среднем квартиры продаются за 95 дней (медианное значение). На гистограмме наблюдаются пики снятия предложений на 45 и 60 дни. Быстрыми можно считать продажи до 45 дней (первый квартиль), чрезвычайно долгими - от 230 дней (четвертый квартиль).\n",
    " - Корреляция между ценой продажи и общей площадью квартиры - средняя, корреляция между ценой продажи и жилой площадью квартиры - средняя, корреляция между ценой за кв.м и ценой продажи квартиры - средняя, корреляция между ценой продажи квартиры и количеством комнат - слабая. корреляция между остальными параметрами и ценой продажи квартиры - очень слабая.\n",
    " - Была показана тенденция изменения цены по годам: с 2014 по 2017 наблюдался резкий спад, а с 2017 к 2019 начался подъем в цене.\n",
    " - Была посчитана средняя цена одного квадратного метра в 10 населённых пунктах с наибольшим числом объявлений:\n",
    "     - Дороже всего квадратный метр жилья в Санкт-Петербурге. Наименьшая стоимость метра жилья в Выборге.\n",
    "     - Было показано, что самые дорогие квартиры - в центре. Стоимость квартир снижается с удалением от центра города. Начиная с удаленности в 10км стоимость практически не меняется. Есть небольшое увеличение в стоимости в 27-28км от города, что может быть связано с элитным жильем на окраине города."
   ]
  }
 ],
 "metadata": {
  "ExecuteTimeLog": [
   {
    "duration": 1245,
    "start_time": "2024-04-15T10:35:47.418Z"
   },
   {
    "duration": 121,
    "start_time": "2024-04-15T10:36:32.563Z"
   },
   {
    "duration": 118,
    "start_time": "2024-04-15T10:55:03.624Z"
   },
   {
    "duration": 123,
    "start_time": "2024-04-15T10:55:27.065Z"
   },
   {
    "duration": 818,
    "start_time": "2024-04-15T10:55:40.843Z"
   },
   {
    "duration": 144,
    "start_time": "2024-04-15T10:55:51.458Z"
   },
   {
    "duration": 23,
    "start_time": "2024-04-15T10:57:01.872Z"
   },
   {
    "duration": 25,
    "start_time": "2024-04-15T10:57:53.656Z"
   },
   {
    "duration": 24,
    "start_time": "2024-04-15T10:57:56.928Z"
   },
   {
    "duration": 2200,
    "start_time": "2024-04-15T10:58:26.424Z"
   },
   {
    "duration": 26,
    "start_time": "2024-04-15T11:02:22.741Z"
   },
   {
    "duration": 17,
    "start_time": "2024-04-15T11:20:34.884Z"
   },
   {
    "duration": 4,
    "start_time": "2024-04-15T11:23:24.760Z"
   },
   {
    "duration": 100,
    "start_time": "2024-04-15T11:48:10.045Z"
   },
   {
    "duration": 812,
    "start_time": "2024-04-15T11:48:20.360Z"
   },
   {
    "duration": 2190,
    "start_time": "2024-04-15T11:48:24.466Z"
   },
   {
    "duration": 29,
    "start_time": "2024-04-15T11:48:30.043Z"
   },
   {
    "duration": 97,
    "start_time": "2024-04-15T11:48:31.442Z"
   },
   {
    "duration": 4,
    "start_time": "2024-04-15T11:48:35.946Z"
   },
   {
    "duration": 4,
    "start_time": "2024-04-15T11:48:41.611Z"
   },
   {
    "duration": 845,
    "start_time": "2024-04-15T11:48:52.067Z"
   },
   {
    "duration": 16,
    "start_time": "2024-04-15T11:48:55.366Z"
   },
   {
    "duration": 34,
    "start_time": "2024-04-15T11:49:00.188Z"
   },
   {
    "duration": 752,
    "start_time": "2024-04-15T11:49:14.259Z"
   },
   {
    "duration": 16,
    "start_time": "2024-04-15T11:49:15.014Z"
   },
   {
    "duration": 2420,
    "start_time": "2024-04-15T11:49:15.032Z"
   },
   {
    "duration": 27,
    "start_time": "2024-04-15T11:49:17.453Z"
   },
   {
    "duration": 83,
    "start_time": "2024-04-15T11:49:17.482Z"
   },
   {
    "duration": 0,
    "start_time": "2024-04-15T11:49:17.566Z"
   },
   {
    "duration": 0,
    "start_time": "2024-04-15T11:49:17.567Z"
   },
   {
    "duration": 0,
    "start_time": "2024-04-15T11:49:17.568Z"
   },
   {
    "duration": 97,
    "start_time": "2024-04-15T11:49:27.708Z"
   },
   {
    "duration": 3,
    "start_time": "2024-04-15T11:49:33.174Z"
   },
   {
    "duration": 3,
    "start_time": "2024-04-15T11:49:37.227Z"
   },
   {
    "duration": 884,
    "start_time": "2024-04-15T11:50:48.954Z"
   },
   {
    "duration": 17,
    "start_time": "2024-04-15T11:50:49.840Z"
   },
   {
    "duration": 2393,
    "start_time": "2024-04-15T11:50:49.859Z"
   },
   {
    "duration": 26,
    "start_time": "2024-04-15T11:50:52.254Z"
   },
   {
    "duration": 83,
    "start_time": "2024-04-15T11:50:52.282Z"
   },
   {
    "duration": 0,
    "start_time": "2024-04-15T11:50:52.366Z"
   },
   {
    "duration": 0,
    "start_time": "2024-04-15T11:50:52.367Z"
   },
   {
    "duration": 891,
    "start_time": "2024-04-15T11:59:59.386Z"
   },
   {
    "duration": 27,
    "start_time": "2024-04-15T12:00:00.280Z"
   },
   {
    "duration": 2395,
    "start_time": "2024-04-15T12:00:00.309Z"
   },
   {
    "duration": 28,
    "start_time": "2024-04-15T12:00:02.707Z"
   },
   {
    "duration": 127,
    "start_time": "2024-04-15T12:00:02.738Z"
   },
   {
    "duration": 48,
    "start_time": "2024-04-15T12:00:02.867Z"
   },
   {
    "duration": 150,
    "start_time": "2024-04-15T12:00:02.917Z"
   },
   {
    "duration": 7,
    "start_time": "2024-04-15T12:47:50.696Z"
   },
   {
    "duration": 6,
    "start_time": "2024-04-15T12:52:28.058Z"
   },
   {
    "duration": 6,
    "start_time": "2024-04-15T12:52:31.219Z"
   },
   {
    "duration": 8,
    "start_time": "2024-04-15T12:52:46.695Z"
   },
   {
    "duration": 10,
    "start_time": "2024-04-15T12:53:16.457Z"
   },
   {
    "duration": 9,
    "start_time": "2024-04-15T12:57:02.368Z"
   },
   {
    "duration": 880,
    "start_time": "2024-04-15T12:59:24.275Z"
   },
   {
    "duration": 16,
    "start_time": "2024-04-15T12:59:25.157Z"
   },
   {
    "duration": 2306,
    "start_time": "2024-04-15T12:59:25.174Z"
   },
   {
    "duration": 38,
    "start_time": "2024-04-15T12:59:27.482Z"
   },
   {
    "duration": 4,
    "start_time": "2024-04-15T12:59:27.523Z"
   },
   {
    "duration": 17,
    "start_time": "2024-04-15T12:59:27.529Z"
   },
   {
    "duration": 10,
    "start_time": "2024-04-15T12:59:27.548Z"
   },
   {
    "duration": 10,
    "start_time": "2024-04-15T12:59:27.560Z"
   },
   {
    "duration": 142,
    "start_time": "2024-04-15T12:59:27.572Z"
   },
   {
    "duration": 6,
    "start_time": "2024-04-15T14:13:57.441Z"
   },
   {
    "duration": 144,
    "start_time": "2024-04-15T14:14:13.077Z"
   },
   {
    "duration": 11,
    "start_time": "2024-04-15T14:21:44.525Z"
   },
   {
    "duration": 95,
    "start_time": "2024-04-15T14:22:07.676Z"
   },
   {
    "duration": 15,
    "start_time": "2024-04-15T14:22:50.906Z"
   },
   {
    "duration": 5,
    "start_time": "2024-04-15T14:24:10.349Z"
   },
   {
    "duration": 6,
    "start_time": "2024-04-15T14:25:02.456Z"
   },
   {
    "duration": 10,
    "start_time": "2024-04-15T14:26:27.302Z"
   },
   {
    "duration": 6,
    "start_time": "2024-04-15T14:26:48.062Z"
   },
   {
    "duration": 890,
    "start_time": "2024-04-15T14:26:52.276Z"
   },
   {
    "duration": 26,
    "start_time": "2024-04-15T14:26:53.168Z"
   },
   {
    "duration": 2335,
    "start_time": "2024-04-15T14:26:53.197Z"
   },
   {
    "duration": 27,
    "start_time": "2024-04-15T14:26:55.533Z"
   },
   {
    "duration": 6,
    "start_time": "2024-04-15T14:26:55.562Z"
   },
   {
    "duration": 44,
    "start_time": "2024-04-15T14:26:55.569Z"
   },
   {
    "duration": 29,
    "start_time": "2024-04-15T14:26:55.614Z"
   },
   {
    "duration": 38,
    "start_time": "2024-04-15T14:26:55.645Z"
   },
   {
    "duration": 21,
    "start_time": "2024-04-15T14:26:55.685Z"
   },
   {
    "duration": 120,
    "start_time": "2024-04-15T14:26:55.708Z"
   },
   {
    "duration": 7,
    "start_time": "2024-04-15T15:12:12.685Z"
   },
   {
    "duration": 11,
    "start_time": "2024-04-15T15:14:59.750Z"
   },
   {
    "duration": 4,
    "start_time": "2024-04-15T15:15:01.444Z"
   },
   {
    "duration": 8,
    "start_time": "2024-04-15T15:15:08.587Z"
   },
   {
    "duration": 6,
    "start_time": "2024-04-15T15:15:43.849Z"
   },
   {
    "duration": 5,
    "start_time": "2024-04-15T15:15:55.040Z"
   },
   {
    "duration": 5,
    "start_time": "2024-04-15T15:16:53.348Z"
   },
   {
    "duration": 4,
    "start_time": "2024-04-15T15:18:20.683Z"
   },
   {
    "duration": 10,
    "start_time": "2024-04-15T15:31:52.097Z"
   },
   {
    "duration": 16,
    "start_time": "2024-04-15T15:31:57.388Z"
   },
   {
    "duration": 11,
    "start_time": "2024-04-15T15:31:59.041Z"
   },
   {
    "duration": 246,
    "start_time": "2024-04-15T15:35:17.219Z"
   },
   {
    "duration": 13,
    "start_time": "2024-04-15T15:35:35.427Z"
   },
   {
    "duration": 252,
    "start_time": "2024-04-15T15:36:10.354Z"
   },
   {
    "duration": 10,
    "start_time": "2024-04-15T15:36:12.837Z"
   },
   {
    "duration": 846,
    "start_time": "2024-04-15T15:44:59.247Z"
   },
   {
    "duration": 19,
    "start_time": "2024-04-15T15:45:00.096Z"
   },
   {
    "duration": 2514,
    "start_time": "2024-04-15T15:45:00.118Z"
   },
   {
    "duration": 27,
    "start_time": "2024-04-15T15:45:02.634Z"
   },
   {
    "duration": 7,
    "start_time": "2024-04-15T15:45:02.663Z"
   },
   {
    "duration": 26,
    "start_time": "2024-04-15T15:45:02.672Z"
   },
   {
    "duration": 40,
    "start_time": "2024-04-15T15:45:02.700Z"
   },
   {
    "duration": 26,
    "start_time": "2024-04-15T15:45:02.742Z"
   },
   {
    "duration": 25,
    "start_time": "2024-04-15T15:45:02.770Z"
   },
   {
    "duration": 23,
    "start_time": "2024-04-15T15:45:02.797Z"
   },
   {
    "duration": 62,
    "start_time": "2024-04-15T15:45:02.822Z"
   },
   {
    "duration": 20,
    "start_time": "2024-04-15T15:45:02.885Z"
   },
   {
    "duration": 53,
    "start_time": "2024-04-15T15:45:02.907Z"
   },
   {
    "duration": 84,
    "start_time": "2024-04-15T15:45:02.963Z"
   },
   {
    "duration": 55,
    "start_time": "2024-04-15T15:45:03.049Z"
   },
   {
    "duration": 83,
    "start_time": "2024-04-15T15:45:03.106Z"
   },
   {
    "duration": 0,
    "start_time": "2024-04-15T15:45:03.190Z"
   },
   {
    "duration": 16,
    "start_time": "2024-04-15T15:45:41.018Z"
   },
   {
    "duration": 194,
    "start_time": "2024-04-15T15:48:56.534Z"
   },
   {
    "duration": 11,
    "start_time": "2024-04-15T15:49:37.357Z"
   },
   {
    "duration": 229,
    "start_time": "2024-04-15T15:50:11.685Z"
   },
   {
    "duration": 10,
    "start_time": "2024-04-15T15:50:13.149Z"
   },
   {
    "duration": 238,
    "start_time": "2024-04-15T15:51:43.215Z"
   },
   {
    "duration": 11,
    "start_time": "2024-04-15T15:51:44.755Z"
   },
   {
    "duration": 105,
    "start_time": "2024-04-15T16:11:34.521Z"
   },
   {
    "duration": 87,
    "start_time": "2024-04-15T16:11:49.603Z"
   },
   {
    "duration": 4,
    "start_time": "2024-04-15T16:12:14.263Z"
   },
   {
    "duration": 3,
    "start_time": "2024-04-15T16:12:16.276Z"
   },
   {
    "duration": 9,
    "start_time": "2024-04-15T16:12:17.953Z"
   },
   {
    "duration": 20,
    "start_time": "2024-04-15T16:12:41.970Z"
   },
   {
    "duration": 11,
    "start_time": "2024-04-15T17:17:53.934Z"
   },
   {
    "duration": 5,
    "start_time": "2024-04-15T17:18:09.139Z"
   },
   {
    "duration": 7,
    "start_time": "2024-04-15T17:22:44.959Z"
   },
   {
    "duration": 7,
    "start_time": "2024-04-15T17:24:07.753Z"
   },
   {
    "duration": 420,
    "start_time": "2024-04-15T17:28:04.818Z"
   },
   {
    "duration": 6,
    "start_time": "2024-04-15T17:30:02.187Z"
   },
   {
    "duration": 813,
    "start_time": "2024-04-15T17:30:26.059Z"
   },
   {
    "duration": 22,
    "start_time": "2024-04-15T17:30:26.874Z"
   },
   {
    "duration": 2090,
    "start_time": "2024-04-15T17:30:26.898Z"
   },
   {
    "duration": 27,
    "start_time": "2024-04-15T17:30:28.989Z"
   },
   {
    "duration": 3,
    "start_time": "2024-04-15T17:30:29.018Z"
   },
   {
    "duration": 30,
    "start_time": "2024-04-15T17:30:29.022Z"
   },
   {
    "duration": 38,
    "start_time": "2024-04-15T17:30:29.054Z"
   },
   {
    "duration": 41,
    "start_time": "2024-04-15T17:30:29.094Z"
   },
   {
    "duration": 22,
    "start_time": "2024-04-15T17:30:29.137Z"
   },
   {
    "duration": 31,
    "start_time": "2024-04-15T17:30:29.161Z"
   },
   {
    "duration": 26,
    "start_time": "2024-04-15T17:30:29.193Z"
   },
   {
    "duration": 32,
    "start_time": "2024-04-15T17:30:29.221Z"
   },
   {
    "duration": 29,
    "start_time": "2024-04-15T17:30:29.255Z"
   },
   {
    "duration": 25,
    "start_time": "2024-04-15T17:30:29.287Z"
   },
   {
    "duration": 26,
    "start_time": "2024-04-15T17:30:29.314Z"
   },
   {
    "duration": 276,
    "start_time": "2024-04-15T17:30:29.342Z"
   },
   {
    "duration": 3,
    "start_time": "2024-04-15T17:30:29.620Z"
   },
   {
    "duration": 28,
    "start_time": "2024-04-15T17:30:29.625Z"
   },
   {
    "duration": 17,
    "start_time": "2024-04-15T17:30:29.655Z"
   },
   {
    "duration": 5,
    "start_time": "2024-04-15T17:30:29.673Z"
   },
   {
    "duration": 35,
    "start_time": "2024-04-15T17:30:29.679Z"
   },
   {
    "duration": 364,
    "start_time": "2024-04-15T17:30:29.716Z"
   },
   {
    "duration": 5,
    "start_time": "2024-04-15T17:30:30.081Z"
   },
   {
    "duration": 54,
    "start_time": "2024-04-17T14:10:38.185Z"
   },
   {
    "duration": 985,
    "start_time": "2024-04-17T14:10:47.172Z"
   },
   {
    "duration": 15,
    "start_time": "2024-04-17T14:10:48.159Z"
   },
   {
    "duration": 1879,
    "start_time": "2024-04-17T14:10:48.175Z"
   },
   {
    "duration": 24,
    "start_time": "2024-04-17T14:10:50.056Z"
   },
   {
    "duration": 7,
    "start_time": "2024-04-17T14:10:50.082Z"
   },
   {
    "duration": 41,
    "start_time": "2024-04-17T14:10:50.091Z"
   },
   {
    "duration": 36,
    "start_time": "2024-04-17T14:10:50.133Z"
   },
   {
    "duration": 36,
    "start_time": "2024-04-17T14:10:50.170Z"
   },
   {
    "duration": 35,
    "start_time": "2024-04-17T14:10:50.208Z"
   },
   {
    "duration": 30,
    "start_time": "2024-04-17T14:10:50.245Z"
   },
   {
    "duration": 23,
    "start_time": "2024-04-17T14:10:50.277Z"
   },
   {
    "duration": 47,
    "start_time": "2024-04-17T14:10:50.302Z"
   },
   {
    "duration": 4,
    "start_time": "2024-04-17T14:10:50.351Z"
   },
   {
    "duration": 15,
    "start_time": "2024-04-17T14:10:50.358Z"
   },
   {
    "duration": 26,
    "start_time": "2024-04-17T14:10:50.374Z"
   },
   {
    "duration": 223,
    "start_time": "2024-04-17T14:10:50.402Z"
   },
   {
    "duration": 4,
    "start_time": "2024-04-17T14:10:50.626Z"
   },
   {
    "duration": 24,
    "start_time": "2024-04-17T14:10:50.632Z"
   },
   {
    "duration": 36,
    "start_time": "2024-04-17T14:10:50.658Z"
   },
   {
    "duration": 4,
    "start_time": "2024-04-17T14:10:50.696Z"
   },
   {
    "duration": 12,
    "start_time": "2024-04-17T14:10:50.701Z"
   },
   {
    "duration": 308,
    "start_time": "2024-04-17T14:10:50.714Z"
   },
   {
    "duration": 4,
    "start_time": "2024-04-17T14:10:51.023Z"
   },
   {
    "duration": 223,
    "start_time": "2024-04-17T14:10:51.028Z"
   },
   {
    "duration": 292,
    "start_time": "2024-04-17T14:11:24.308Z"
   },
   {
    "duration": 361,
    "start_time": "2024-04-17T14:11:42.017Z"
   },
   {
    "duration": 180,
    "start_time": "2024-04-17T14:11:45.750Z"
   },
   {
    "duration": 187,
    "start_time": "2024-04-17T14:12:05.963Z"
   },
   {
    "duration": 179,
    "start_time": "2024-04-17T14:12:20.178Z"
   },
   {
    "duration": 178,
    "start_time": "2024-04-17T14:12:25.909Z"
   },
   {
    "duration": 225,
    "start_time": "2024-04-17T14:13:21.751Z"
   },
   {
    "duration": 189,
    "start_time": "2024-04-17T14:13:47.406Z"
   },
   {
    "duration": 739,
    "start_time": "2024-04-17T14:15:06.732Z"
   },
   {
    "duration": 21,
    "start_time": "2024-04-17T14:15:07.473Z"
   },
   {
    "duration": 1878,
    "start_time": "2024-04-17T14:15:07.496Z"
   },
   {
    "duration": 23,
    "start_time": "2024-04-17T14:15:09.376Z"
   },
   {
    "duration": 3,
    "start_time": "2024-04-17T14:15:09.401Z"
   },
   {
    "duration": 12,
    "start_time": "2024-04-17T14:15:09.405Z"
   },
   {
    "duration": 8,
    "start_time": "2024-04-17T14:15:09.418Z"
   },
   {
    "duration": 7,
    "start_time": "2024-04-17T14:15:09.428Z"
   },
   {
    "duration": 3,
    "start_time": "2024-04-17T14:15:09.437Z"
   },
   {
    "duration": 14,
    "start_time": "2024-04-17T14:15:09.444Z"
   },
   {
    "duration": 13,
    "start_time": "2024-04-17T14:15:09.459Z"
   },
   {
    "duration": 5,
    "start_time": "2024-04-17T14:15:09.473Z"
   },
   {
    "duration": 3,
    "start_time": "2024-04-17T14:15:09.480Z"
   },
   {
    "duration": 5,
    "start_time": "2024-04-17T14:15:09.486Z"
   },
   {
    "duration": 38,
    "start_time": "2024-04-17T14:15:09.493Z"
   },
   {
    "duration": 224,
    "start_time": "2024-04-17T14:15:09.532Z"
   },
   {
    "duration": 3,
    "start_time": "2024-04-17T14:15:09.758Z"
   },
   {
    "duration": 11,
    "start_time": "2024-04-17T14:15:09.763Z"
   },
   {
    "duration": 44,
    "start_time": "2024-04-17T14:15:09.775Z"
   },
   {
    "duration": 13,
    "start_time": "2024-04-17T14:15:09.820Z"
   },
   {
    "duration": 14,
    "start_time": "2024-04-17T14:15:09.835Z"
   },
   {
    "duration": 307,
    "start_time": "2024-04-17T14:15:09.850Z"
   },
   {
    "duration": 4,
    "start_time": "2024-04-17T14:15:10.159Z"
   },
   {
    "duration": 215,
    "start_time": "2024-04-17T14:15:10.164Z"
   },
   {
    "duration": 183,
    "start_time": "2024-04-17T14:15:55.821Z"
   },
   {
    "duration": 242,
    "start_time": "2024-04-17T14:17:41.595Z"
   },
   {
    "duration": 178,
    "start_time": "2024-04-17T14:17:48.450Z"
   },
   {
    "duration": 282,
    "start_time": "2024-04-17T14:23:50.812Z"
   },
   {
    "duration": 164,
    "start_time": "2024-04-17T14:23:57.520Z"
   },
   {
    "duration": 175,
    "start_time": "2024-04-17T14:24:04.084Z"
   },
   {
    "duration": 239,
    "start_time": "2024-04-17T14:31:07.668Z"
   },
   {
    "duration": 256,
    "start_time": "2024-04-17T14:31:15.445Z"
   },
   {
    "duration": 338,
    "start_time": "2024-04-17T14:31:25.727Z"
   },
   {
    "duration": 670,
    "start_time": "2024-04-17T14:31:31.237Z"
   },
   {
    "duration": 180,
    "start_time": "2024-04-17T14:31:34.843Z"
   },
   {
    "duration": 175,
    "start_time": "2024-04-17T14:34:35.746Z"
   },
   {
    "duration": 173,
    "start_time": "2024-04-17T14:34:45.002Z"
   },
   {
    "duration": 279,
    "start_time": "2024-04-17T14:34:54.561Z"
   },
   {
    "duration": 179,
    "start_time": "2024-04-17T14:34:58.897Z"
   },
   {
    "duration": 162,
    "start_time": "2024-04-17T14:35:08.345Z"
   },
   {
    "duration": 165,
    "start_time": "2024-04-17T14:36:19.353Z"
   },
   {
    "duration": 242,
    "start_time": "2024-04-17T14:37:53.455Z"
   },
   {
    "duration": 230,
    "start_time": "2024-04-17T14:37:59.343Z"
   },
   {
    "duration": 186,
    "start_time": "2024-04-17T14:38:05.856Z"
   },
   {
    "duration": 188,
    "start_time": "2024-04-17T14:39:14.078Z"
   },
   {
    "duration": 726,
    "start_time": "2024-04-17T16:41:40.653Z"
   },
   {
    "duration": 13,
    "start_time": "2024-04-17T16:41:41.381Z"
   },
   {
    "duration": 1787,
    "start_time": "2024-04-17T16:41:41.395Z"
   },
   {
    "duration": 24,
    "start_time": "2024-04-17T16:41:43.184Z"
   },
   {
    "duration": 7,
    "start_time": "2024-04-17T16:41:43.210Z"
   },
   {
    "duration": 10,
    "start_time": "2024-04-17T16:41:43.218Z"
   },
   {
    "duration": 17,
    "start_time": "2024-04-17T16:41:43.229Z"
   },
   {
    "duration": 11,
    "start_time": "2024-04-17T16:41:43.248Z"
   },
   {
    "duration": 13,
    "start_time": "2024-04-17T16:41:43.260Z"
   },
   {
    "duration": 22,
    "start_time": "2024-04-17T16:41:43.274Z"
   },
   {
    "duration": 27,
    "start_time": "2024-04-17T16:41:43.297Z"
   },
   {
    "duration": 21,
    "start_time": "2024-04-17T16:41:43.325Z"
   },
   {
    "duration": 30,
    "start_time": "2024-04-17T16:41:43.347Z"
   },
   {
    "duration": 55,
    "start_time": "2024-04-17T16:41:43.381Z"
   },
   {
    "duration": 38,
    "start_time": "2024-04-17T16:41:43.438Z"
   },
   {
    "duration": 279,
    "start_time": "2024-04-17T16:41:43.478Z"
   },
   {
    "duration": 4,
    "start_time": "2024-04-17T16:41:43.758Z"
   },
   {
    "duration": 38,
    "start_time": "2024-04-17T16:41:43.763Z"
   },
   {
    "duration": 24,
    "start_time": "2024-04-17T16:41:43.802Z"
   },
   {
    "duration": 9,
    "start_time": "2024-04-17T16:41:43.827Z"
   },
   {
    "duration": 16,
    "start_time": "2024-04-17T16:41:43.837Z"
   },
   {
    "duration": 332,
    "start_time": "2024-04-17T16:41:43.855Z"
   },
   {
    "duration": 4,
    "start_time": "2024-04-17T16:41:44.188Z"
   },
   {
    "duration": 184,
    "start_time": "2024-04-17T16:41:44.193Z"
   },
   {
    "duration": 181,
    "start_time": "2024-04-17T16:41:44.379Z"
   },
   {
    "duration": 238,
    "start_time": "2024-04-17T16:41:44.561Z"
   },
   {
    "duration": 177,
    "start_time": "2024-04-17T16:43:29.627Z"
   },
   {
    "duration": 242,
    "start_time": "2024-04-17T17:17:21.680Z"
   },
   {
    "duration": 232,
    "start_time": "2024-04-17T17:19:23.518Z"
   },
   {
    "duration": 272,
    "start_time": "2024-04-17T17:19:46.343Z"
   },
   {
    "duration": 225,
    "start_time": "2024-04-17T17:19:54.108Z"
   },
   {
    "duration": 317,
    "start_time": "2024-04-17T17:20:13.734Z"
   },
   {
    "duration": 9,
    "start_time": "2024-04-17T17:20:36.644Z"
   },
   {
    "duration": 255,
    "start_time": "2024-04-17T17:20:58.627Z"
   },
   {
    "duration": 243,
    "start_time": "2024-04-17T17:21:07.581Z"
   },
   {
    "duration": 169,
    "start_time": "2024-04-17T17:21:57.195Z"
   },
   {
    "duration": 813,
    "start_time": "2024-04-17T17:23:03.209Z"
   },
   {
    "duration": 21,
    "start_time": "2024-04-17T17:23:04.024Z"
   },
   {
    "duration": 1836,
    "start_time": "2024-04-17T17:23:04.046Z"
   },
   {
    "duration": 25,
    "start_time": "2024-04-17T17:23:05.884Z"
   },
   {
    "duration": 3,
    "start_time": "2024-04-17T17:23:05.910Z"
   },
   {
    "duration": 11,
    "start_time": "2024-04-17T17:23:05.915Z"
   },
   {
    "duration": 21,
    "start_time": "2024-04-17T17:23:05.928Z"
   },
   {
    "duration": 22,
    "start_time": "2024-04-17T17:23:05.950Z"
   },
   {
    "duration": 4,
    "start_time": "2024-04-17T17:23:05.973Z"
   },
   {
    "duration": 17,
    "start_time": "2024-04-17T17:23:05.979Z"
   },
   {
    "duration": 8,
    "start_time": "2024-04-17T17:23:05.997Z"
   },
   {
    "duration": 6,
    "start_time": "2024-04-17T17:23:06.006Z"
   },
   {
    "duration": 23,
    "start_time": "2024-04-17T17:23:06.014Z"
   },
   {
    "duration": 7,
    "start_time": "2024-04-17T17:23:06.038Z"
   },
   {
    "duration": 15,
    "start_time": "2024-04-17T17:23:06.047Z"
   },
   {
    "duration": 225,
    "start_time": "2024-04-17T17:23:06.064Z"
   },
   {
    "duration": 3,
    "start_time": "2024-04-17T17:23:06.290Z"
   },
   {
    "duration": 11,
    "start_time": "2024-04-17T17:23:06.294Z"
   },
   {
    "duration": 15,
    "start_time": "2024-04-17T17:23:06.307Z"
   },
   {
    "duration": 3,
    "start_time": "2024-04-17T17:23:06.323Z"
   },
   {
    "duration": 21,
    "start_time": "2024-04-17T17:23:06.328Z"
   },
   {
    "duration": 335,
    "start_time": "2024-04-17T17:23:06.350Z"
   },
   {
    "duration": 4,
    "start_time": "2024-04-17T17:23:06.686Z"
   },
   {
    "duration": 204,
    "start_time": "2024-04-17T17:23:06.691Z"
   },
   {
    "duration": 185,
    "start_time": "2024-04-17T17:23:06.897Z"
   },
   {
    "duration": 266,
    "start_time": "2024-04-17T17:23:07.083Z"
   },
   {
    "duration": 180,
    "start_time": "2024-04-17T17:23:07.350Z"
   },
   {
    "duration": 26,
    "start_time": "2024-04-17T17:23:07.534Z"
   },
   {
    "duration": 152,
    "start_time": "2024-04-17T17:47:04.525Z"
   },
   {
    "duration": 168,
    "start_time": "2024-04-17T17:48:44.015Z"
   },
   {
    "duration": 54,
    "start_time": "2024-04-17T18:04:03.272Z"
   },
   {
    "duration": 57,
    "start_time": "2024-04-17T18:04:33.697Z"
   },
   {
    "duration": 183,
    "start_time": "2024-04-17T18:04:53.273Z"
   },
   {
    "duration": 167,
    "start_time": "2024-04-17T18:05:01.520Z"
   },
   {
    "duration": 142,
    "start_time": "2024-04-17T18:05:06.112Z"
   },
   {
    "duration": 145,
    "start_time": "2024-04-17T18:05:14.529Z"
   },
   {
    "duration": 147,
    "start_time": "2024-04-17T18:05:21.321Z"
   },
   {
    "duration": 171,
    "start_time": "2024-04-17T18:05:27.152Z"
   },
   {
    "duration": 243,
    "start_time": "2024-04-17T18:05:33.832Z"
   },
   {
    "duration": 139,
    "start_time": "2024-04-17T18:05:47.303Z"
   },
   {
    "duration": 156,
    "start_time": "2024-04-17T18:20:10.833Z"
   },
   {
    "duration": 168,
    "start_time": "2024-04-17T18:24:22.829Z"
   },
   {
    "duration": 143,
    "start_time": "2024-04-17T18:34:23.687Z"
   },
   {
    "duration": 162,
    "start_time": "2024-04-17T18:34:33.561Z"
   },
   {
    "duration": 172,
    "start_time": "2024-04-17T18:34:50.062Z"
   },
   {
    "duration": 307,
    "start_time": "2024-04-17T18:38:26.665Z"
   },
   {
    "duration": 175,
    "start_time": "2024-04-17T18:38:32.827Z"
   },
   {
    "duration": 202,
    "start_time": "2024-04-17T18:38:37.399Z"
   },
   {
    "duration": 227,
    "start_time": "2024-04-17T18:45:20.799Z"
   },
   {
    "duration": 242,
    "start_time": "2024-04-17T18:45:32.726Z"
   },
   {
    "duration": 223,
    "start_time": "2024-04-17T18:47:40.009Z"
   },
   {
    "duration": 331,
    "start_time": "2024-04-17T18:57:00.065Z"
   },
   {
    "duration": 253,
    "start_time": "2024-04-17T18:57:09.093Z"
   },
   {
    "duration": 241,
    "start_time": "2024-04-17T18:57:46.198Z"
   },
   {
    "duration": 214,
    "start_time": "2024-04-17T18:57:53.966Z"
   },
   {
    "duration": 218,
    "start_time": "2024-04-17T19:07:13.583Z"
   },
   {
    "duration": 336,
    "start_time": "2024-04-17T20:06:49.495Z"
   },
   {
    "duration": 684,
    "start_time": "2024-04-17T20:06:56.590Z"
   },
   {
    "duration": 14,
    "start_time": "2024-04-17T20:06:57.276Z"
   },
   {
    "duration": 1850,
    "start_time": "2024-04-17T20:06:57.292Z"
   },
   {
    "duration": 23,
    "start_time": "2024-04-17T20:06:59.144Z"
   },
   {
    "duration": 2,
    "start_time": "2024-04-17T20:06:59.169Z"
   },
   {
    "duration": 8,
    "start_time": "2024-04-17T20:06:59.173Z"
   },
   {
    "duration": 9,
    "start_time": "2024-04-17T20:06:59.182Z"
   },
   {
    "duration": 6,
    "start_time": "2024-04-17T20:06:59.192Z"
   },
   {
    "duration": 3,
    "start_time": "2024-04-17T20:06:59.200Z"
   },
   {
    "duration": 37,
    "start_time": "2024-04-17T20:06:59.204Z"
   },
   {
    "duration": 8,
    "start_time": "2024-04-17T20:06:59.242Z"
   },
   {
    "duration": 5,
    "start_time": "2024-04-17T20:06:59.251Z"
   },
   {
    "duration": 5,
    "start_time": "2024-04-17T20:06:59.257Z"
   },
   {
    "duration": 6,
    "start_time": "2024-04-17T20:06:59.265Z"
   },
   {
    "duration": 14,
    "start_time": "2024-04-17T20:06:59.272Z"
   },
   {
    "duration": 260,
    "start_time": "2024-04-17T20:06:59.287Z"
   },
   {
    "duration": 3,
    "start_time": "2024-04-17T20:06:59.548Z"
   },
   {
    "duration": 6,
    "start_time": "2024-04-17T20:06:59.552Z"
   },
   {
    "duration": 30,
    "start_time": "2024-04-17T20:06:59.559Z"
   },
   {
    "duration": 4,
    "start_time": "2024-04-17T20:06:59.591Z"
   },
   {
    "duration": 24,
    "start_time": "2024-04-17T20:06:59.596Z"
   },
   {
    "duration": 307,
    "start_time": "2024-04-17T20:06:59.621Z"
   },
   {
    "duration": 4,
    "start_time": "2024-04-17T20:06:59.930Z"
   },
   {
    "duration": 196,
    "start_time": "2024-04-17T20:06:59.935Z"
   },
   {
    "duration": 182,
    "start_time": "2024-04-17T20:07:00.133Z"
   },
   {
    "duration": 253,
    "start_time": "2024-04-17T20:07:00.316Z"
   },
   {
    "duration": 182,
    "start_time": "2024-04-17T20:07:00.571Z"
   },
   {
    "duration": 170,
    "start_time": "2024-04-17T20:07:00.754Z"
   },
   {
    "duration": 147,
    "start_time": "2024-04-17T20:07:00.926Z"
   },
   {
    "duration": 163,
    "start_time": "2024-04-17T20:07:01.074Z"
   },
   {
    "duration": 191,
    "start_time": "2024-04-17T20:07:01.239Z"
   },
   {
    "duration": 235,
    "start_time": "2024-04-17T20:07:01.431Z"
   },
   {
    "duration": 208,
    "start_time": "2024-04-17T20:07:01.668Z"
   },
   {
    "duration": 319,
    "start_time": "2024-04-17T20:07:01.877Z"
   },
   {
    "duration": 250,
    "start_time": "2024-04-17T20:07:17.658Z"
   },
   {
    "duration": 1110,
    "start_time": "2024-04-18T09:15:35.908Z"
   },
   {
    "duration": 16,
    "start_time": "2024-04-18T09:15:37.020Z"
   },
   {
    "duration": 2002,
    "start_time": "2024-04-18T09:15:37.038Z"
   },
   {
    "duration": 26,
    "start_time": "2024-04-18T09:15:39.042Z"
   },
   {
    "duration": 16,
    "start_time": "2024-04-18T09:15:39.070Z"
   },
   {
    "duration": 36,
    "start_time": "2024-04-18T09:15:39.088Z"
   },
   {
    "duration": 41,
    "start_time": "2024-04-18T09:15:39.125Z"
   },
   {
    "duration": 20,
    "start_time": "2024-04-18T09:15:39.168Z"
   },
   {
    "duration": 15,
    "start_time": "2024-04-18T09:15:39.190Z"
   },
   {
    "duration": 21,
    "start_time": "2024-04-18T09:15:39.207Z"
   },
   {
    "duration": 10,
    "start_time": "2024-04-18T09:15:39.230Z"
   },
   {
    "duration": 6,
    "start_time": "2024-04-18T09:15:39.242Z"
   },
   {
    "duration": 6,
    "start_time": "2024-04-18T09:15:39.249Z"
   },
   {
    "duration": 4,
    "start_time": "2024-04-18T09:15:39.258Z"
   },
   {
    "duration": 15,
    "start_time": "2024-04-18T09:15:39.264Z"
   },
   {
    "duration": 264,
    "start_time": "2024-04-18T09:15:39.281Z"
   },
   {
    "duration": 4,
    "start_time": "2024-04-18T09:15:39.547Z"
   },
   {
    "duration": 3,
    "start_time": "2024-04-18T09:15:39.556Z"
   },
   {
    "duration": 17,
    "start_time": "2024-04-18T09:15:39.561Z"
   },
   {
    "duration": 4,
    "start_time": "2024-04-18T09:15:39.580Z"
   },
   {
    "duration": 14,
    "start_time": "2024-04-18T09:15:39.586Z"
   },
   {
    "duration": 385,
    "start_time": "2024-04-18T09:15:39.602Z"
   },
   {
    "duration": 5,
    "start_time": "2024-04-18T09:15:39.988Z"
   },
   {
    "duration": 208,
    "start_time": "2024-04-18T09:15:39.994Z"
   },
   {
    "duration": 190,
    "start_time": "2024-04-18T09:15:40.204Z"
   },
   {
    "duration": 269,
    "start_time": "2024-04-18T09:15:40.396Z"
   },
   {
    "duration": 186,
    "start_time": "2024-04-18T09:15:40.667Z"
   },
   {
    "duration": 190,
    "start_time": "2024-04-18T09:15:40.854Z"
   },
   {
    "duration": 167,
    "start_time": "2024-04-18T09:15:41.045Z"
   },
   {
    "duration": 188,
    "start_time": "2024-04-18T09:15:41.214Z"
   },
   {
    "duration": 210,
    "start_time": "2024-04-18T09:15:41.403Z"
   },
   {
    "duration": 242,
    "start_time": "2024-04-18T09:15:41.615Z"
   },
   {
    "duration": 240,
    "start_time": "2024-04-18T09:15:41.859Z"
   },
   {
    "duration": 340,
    "start_time": "2024-04-18T09:15:42.100Z"
   },
   {
    "duration": 78,
    "start_time": "2024-04-18T09:16:29.667Z"
   },
   {
    "duration": 9,
    "start_time": "2024-04-18T09:16:52.169Z"
   },
   {
    "duration": 251,
    "start_time": "2024-04-18T09:36:09.446Z"
   },
   {
    "duration": 320,
    "start_time": "2024-04-18T09:38:33.205Z"
   },
   {
    "duration": 219,
    "start_time": "2024-04-18T09:38:38.427Z"
   },
   {
    "duration": 311,
    "start_time": "2024-04-18T09:39:14.220Z"
   },
   {
    "duration": 77,
    "start_time": "2024-04-18T09:44:51.097Z"
   },
   {
    "duration": 808,
    "start_time": "2024-04-18T09:49:51.660Z"
   },
   {
    "duration": 14,
    "start_time": "2024-04-18T09:49:52.470Z"
   },
   {
    "duration": 2075,
    "start_time": "2024-04-18T09:49:52.485Z"
   },
   {
    "duration": 28,
    "start_time": "2024-04-18T09:49:54.562Z"
   },
   {
    "duration": 6,
    "start_time": "2024-04-18T09:49:54.592Z"
   },
   {
    "duration": 11,
    "start_time": "2024-04-18T09:49:54.600Z"
   },
   {
    "duration": 9,
    "start_time": "2024-04-18T09:49:54.613Z"
   },
   {
    "duration": 8,
    "start_time": "2024-04-18T09:49:54.624Z"
   },
   {
    "duration": 17,
    "start_time": "2024-04-18T09:49:54.633Z"
   },
   {
    "duration": 25,
    "start_time": "2024-04-18T09:49:54.655Z"
   },
   {
    "duration": 11,
    "start_time": "2024-04-18T09:49:54.681Z"
   },
   {
    "duration": 44,
    "start_time": "2024-04-18T09:49:54.693Z"
   },
   {
    "duration": 30,
    "start_time": "2024-04-18T09:49:54.738Z"
   },
   {
    "duration": 26,
    "start_time": "2024-04-18T09:49:54.771Z"
   },
   {
    "duration": 29,
    "start_time": "2024-04-18T09:49:54.799Z"
   },
   {
    "duration": 282,
    "start_time": "2024-04-18T09:49:54.830Z"
   },
   {
    "duration": 3,
    "start_time": "2024-04-18T09:49:55.114Z"
   },
   {
    "duration": 44,
    "start_time": "2024-04-18T09:49:55.118Z"
   },
   {
    "duration": 43,
    "start_time": "2024-04-18T09:49:55.164Z"
   },
   {
    "duration": 44,
    "start_time": "2024-04-18T09:49:55.210Z"
   },
   {
    "duration": 41,
    "start_time": "2024-04-18T09:49:55.256Z"
   },
   {
    "duration": 358,
    "start_time": "2024-04-18T09:49:55.299Z"
   },
   {
    "duration": 4,
    "start_time": "2024-04-18T09:49:55.659Z"
   },
   {
    "duration": 232,
    "start_time": "2024-04-18T09:49:55.665Z"
   },
   {
    "duration": 202,
    "start_time": "2024-04-18T09:49:55.898Z"
   },
   {
    "duration": 263,
    "start_time": "2024-04-18T09:49:56.102Z"
   },
   {
    "duration": 183,
    "start_time": "2024-04-18T09:49:56.367Z"
   },
   {
    "duration": 169,
    "start_time": "2024-04-18T09:49:56.555Z"
   },
   {
    "duration": 166,
    "start_time": "2024-04-18T09:49:56.726Z"
   },
   {
    "duration": 190,
    "start_time": "2024-04-18T09:49:56.894Z"
   },
   {
    "duration": 226,
    "start_time": "2024-04-18T09:49:57.086Z"
   },
   {
    "duration": 311,
    "start_time": "2024-04-18T09:49:57.313Z"
   },
   {
    "duration": 233,
    "start_time": "2024-04-18T09:49:57.625Z"
   },
   {
    "duration": 345,
    "start_time": "2024-04-18T09:49:57.860Z"
   },
   {
    "duration": 8,
    "start_time": "2024-04-18T09:49:58.207Z"
   },
   {
    "duration": 1063,
    "start_time": "2024-04-18T12:54:04.000Z"
   },
   {
    "duration": 16,
    "start_time": "2024-04-18T12:54:05.066Z"
   },
   {
    "duration": 2077,
    "start_time": "2024-04-18T12:54:05.083Z"
   },
   {
    "duration": 25,
    "start_time": "2024-04-18T12:54:07.162Z"
   },
   {
    "duration": 3,
    "start_time": "2024-04-18T12:54:07.189Z"
   },
   {
    "duration": 15,
    "start_time": "2024-04-18T12:54:07.194Z"
   },
   {
    "duration": 7,
    "start_time": "2024-04-18T12:54:07.210Z"
   },
   {
    "duration": 7,
    "start_time": "2024-04-18T12:54:07.219Z"
   },
   {
    "duration": 16,
    "start_time": "2024-04-18T12:54:07.228Z"
   },
   {
    "duration": 13,
    "start_time": "2024-04-18T12:54:07.246Z"
   },
   {
    "duration": 15,
    "start_time": "2024-04-18T12:54:07.261Z"
   },
   {
    "duration": 12,
    "start_time": "2024-04-18T12:54:07.278Z"
   },
   {
    "duration": 5,
    "start_time": "2024-04-18T12:54:07.291Z"
   },
   {
    "duration": 13,
    "start_time": "2024-04-18T12:54:07.299Z"
   },
   {
    "duration": 20,
    "start_time": "2024-04-18T12:54:07.313Z"
   },
   {
    "duration": 257,
    "start_time": "2024-04-18T12:54:07.335Z"
   },
   {
    "duration": 3,
    "start_time": "2024-04-18T12:54:07.594Z"
   },
   {
    "duration": 7,
    "start_time": "2024-04-18T12:54:07.599Z"
   },
   {
    "duration": 20,
    "start_time": "2024-04-18T12:54:07.608Z"
   },
   {
    "duration": 4,
    "start_time": "2024-04-18T12:54:07.630Z"
   },
   {
    "duration": 15,
    "start_time": "2024-04-18T12:54:07.635Z"
   },
   {
    "duration": 404,
    "start_time": "2024-04-18T12:54:07.652Z"
   },
   {
    "duration": 5,
    "start_time": "2024-04-18T12:54:08.058Z"
   },
   {
    "duration": 248,
    "start_time": "2024-04-18T12:54:08.065Z"
   },
   {
    "duration": 197,
    "start_time": "2024-04-18T12:54:08.315Z"
   },
   {
    "duration": 271,
    "start_time": "2024-04-18T12:54:08.513Z"
   },
   {
    "duration": 194,
    "start_time": "2024-04-18T12:54:08.786Z"
   },
   {
    "duration": 182,
    "start_time": "2024-04-18T12:54:08.982Z"
   },
   {
    "duration": 166,
    "start_time": "2024-04-18T12:54:09.166Z"
   },
   {
    "duration": 188,
    "start_time": "2024-04-18T12:54:09.334Z"
   },
   {
    "duration": 225,
    "start_time": "2024-04-18T12:54:09.524Z"
   },
   {
    "duration": 262,
    "start_time": "2024-04-18T12:54:09.751Z"
   },
   {
    "duration": 233,
    "start_time": "2024-04-18T12:54:10.015Z"
   },
   {
    "duration": 354,
    "start_time": "2024-04-18T12:54:10.249Z"
   },
   {
    "duration": 9,
    "start_time": "2024-04-18T12:54:10.605Z"
   },
   {
    "duration": 23,
    "start_time": "2024-04-18T14:25:58.815Z"
   },
   {
    "duration": 17,
    "start_time": "2024-04-18T14:28:11.845Z"
   },
   {
    "duration": 28,
    "start_time": "2024-04-18T14:29:41.072Z"
   },
   {
    "duration": 20,
    "start_time": "2024-04-18T14:31:18.091Z"
   },
   {
    "duration": 16,
    "start_time": "2024-04-18T14:31:43.992Z"
   },
   {
    "duration": 145,
    "start_time": "2024-04-18T15:02:13.296Z"
   },
   {
    "duration": 65,
    "start_time": "2024-04-18T15:02:46.516Z"
   },
   {
    "duration": 78,
    "start_time": "2024-04-18T15:02:55.899Z"
   },
   {
    "duration": 96,
    "start_time": "2024-04-18T15:03:01.107Z"
   },
   {
    "duration": 757,
    "start_time": "2024-04-18T15:03:37.040Z"
   },
   {
    "duration": 16,
    "start_time": "2024-04-18T15:03:37.799Z"
   },
   {
    "duration": 2139,
    "start_time": "2024-04-18T15:03:37.817Z"
   },
   {
    "duration": 27,
    "start_time": "2024-04-18T15:03:39.958Z"
   },
   {
    "duration": 4,
    "start_time": "2024-04-18T15:03:39.987Z"
   },
   {
    "duration": 10,
    "start_time": "2024-04-18T15:03:39.992Z"
   },
   {
    "duration": 21,
    "start_time": "2024-04-18T15:03:40.004Z"
   },
   {
    "duration": 14,
    "start_time": "2024-04-18T15:03:40.027Z"
   },
   {
    "duration": 26,
    "start_time": "2024-04-18T15:03:40.043Z"
   },
   {
    "duration": 13,
    "start_time": "2024-04-18T15:03:40.071Z"
   },
   {
    "duration": 12,
    "start_time": "2024-04-18T15:03:40.086Z"
   },
   {
    "duration": 9,
    "start_time": "2024-04-18T15:03:40.099Z"
   },
   {
    "duration": 4,
    "start_time": "2024-04-18T15:03:40.109Z"
   },
   {
    "duration": 9,
    "start_time": "2024-04-18T15:03:40.116Z"
   },
   {
    "duration": 17,
    "start_time": "2024-04-18T15:03:40.126Z"
   },
   {
    "duration": 256,
    "start_time": "2024-04-18T15:03:40.145Z"
   },
   {
    "duration": 4,
    "start_time": "2024-04-18T15:03:40.403Z"
   },
   {
    "duration": 10,
    "start_time": "2024-04-18T15:03:40.408Z"
   },
   {
    "duration": 21,
    "start_time": "2024-04-18T15:03:40.419Z"
   },
   {
    "duration": 10,
    "start_time": "2024-04-18T15:03:40.442Z"
   },
   {
    "duration": 13,
    "start_time": "2024-04-18T15:03:40.454Z"
   },
   {
    "duration": 361,
    "start_time": "2024-04-18T15:03:40.469Z"
   },
   {
    "duration": 4,
    "start_time": "2024-04-18T15:03:40.832Z"
   },
   {
    "duration": 241,
    "start_time": "2024-04-18T15:03:40.838Z"
   },
   {
    "duration": 200,
    "start_time": "2024-04-18T15:03:41.082Z"
   },
   {
    "duration": 277,
    "start_time": "2024-04-18T15:03:41.284Z"
   },
   {
    "duration": 203,
    "start_time": "2024-04-18T15:03:41.563Z"
   },
   {
    "duration": 186,
    "start_time": "2024-04-18T15:03:41.767Z"
   },
   {
    "duration": 167,
    "start_time": "2024-04-18T15:03:41.955Z"
   },
   {
    "duration": 192,
    "start_time": "2024-04-18T15:03:42.124Z"
   },
   {
    "duration": 234,
    "start_time": "2024-04-18T15:03:42.317Z"
   },
   {
    "duration": 274,
    "start_time": "2024-04-18T15:03:42.554Z"
   },
   {
    "duration": 236,
    "start_time": "2024-04-18T15:03:42.829Z"
   },
   {
    "duration": 361,
    "start_time": "2024-04-18T15:03:43.067Z"
   },
   {
    "duration": 8,
    "start_time": "2024-04-18T15:03:43.430Z"
   },
   {
    "duration": 45,
    "start_time": "2024-04-18T15:03:43.439Z"
   },
   {
    "duration": 28,
    "start_time": "2024-04-18T15:03:43.486Z"
   },
   {
    "duration": 161,
    "start_time": "2024-04-18T15:03:43.516Z"
   },
   {
    "duration": 0,
    "start_time": "2024-04-18T15:03:43.680Z"
   },
   {
    "duration": 57,
    "start_time": "2024-04-18T15:11:15.464Z"
   },
   {
    "duration": 67,
    "start_time": "2024-04-18T15:11:22.989Z"
   },
   {
    "duration": 63,
    "start_time": "2024-04-18T15:12:59.492Z"
   },
   {
    "duration": 91,
    "start_time": "2024-04-18T15:15:16.514Z"
   },
   {
    "duration": 60,
    "start_time": "2024-04-18T15:15:54.843Z"
   },
   {
    "duration": 65,
    "start_time": "2024-04-18T15:17:38.127Z"
   },
   {
    "duration": 69,
    "start_time": "2024-04-18T15:19:01.990Z"
   },
   {
    "duration": 65,
    "start_time": "2024-04-18T15:19:58.529Z"
   },
   {
    "duration": 67,
    "start_time": "2024-04-18T15:22:09.188Z"
   },
   {
    "duration": 60,
    "start_time": "2024-04-18T15:22:35.752Z"
   },
   {
    "duration": 30,
    "start_time": "2024-04-18T15:22:49.280Z"
   },
   {
    "duration": 43,
    "start_time": "2024-04-18T15:23:10.205Z"
   },
   {
    "duration": 37,
    "start_time": "2024-04-18T15:24:25.487Z"
   },
   {
    "duration": 99,
    "start_time": "2024-04-18T15:24:31.110Z"
   },
   {
    "duration": 70,
    "start_time": "2024-04-18T15:25:21.938Z"
   },
   {
    "duration": 26,
    "start_time": "2024-04-18T15:27:47.774Z"
   },
   {
    "duration": 27,
    "start_time": "2024-04-18T15:27:51.184Z"
   },
   {
    "duration": 17,
    "start_time": "2024-04-18T15:28:06.032Z"
   },
   {
    "duration": 13,
    "start_time": "2024-04-18T15:28:25.467Z"
   },
   {
    "duration": 10,
    "start_time": "2024-04-18T15:39:23.128Z"
   },
   {
    "duration": 12,
    "start_time": "2024-04-18T15:39:58.330Z"
   },
   {
    "duration": 11,
    "start_time": "2024-04-18T15:40:21.662Z"
   },
   {
    "duration": 29,
    "start_time": "2024-04-18T15:41:58.507Z"
   },
   {
    "duration": 11,
    "start_time": "2024-04-18T15:42:15.217Z"
   },
   {
    "duration": 15,
    "start_time": "2024-04-18T15:42:22.550Z"
   },
   {
    "duration": 12,
    "start_time": "2024-04-18T15:56:50.397Z"
   },
   {
    "duration": 12,
    "start_time": "2024-04-18T15:56:54.395Z"
   },
   {
    "duration": 11,
    "start_time": "2024-04-18T15:57:01.076Z"
   },
   {
    "duration": 13,
    "start_time": "2024-04-18T15:59:07.195Z"
   },
   {
    "duration": 11,
    "start_time": "2024-04-18T15:59:31.579Z"
   },
   {
    "duration": 12,
    "start_time": "2024-04-18T15:59:40.291Z"
   },
   {
    "duration": 12,
    "start_time": "2024-04-18T15:59:45.586Z"
   },
   {
    "duration": 13,
    "start_time": "2024-04-18T15:59:50.380Z"
   },
   {
    "duration": 13,
    "start_time": "2024-04-18T15:59:54.519Z"
   },
   {
    "duration": 15,
    "start_time": "2024-04-18T16:00:13.458Z"
   },
   {
    "duration": 12,
    "start_time": "2024-04-18T16:01:11.023Z"
   },
   {
    "duration": 157,
    "start_time": "2024-04-18T16:07:31.080Z"
   },
   {
    "duration": 271,
    "start_time": "2024-04-18T16:08:12.938Z"
   },
   {
    "duration": 18,
    "start_time": "2024-04-18T16:09:22.429Z"
   },
   {
    "duration": 16,
    "start_time": "2024-04-18T16:10:01.582Z"
   },
   {
    "duration": 49,
    "start_time": "2024-04-18T16:10:23.434Z"
   },
   {
    "duration": 8,
    "start_time": "2024-04-18T16:14:09.861Z"
   },
   {
    "duration": 4,
    "start_time": "2024-04-18T16:14:16.863Z"
   },
   {
    "duration": 16,
    "start_time": "2024-04-18T16:17:50.592Z"
   },
   {
    "duration": 15,
    "start_time": "2024-04-18T16:19:18.297Z"
   },
   {
    "duration": 14,
    "start_time": "2024-04-18T16:21:20.611Z"
   },
   {
    "duration": 16,
    "start_time": "2024-04-18T16:26:45.476Z"
   },
   {
    "duration": 58,
    "start_time": "2024-04-18T16:27:54.218Z"
   },
   {
    "duration": 14,
    "start_time": "2024-04-18T16:28:08.661Z"
   },
   {
    "duration": 15,
    "start_time": "2024-04-18T16:28:24.702Z"
   },
   {
    "duration": 17,
    "start_time": "2024-04-18T16:28:32.801Z"
   },
   {
    "duration": 17,
    "start_time": "2024-04-18T16:30:01.796Z"
   },
   {
    "duration": 16,
    "start_time": "2024-04-18T16:31:56.555Z"
   },
   {
    "duration": 4,
    "start_time": "2024-04-18T16:41:53.751Z"
   },
   {
    "duration": 53,
    "start_time": "2024-04-18T16:42:11.321Z"
   },
   {
    "duration": 81,
    "start_time": "2024-04-18T16:42:29.371Z"
   },
   {
    "duration": 66,
    "start_time": "2024-04-18T16:42:40.321Z"
   },
   {
    "duration": 4,
    "start_time": "2024-04-18T16:49:56.405Z"
   },
   {
    "duration": 3,
    "start_time": "2024-04-18T16:49:58.879Z"
   },
   {
    "duration": 85,
    "start_time": "2024-04-18T16:51:19.590Z"
   },
   {
    "duration": 56,
    "start_time": "2024-04-18T16:52:56.768Z"
   },
   {
    "duration": 73,
    "start_time": "2024-04-18T16:53:20.325Z"
   },
   {
    "duration": 73,
    "start_time": "2024-04-18T16:53:38.405Z"
   },
   {
    "duration": 56,
    "start_time": "2024-04-18T16:54:35.349Z"
   },
   {
    "duration": 8,
    "start_time": "2024-04-18T16:59:02.027Z"
   },
   {
    "duration": 15,
    "start_time": "2024-04-18T16:59:30.197Z"
   },
   {
    "duration": 75,
    "start_time": "2024-04-18T16:59:58.579Z"
   },
   {
    "duration": 59,
    "start_time": "2024-04-18T17:00:47.024Z"
   },
   {
    "duration": 73,
    "start_time": "2024-04-18T17:01:00.383Z"
   },
   {
    "duration": 15,
    "start_time": "2024-04-18T17:01:24.618Z"
   },
   {
    "duration": 68,
    "start_time": "2024-04-18T17:01:28.144Z"
   },
   {
    "duration": 12,
    "start_time": "2024-04-18T17:01:46.354Z"
   },
   {
    "duration": 141,
    "start_time": "2024-04-18T17:17:31.440Z"
   },
   {
    "duration": 151,
    "start_time": "2024-04-18T17:18:04.999Z"
   },
   {
    "duration": 163,
    "start_time": "2024-04-18T17:18:25.363Z"
   },
   {
    "duration": 157,
    "start_time": "2024-04-18T17:19:12.961Z"
   },
   {
    "duration": 154,
    "start_time": "2024-04-18T17:19:23.918Z"
   },
   {
    "duration": 179,
    "start_time": "2024-04-18T17:19:37.856Z"
   },
   {
    "duration": 206,
    "start_time": "2024-04-18T17:19:48.813Z"
   },
   {
    "duration": 268,
    "start_time": "2024-04-18T17:20:04.356Z"
   },
   {
    "duration": 191,
    "start_time": "2024-04-18T17:20:17.712Z"
   },
   {
    "duration": 189,
    "start_time": "2024-04-18T17:20:27.360Z"
   },
   {
    "duration": 155,
    "start_time": "2024-04-18T17:20:40.127Z"
   },
   {
    "duration": 265,
    "start_time": "2024-04-18T17:21:47.054Z"
   },
   {
    "duration": 287,
    "start_time": "2024-04-18T17:22:15.982Z"
   },
   {
    "duration": 28,
    "start_time": "2024-04-18T17:23:18.278Z"
   },
   {
    "duration": 176,
    "start_time": "2024-04-18T17:23:58.207Z"
   },
   {
    "duration": 171,
    "start_time": "2024-04-18T17:27:35.237Z"
   },
   {
    "duration": 170,
    "start_time": "2024-04-18T17:27:50.156Z"
   },
   {
    "duration": 167,
    "start_time": "2024-04-18T17:28:21.606Z"
   },
   {
    "duration": 176,
    "start_time": "2024-04-18T17:28:38.196Z"
   },
   {
    "duration": 178,
    "start_time": "2024-04-18T17:28:48.329Z"
   },
   {
    "duration": 61,
    "start_time": "2024-04-18T17:32:45.042Z"
   },
   {
    "duration": 23,
    "start_time": "2024-04-18T17:34:31.229Z"
   },
   {
    "duration": 19,
    "start_time": "2024-04-18T17:35:02.048Z"
   },
   {
    "duration": 19,
    "start_time": "2024-04-18T17:35:24.524Z"
   },
   {
    "duration": 22,
    "start_time": "2024-04-18T17:40:55.095Z"
   },
   {
    "duration": 15,
    "start_time": "2024-04-18T17:50:32.571Z"
   },
   {
    "duration": 523,
    "start_time": "2024-04-18T17:54:18.166Z"
   },
   {
    "duration": 83,
    "start_time": "2024-04-18T17:56:14.237Z"
   },
   {
    "duration": 82,
    "start_time": "2024-04-18T17:56:40.227Z"
   },
   {
    "duration": 20,
    "start_time": "2024-04-18T17:57:39.020Z"
   },
   {
    "duration": 15,
    "start_time": "2024-04-18T17:58:00.365Z"
   },
   {
    "duration": 16,
    "start_time": "2024-04-18T17:58:26.983Z"
   },
   {
    "duration": 16,
    "start_time": "2024-04-18T18:00:12.070Z"
   },
   {
    "duration": 16,
    "start_time": "2024-04-18T18:00:36.326Z"
   },
   {
    "duration": 15,
    "start_time": "2024-04-18T18:02:34.078Z"
   },
   {
    "duration": 21,
    "start_time": "2024-04-18T18:03:05.971Z"
   },
   {
    "duration": 16,
    "start_time": "2024-04-18T18:03:44.272Z"
   },
   {
    "duration": 806,
    "start_time": "2024-04-18T18:04:56.749Z"
   },
   {
    "duration": 17,
    "start_time": "2024-04-18T18:04:57.557Z"
   },
   {
    "duration": 2101,
    "start_time": "2024-04-18T18:04:57.575Z"
   },
   {
    "duration": 27,
    "start_time": "2024-04-18T18:04:59.678Z"
   },
   {
    "duration": 3,
    "start_time": "2024-04-18T18:04:59.707Z"
   },
   {
    "duration": 15,
    "start_time": "2024-04-18T18:04:59.711Z"
   },
   {
    "duration": 7,
    "start_time": "2024-04-18T18:04:59.727Z"
   },
   {
    "duration": 12,
    "start_time": "2024-04-18T18:04:59.735Z"
   },
   {
    "duration": 11,
    "start_time": "2024-04-18T18:04:59.748Z"
   },
   {
    "duration": 15,
    "start_time": "2024-04-18T18:04:59.760Z"
   },
   {
    "duration": 18,
    "start_time": "2024-04-18T18:04:59.782Z"
   },
   {
    "duration": 18,
    "start_time": "2024-04-18T18:04:59.802Z"
   },
   {
    "duration": 6,
    "start_time": "2024-04-18T18:04:59.821Z"
   },
   {
    "duration": 5,
    "start_time": "2024-04-18T18:04:59.830Z"
   },
   {
    "duration": 19,
    "start_time": "2024-04-18T18:04:59.837Z"
   },
   {
    "duration": 270,
    "start_time": "2024-04-18T18:04:59.858Z"
   },
   {
    "duration": 4,
    "start_time": "2024-04-18T18:05:00.130Z"
   },
   {
    "duration": 75,
    "start_time": "2024-04-18T18:05:00.135Z"
   },
   {
    "duration": 93,
    "start_time": "2024-04-18T18:05:00.212Z"
   },
   {
    "duration": 123,
    "start_time": "2024-04-18T18:05:00.307Z"
   },
   {
    "duration": 289,
    "start_time": "2024-04-18T18:05:00.432Z"
   },
   {
    "duration": 418,
    "start_time": "2024-04-18T18:05:00.723Z"
   },
   {
    "duration": 5,
    "start_time": "2024-04-18T18:05:01.143Z"
   },
   {
    "duration": 456,
    "start_time": "2024-04-18T18:05:01.150Z"
   },
   {
    "duration": 207,
    "start_time": "2024-04-18T18:05:01.608Z"
   },
   {
    "duration": 294,
    "start_time": "2024-04-18T18:05:01.817Z"
   },
   {
    "duration": 209,
    "start_time": "2024-04-18T18:05:02.113Z"
   },
   {
    "duration": 179,
    "start_time": "2024-04-18T18:05:02.324Z"
   },
   {
    "duration": 199,
    "start_time": "2024-04-18T18:05:02.504Z"
   },
   {
    "duration": 182,
    "start_time": "2024-04-18T18:05:02.705Z"
   },
   {
    "duration": 214,
    "start_time": "2024-04-18T18:05:02.889Z"
   },
   {
    "duration": 257,
    "start_time": "2024-04-18T18:05:03.105Z"
   },
   {
    "duration": 233,
    "start_time": "2024-04-18T18:05:03.364Z"
   },
   {
    "duration": 367,
    "start_time": "2024-04-18T18:05:03.600Z"
   },
   {
    "duration": 15,
    "start_time": "2024-04-18T18:05:03.969Z"
   },
   {
    "duration": 14,
    "start_time": "2024-04-18T18:05:03.986Z"
   },
   {
    "duration": 91,
    "start_time": "2024-04-18T18:05:04.002Z"
   },
   {
    "duration": 9,
    "start_time": "2024-04-18T18:05:04.095Z"
   },
   {
    "duration": 166,
    "start_time": "2024-04-18T18:05:04.105Z"
   },
   {
    "duration": 184,
    "start_time": "2024-04-18T18:05:04.273Z"
   },
   {
    "duration": 164,
    "start_time": "2024-04-18T18:05:04.461Z"
   },
   {
    "duration": 178,
    "start_time": "2024-04-18T18:05:04.627Z"
   },
   {
    "duration": 165,
    "start_time": "2024-04-18T18:05:04.806Z"
   },
   {
    "duration": 184,
    "start_time": "2024-04-18T18:05:04.972Z"
   },
   {
    "duration": 191,
    "start_time": "2024-04-18T18:05:05.157Z"
   },
   {
    "duration": 176,
    "start_time": "2024-04-18T18:05:05.350Z"
   },
   {
    "duration": 13,
    "start_time": "2024-04-18T18:05:05.528Z"
   },
   {
    "duration": 102,
    "start_time": "2024-04-18T18:05:05.542Z"
   },
   {
    "duration": 16,
    "start_time": "2024-04-18T18:08:51.711Z"
   },
   {
    "duration": 17,
    "start_time": "2024-04-18T18:11:14.498Z"
   },
   {
    "duration": 93,
    "start_time": "2024-04-18T18:12:00.324Z"
   },
   {
    "duration": 855,
    "start_time": "2024-04-18T18:12:14.217Z"
   },
   {
    "duration": 20,
    "start_time": "2024-04-18T18:12:45.133Z"
   },
   {
    "duration": 20,
    "start_time": "2024-04-18T18:14:37.600Z"
   },
   {
    "duration": 19,
    "start_time": "2024-04-18T18:14:39.735Z"
   },
   {
    "duration": 767,
    "start_time": "2024-04-18T18:14:46.075Z"
   },
   {
    "duration": 16,
    "start_time": "2024-04-18T18:14:46.844Z"
   },
   {
    "duration": 2079,
    "start_time": "2024-04-18T18:14:46.861Z"
   },
   {
    "duration": 26,
    "start_time": "2024-04-18T18:14:48.942Z"
   },
   {
    "duration": 4,
    "start_time": "2024-04-18T18:14:48.969Z"
   },
   {
    "duration": 19,
    "start_time": "2024-04-18T18:14:48.974Z"
   },
   {
    "duration": 8,
    "start_time": "2024-04-18T18:14:48.995Z"
   },
   {
    "duration": 8,
    "start_time": "2024-04-18T18:14:49.004Z"
   },
   {
    "duration": 4,
    "start_time": "2024-04-18T18:14:49.013Z"
   },
   {
    "duration": 26,
    "start_time": "2024-04-18T18:14:49.018Z"
   },
   {
    "duration": 7,
    "start_time": "2024-04-18T18:14:49.046Z"
   },
   {
    "duration": 13,
    "start_time": "2024-04-18T18:14:49.054Z"
   },
   {
    "duration": 5,
    "start_time": "2024-04-18T18:14:49.068Z"
   },
   {
    "duration": 9,
    "start_time": "2024-04-18T18:14:49.076Z"
   },
   {
    "duration": 18,
    "start_time": "2024-04-18T18:14:49.086Z"
   },
   {
    "duration": 263,
    "start_time": "2024-04-18T18:14:49.106Z"
   },
   {
    "duration": 4,
    "start_time": "2024-04-18T18:14:49.371Z"
   },
   {
    "duration": 4,
    "start_time": "2024-04-18T18:14:49.382Z"
   },
   {
    "duration": 17,
    "start_time": "2024-04-18T18:14:49.388Z"
   },
   {
    "duration": 5,
    "start_time": "2024-04-18T18:14:49.406Z"
   },
   {
    "duration": 24,
    "start_time": "2024-04-18T18:14:49.412Z"
   },
   {
    "duration": 347,
    "start_time": "2024-04-18T18:14:49.437Z"
   },
   {
    "duration": 4,
    "start_time": "2024-04-18T18:14:49.786Z"
   },
   {
    "duration": 212,
    "start_time": "2024-04-18T18:14:49.791Z"
   },
   {
    "duration": 194,
    "start_time": "2024-04-18T18:14:50.004Z"
   },
   {
    "duration": 285,
    "start_time": "2024-04-18T18:14:50.200Z"
   },
   {
    "duration": 206,
    "start_time": "2024-04-18T18:14:50.486Z"
   },
   {
    "duration": 192,
    "start_time": "2024-04-18T18:14:50.694Z"
   },
   {
    "duration": 158,
    "start_time": "2024-04-18T18:14:50.887Z"
   },
   {
    "duration": 184,
    "start_time": "2024-04-18T18:14:51.047Z"
   },
   {
    "duration": 212,
    "start_time": "2024-04-18T18:14:51.233Z"
   },
   {
    "duration": 241,
    "start_time": "2024-04-18T18:14:51.447Z"
   },
   {
    "duration": 231,
    "start_time": "2024-04-18T18:14:51.690Z"
   },
   {
    "duration": 351,
    "start_time": "2024-04-18T18:14:51.923Z"
   },
   {
    "duration": 13,
    "start_time": "2024-04-18T18:14:52.276Z"
   },
   {
    "duration": 49,
    "start_time": "2024-04-18T18:14:52.290Z"
   },
   {
    "duration": 70,
    "start_time": "2024-04-18T18:14:52.340Z"
   },
   {
    "duration": 7,
    "start_time": "2024-04-18T18:14:52.412Z"
   },
   {
    "duration": 204,
    "start_time": "2024-04-18T18:14:52.420Z"
   },
   {
    "duration": 184,
    "start_time": "2024-04-18T18:14:52.626Z"
   },
   {
    "duration": 170,
    "start_time": "2024-04-18T18:14:52.814Z"
   },
   {
    "duration": 190,
    "start_time": "2024-04-18T18:14:52.986Z"
   },
   {
    "duration": 166,
    "start_time": "2024-04-18T18:14:53.181Z"
   },
   {
    "duration": 203,
    "start_time": "2024-04-18T18:14:53.348Z"
   },
   {
    "duration": 186,
    "start_time": "2024-04-18T18:14:53.552Z"
   },
   {
    "duration": 216,
    "start_time": "2024-04-18T18:14:53.740Z"
   },
   {
    "duration": 101,
    "start_time": "2024-04-18T18:14:53.958Z"
   },
   {
    "duration": 15,
    "start_time": "2024-04-18T18:17:43.894Z"
   },
   {
    "duration": 17,
    "start_time": "2024-04-18T18:18:56.342Z"
   },
   {
    "duration": 9,
    "start_time": "2024-04-18T18:20:38.505Z"
   },
   {
    "duration": 14,
    "start_time": "2024-04-18T18:21:52.494Z"
   },
   {
    "duration": 19,
    "start_time": "2024-04-18T18:26:33.476Z"
   },
   {
    "duration": 15,
    "start_time": "2024-04-18T18:29:21.713Z"
   },
   {
    "duration": 11,
    "start_time": "2024-04-18T18:30:27.512Z"
   },
   {
    "duration": 10,
    "start_time": "2024-04-18T18:30:56.884Z"
   },
   {
    "duration": 15,
    "start_time": "2024-04-18T18:33:19.216Z"
   },
   {
    "duration": 16,
    "start_time": "2024-04-18T18:33:40.966Z"
   },
   {
    "duration": 14,
    "start_time": "2024-04-18T18:37:25.417Z"
   },
   {
    "duration": 11,
    "start_time": "2024-04-18T18:38:06.125Z"
   },
   {
    "duration": 11,
    "start_time": "2024-04-18T18:38:37.198Z"
   },
   {
    "duration": 16,
    "start_time": "2024-04-18T18:45:02.225Z"
   },
   {
    "duration": 13,
    "start_time": "2024-04-18T18:45:54.751Z"
   },
   {
    "duration": 14,
    "start_time": "2024-04-18T18:46:05.984Z"
   },
   {
    "duration": 27,
    "start_time": "2024-04-18T18:46:16.402Z"
   },
   {
    "duration": 29,
    "start_time": "2024-04-18T18:47:21.361Z"
   },
   {
    "duration": 27,
    "start_time": "2024-04-18T18:47:32.308Z"
   },
   {
    "duration": 28,
    "start_time": "2024-04-18T18:47:39.894Z"
   },
   {
    "duration": 30,
    "start_time": "2024-04-18T18:48:17.905Z"
   },
   {
    "duration": 31,
    "start_time": "2024-04-18T18:48:56.674Z"
   },
   {
    "duration": 30,
    "start_time": "2024-04-18T18:49:25.359Z"
   },
   {
    "duration": 26,
    "start_time": "2024-04-18T18:49:29.339Z"
   },
   {
    "duration": 28,
    "start_time": "2024-04-18T18:49:42.263Z"
   },
   {
    "duration": 211,
    "start_time": "2024-04-18T18:53:22.887Z"
   },
   {
    "duration": 294,
    "start_time": "2024-04-18T18:53:34.091Z"
   },
   {
    "duration": 201,
    "start_time": "2024-04-18T18:53:52.190Z"
   },
   {
    "duration": 206,
    "start_time": "2024-04-18T18:53:58.518Z"
   },
   {
    "duration": 204,
    "start_time": "2024-04-18T18:54:17.179Z"
   },
   {
    "duration": 198,
    "start_time": "2024-04-18T18:55:04.212Z"
   },
   {
    "duration": 202,
    "start_time": "2024-04-18T18:56:35.532Z"
   },
   {
    "duration": 191,
    "start_time": "2024-04-18T18:56:58.358Z"
   },
   {
    "duration": 170,
    "start_time": "2024-04-18T18:58:35.949Z"
   },
   {
    "duration": 200,
    "start_time": "2024-04-18T18:58:42.446Z"
   },
   {
    "duration": 670,
    "start_time": "2024-04-18T20:04:01.099Z"
   },
   {
    "duration": 13,
    "start_time": "2024-04-18T20:04:01.771Z"
   },
   {
    "duration": 1627,
    "start_time": "2024-04-18T20:04:01.786Z"
   },
   {
    "duration": 20,
    "start_time": "2024-04-18T20:04:03.414Z"
   },
   {
    "duration": 3,
    "start_time": "2024-04-18T20:04:03.436Z"
   },
   {
    "duration": 16,
    "start_time": "2024-04-18T20:04:03.440Z"
   },
   {
    "duration": 10,
    "start_time": "2024-04-18T20:04:03.457Z"
   },
   {
    "duration": 9,
    "start_time": "2024-04-18T20:04:03.468Z"
   },
   {
    "duration": 3,
    "start_time": "2024-04-18T20:04:03.478Z"
   },
   {
    "duration": 30,
    "start_time": "2024-04-18T20:04:03.482Z"
   },
   {
    "duration": 5,
    "start_time": "2024-04-18T20:04:03.513Z"
   },
   {
    "duration": 8,
    "start_time": "2024-04-18T20:04:03.519Z"
   },
   {
    "duration": 5,
    "start_time": "2024-04-18T20:04:03.528Z"
   },
   {
    "duration": 5,
    "start_time": "2024-04-18T20:04:03.535Z"
   },
   {
    "duration": 17,
    "start_time": "2024-04-18T20:04:03.541Z"
   },
   {
    "duration": 196,
    "start_time": "2024-04-18T20:04:03.560Z"
   },
   {
    "duration": 2,
    "start_time": "2024-04-18T20:04:03.758Z"
   },
   {
    "duration": 14,
    "start_time": "2024-04-18T20:04:03.762Z"
   },
   {
    "duration": 22,
    "start_time": "2024-04-18T20:04:03.778Z"
   },
   {
    "duration": 3,
    "start_time": "2024-04-18T20:04:03.801Z"
   },
   {
    "duration": 10,
    "start_time": "2024-04-18T20:04:03.806Z"
   },
   {
    "duration": 318,
    "start_time": "2024-04-18T20:04:03.818Z"
   },
   {
    "duration": 4,
    "start_time": "2024-04-18T20:04:04.137Z"
   },
   {
    "duration": 167,
    "start_time": "2024-04-18T20:04:04.142Z"
   },
   {
    "duration": 153,
    "start_time": "2024-04-18T20:04:04.310Z"
   },
   {
    "duration": 199,
    "start_time": "2024-04-18T20:04:04.465Z"
   },
   {
    "duration": 144,
    "start_time": "2024-04-18T20:04:04.665Z"
   },
   {
    "duration": 129,
    "start_time": "2024-04-18T20:04:04.810Z"
   },
   {
    "duration": 128,
    "start_time": "2024-04-18T20:04:04.940Z"
   },
   {
    "duration": 153,
    "start_time": "2024-04-18T20:04:05.069Z"
   },
   {
    "duration": 176,
    "start_time": "2024-04-18T20:04:05.223Z"
   },
   {
    "duration": 194,
    "start_time": "2024-04-18T20:04:05.401Z"
   },
   {
    "duration": 179,
    "start_time": "2024-04-18T20:04:05.596Z"
   },
   {
    "duration": 251,
    "start_time": "2024-04-18T20:04:05.776Z"
   },
   {
    "duration": 7,
    "start_time": "2024-04-18T20:04:06.028Z"
   },
   {
    "duration": 11,
    "start_time": "2024-04-18T20:04:06.036Z"
   },
   {
    "duration": 78,
    "start_time": "2024-04-18T20:04:06.048Z"
   },
   {
    "duration": 5,
    "start_time": "2024-04-18T20:04:06.128Z"
   },
   {
    "duration": 139,
    "start_time": "2024-04-18T20:04:06.135Z"
   },
   {
    "duration": 147,
    "start_time": "2024-04-18T20:04:06.275Z"
   },
   {
    "duration": 133,
    "start_time": "2024-04-18T20:04:06.426Z"
   },
   {
    "duration": 147,
    "start_time": "2024-04-18T20:04:06.560Z"
   },
   {
    "duration": 136,
    "start_time": "2024-04-18T20:04:06.708Z"
   },
   {
    "duration": 146,
    "start_time": "2024-04-18T20:04:06.846Z"
   },
   {
    "duration": 152,
    "start_time": "2024-04-18T20:04:06.993Z"
   },
   {
    "duration": 158,
    "start_time": "2024-04-18T20:04:07.147Z"
   },
   {
    "duration": 91,
    "start_time": "2024-04-18T20:04:07.306Z"
   },
   {
    "duration": 0,
    "start_time": "2024-04-18T20:04:07.399Z"
   },
   {
    "duration": 51,
    "start_time": "2024-04-19T09:23:05.727Z"
   },
   {
    "duration": 1042,
    "start_time": "2024-04-19T09:23:46.705Z"
   },
   {
    "duration": 16,
    "start_time": "2024-04-19T09:23:47.749Z"
   },
   {
    "duration": 1999,
    "start_time": "2024-04-19T09:23:47.767Z"
   },
   {
    "duration": 26,
    "start_time": "2024-04-19T09:23:49.768Z"
   },
   {
    "duration": 18,
    "start_time": "2024-04-19T09:23:49.796Z"
   },
   {
    "duration": 36,
    "start_time": "2024-04-19T09:23:49.815Z"
   },
   {
    "duration": 21,
    "start_time": "2024-04-19T09:23:49.852Z"
   },
   {
    "duration": 8,
    "start_time": "2024-04-19T09:23:49.876Z"
   },
   {
    "duration": 10,
    "start_time": "2024-04-19T09:23:49.885Z"
   },
   {
    "duration": 21,
    "start_time": "2024-04-19T09:23:49.897Z"
   },
   {
    "duration": 13,
    "start_time": "2024-04-19T09:23:49.920Z"
   },
   {
    "duration": 9,
    "start_time": "2024-04-19T09:23:49.935Z"
   },
   {
    "duration": 15,
    "start_time": "2024-04-19T09:23:49.946Z"
   },
   {
    "duration": 5,
    "start_time": "2024-04-19T09:23:49.964Z"
   },
   {
    "duration": 19,
    "start_time": "2024-04-19T09:23:49.970Z"
   },
   {
    "duration": 37,
    "start_time": "2024-04-19T09:23:49.991Z"
   },
   {
    "duration": 264,
    "start_time": "2024-04-19T09:23:50.030Z"
   },
   {
    "duration": 3,
    "start_time": "2024-04-19T09:23:50.296Z"
   },
   {
    "duration": 86,
    "start_time": "2024-04-19T09:23:50.301Z"
   },
   {
    "duration": 0,
    "start_time": "2024-04-19T09:23:50.389Z"
   },
   {
    "duration": 0,
    "start_time": "2024-04-19T09:23:50.390Z"
   },
   {
    "duration": 0,
    "start_time": "2024-04-19T09:23:50.391Z"
   },
   {
    "duration": 0,
    "start_time": "2024-04-19T09:23:50.393Z"
   },
   {
    "duration": 0,
    "start_time": "2024-04-19T09:23:50.394Z"
   },
   {
    "duration": 0,
    "start_time": "2024-04-19T09:23:50.395Z"
   },
   {
    "duration": 0,
    "start_time": "2024-04-19T09:23:50.396Z"
   },
   {
    "duration": 0,
    "start_time": "2024-04-19T09:23:50.397Z"
   },
   {
    "duration": 0,
    "start_time": "2024-04-19T09:23:50.398Z"
   },
   {
    "duration": 1,
    "start_time": "2024-04-19T09:23:50.399Z"
   },
   {
    "duration": 0,
    "start_time": "2024-04-19T09:23:50.401Z"
   },
   {
    "duration": 0,
    "start_time": "2024-04-19T09:23:50.402Z"
   },
   {
    "duration": 0,
    "start_time": "2024-04-19T09:23:50.403Z"
   },
   {
    "duration": 0,
    "start_time": "2024-04-19T09:23:50.404Z"
   },
   {
    "duration": 0,
    "start_time": "2024-04-19T09:23:50.406Z"
   },
   {
    "duration": 0,
    "start_time": "2024-04-19T09:23:50.407Z"
   },
   {
    "duration": 0,
    "start_time": "2024-04-19T09:23:50.408Z"
   },
   {
    "duration": 0,
    "start_time": "2024-04-19T09:23:50.409Z"
   },
   {
    "duration": 0,
    "start_time": "2024-04-19T09:23:50.410Z"
   },
   {
    "duration": 0,
    "start_time": "2024-04-19T09:23:50.411Z"
   },
   {
    "duration": 0,
    "start_time": "2024-04-19T09:23:50.413Z"
   },
   {
    "duration": 0,
    "start_time": "2024-04-19T09:23:50.413Z"
   },
   {
    "duration": 0,
    "start_time": "2024-04-19T09:23:50.461Z"
   },
   {
    "duration": 0,
    "start_time": "2024-04-19T09:23:50.462Z"
   },
   {
    "duration": 0,
    "start_time": "2024-04-19T09:23:50.463Z"
   },
   {
    "duration": 0,
    "start_time": "2024-04-19T09:23:50.464Z"
   },
   {
    "duration": 0,
    "start_time": "2024-04-19T09:23:50.465Z"
   },
   {
    "duration": 0,
    "start_time": "2024-04-19T09:23:50.467Z"
   },
   {
    "duration": 13,
    "start_time": "2024-04-19T09:24:38.820Z"
   },
   {
    "duration": 16,
    "start_time": "2024-04-19T09:25:16.779Z"
   },
   {
    "duration": 823,
    "start_time": "2024-04-19T09:25:31.648Z"
   },
   {
    "duration": 17,
    "start_time": "2024-04-19T09:25:32.474Z"
   },
   {
    "duration": 2114,
    "start_time": "2024-04-19T09:25:32.492Z"
   },
   {
    "duration": 26,
    "start_time": "2024-04-19T09:25:34.609Z"
   },
   {
    "duration": 4,
    "start_time": "2024-04-19T09:25:34.637Z"
   },
   {
    "duration": 14,
    "start_time": "2024-04-19T09:25:34.642Z"
   },
   {
    "duration": 23,
    "start_time": "2024-04-19T09:25:34.657Z"
   },
   {
    "duration": 30,
    "start_time": "2024-04-19T09:25:34.682Z"
   },
   {
    "duration": 17,
    "start_time": "2024-04-19T09:25:34.713Z"
   },
   {
    "duration": 22,
    "start_time": "2024-04-19T09:25:34.733Z"
   },
   {
    "duration": 15,
    "start_time": "2024-04-19T09:25:34.757Z"
   },
   {
    "duration": 22,
    "start_time": "2024-04-19T09:25:34.774Z"
   },
   {
    "duration": 30,
    "start_time": "2024-04-19T09:25:34.797Z"
   },
   {
    "duration": 3,
    "start_time": "2024-04-19T09:25:34.829Z"
   },
   {
    "duration": 15,
    "start_time": "2024-04-19T09:25:34.834Z"
   },
   {
    "duration": 17,
    "start_time": "2024-04-19T09:25:34.851Z"
   },
   {
    "duration": 255,
    "start_time": "2024-04-19T09:25:34.870Z"
   },
   {
    "duration": 3,
    "start_time": "2024-04-19T09:25:35.127Z"
   },
   {
    "duration": 99,
    "start_time": "2024-04-19T09:25:35.132Z"
   },
   {
    "duration": 0,
    "start_time": "2024-04-19T09:25:35.233Z"
   },
   {
    "duration": 0,
    "start_time": "2024-04-19T09:25:35.234Z"
   },
   {
    "duration": 0,
    "start_time": "2024-04-19T09:25:35.235Z"
   },
   {
    "duration": 1,
    "start_time": "2024-04-19T09:25:35.236Z"
   },
   {
    "duration": 0,
    "start_time": "2024-04-19T09:25:35.237Z"
   },
   {
    "duration": 0,
    "start_time": "2024-04-19T09:25:35.239Z"
   },
   {
    "duration": 0,
    "start_time": "2024-04-19T09:25:35.239Z"
   },
   {
    "duration": 0,
    "start_time": "2024-04-19T09:25:35.240Z"
   },
   {
    "duration": 0,
    "start_time": "2024-04-19T09:25:35.261Z"
   },
   {
    "duration": 0,
    "start_time": "2024-04-19T09:25:35.262Z"
   },
   {
    "duration": 0,
    "start_time": "2024-04-19T09:25:35.263Z"
   },
   {
    "duration": 0,
    "start_time": "2024-04-19T09:25:35.264Z"
   },
   {
    "duration": 0,
    "start_time": "2024-04-19T09:25:35.265Z"
   },
   {
    "duration": 0,
    "start_time": "2024-04-19T09:25:35.267Z"
   },
   {
    "duration": 0,
    "start_time": "2024-04-19T09:25:35.268Z"
   },
   {
    "duration": 0,
    "start_time": "2024-04-19T09:25:35.269Z"
   },
   {
    "duration": 0,
    "start_time": "2024-04-19T09:25:35.270Z"
   },
   {
    "duration": 0,
    "start_time": "2024-04-19T09:25:35.271Z"
   },
   {
    "duration": 0,
    "start_time": "2024-04-19T09:25:35.272Z"
   },
   {
    "duration": 0,
    "start_time": "2024-04-19T09:25:35.273Z"
   },
   {
    "duration": 0,
    "start_time": "2024-04-19T09:25:35.274Z"
   },
   {
    "duration": 0,
    "start_time": "2024-04-19T09:25:35.275Z"
   },
   {
    "duration": 0,
    "start_time": "2024-04-19T09:25:35.276Z"
   },
   {
    "duration": 0,
    "start_time": "2024-04-19T09:25:35.277Z"
   },
   {
    "duration": 0,
    "start_time": "2024-04-19T09:25:35.278Z"
   },
   {
    "duration": 0,
    "start_time": "2024-04-19T09:25:35.279Z"
   },
   {
    "duration": 0,
    "start_time": "2024-04-19T09:25:35.280Z"
   },
   {
    "duration": 0,
    "start_time": "2024-04-19T09:25:35.281Z"
   },
   {
    "duration": 6,
    "start_time": "2024-04-19T09:26:08.028Z"
   },
   {
    "duration": 6,
    "start_time": "2024-04-19T09:27:53.036Z"
   },
   {
    "duration": 8,
    "start_time": "2024-04-19T09:28:26.466Z"
   },
   {
    "duration": 6,
    "start_time": "2024-04-19T09:30:34.921Z"
   },
   {
    "duration": 12,
    "start_time": "2024-04-19T09:32:06.432Z"
   },
   {
    "duration": 6,
    "start_time": "2024-04-19T09:32:12.782Z"
   },
   {
    "duration": 6,
    "start_time": "2024-04-19T09:32:14.175Z"
   },
   {
    "duration": 60,
    "start_time": "2024-04-19T09:32:39.015Z"
   },
   {
    "duration": 6,
    "start_time": "2024-04-19T09:32:47.166Z"
   },
   {
    "duration": 6,
    "start_time": "2024-04-19T09:32:51.237Z"
   },
   {
    "duration": 8,
    "start_time": "2024-04-19T09:33:24.429Z"
   },
   {
    "duration": 8,
    "start_time": "2024-04-19T09:33:41.524Z"
   },
   {
    "duration": 6,
    "start_time": "2024-04-19T09:33:45.534Z"
   },
   {
    "duration": 24,
    "start_time": "2024-04-19T09:40:46.352Z"
   },
   {
    "duration": 33,
    "start_time": "2024-04-19T09:44:16.558Z"
   },
   {
    "duration": 785,
    "start_time": "2024-04-19T09:44:35.663Z"
   },
   {
    "duration": 20,
    "start_time": "2024-04-19T09:44:36.450Z"
   },
   {
    "duration": 1986,
    "start_time": "2024-04-19T09:44:36.472Z"
   },
   {
    "duration": 26,
    "start_time": "2024-04-19T09:44:38.460Z"
   },
   {
    "duration": 4,
    "start_time": "2024-04-19T09:44:38.489Z"
   },
   {
    "duration": 20,
    "start_time": "2024-04-19T09:44:38.495Z"
   },
   {
    "duration": 23,
    "start_time": "2024-04-19T09:44:38.516Z"
   },
   {
    "duration": 17,
    "start_time": "2024-04-19T09:44:38.541Z"
   },
   {
    "duration": 19,
    "start_time": "2024-04-19T09:44:38.559Z"
   },
   {
    "duration": 13,
    "start_time": "2024-04-19T09:44:38.580Z"
   },
   {
    "duration": 17,
    "start_time": "2024-04-19T09:44:38.595Z"
   },
   {
    "duration": 16,
    "start_time": "2024-04-19T09:44:38.614Z"
   },
   {
    "duration": 14,
    "start_time": "2024-04-19T09:44:38.631Z"
   },
   {
    "duration": 14,
    "start_time": "2024-04-19T09:44:38.649Z"
   },
   {
    "duration": 10,
    "start_time": "2024-04-19T09:44:38.664Z"
   },
   {
    "duration": 23,
    "start_time": "2024-04-19T09:44:38.676Z"
   },
   {
    "duration": 229,
    "start_time": "2024-04-19T09:44:38.700Z"
   },
   {
    "duration": 3,
    "start_time": "2024-04-19T09:44:38.931Z"
   },
   {
    "duration": 84,
    "start_time": "2024-04-19T09:44:38.935Z"
   },
   {
    "duration": 0,
    "start_time": "2024-04-19T09:44:39.021Z"
   },
   {
    "duration": 0,
    "start_time": "2024-04-19T09:44:39.022Z"
   },
   {
    "duration": 0,
    "start_time": "2024-04-19T09:44:39.023Z"
   },
   {
    "duration": 0,
    "start_time": "2024-04-19T09:44:39.024Z"
   },
   {
    "duration": 0,
    "start_time": "2024-04-19T09:44:39.025Z"
   },
   {
    "duration": 0,
    "start_time": "2024-04-19T09:44:39.026Z"
   },
   {
    "duration": 0,
    "start_time": "2024-04-19T09:44:39.027Z"
   },
   {
    "duration": 0,
    "start_time": "2024-04-19T09:44:39.028Z"
   },
   {
    "duration": 0,
    "start_time": "2024-04-19T09:44:39.029Z"
   },
   {
    "duration": 0,
    "start_time": "2024-04-19T09:44:39.030Z"
   },
   {
    "duration": 0,
    "start_time": "2024-04-19T09:44:39.031Z"
   },
   {
    "duration": 0,
    "start_time": "2024-04-19T09:44:39.032Z"
   },
   {
    "duration": 0,
    "start_time": "2024-04-19T09:44:39.033Z"
   },
   {
    "duration": 0,
    "start_time": "2024-04-19T09:44:39.034Z"
   },
   {
    "duration": 0,
    "start_time": "2024-04-19T09:44:39.035Z"
   },
   {
    "duration": 0,
    "start_time": "2024-04-19T09:44:39.036Z"
   },
   {
    "duration": 0,
    "start_time": "2024-04-19T09:44:39.037Z"
   },
   {
    "duration": 0,
    "start_time": "2024-04-19T09:44:39.061Z"
   },
   {
    "duration": 0,
    "start_time": "2024-04-19T09:44:39.062Z"
   },
   {
    "duration": 0,
    "start_time": "2024-04-19T09:44:39.063Z"
   },
   {
    "duration": 0,
    "start_time": "2024-04-19T09:44:39.064Z"
   },
   {
    "duration": 0,
    "start_time": "2024-04-19T09:44:39.065Z"
   },
   {
    "duration": 0,
    "start_time": "2024-04-19T09:44:39.066Z"
   },
   {
    "duration": 0,
    "start_time": "2024-04-19T09:44:39.067Z"
   },
   {
    "duration": 0,
    "start_time": "2024-04-19T09:44:39.068Z"
   },
   {
    "duration": 0,
    "start_time": "2024-04-19T09:44:39.068Z"
   },
   {
    "duration": 0,
    "start_time": "2024-04-19T09:44:39.070Z"
   },
   {
    "duration": 1,
    "start_time": "2024-04-19T09:44:39.070Z"
   },
   {
    "duration": 0,
    "start_time": "2024-04-19T09:44:39.071Z"
   },
   {
    "duration": 31,
    "start_time": "2024-04-19T09:45:13.476Z"
   },
   {
    "duration": 5,
    "start_time": "2024-04-19T09:45:47.411Z"
   },
   {
    "duration": 12,
    "start_time": "2024-04-19T09:45:48.548Z"
   },
   {
    "duration": 317,
    "start_time": "2024-04-19T09:45:49.235Z"
   },
   {
    "duration": 4,
    "start_time": "2024-04-19T09:45:52.020Z"
   },
   {
    "duration": 39,
    "start_time": "2024-04-19T09:45:55.353Z"
   },
   {
    "duration": 39,
    "start_time": "2024-04-19T09:46:23.163Z"
   },
   {
    "duration": 39,
    "start_time": "2024-04-19T09:46:41.040Z"
   },
   {
    "duration": 38,
    "start_time": "2024-04-19T09:46:53.028Z"
   },
   {
    "duration": 4,
    "start_time": "2024-04-19T09:49:22.261Z"
   },
   {
    "duration": 739,
    "start_time": "2024-04-19T09:50:08.587Z"
   },
   {
    "duration": 17,
    "start_time": "2024-04-19T09:50:09.328Z"
   },
   {
    "duration": 1904,
    "start_time": "2024-04-19T09:50:09.346Z"
   },
   {
    "duration": 27,
    "start_time": "2024-04-19T09:50:11.252Z"
   },
   {
    "duration": 7,
    "start_time": "2024-04-19T09:50:11.281Z"
   },
   {
    "duration": 49,
    "start_time": "2024-04-19T09:50:11.289Z"
   },
   {
    "duration": 33,
    "start_time": "2024-04-19T09:50:11.339Z"
   },
   {
    "duration": 15,
    "start_time": "2024-04-19T09:50:11.373Z"
   },
   {
    "duration": 41,
    "start_time": "2024-04-19T09:50:11.389Z"
   },
   {
    "duration": 8,
    "start_time": "2024-04-19T09:50:11.431Z"
   },
   {
    "duration": 15,
    "start_time": "2024-04-19T09:50:11.440Z"
   },
   {
    "duration": 15,
    "start_time": "2024-04-19T09:50:11.456Z"
   },
   {
    "duration": 9,
    "start_time": "2024-04-19T09:50:11.473Z"
   },
   {
    "duration": 9,
    "start_time": "2024-04-19T09:50:11.486Z"
   },
   {
    "duration": 10,
    "start_time": "2024-04-19T09:50:11.496Z"
   },
   {
    "duration": 28,
    "start_time": "2024-04-19T09:50:11.507Z"
   },
   {
    "duration": 238,
    "start_time": "2024-04-19T09:50:11.537Z"
   },
   {
    "duration": 3,
    "start_time": "2024-04-19T09:50:11.778Z"
   },
   {
    "duration": 87,
    "start_time": "2024-04-19T09:50:11.783Z"
   },
   {
    "duration": 0,
    "start_time": "2024-04-19T09:50:11.872Z"
   },
   {
    "duration": 0,
    "start_time": "2024-04-19T09:50:11.874Z"
   },
   {
    "duration": 0,
    "start_time": "2024-04-19T09:50:11.875Z"
   },
   {
    "duration": 0,
    "start_time": "2024-04-19T09:50:11.876Z"
   },
   {
    "duration": 0,
    "start_time": "2024-04-19T09:50:11.877Z"
   },
   {
    "duration": 0,
    "start_time": "2024-04-19T09:50:11.878Z"
   },
   {
    "duration": 0,
    "start_time": "2024-04-19T09:50:11.879Z"
   },
   {
    "duration": 0,
    "start_time": "2024-04-19T09:50:11.880Z"
   },
   {
    "duration": 0,
    "start_time": "2024-04-19T09:50:11.881Z"
   },
   {
    "duration": 0,
    "start_time": "2024-04-19T09:50:11.882Z"
   },
   {
    "duration": 0,
    "start_time": "2024-04-19T09:50:11.883Z"
   },
   {
    "duration": 0,
    "start_time": "2024-04-19T09:50:11.885Z"
   },
   {
    "duration": 0,
    "start_time": "2024-04-19T09:50:11.886Z"
   },
   {
    "duration": 0,
    "start_time": "2024-04-19T09:50:11.887Z"
   },
   {
    "duration": 0,
    "start_time": "2024-04-19T09:50:11.888Z"
   },
   {
    "duration": 0,
    "start_time": "2024-04-19T09:50:11.889Z"
   },
   {
    "duration": 0,
    "start_time": "2024-04-19T09:50:11.890Z"
   },
   {
    "duration": 0,
    "start_time": "2024-04-19T09:50:11.891Z"
   },
   {
    "duration": 0,
    "start_time": "2024-04-19T09:50:11.892Z"
   },
   {
    "duration": 0,
    "start_time": "2024-04-19T09:50:11.893Z"
   },
   {
    "duration": 0,
    "start_time": "2024-04-19T09:50:11.894Z"
   },
   {
    "duration": 0,
    "start_time": "2024-04-19T09:50:11.895Z"
   },
   {
    "duration": 0,
    "start_time": "2024-04-19T09:50:11.896Z"
   },
   {
    "duration": 0,
    "start_time": "2024-04-19T09:50:11.897Z"
   },
   {
    "duration": 0,
    "start_time": "2024-04-19T09:50:11.898Z"
   },
   {
    "duration": 0,
    "start_time": "2024-04-19T09:50:11.899Z"
   },
   {
    "duration": 0,
    "start_time": "2024-04-19T09:50:11.900Z"
   },
   {
    "duration": 0,
    "start_time": "2024-04-19T09:50:11.901Z"
   },
   {
    "duration": 0,
    "start_time": "2024-04-19T09:50:11.902Z"
   },
   {
    "duration": 0,
    "start_time": "2024-04-19T09:50:11.903Z"
   },
   {
    "duration": 32,
    "start_time": "2024-04-19T09:50:34.277Z"
   },
   {
    "duration": 113,
    "start_time": "2024-04-19T09:50:56.466Z"
   },
   {
    "duration": 21,
    "start_time": "2024-04-19T09:50:57.845Z"
   },
   {
    "duration": 1966,
    "start_time": "2024-04-19T09:50:58.485Z"
   },
   {
    "duration": 37,
    "start_time": "2024-04-19T09:51:00.453Z"
   },
   {
    "duration": 3,
    "start_time": "2024-04-19T09:51:01.932Z"
   },
   {
    "duration": 8,
    "start_time": "2024-04-19T09:51:03.085Z"
   },
   {
    "duration": 6,
    "start_time": "2024-04-19T09:51:05.932Z"
   },
   {
    "duration": 6,
    "start_time": "2024-04-19T09:51:07.766Z"
   },
   {
    "duration": 4,
    "start_time": "2024-04-19T09:51:09.181Z"
   },
   {
    "duration": 6,
    "start_time": "2024-04-19T09:51:11.133Z"
   },
   {
    "duration": 5,
    "start_time": "2024-04-19T09:51:12.206Z"
   },
   {
    "duration": 6,
    "start_time": "2024-04-19T09:51:13.541Z"
   },
   {
    "duration": 6,
    "start_time": "2024-04-19T09:51:14.061Z"
   },
   {
    "duration": 4,
    "start_time": "2024-04-19T09:51:15.502Z"
   },
   {
    "duration": 6,
    "start_time": "2024-04-19T09:51:16.229Z"
   },
   {
    "duration": 19,
    "start_time": "2024-04-19T09:51:17.797Z"
   },
   {
    "duration": 248,
    "start_time": "2024-04-19T09:51:18.733Z"
   },
   {
    "duration": 4,
    "start_time": "2024-04-19T09:51:20.941Z"
   },
   {
    "duration": 14,
    "start_time": "2024-04-19T09:51:24.081Z"
   },
   {
    "duration": 12,
    "start_time": "2024-04-19T09:51:36.967Z"
   },
   {
    "duration": 13,
    "start_time": "2024-04-19T09:51:48.022Z"
   },
   {
    "duration": 15,
    "start_time": "2024-04-19T09:51:56.886Z"
   },
   {
    "duration": 5,
    "start_time": "2024-04-19T09:51:59.676Z"
   },
   {
    "duration": 12,
    "start_time": "2024-04-19T09:52:00.205Z"
   },
   {
    "duration": 323,
    "start_time": "2024-04-19T09:52:00.917Z"
   },
   {
    "duration": 4,
    "start_time": "2024-04-19T09:52:01.486Z"
   },
   {
    "duration": 38,
    "start_time": "2024-04-19T09:52:02.490Z"
   },
   {
    "duration": 4,
    "start_time": "2024-04-19T09:52:54.748Z"
   },
   {
    "duration": 3,
    "start_time": "2024-04-19T09:53:11.700Z"
   },
   {
    "duration": 4,
    "start_time": "2024-04-19T09:54:21.765Z"
   },
   {
    "duration": 726,
    "start_time": "2024-04-19T09:56:09.799Z"
   },
   {
    "duration": 4,
    "start_time": "2024-04-19T09:56:10.528Z"
   },
   {
    "duration": 36,
    "start_time": "2024-04-19T09:56:10.534Z"
   },
   {
    "duration": 1911,
    "start_time": "2024-04-19T09:56:10.571Z"
   },
   {
    "duration": 26,
    "start_time": "2024-04-19T09:56:12.485Z"
   },
   {
    "duration": 35,
    "start_time": "2024-04-19T09:56:12.513Z"
   },
   {
    "duration": 41,
    "start_time": "2024-04-19T09:56:12.549Z"
   },
   {
    "duration": 28,
    "start_time": "2024-04-19T09:56:12.592Z"
   },
   {
    "duration": 36,
    "start_time": "2024-04-19T09:56:12.622Z"
   },
   {
    "duration": 31,
    "start_time": "2024-04-19T09:56:12.660Z"
   },
   {
    "duration": 13,
    "start_time": "2024-04-19T09:56:12.693Z"
   },
   {
    "duration": 9,
    "start_time": "2024-04-19T09:56:12.708Z"
   },
   {
    "duration": 11,
    "start_time": "2024-04-19T09:56:12.718Z"
   },
   {
    "duration": 13,
    "start_time": "2024-04-19T09:56:12.732Z"
   },
   {
    "duration": 9,
    "start_time": "2024-04-19T09:56:12.747Z"
   },
   {
    "duration": 12,
    "start_time": "2024-04-19T09:56:12.757Z"
   },
   {
    "duration": 31,
    "start_time": "2024-04-19T09:56:12.770Z"
   },
   {
    "duration": 222,
    "start_time": "2024-04-19T09:56:12.802Z"
   },
   {
    "duration": 4,
    "start_time": "2024-04-19T09:56:13.026Z"
   },
   {
    "duration": 40,
    "start_time": "2024-04-19T09:56:13.032Z"
   },
   {
    "duration": 17,
    "start_time": "2024-04-19T09:56:13.074Z"
   },
   {
    "duration": 53,
    "start_time": "2024-04-19T09:56:13.092Z"
   },
   {
    "duration": 319,
    "start_time": "2024-04-19T09:56:13.147Z"
   },
   {
    "duration": 5,
    "start_time": "2024-04-19T09:56:13.467Z"
   },
   {
    "duration": 51,
    "start_time": "2024-04-19T09:56:13.474Z"
   },
   {
    "duration": 195,
    "start_time": "2024-04-19T09:56:13.527Z"
   },
   {
    "duration": 188,
    "start_time": "2024-04-19T09:56:13.724Z"
   },
   {
    "duration": 270,
    "start_time": "2024-04-19T09:56:13.914Z"
   },
   {
    "duration": 183,
    "start_time": "2024-04-19T09:56:14.185Z"
   },
   {
    "duration": 192,
    "start_time": "2024-04-19T09:56:14.369Z"
   },
   {
    "duration": 165,
    "start_time": "2024-04-19T09:56:14.563Z"
   },
   {
    "duration": 184,
    "start_time": "2024-04-19T09:56:14.730Z"
   },
   {
    "duration": 195,
    "start_time": "2024-04-19T09:56:14.916Z"
   },
   {
    "duration": 236,
    "start_time": "2024-04-19T09:56:15.113Z"
   },
   {
    "duration": 213,
    "start_time": "2024-04-19T09:56:15.350Z"
   },
   {
    "duration": 4,
    "start_time": "2024-04-19T09:56:15.564Z"
   },
   {
    "duration": 369,
    "start_time": "2024-04-19T09:56:15.569Z"
   },
   {
    "duration": 8,
    "start_time": "2024-04-19T09:56:15.940Z"
   },
   {
    "duration": 43,
    "start_time": "2024-04-19T09:56:15.950Z"
   },
   {
    "duration": 23,
    "start_time": "2024-04-19T09:56:15.994Z"
   },
   {
    "duration": 177,
    "start_time": "2024-04-19T09:56:16.021Z"
   },
   {
    "duration": 173,
    "start_time": "2024-04-19T09:56:16.205Z"
   },
   {
    "duration": 163,
    "start_time": "2024-04-19T09:56:16.379Z"
   },
   {
    "duration": 158,
    "start_time": "2024-04-19T09:56:16.544Z"
   },
   {
    "duration": 165,
    "start_time": "2024-04-19T09:56:16.704Z"
   },
   {
    "duration": 191,
    "start_time": "2024-04-19T09:56:16.870Z"
   },
   {
    "duration": 195,
    "start_time": "2024-04-19T09:56:17.062Z"
   },
   {
    "duration": 173,
    "start_time": "2024-04-19T09:56:17.259Z"
   },
   {
    "duration": 88,
    "start_time": "2024-04-19T09:56:17.433Z"
   },
   {
    "duration": 0,
    "start_time": "2024-04-19T09:56:17.523Z"
   },
   {
    "duration": 4,
    "start_time": "2024-04-19T09:57:17.418Z"
   },
   {
    "duration": 5,
    "start_time": "2024-04-19T09:58:51.898Z"
   },
   {
    "duration": 3,
    "start_time": "2024-04-19T09:59:20.426Z"
   },
   {
    "duration": 772,
    "start_time": "2024-04-19T09:59:27.752Z"
   },
   {
    "duration": 2,
    "start_time": "2024-04-19T09:59:28.526Z"
   },
   {
    "duration": 18,
    "start_time": "2024-04-19T09:59:28.530Z"
   },
   {
    "duration": 1985,
    "start_time": "2024-04-19T09:59:28.549Z"
   },
   {
    "duration": 24,
    "start_time": "2024-04-19T09:59:30.536Z"
   },
   {
    "duration": 52,
    "start_time": "2024-04-19T09:59:30.561Z"
   },
   {
    "duration": 57,
    "start_time": "2024-04-19T09:59:30.615Z"
   },
   {
    "duration": 81,
    "start_time": "2024-04-19T09:59:30.674Z"
   },
   {
    "duration": 82,
    "start_time": "2024-04-19T09:59:30.756Z"
   },
   {
    "duration": 52,
    "start_time": "2024-04-19T09:59:30.840Z"
   },
   {
    "duration": 81,
    "start_time": "2024-04-19T09:59:30.894Z"
   },
   {
    "duration": 54,
    "start_time": "2024-04-19T09:59:30.977Z"
   },
   {
    "duration": 73,
    "start_time": "2024-04-19T09:59:31.033Z"
   },
   {
    "duration": 29,
    "start_time": "2024-04-19T09:59:31.109Z"
   },
   {
    "duration": 71,
    "start_time": "2024-04-19T09:59:31.140Z"
   },
   {
    "duration": 43,
    "start_time": "2024-04-19T09:59:31.212Z"
   },
   {
    "duration": 102,
    "start_time": "2024-04-19T09:59:31.256Z"
   },
   {
    "duration": 293,
    "start_time": "2024-04-19T09:59:31.360Z"
   },
   {
    "duration": 7,
    "start_time": "2024-04-19T09:59:31.655Z"
   },
   {
    "duration": 89,
    "start_time": "2024-04-19T09:59:31.663Z"
   },
   {
    "duration": 40,
    "start_time": "2024-04-19T09:59:31.754Z"
   },
   {
    "duration": 170,
    "start_time": "2024-04-19T09:59:31.796Z"
   },
   {
    "duration": 406,
    "start_time": "2024-04-19T09:59:31.968Z"
   },
   {
    "duration": 4,
    "start_time": "2024-04-19T09:59:32.376Z"
   },
   {
    "duration": 58,
    "start_time": "2024-04-19T09:59:32.382Z"
   },
   {
    "duration": 205,
    "start_time": "2024-04-19T09:59:32.442Z"
   },
   {
    "duration": 191,
    "start_time": "2024-04-19T09:59:32.648Z"
   },
   {
    "duration": 269,
    "start_time": "2024-04-19T09:59:32.841Z"
   },
   {
    "duration": 202,
    "start_time": "2024-04-19T09:59:33.111Z"
   },
   {
    "duration": 156,
    "start_time": "2024-04-19T09:59:33.315Z"
   },
   {
    "duration": 151,
    "start_time": "2024-04-19T09:59:33.473Z"
   },
   {
    "duration": 177,
    "start_time": "2024-04-19T09:59:33.625Z"
   },
   {
    "duration": 205,
    "start_time": "2024-04-19T09:59:33.804Z"
   },
   {
    "duration": 256,
    "start_time": "2024-04-19T09:59:34.011Z"
   },
   {
    "duration": 214,
    "start_time": "2024-04-19T09:59:34.268Z"
   },
   {
    "duration": 3,
    "start_time": "2024-04-19T09:59:34.483Z"
   },
   {
    "duration": 54,
    "start_time": "2024-04-19T09:59:34.487Z"
   },
   {
    "duration": 328,
    "start_time": "2024-04-19T09:59:34.543Z"
   },
   {
    "duration": 8,
    "start_time": "2024-04-19T09:59:34.873Z"
   },
   {
    "duration": 17,
    "start_time": "2024-04-19T09:59:34.882Z"
   },
   {
    "duration": 8,
    "start_time": "2024-04-19T09:59:34.902Z"
   },
   {
    "duration": 164,
    "start_time": "2024-04-19T09:59:34.911Z"
   },
   {
    "duration": 168,
    "start_time": "2024-04-19T09:59:35.077Z"
   },
   {
    "duration": 157,
    "start_time": "2024-04-19T09:59:35.247Z"
   },
   {
    "duration": 166,
    "start_time": "2024-04-19T09:59:35.406Z"
   },
   {
    "duration": 171,
    "start_time": "2024-04-19T09:59:35.574Z"
   },
   {
    "duration": 185,
    "start_time": "2024-04-19T09:59:35.747Z"
   },
   {
    "duration": 184,
    "start_time": "2024-04-19T09:59:35.934Z"
   },
   {
    "duration": 172,
    "start_time": "2024-04-19T09:59:36.120Z"
   },
   {
    "duration": 86,
    "start_time": "2024-04-19T09:59:36.294Z"
   },
   {
    "duration": 0,
    "start_time": "2024-04-19T09:59:36.382Z"
   },
   {
    "duration": 75,
    "start_time": "2024-04-19T10:02:22.495Z"
   },
   {
    "duration": 3,
    "start_time": "2024-04-19T10:02:36.278Z"
   },
   {
    "duration": 158,
    "start_time": "2024-04-19T10:24:44.527Z"
   },
   {
    "duration": 161,
    "start_time": "2024-04-19T10:25:28.641Z"
   },
   {
    "duration": 274,
    "start_time": "2024-04-19T10:27:09.559Z"
   },
   {
    "duration": 226,
    "start_time": "2024-04-19T10:28:30.742Z"
   },
   {
    "duration": 185,
    "start_time": "2024-04-19T10:28:41.580Z"
   },
   {
    "duration": 150,
    "start_time": "2024-04-19T10:29:55.124Z"
   },
   {
    "duration": 79,
    "start_time": "2024-04-19T10:41:02.774Z"
   },
   {
    "duration": 154,
    "start_time": "2024-04-19T10:41:16.143Z"
   },
   {
    "duration": 950,
    "start_time": "2024-04-19T10:42:31.040Z"
   },
   {
    "duration": 12,
    "start_time": "2024-04-19T10:45:45.940Z"
   },
   {
    "duration": 183,
    "start_time": "2024-04-19T10:46:02.997Z"
   },
   {
    "duration": 465,
    "start_time": "2024-04-19T10:47:22.419Z"
   },
   {
    "duration": 28,
    "start_time": "2024-04-19T10:52:34.080Z"
   },
   {
    "duration": 733,
    "start_time": "2024-04-19T10:53:15.962Z"
   },
   {
    "duration": 3,
    "start_time": "2024-04-19T10:53:16.696Z"
   },
   {
    "duration": 49,
    "start_time": "2024-04-19T10:53:16.700Z"
   },
   {
    "duration": 1946,
    "start_time": "2024-04-19T10:53:16.752Z"
   },
   {
    "duration": 24,
    "start_time": "2024-04-19T10:53:18.700Z"
   },
   {
    "duration": 3,
    "start_time": "2024-04-19T10:53:18.726Z"
   },
   {
    "duration": 11,
    "start_time": "2024-04-19T10:53:18.730Z"
   },
   {
    "duration": 18,
    "start_time": "2024-04-19T10:53:18.743Z"
   },
   {
    "duration": 7,
    "start_time": "2024-04-19T10:53:18.763Z"
   },
   {
    "duration": 10,
    "start_time": "2024-04-19T10:53:18.773Z"
   },
   {
    "duration": 9,
    "start_time": "2024-04-19T10:53:18.785Z"
   },
   {
    "duration": 10,
    "start_time": "2024-04-19T10:53:18.796Z"
   },
   {
    "duration": 9,
    "start_time": "2024-04-19T10:53:18.807Z"
   },
   {
    "duration": 10,
    "start_time": "2024-04-19T10:53:18.818Z"
   },
   {
    "duration": 21,
    "start_time": "2024-04-19T10:53:18.830Z"
   },
   {
    "duration": 12,
    "start_time": "2024-04-19T10:53:18.853Z"
   },
   {
    "duration": 31,
    "start_time": "2024-04-19T10:53:18.866Z"
   },
   {
    "duration": 34,
    "start_time": "2024-04-19T10:53:18.898Z"
   },
   {
    "duration": 257,
    "start_time": "2024-04-19T10:53:18.934Z"
   },
   {
    "duration": 3,
    "start_time": "2024-04-19T10:53:19.193Z"
   },
   {
    "duration": 6,
    "start_time": "2024-04-19T10:53:19.198Z"
   },
   {
    "duration": 22,
    "start_time": "2024-04-19T10:53:19.205Z"
   },
   {
    "duration": 5,
    "start_time": "2024-04-19T10:53:19.228Z"
   },
   {
    "duration": 28,
    "start_time": "2024-04-19T10:53:19.234Z"
   },
   {
    "duration": 324,
    "start_time": "2024-04-19T10:53:19.264Z"
   },
   {
    "duration": 5,
    "start_time": "2024-04-19T10:53:19.589Z"
   },
   {
    "duration": 98,
    "start_time": "2024-04-19T10:53:19.595Z"
   },
   {
    "duration": 197,
    "start_time": "2024-04-19T10:53:19.696Z"
   },
   {
    "duration": 202,
    "start_time": "2024-04-19T10:53:19.895Z"
   },
   {
    "duration": 270,
    "start_time": "2024-04-19T10:53:20.098Z"
   },
   {
    "duration": 180,
    "start_time": "2024-04-19T10:53:20.370Z"
   },
   {
    "duration": 173,
    "start_time": "2024-04-19T10:53:20.552Z"
   },
   {
    "duration": 164,
    "start_time": "2024-04-19T10:53:20.727Z"
   },
   {
    "duration": 184,
    "start_time": "2024-04-19T10:53:20.892Z"
   },
   {
    "duration": 198,
    "start_time": "2024-04-19T10:53:21.078Z"
   },
   {
    "duration": 230,
    "start_time": "2024-04-19T10:53:21.278Z"
   },
   {
    "duration": 216,
    "start_time": "2024-04-19T10:53:21.510Z"
   },
   {
    "duration": 2,
    "start_time": "2024-04-19T10:53:21.728Z"
   },
   {
    "duration": 13,
    "start_time": "2024-04-19T10:53:21.732Z"
   },
   {
    "duration": 371,
    "start_time": "2024-04-19T10:53:21.746Z"
   },
   {
    "duration": 11,
    "start_time": "2024-04-19T10:53:22.119Z"
   },
   {
    "duration": 19,
    "start_time": "2024-04-19T10:53:22.132Z"
   },
   {
    "duration": 17,
    "start_time": "2024-04-19T10:53:22.152Z"
   },
   {
    "duration": 34,
    "start_time": "2024-04-19T10:53:22.171Z"
   },
   {
    "duration": 191,
    "start_time": "2024-04-19T10:53:22.207Z"
   },
   {
    "duration": 175,
    "start_time": "2024-04-19T10:53:22.400Z"
   },
   {
    "duration": 170,
    "start_time": "2024-04-19T10:53:22.577Z"
   },
   {
    "duration": 168,
    "start_time": "2024-04-19T10:53:22.749Z"
   },
   {
    "duration": 164,
    "start_time": "2024-04-19T10:53:22.919Z"
   },
   {
    "duration": 182,
    "start_time": "2024-04-19T10:53:23.085Z"
   },
   {
    "duration": 176,
    "start_time": "2024-04-19T10:53:23.269Z"
   },
   {
    "duration": 168,
    "start_time": "2024-04-19T10:53:23.447Z"
   },
   {
    "duration": 165,
    "start_time": "2024-04-19T10:53:23.616Z"
   },
   {
    "duration": 29,
    "start_time": "2024-04-19T10:53:23.782Z"
   },
   {
    "duration": 198,
    "start_time": "2024-04-19T10:53:23.812Z"
   },
   {
    "duration": 625,
    "start_time": "2024-04-19T21:54:32.323Z"
   },
   {
    "duration": 45,
    "start_time": "2024-04-19T21:55:18.145Z"
   },
   {
    "duration": 1147,
    "start_time": "2024-04-19T21:55:28.111Z"
   },
   {
    "duration": 3,
    "start_time": "2024-04-19T21:55:29.260Z"
   },
   {
    "duration": 28,
    "start_time": "2024-04-19T21:55:29.265Z"
   },
   {
    "duration": 1986,
    "start_time": "2024-04-19T21:55:29.295Z"
   },
   {
    "duration": 35,
    "start_time": "2024-04-19T21:55:31.285Z"
   },
   {
    "duration": 22,
    "start_time": "2024-04-19T21:55:31.322Z"
   },
   {
    "duration": 66,
    "start_time": "2024-04-19T21:55:31.346Z"
   },
   {
    "duration": 32,
    "start_time": "2024-04-19T21:55:31.413Z"
   },
   {
    "duration": 27,
    "start_time": "2024-04-19T21:55:31.447Z"
   },
   {
    "duration": 19,
    "start_time": "2024-04-19T21:55:31.476Z"
   },
   {
    "duration": 21,
    "start_time": "2024-04-19T21:55:31.497Z"
   },
   {
    "duration": 21,
    "start_time": "2024-04-19T21:55:31.520Z"
   },
   {
    "duration": 24,
    "start_time": "2024-04-19T21:55:31.543Z"
   },
   {
    "duration": 33,
    "start_time": "2024-04-19T21:55:31.570Z"
   },
   {
    "duration": 13,
    "start_time": "2024-04-19T21:55:31.605Z"
   },
   {
    "duration": 36,
    "start_time": "2024-04-19T21:55:31.620Z"
   },
   {
    "duration": 15,
    "start_time": "2024-04-19T21:55:31.658Z"
   },
   {
    "duration": 87,
    "start_time": "2024-04-19T21:55:31.675Z"
   },
   {
    "duration": 230,
    "start_time": "2024-04-19T21:55:31.764Z"
   },
   {
    "duration": 3,
    "start_time": "2024-04-19T21:55:31.996Z"
   },
   {
    "duration": 104,
    "start_time": "2024-04-19T21:55:32.000Z"
   },
   {
    "duration": 0,
    "start_time": "2024-04-19T21:55:32.106Z"
   },
   {
    "duration": 0,
    "start_time": "2024-04-19T21:55:32.108Z"
   },
   {
    "duration": 0,
    "start_time": "2024-04-19T21:55:32.109Z"
   },
   {
    "duration": 0,
    "start_time": "2024-04-19T21:55:32.111Z"
   },
   {
    "duration": 0,
    "start_time": "2024-04-19T21:55:32.112Z"
   },
   {
    "duration": 0,
    "start_time": "2024-04-19T21:55:32.113Z"
   },
   {
    "duration": 0,
    "start_time": "2024-04-19T21:55:32.114Z"
   },
   {
    "duration": 0,
    "start_time": "2024-04-19T21:55:32.115Z"
   },
   {
    "duration": 0,
    "start_time": "2024-04-19T21:55:32.117Z"
   },
   {
    "duration": 0,
    "start_time": "2024-04-19T21:55:32.118Z"
   },
   {
    "duration": 0,
    "start_time": "2024-04-19T21:55:32.119Z"
   },
   {
    "duration": 0,
    "start_time": "2024-04-19T21:55:32.120Z"
   },
   {
    "duration": 0,
    "start_time": "2024-04-19T21:55:32.122Z"
   },
   {
    "duration": 0,
    "start_time": "2024-04-19T21:55:32.123Z"
   },
   {
    "duration": 0,
    "start_time": "2024-04-19T21:55:32.124Z"
   },
   {
    "duration": 0,
    "start_time": "2024-04-19T21:55:32.125Z"
   },
   {
    "duration": 0,
    "start_time": "2024-04-19T21:55:32.126Z"
   },
   {
    "duration": 0,
    "start_time": "2024-04-19T21:55:32.127Z"
   },
   {
    "duration": 0,
    "start_time": "2024-04-19T21:55:32.128Z"
   },
   {
    "duration": 0,
    "start_time": "2024-04-19T21:55:32.130Z"
   },
   {
    "duration": 0,
    "start_time": "2024-04-19T21:55:32.131Z"
   },
   {
    "duration": 0,
    "start_time": "2024-04-19T21:55:32.132Z"
   },
   {
    "duration": 0,
    "start_time": "2024-04-19T21:55:32.133Z"
   },
   {
    "duration": 0,
    "start_time": "2024-04-19T21:55:32.180Z"
   },
   {
    "duration": 0,
    "start_time": "2024-04-19T21:55:32.181Z"
   },
   {
    "duration": 0,
    "start_time": "2024-04-19T21:55:32.182Z"
   },
   {
    "duration": 0,
    "start_time": "2024-04-19T21:55:32.183Z"
   },
   {
    "duration": 0,
    "start_time": "2024-04-19T21:55:32.184Z"
   },
   {
    "duration": 0,
    "start_time": "2024-04-19T21:55:32.185Z"
   },
   {
    "duration": 0,
    "start_time": "2024-04-19T21:55:32.186Z"
   },
   {
    "duration": 0,
    "start_time": "2024-04-19T21:55:32.187Z"
   },
   {
    "duration": 0,
    "start_time": "2024-04-19T21:55:32.188Z"
   },
   {
    "duration": 0,
    "start_time": "2024-04-19T21:55:32.189Z"
   },
   {
    "duration": 735,
    "start_time": "2024-04-19T21:55:51.120Z"
   },
   {
    "duration": 3,
    "start_time": "2024-04-19T21:55:51.858Z"
   },
   {
    "duration": 21,
    "start_time": "2024-04-19T21:55:51.862Z"
   },
   {
    "duration": 1937,
    "start_time": "2024-04-19T21:55:51.884Z"
   },
   {
    "duration": 32,
    "start_time": "2024-04-19T21:55:53.824Z"
   },
   {
    "duration": 3,
    "start_time": "2024-04-19T21:55:53.858Z"
   },
   {
    "duration": 34,
    "start_time": "2024-04-19T21:55:53.863Z"
   },
   {
    "duration": 8,
    "start_time": "2024-04-19T21:55:53.899Z"
   },
   {
    "duration": 14,
    "start_time": "2024-04-19T21:55:53.909Z"
   },
   {
    "duration": 17,
    "start_time": "2024-04-19T21:55:53.924Z"
   },
   {
    "duration": 7,
    "start_time": "2024-04-19T21:55:53.943Z"
   },
   {
    "duration": 7,
    "start_time": "2024-04-19T21:55:53.952Z"
   },
   {
    "duration": 10,
    "start_time": "2024-04-19T21:55:53.960Z"
   },
   {
    "duration": 6,
    "start_time": "2024-04-19T21:55:53.981Z"
   },
   {
    "duration": 7,
    "start_time": "2024-04-19T21:55:53.989Z"
   },
   {
    "duration": 4,
    "start_time": "2024-04-19T21:55:53.997Z"
   },
   {
    "duration": 6,
    "start_time": "2024-04-19T21:55:54.002Z"
   },
   {
    "duration": 15,
    "start_time": "2024-04-19T21:55:54.009Z"
   },
   {
    "duration": 250,
    "start_time": "2024-04-19T21:55:54.025Z"
   },
   {
    "duration": 4,
    "start_time": "2024-04-19T21:55:54.277Z"
   },
   {
    "duration": 77,
    "start_time": "2024-04-19T21:55:54.282Z"
   },
   {
    "duration": 0,
    "start_time": "2024-04-19T21:55:54.361Z"
   },
   {
    "duration": 1,
    "start_time": "2024-04-19T21:55:54.362Z"
   },
   {
    "duration": 0,
    "start_time": "2024-04-19T21:55:54.364Z"
   },
   {
    "duration": 0,
    "start_time": "2024-04-19T21:55:54.365Z"
   },
   {
    "duration": 0,
    "start_time": "2024-04-19T21:55:54.380Z"
   },
   {
    "duration": 0,
    "start_time": "2024-04-19T21:55:54.381Z"
   },
   {
    "duration": 0,
    "start_time": "2024-04-19T21:55:54.382Z"
   },
   {
    "duration": 0,
    "start_time": "2024-04-19T21:55:54.383Z"
   },
   {
    "duration": 0,
    "start_time": "2024-04-19T21:55:54.385Z"
   },
   {
    "duration": 0,
    "start_time": "2024-04-19T21:55:54.385Z"
   },
   {
    "duration": 0,
    "start_time": "2024-04-19T21:55:54.387Z"
   },
   {
    "duration": 0,
    "start_time": "2024-04-19T21:55:54.387Z"
   },
   {
    "duration": 0,
    "start_time": "2024-04-19T21:55:54.389Z"
   },
   {
    "duration": 0,
    "start_time": "2024-04-19T21:55:54.390Z"
   },
   {
    "duration": 0,
    "start_time": "2024-04-19T21:55:54.391Z"
   },
   {
    "duration": 0,
    "start_time": "2024-04-19T21:55:54.392Z"
   },
   {
    "duration": 0,
    "start_time": "2024-04-19T21:55:54.393Z"
   },
   {
    "duration": 0,
    "start_time": "2024-04-19T21:55:54.394Z"
   },
   {
    "duration": 0,
    "start_time": "2024-04-19T21:55:54.395Z"
   },
   {
    "duration": 0,
    "start_time": "2024-04-19T21:55:54.396Z"
   },
   {
    "duration": 0,
    "start_time": "2024-04-19T21:55:54.397Z"
   },
   {
    "duration": 0,
    "start_time": "2024-04-19T21:55:54.398Z"
   },
   {
    "duration": 0,
    "start_time": "2024-04-19T21:55:54.399Z"
   },
   {
    "duration": 0,
    "start_time": "2024-04-19T21:55:54.400Z"
   },
   {
    "duration": 0,
    "start_time": "2024-04-19T21:55:54.401Z"
   },
   {
    "duration": 0,
    "start_time": "2024-04-19T21:55:54.403Z"
   },
   {
    "duration": 0,
    "start_time": "2024-04-19T21:55:54.405Z"
   },
   {
    "duration": 0,
    "start_time": "2024-04-19T21:55:54.406Z"
   },
   {
    "duration": 0,
    "start_time": "2024-04-19T21:55:54.407Z"
   },
   {
    "duration": 0,
    "start_time": "2024-04-19T21:55:54.408Z"
   },
   {
    "duration": 0,
    "start_time": "2024-04-19T21:55:54.409Z"
   },
   {
    "duration": 0,
    "start_time": "2024-04-19T21:55:54.411Z"
   },
   {
    "duration": 0,
    "start_time": "2024-04-19T21:55:54.412Z"
   },
   {
    "duration": 23,
    "start_time": "2024-04-19T21:55:59.010Z"
   },
   {
    "duration": 115,
    "start_time": "2024-04-19T21:56:49.820Z"
   },
   {
    "duration": 3,
    "start_time": "2024-04-19T21:56:50.504Z"
   },
   {
    "duration": 14,
    "start_time": "2024-04-19T21:56:51.145Z"
   },
   {
    "duration": 1938,
    "start_time": "2024-04-19T21:56:51.729Z"
   },
   {
    "duration": 36,
    "start_time": "2024-04-19T21:56:53.669Z"
   },
   {
    "duration": 3,
    "start_time": "2024-04-19T21:56:54.216Z"
   },
   {
    "duration": 7,
    "start_time": "2024-04-19T21:56:54.736Z"
   },
   {
    "duration": 7,
    "start_time": "2024-04-19T21:56:55.448Z"
   },
   {
    "duration": 7,
    "start_time": "2024-04-19T21:56:55.871Z"
   },
   {
    "duration": 5,
    "start_time": "2024-04-19T21:56:56.543Z"
   },
   {
    "duration": 8,
    "start_time": "2024-04-19T21:56:57.304Z"
   },
   {
    "duration": 7,
    "start_time": "2024-04-19T21:56:57.705Z"
   },
   {
    "duration": 2,
    "start_time": "2024-04-19T21:56:58.105Z"
   },
   {
    "duration": 7,
    "start_time": "2024-04-19T21:56:58.504Z"
   },
   {
    "duration": 6,
    "start_time": "2024-04-19T21:56:58.712Z"
   },
   {
    "duration": 3,
    "start_time": "2024-04-19T21:56:59.328Z"
   },
   {
    "duration": 6,
    "start_time": "2024-04-19T21:57:15.385Z"
   },
   {
    "duration": 6,
    "start_time": "2024-04-19T21:57:15.856Z"
   },
   {
    "duration": 4,
    "start_time": "2024-04-19T21:57:16.918Z"
   },
   {
    "duration": 6,
    "start_time": "2024-04-19T21:57:17.703Z"
   },
   {
    "duration": 15,
    "start_time": "2024-04-19T21:57:19.305Z"
   },
   {
    "duration": 226,
    "start_time": "2024-04-19T21:57:19.935Z"
   },
   {
    "duration": 14,
    "start_time": "2024-04-19T21:58:17.391Z"
   },
   {
    "duration": 16,
    "start_time": "2024-04-19T21:58:30.479Z"
   },
   {
    "duration": 4,
    "start_time": "2024-04-19T21:58:34.023Z"
   },
   {
    "duration": 15,
    "start_time": "2024-04-19T21:58:34.662Z"
   },
   {
    "duration": 316,
    "start_time": "2024-04-19T21:58:35.016Z"
   },
   {
    "duration": 4,
    "start_time": "2024-04-19T21:58:35.374Z"
   },
   {
    "duration": 48,
    "start_time": "2024-04-19T21:58:35.725Z"
   },
   {
    "duration": 198,
    "start_time": "2024-04-19T21:58:36.662Z"
   },
   {
    "duration": 184,
    "start_time": "2024-04-19T21:58:37.150Z"
   },
   {
    "duration": 183,
    "start_time": "2024-04-19T21:58:37.621Z"
   },
   {
    "duration": 169,
    "start_time": "2024-04-19T21:58:38.741Z"
   },
   {
    "duration": 243,
    "start_time": "2024-04-19T21:58:39.910Z"
   },
   {
    "duration": 150,
    "start_time": "2024-04-19T21:58:40.654Z"
   },
   {
    "duration": 166,
    "start_time": "2024-04-19T21:58:41.537Z"
   },
   {
    "duration": 212,
    "start_time": "2024-04-19T21:58:42.238Z"
   },
   {
    "duration": 229,
    "start_time": "2024-04-19T21:58:42.867Z"
   },
   {
    "duration": 218,
    "start_time": "2024-04-19T21:58:43.687Z"
   },
   {
    "duration": 3,
    "start_time": "2024-04-19T21:58:44.902Z"
   },
   {
    "duration": 5,
    "start_time": "2024-04-19T21:58:45.254Z"
   },
   {
    "duration": 240,
    "start_time": "2024-04-19T21:58:47.662Z"
   },
   {
    "duration": 7,
    "start_time": "2024-04-19T21:58:48.105Z"
   },
   {
    "duration": 12,
    "start_time": "2024-04-19T21:58:50.105Z"
   },
   {
    "duration": 8,
    "start_time": "2024-04-19T21:58:51.030Z"
   },
   {
    "duration": 35,
    "start_time": "2024-04-19T21:58:52.420Z"
   },
   {
    "duration": 149,
    "start_time": "2024-04-19T21:58:52.861Z"
   },
   {
    "duration": 307,
    "start_time": "2024-04-19T21:58:53.214Z"
   },
   {
    "duration": 154,
    "start_time": "2024-04-19T21:58:53.687Z"
   },
   {
    "duration": 153,
    "start_time": "2024-04-19T21:58:54.405Z"
   },
   {
    "duration": 153,
    "start_time": "2024-04-19T21:58:54.870Z"
   },
   {
    "duration": 176,
    "start_time": "2024-04-19T21:58:56.558Z"
   },
   {
    "duration": 185,
    "start_time": "2024-04-19T21:58:56.949Z"
   },
   {
    "duration": 163,
    "start_time": "2024-04-19T21:58:57.437Z"
   },
   {
    "duration": 157,
    "start_time": "2024-04-19T21:58:59.287Z"
   },
   {
    "duration": 21,
    "start_time": "2024-04-19T21:59:22.173Z"
   },
   {
    "duration": 168,
    "start_time": "2024-04-19T21:59:43.276Z"
   },
   {
    "duration": 253,
    "start_time": "2024-04-19T22:05:13.721Z"
   },
   {
    "duration": 154,
    "start_time": "2024-04-19T22:05:18.193Z"
   },
   {
    "duration": 1138,
    "start_time": "2024-05-22T10:59:56.928Z"
   },
   {
    "duration": 4,
    "start_time": "2024-05-22T10:59:58.069Z"
   },
   {
    "duration": 17,
    "start_time": "2024-05-22T10:59:58.075Z"
   },
   {
    "duration": 2172,
    "start_time": "2024-05-22T10:59:58.094Z"
   },
   {
    "duration": 27,
    "start_time": "2024-05-22T11:00:00.269Z"
   },
   {
    "duration": 62,
    "start_time": "2024-05-22T11:00:00.298Z"
   },
   {
    "duration": 91,
    "start_time": "2024-05-22T11:00:00.362Z"
   },
   {
    "duration": 94,
    "start_time": "2024-05-22T11:00:00.455Z"
   },
   {
    "duration": 93,
    "start_time": "2024-05-22T11:00:00.551Z"
   },
   {
    "duration": 70,
    "start_time": "2024-05-22T11:00:00.645Z"
   },
   {
    "duration": 51,
    "start_time": "2024-05-22T11:00:00.717Z"
   },
   {
    "duration": 41,
    "start_time": "2024-05-22T11:00:00.770Z"
   },
   {
    "duration": 40,
    "start_time": "2024-05-22T11:00:00.813Z"
   },
   {
    "duration": 32,
    "start_time": "2024-05-22T11:00:00.857Z"
   },
   {
    "duration": 51,
    "start_time": "2024-05-22T11:00:00.891Z"
   },
   {
    "duration": 93,
    "start_time": "2024-05-22T11:00:00.944Z"
   },
   {
    "duration": 65,
    "start_time": "2024-05-22T11:00:01.039Z"
   },
   {
    "duration": 329,
    "start_time": "2024-05-22T11:00:01.106Z"
   },
   {
    "duration": 16,
    "start_time": "2024-05-22T11:00:01.437Z"
   },
   {
    "duration": 46,
    "start_time": "2024-05-22T11:00:01.461Z"
   },
   {
    "duration": 169,
    "start_time": "2024-05-22T11:00:01.508Z"
   },
   {
    "duration": 382,
    "start_time": "2024-05-22T11:00:01.679Z"
   },
   {
    "duration": 6,
    "start_time": "2024-05-22T11:00:02.063Z"
   },
   {
    "duration": 71,
    "start_time": "2024-05-22T11:00:02.070Z"
   },
   {
    "duration": 227,
    "start_time": "2024-05-22T11:00:02.143Z"
   },
   {
    "duration": 208,
    "start_time": "2024-05-22T11:00:02.371Z"
   },
   {
    "duration": 348,
    "start_time": "2024-05-22T11:00:02.581Z"
   },
   {
    "duration": 208,
    "start_time": "2024-05-22T11:00:02.930Z"
   },
   {
    "duration": 196,
    "start_time": "2024-05-22T11:00:03.140Z"
   },
   {
    "duration": 187,
    "start_time": "2024-05-22T11:00:03.338Z"
   },
   {
    "duration": 196,
    "start_time": "2024-05-22T11:00:03.527Z"
   },
   {
    "duration": 243,
    "start_time": "2024-05-22T11:00:03.725Z"
   },
   {
    "duration": 256,
    "start_time": "2024-05-22T11:00:03.970Z"
   },
   {
    "duration": 247,
    "start_time": "2024-05-22T11:00:04.228Z"
   },
   {
    "duration": 3,
    "start_time": "2024-05-22T11:00:04.476Z"
   },
   {
    "duration": 14,
    "start_time": "2024-05-22T11:00:04.480Z"
   },
   {
    "duration": 343,
    "start_time": "2024-05-22T11:00:04.496Z"
   },
   {
    "duration": 9,
    "start_time": "2024-05-22T11:00:04.840Z"
   },
   {
    "duration": 13,
    "start_time": "2024-05-22T11:00:04.860Z"
   },
   {
    "duration": 8,
    "start_time": "2024-05-22T11:00:04.875Z"
   },
   {
    "duration": 32,
    "start_time": "2024-05-22T11:00:04.886Z"
   },
   {
    "duration": 195,
    "start_time": "2024-05-22T11:00:04.919Z"
   },
   {
    "duration": 188,
    "start_time": "2024-05-22T11:00:05.116Z"
   },
   {
    "duration": 172,
    "start_time": "2024-05-22T11:00:05.306Z"
   },
   {
    "duration": 184,
    "start_time": "2024-05-22T11:00:05.480Z"
   },
   {
    "duration": 180,
    "start_time": "2024-05-22T11:00:05.666Z"
   },
   {
    "duration": 218,
    "start_time": "2024-05-22T11:00:05.848Z"
   },
   {
    "duration": 215,
    "start_time": "2024-05-22T11:00:06.068Z"
   },
   {
    "duration": 183,
    "start_time": "2024-05-22T11:00:06.285Z"
   },
   {
    "duration": 174,
    "start_time": "2024-05-22T11:00:06.470Z"
   },
   {
    "duration": 96,
    "start_time": "2024-05-22T11:00:06.645Z"
   },
   {
    "duration": 0,
    "start_time": "2024-05-22T11:00:06.743Z"
   },
   {
    "duration": 27,
    "start_time": "2024-05-22T11:01:20.919Z"
   },
   {
    "duration": 30,
    "start_time": "2024-05-22T11:14:18.498Z"
   },
   {
    "duration": 30,
    "start_time": "2024-05-22T11:14:36.115Z"
   },
   {
    "duration": 196,
    "start_time": "2024-05-22T11:14:59.010Z"
   },
   {
    "duration": 808,
    "start_time": "2024-05-22T11:18:18.948Z"
   },
   {
    "duration": 3,
    "start_time": "2024-05-22T11:18:19.758Z"
   },
   {
    "duration": 31,
    "start_time": "2024-05-22T11:18:19.763Z"
   },
   {
    "duration": 2189,
    "start_time": "2024-05-22T11:18:19.797Z"
   },
   {
    "duration": 28,
    "start_time": "2024-05-22T11:18:21.988Z"
   },
   {
    "duration": 3,
    "start_time": "2024-05-22T11:18:22.018Z"
   },
   {
    "duration": 16,
    "start_time": "2024-05-22T11:18:22.023Z"
   },
   {
    "duration": 15,
    "start_time": "2024-05-22T11:18:22.041Z"
   },
   {
    "duration": 9,
    "start_time": "2024-05-22T11:18:22.057Z"
   },
   {
    "duration": 4,
    "start_time": "2024-05-22T11:18:22.069Z"
   },
   {
    "duration": 9,
    "start_time": "2024-05-22T11:18:22.075Z"
   },
   {
    "duration": 7,
    "start_time": "2024-05-22T11:18:22.085Z"
   },
   {
    "duration": 9,
    "start_time": "2024-05-22T11:18:22.094Z"
   },
   {
    "duration": 7,
    "start_time": "2024-05-22T11:18:22.105Z"
   },
   {
    "duration": 4,
    "start_time": "2024-05-22T11:18:22.114Z"
   },
   {
    "duration": 43,
    "start_time": "2024-05-22T11:18:22.120Z"
   },
   {
    "duration": 20,
    "start_time": "2024-05-22T11:18:22.164Z"
   },
   {
    "duration": 269,
    "start_time": "2024-05-22T11:18:22.186Z"
   },
   {
    "duration": 16,
    "start_time": "2024-05-22T11:18:22.457Z"
   },
   {
    "duration": 4,
    "start_time": "2024-05-22T11:18:22.475Z"
   },
   {
    "duration": 14,
    "start_time": "2024-05-22T11:18:22.481Z"
   },
   {
    "duration": 368,
    "start_time": "2024-05-22T11:18:22.497Z"
   },
   {
    "duration": 4,
    "start_time": "2024-05-22T11:18:22.867Z"
   },
   {
    "duration": 35,
    "start_time": "2024-05-22T11:18:22.873Z"
   },
   {
    "duration": 226,
    "start_time": "2024-05-22T11:18:22.909Z"
   },
   {
    "duration": 215,
    "start_time": "2024-05-22T11:18:23.136Z"
   },
   {
    "duration": 314,
    "start_time": "2024-05-22T11:18:23.353Z"
   },
   {
    "duration": 216,
    "start_time": "2024-05-22T11:18:23.671Z"
   },
   {
    "duration": 202,
    "start_time": "2024-05-22T11:18:23.889Z"
   },
   {
    "duration": 166,
    "start_time": "2024-05-22T11:18:24.093Z"
   },
   {
    "duration": 189,
    "start_time": "2024-05-22T11:18:24.261Z"
   },
   {
    "duration": 220,
    "start_time": "2024-05-22T11:18:24.452Z"
   },
   {
    "duration": 252,
    "start_time": "2024-05-22T11:18:24.674Z"
   },
   {
    "duration": 250,
    "start_time": "2024-05-22T11:18:24.928Z"
   },
   {
    "duration": 3,
    "start_time": "2024-05-22T11:18:25.180Z"
   },
   {
    "duration": 7,
    "start_time": "2024-05-22T11:18:25.184Z"
   },
   {
    "duration": 389,
    "start_time": "2024-05-22T11:18:25.193Z"
   },
   {
    "duration": 8,
    "start_time": "2024-05-22T11:18:25.584Z"
   },
   {
    "duration": 14,
    "start_time": "2024-05-22T11:18:25.594Z"
   },
   {
    "duration": 9,
    "start_time": "2024-05-22T11:18:25.609Z"
   },
   {
    "duration": 70,
    "start_time": "2024-05-22T11:18:25.619Z"
   },
   {
    "duration": 185,
    "start_time": "2024-05-22T11:18:25.694Z"
   },
   {
    "duration": 191,
    "start_time": "2024-05-22T11:18:25.881Z"
   },
   {
    "duration": 186,
    "start_time": "2024-05-22T11:18:26.074Z"
   },
   {
    "duration": 178,
    "start_time": "2024-05-22T11:18:26.262Z"
   },
   {
    "duration": 181,
    "start_time": "2024-05-22T11:18:26.442Z"
   },
   {
    "duration": 204,
    "start_time": "2024-05-22T11:18:26.625Z"
   },
   {
    "duration": 205,
    "start_time": "2024-05-22T11:18:26.831Z"
   },
   {
    "duration": 247,
    "start_time": "2024-05-22T11:18:27.039Z"
   },
   {
    "duration": 192,
    "start_time": "2024-05-22T11:18:27.288Z"
   },
   {
    "duration": 32,
    "start_time": "2024-05-22T11:18:27.482Z"
   },
   {
    "duration": 204,
    "start_time": "2024-05-22T11:18:27.516Z"
   },
   {
    "duration": 966,
    "start_time": "2024-05-22T11:57:46.681Z"
   },
   {
    "duration": 3,
    "start_time": "2024-05-22T11:57:47.649Z"
   },
   {
    "duration": 32,
    "start_time": "2024-05-22T11:57:47.653Z"
   },
   {
    "duration": 2082,
    "start_time": "2024-05-22T11:57:47.687Z"
   },
   {
    "duration": 26,
    "start_time": "2024-05-22T11:57:49.771Z"
   },
   {
    "duration": 10,
    "start_time": "2024-05-22T11:57:49.799Z"
   },
   {
    "duration": 24,
    "start_time": "2024-05-22T11:57:49.810Z"
   },
   {
    "duration": 21,
    "start_time": "2024-05-22T11:57:49.836Z"
   },
   {
    "duration": 7,
    "start_time": "2024-05-22T11:57:49.859Z"
   },
   {
    "duration": 8,
    "start_time": "2024-05-22T11:57:49.869Z"
   },
   {
    "duration": 6,
    "start_time": "2024-05-22T11:57:49.878Z"
   },
   {
    "duration": 22,
    "start_time": "2024-05-22T11:57:49.885Z"
   },
   {
    "duration": 24,
    "start_time": "2024-05-22T11:57:49.908Z"
   },
   {
    "duration": 14,
    "start_time": "2024-05-22T11:57:49.934Z"
   },
   {
    "duration": 14,
    "start_time": "2024-05-22T11:57:49.949Z"
   },
   {
    "duration": 29,
    "start_time": "2024-05-22T11:57:49.965Z"
   },
   {
    "duration": 18,
    "start_time": "2024-05-22T11:57:49.995Z"
   },
   {
    "duration": 263,
    "start_time": "2024-05-22T11:57:50.014Z"
   },
   {
    "duration": 14,
    "start_time": "2024-05-22T11:57:50.281Z"
   },
   {
    "duration": 6,
    "start_time": "2024-05-22T11:57:50.297Z"
   },
   {
    "duration": 29,
    "start_time": "2024-05-22T11:57:50.305Z"
   },
   {
    "duration": 356,
    "start_time": "2024-05-22T11:57:50.336Z"
   },
   {
    "duration": 5,
    "start_time": "2024-05-22T11:57:50.694Z"
   },
   {
    "duration": 36,
    "start_time": "2024-05-22T11:57:50.700Z"
   },
   {
    "duration": 224,
    "start_time": "2024-05-22T11:57:50.738Z"
   },
   {
    "duration": 219,
    "start_time": "2024-05-22T11:57:50.963Z"
   },
   {
    "duration": 280,
    "start_time": "2024-05-22T11:57:51.184Z"
   },
   {
    "duration": 197,
    "start_time": "2024-05-22T11:57:51.467Z"
   },
   {
    "duration": 167,
    "start_time": "2024-05-22T11:57:51.665Z"
   },
   {
    "duration": 166,
    "start_time": "2024-05-22T11:57:51.834Z"
   },
   {
    "duration": 205,
    "start_time": "2024-05-22T11:57:52.002Z"
   },
   {
    "duration": 221,
    "start_time": "2024-05-22T11:57:52.208Z"
   },
   {
    "duration": 259,
    "start_time": "2024-05-22T11:57:52.431Z"
   },
   {
    "duration": 263,
    "start_time": "2024-05-22T11:57:52.692Z"
   },
   {
    "duration": 3,
    "start_time": "2024-05-22T11:57:52.957Z"
   },
   {
    "duration": 23,
    "start_time": "2024-05-22T11:57:52.962Z"
   },
   {
    "duration": 363,
    "start_time": "2024-05-22T11:57:52.987Z"
   },
   {
    "duration": 9,
    "start_time": "2024-05-22T11:57:53.351Z"
   },
   {
    "duration": 27,
    "start_time": "2024-05-22T11:57:53.362Z"
   },
   {
    "duration": 21,
    "start_time": "2024-05-22T11:57:53.391Z"
   },
   {
    "duration": 39,
    "start_time": "2024-05-22T11:57:53.414Z"
   },
   {
    "duration": 159,
    "start_time": "2024-05-22T11:57:53.455Z"
   },
   {
    "duration": 179,
    "start_time": "2024-05-22T11:57:53.616Z"
   },
   {
    "duration": 187,
    "start_time": "2024-05-22T11:57:53.797Z"
   },
   {
    "duration": 184,
    "start_time": "2024-05-22T11:57:53.986Z"
   },
   {
    "duration": 179,
    "start_time": "2024-05-22T11:57:54.172Z"
   },
   {
    "duration": 194,
    "start_time": "2024-05-22T11:57:54.353Z"
   },
   {
    "duration": 200,
    "start_time": "2024-05-22T11:57:54.549Z"
   },
   {
    "duration": 185,
    "start_time": "2024-05-22T11:57:54.751Z"
   },
   {
    "duration": 178,
    "start_time": "2024-05-22T11:57:54.938Z"
   },
   {
    "duration": 31,
    "start_time": "2024-05-22T11:57:55.117Z"
   },
   {
    "duration": 191,
    "start_time": "2024-05-22T11:57:55.149Z"
   }
  ],
  "colab": {
   "provenance": []
  },
  "kernelspec": {
   "display_name": "Python 3 (ipykernel)",
   "language": "python",
   "name": "python3"
  },
  "language_info": {
   "codemirror_mode": {
    "name": "ipython",
    "version": 3
   },
   "file_extension": ".py",
   "mimetype": "text/x-python",
   "name": "python",
   "nbconvert_exporter": "python",
   "pygments_lexer": "ipython3",
   "version": "3.9.5"
  },
  "toc": {
   "base_numbering": 1,
   "nav_menu": {},
   "number_sections": true,
   "sideBar": true,
   "skip_h1_title": true,
   "title_cell": "Table of Contents",
   "title_sidebar": "Contents",
   "toc_cell": false,
   "toc_position": {},
   "toc_section_display": true,
   "toc_window_display": false
  }
 },
 "nbformat": 4,
 "nbformat_minor": 1
}
