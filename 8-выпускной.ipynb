{
 "cells": [
  {
   "cell_type": "markdown",
   "metadata": {},
   "source": [
    "**Телеком — Поиск клиентов с неоптимальными тарифами**"
   ]
  },
  {
   "cell_type": "markdown",
   "metadata": {},
   "source": [
    "Задача: \n",
    "\n",
    "Найти клиентов, которые:\n",
    "\n",
    "- а) переплачивают на текущих тарифах; \n",
    "\n",
    "- б) сэкономят, если перейдут на более дорогой тариф\n",
    "\n",
    "\n"
   ]
  },
  {
   "cell_type": "markdown",
   "metadata": {},
   "source": [
    "**Описание данных:**\n",
    "\n",
    "Датасет:  `/datasets/telecom_dataset.csv`  \n",
    "\n",
    "**Колонки:**\n",
    "\n",
    "- **user_id** — идентификатор клиента  \n",
    "- **date** — дата статистики  \n",
    "- **direction** — направление вызовов:  \n",
    "  - `out` — исходящий вызов  \n",
    "  - `internal` — маркер внутренних и внешних вызовов  \n",
    "- **operator_id** — идентификатор оператора  \n",
    "- **is_missed_call** — маркер пропущенных вызовов  \n",
    "- **calls_count** — количество звонков  \n",
    "- **call_duration** — длительность звонка без учёта времени ожидания  \n",
    "- **total_call_duration** — длительность звонка с учётом времени ожидания  \n",
    "\n",
    "Датасет:`/datasets/telecom_clients.csv`  \n",
    "\n",
    "**Колонки:**\n",
    "\n",
    "- **user_id** — идентификатор клиента  \n",
    "- **tariff_plan** — тарифный план клиента  \n",
    "- **date_start** — дата регистрации клиента в сервисе  \n",
    "\n"
   ]
  },
  {
   "cell_type": "markdown",
   "metadata": {},
   "source": [
    "**Входящие и внутренние звонки** — бесплатны на всех тарифах. "
   ]
  },
  {
   "cell_type": "markdown",
   "metadata": {},
   "source": [
    "| Тариф | Ежемесячная плата (₽) | Доп. плата за оператора (₽) | Исходящие внутри сети (мин) | Цена сверх лимита (₽/мин) | Исходящие кроме внутренних (₽/мин) |\n",
    "|--------|----------------------|----------------------------|----------------------------|--------------------------|---------------------------------|\n",
    "| A      | 4000                 | 50                         | 2000                       | 0.10                     | 0.3                             |\n",
    "| B      | 2000                 | 150                        | 500                        | 0.15                     | 0.5                             |\n",
    "| C      | 1000                 | 300                        | 0                          | 0.30                     | 0.7                             |\n"
   ]
  },
  {
   "cell_type": "markdown",
   "metadata": {},
   "source": [
    "**План работы:**\n",
    "1. Загрузка и изучение данных\n",
    " - Промежуточные выводы\n",
    "2. Предобработка данных:\n",
    " - Обработка пропусков\n",
    " - Обработка дубликатов\n",
    " - Обработка аномалий\n",
    " - Приведение к правильным типам данных\n",
    " - Прочее (исходя из найденных проблем в датасете)\n",
    " - Промежуточные выводы\n",
    "3. Исследовательский анализ данных:\n",
    " - Определение и поиск активных пользователей\n",
    " - Исследование затрат пользователей (активных)\n",
    " - Поиск пользователей, которые переплачивают за услуги связи\n",
    "4. Проверка статистических гипотез\n",
    "5. Общие выводы и рекомендации"
   ]
  },
  {
   "cell_type": "markdown",
   "metadata": {},
   "source": [
    "# Загрузка и изучение данных"
   ]
  },
  {
   "cell_type": "code",
   "execution_count": 1,
   "metadata": {
    "scrolled": true
   },
   "outputs": [],
   "source": [
    "import pandas as pd\n",
    "import numpy as np\n",
    "import datetime as dt\n",
    "import matplotlib.pyplot as plt\n",
    "import seaborn as sns\n",
    "import scipy.stats as st\n",
    "from scipy.stats import shapiro, wilcoxon\n",
    "\n",
    "pd.set_option('display.float_format', '{:,.3f}'.format)\n",
    "\n",
    "import warnings\n",
    "warnings.filterwarnings('ignore')"
   ]
  },
  {
   "cell_type": "code",
   "execution_count": 2,
   "metadata": {},
   "outputs": [],
   "source": [
    "df_calls = pd.read_csv('/datasets/telecom_dataset.csv')\n",
    "df_clients = pd.read_csv('/datasets/telecom_clients.csv')"
   ]
  },
  {
   "cell_type": "code",
   "execution_count": 3,
   "metadata": {
    "scrolled": true
   },
   "outputs": [
    {
     "name": "stdout",
     "output_type": "stream",
     "text": [
      "<class 'pandas.core.frame.DataFrame'>\n",
      "RangeIndex: 53902 entries, 0 to 53901\n",
      "Data columns (total 9 columns):\n",
      " #   Column               Non-Null Count  Dtype  \n",
      "---  ------               --------------  -----  \n",
      " 0   user_id              53902 non-null  int64  \n",
      " 1   date                 53902 non-null  object \n",
      " 2   direction            53902 non-null  object \n",
      " 3   internal             53785 non-null  object \n",
      " 4   operator_id          45730 non-null  float64\n",
      " 5   is_missed_call       53902 non-null  bool   \n",
      " 6   calls_count          53902 non-null  int64  \n",
      " 7   call_duration        53902 non-null  int64  \n",
      " 8   total_call_duration  53902 non-null  int64  \n",
      "dtypes: bool(1), float64(1), int64(4), object(3)\n",
      "memory usage: 3.3+ MB\n"
     ]
    }
   ],
   "source": [
    "df_calls.info()"
   ]
  },
  {
   "cell_type": "markdown",
   "metadata": {},
   "source": [
    "В столбцах internal и operator_id есть пропуски. Также наблюдается несоответствие типов данных в столбцах date и internal, а также в operator_id."
   ]
  },
  {
   "cell_type": "code",
   "execution_count": 4,
   "metadata": {},
   "outputs": [],
   "source": [
    "df_calls['date'] = pd.to_datetime(df_calls['date']).dt.tz_localize(None)\n",
    "\n",
    "df_calls['operator_id'] = df_calls['operator_id'].astype('Int64')"
   ]
  },
  {
   "cell_type": "code",
   "execution_count": 5,
   "metadata": {},
   "outputs": [
    {
     "data": {
      "text/plain": [
       "4900"
      ]
     },
     "execution_count": 5,
     "metadata": {},
     "output_type": "execute_result"
    }
   ],
   "source": [
    "duplicate_count_calls = df_calls.duplicated().sum()\n",
    "\n",
    "duplicate_count_calls"
   ]
  },
  {
   "cell_type": "markdown",
   "metadata": {},
   "source": [
    "В данных о звонках найдено 4900 дублирующихся записей."
   ]
  },
  {
   "cell_type": "code",
   "execution_count": 6,
   "metadata": {},
   "outputs": [
    {
     "name": "stdout",
     "output_type": "stream",
     "text": [
      "После удаления дубликатов осталось 0 дублирующихся записей.\n"
     ]
    }
   ],
   "source": [
    "# Удаление дубликатов из данных о звонках\n",
    "df_calls = df_calls.drop_duplicates()\n",
    "\n",
    "duplicate_count_cleaned = df_calls.duplicated().sum()\n",
    "\n",
    "print(f\"После удаления дубликатов осталось {duplicate_count_cleaned} дублирующихся записей.\")"
   ]
  },
  {
   "cell_type": "markdown",
   "metadata": {},
   "source": [
    "Посмотрим на пропуски в столбце operator_id"
   ]
  },
  {
   "cell_type": "code",
   "execution_count": 7,
   "metadata": {},
   "outputs": [
    {
     "data": {
      "text/plain": [
       "True     7343\n",
       "False     113\n",
       "Name: is_missed_call, dtype: int64"
      ]
     },
     "execution_count": 7,
     "metadata": {},
     "output_type": "execute_result"
    }
   ],
   "source": [
    "missing_operator_analysis = df_calls[df_calls['operator_id'].isna()]['is_missed_call'].value_counts()\n",
    "\n",
    "missing_operator_analysis"
   ]
  },
  {
   "cell_type": "markdown",
   "metadata": {},
   "source": [
    "Большинство пропусков относится к пропущенным вызовам (is_missed_call = True).\n",
    "При пропущенном вызове, видимо, оператор не фиксируется, поскольку разговор не состоялся. Пока что оставим эти пропуски как есть."
   ]
  },
  {
   "cell_type": "code",
   "execution_count": 8,
   "metadata": {
    "scrolled": false
   },
   "outputs": [
    {
     "name": "stdout",
     "output_type": "stream",
     "text": [
      "<class 'pandas.core.frame.DataFrame'>\n",
      "RangeIndex: 732 entries, 0 to 731\n",
      "Data columns (total 3 columns):\n",
      " #   Column       Non-Null Count  Dtype \n",
      "---  ------       --------------  ----- \n",
      " 0   user_id      732 non-null    int64 \n",
      " 1   tariff_plan  732 non-null    object\n",
      " 2   date_start   732 non-null    object\n",
      "dtypes: int64(1), object(2)\n",
      "memory usage: 17.3+ KB\n"
     ]
    }
   ],
   "source": [
    "df_clients.info()"
   ]
  },
  {
   "cell_type": "markdown",
   "metadata": {},
   "source": [
    "Пропуски отсутствуют. Столбец date_start приведем к формату даты/времени"
   ]
  },
  {
   "cell_type": "code",
   "execution_count": 9,
   "metadata": {},
   "outputs": [],
   "source": [
    "df_clients['date_start'] = pd.to_datetime(df_clients['date_start'])"
   ]
  },
  {
   "cell_type": "code",
   "execution_count": 10,
   "metadata": {},
   "outputs": [
    {
     "data": {
      "text/plain": [
       "array([False])"
      ]
     },
     "execution_count": 10,
     "metadata": {},
     "output_type": "execute_result"
    }
   ],
   "source": [
    "duplicates_check = df_clients.duplicated().unique()\n",
    "duplicates_check"
   ]
  },
  {
   "cell_type": "markdown",
   "metadata": {},
   "source": [
    "Дубликатов нет."
   ]
  },
  {
   "cell_type": "code",
   "execution_count": 11,
   "metadata": {},
   "outputs": [
    {
     "data": {
      "text/plain": [
       "(307, 1092)"
      ]
     },
     "execution_count": 11,
     "metadata": {},
     "output_type": "execute_result"
    }
   ],
   "source": [
    "# Подсчет количества уникальных клиентов\n",
    "unique_clients = df_calls['user_id'].nunique()\n",
    "\n",
    "# Подсчет количества уникальных операторов\n",
    "unique_operators = df_calls['operator_id'].nunique()\n",
    "\n",
    "unique_clients, unique_operators"
   ]
  },
  {
   "cell_type": "markdown",
   "metadata": {},
   "source": [
    "Количество уникальных клиентов: 307\n",
    "\n",
    "Количество уникальных операторов: 1092"
   ]
  },
  {
   "cell_type": "markdown",
   "metadata": {},
   "source": [
    "Посмотрим на уникальные значения в датафрейме df_clients:"
   ]
  },
  {
   "cell_type": "code",
   "execution_count": 12,
   "metadata": {},
   "outputs": [
    {
     "name": "stdout",
     "output_type": "stream",
     "text": [
      "Общее количество уникальных клиентов: 732\n",
      "Количество доступных тарифов: 3\n",
      "Распределение клиентов по тарифам:\n",
      "C    395\n",
      "B    261\n",
      "A     76\n",
      "Name: tariff_plan, dtype: int64\n"
     ]
    }
   ],
   "source": [
    "total_unique_clients = df_clients['user_id'].nunique()\n",
    "\n",
    "total_unique_tariffs = df_clients['tariff_plan'].nunique()\n",
    "\n",
    "tariff_distribution = df_clients['tariff_plan'].value_counts()\n",
    "\n",
    "print(f\"Общее количество уникальных клиентов: {total_unique_clients}\")\n",
    "print(f\"Количество доступных тарифов: {total_unique_tariffs}\")\n",
    "print(\"Распределение клиентов по тарифам:\")\n",
    "print(tariff_distribution)\n"
   ]
  },
  {
   "cell_type": "markdown",
   "metadata": {},
   "source": [
    "Количество уникальных клиентов в двух датасетах сильно разнится, проверим сколько клиентов совпадает между датасетами:"
   ]
  },
  {
   "cell_type": "code",
   "execution_count": 13,
   "metadata": {},
   "outputs": [
    {
     "data": {
      "text/plain": [
       "307"
      ]
     },
     "execution_count": 13,
     "metadata": {},
     "output_type": "execute_result"
    }
   ],
   "source": [
    "common_clients = df_clients['user_id'].isin(df_calls['user_id']).sum()  # Количество клиентов из df_clients, которые есть в df_calls\n",
    "\n",
    "common_clients"
   ]
  },
  {
   "cell_type": "markdown",
   "metadata": {},
   "source": [
    "Получается, что в df_clients есть 425 лишних клиента, которые отсутствуют в данных о звонках.\n",
    "Возможно, это клиенты, которые зарегистрировались, но не совершали звонков."
   ]
  },
  {
   "cell_type": "markdown",
   "metadata": {},
   "source": [
    "Проверим, что каждому клиенту присвоен только один тариф:"
   ]
  },
  {
   "cell_type": "code",
   "execution_count": 14,
   "metadata": {},
   "outputs": [
    {
     "data": {
      "text/plain": [
       "Series([], Name: tariff_plan, dtype: int64)"
      ]
     },
     "execution_count": 14,
     "metadata": {},
     "output_type": "execute_result"
    }
   ],
   "source": [
    "clients_with_multiple_tariffs = df_clients.groupby('user_id')['tariff_plan'].nunique()\n",
    "multiple_tariff_clients = clients_with_multiple_tariffs[clients_with_multiple_tariffs > 1]\n",
    "\n",
    "multiple_tariff_clients"
   ]
  },
  {
   "cell_type": "markdown",
   "metadata": {},
   "source": [
    "Определим минимальную и максимальную даты в данных о звонках\n"
   ]
  },
  {
   "cell_type": "code",
   "execution_count": 15,
   "metadata": {},
   "outputs": [
    {
     "data": {
      "text/plain": [
       "(Timestamp('2019-08-02 00:00:00'), Timestamp('2019-11-28 00:00:00'))"
      ]
     },
     "execution_count": 15,
     "metadata": {},
     "output_type": "execute_result"
    }
   ],
   "source": [
    "min_date = df_calls['date'].min()\n",
    "max_date = df_calls['date'].max()\n",
    "\n",
    "min_date, max_date"
   ]
  },
  {
   "cell_type": "markdown",
   "metadata": {},
   "source": [
    "Данные о звонках охватывают период с 2 августа 2019 по 28 ноября 2019."
   ]
  },
  {
   "cell_type": "markdown",
   "metadata": {},
   "source": [
    "Проверим, есть ли аномалии по длительности вызовов в сутки:"
   ]
  },
  {
   "cell_type": "code",
   "execution_count": 16,
   "metadata": {
    "scrolled": true
   },
   "outputs": [
    {
     "data": {
      "text/plain": [
       "operator_id  date      \n",
       "879896       2019-08-05   35.950\n",
       "             2019-08-06   95.950\n",
       "             2019-08-07   53.000\n",
       "             2019-08-08   25.983\n",
       "             2019-08-09   48.600\n",
       "                           ...  \n",
       "972410       2019-11-27   31.750\n",
       "             2019-11-28   56.167\n",
       "972412       2019-11-27   35.617\n",
       "             2019-11-28   40.183\n",
       "972460       2019-11-28   25.783\n",
       "Name: total_call_duration_hours, Length: 7929, dtype: float64"
      ]
     },
     "execution_count": 16,
     "metadata": {},
     "output_type": "execute_result"
    }
   ],
   "source": [
    "# Перевод времени звонков из секунд в часы\n",
    "df_calls['total_call_duration_hours'] = df_calls['total_call_duration'] / 60  \n",
    "\n",
    "operators_over_24h = df_calls.groupby(['operator_id', 'date'])['total_call_duration_hours'].sum()\n",
    "\n",
    "operators_over_limit = operators_over_24h[operators_over_24h > 24]\n",
    "\n",
    "operators_over_limit"
   ]
  },
  {
   "cell_type": "markdown",
   "metadata": {},
   "source": [
    "\n",
    "Имеются операторы, наговорившие больше 24 часов за сутки, что невозможно."
   ]
  },
  {
   "cell_type": "code",
   "execution_count": 17,
   "metadata": {},
   "outputs": [
    {
     "data": {
      "text/html": [
       "<div>\n",
       "<style scoped>\n",
       "    .dataframe tbody tr th:only-of-type {\n",
       "        vertical-align: middle;\n",
       "    }\n",
       "\n",
       "    .dataframe tbody tr th {\n",
       "        vertical-align: top;\n",
       "    }\n",
       "\n",
       "    .dataframe thead th {\n",
       "        text-align: right;\n",
       "    }\n",
       "</style>\n",
       "<table border=\"1\" class=\"dataframe\">\n",
       "  <thead>\n",
       "    <tr style=\"text-align: right;\">\n",
       "      <th></th>\n",
       "      <th>Всего операторов</th>\n",
       "      <th>Операторов с превышением лимита</th>\n",
       "      <th>Процент превышения (%)</th>\n",
       "    </tr>\n",
       "  </thead>\n",
       "  <tbody>\n",
       "    <tr>\n",
       "      <th>0</th>\n",
       "      <td>1092</td>\n",
       "      <td>570</td>\n",
       "      <td>52.198</td>\n",
       "    </tr>\n",
       "  </tbody>\n",
       "</table>\n",
       "</div>"
      ],
      "text/plain": [
       "   Всего операторов  Операторов с превышением лимита  Процент превышения (%)\n",
       "0              1092                              570                  52.198"
      ]
     },
     "metadata": {},
     "output_type": "display_data"
    }
   ],
   "source": [
    "total_operators = df_calls['operator_id'].nunique()\n",
    "\n",
    "operators_exceeding_limit = operators_over_limit.index.get_level_values('operator_id').nunique()\n",
    "\n",
    "percentage_exceeding = (operators_exceeding_limit / total_operators) * 100\n",
    "\n",
    "operators_exceeding_list = operators_over_limit.index.get_level_values('operator_id').unique()\n",
    "\n",
    "summary_df = pd.DataFrame({\n",
    "    \"Всего операторов\": [total_operators],\n",
    "    \"Операторов с превышением лимита\": [operators_exceeding_limit],\n",
    "    \"Процент превышения (%)\": [percentage_exceeding]\n",
    "})\n",
    "\n",
    "display(summary_df)"
   ]
  },
  {
   "cell_type": "markdown",
   "metadata": {},
   "source": [
    "\n",
    "Более 50% операторов работают больше 24 часов в сутки - явная аномалия в данных."
   ]
  },
  {
   "cell_type": "code",
   "execution_count": 18,
   "metadata": {},
   "outputs": [
    {
     "name": "stdout",
     "output_type": "stream",
     "text": [
      "Количество уникальных клиентов, использующих операторов с перегрузкой более 24 часов: 169\n"
     ]
    }
   ],
   "source": [
    "# Операторы с перегрузкой (более 24 часов в сутки)\n",
    "df_calls['total_call_duration_hours'] = df_calls['total_call_duration'] / 60  \n",
    "\n",
    "operators_over_24h = df_calls.groupby(['operator_id', 'date'])['total_call_duration_hours'].sum()\n",
    "\n",
    "operators_over_limit = operators_over_24h[operators_over_24h > 24]\n",
    "\n",
    "operators_over_24h_list = operators_over_limit.index.get_level_values('operator_id').unique()\n",
    "\n",
    "clients_with_overloaded_operators = df_calls[df_calls[\"operator_id\"].isin(operators_over_24h_list)][\"user_id\"].nunique()\n",
    "\n",
    "print(f\"Количество уникальных клиентов, использующих операторов с перегрузкой более 24 часов: {clients_with_overloaded_operators}\")\n"
   ]
  },
  {
   "cell_type": "markdown",
   "metadata": {},
   "source": [
    "\n",
    "Значит, проблема не связана с отдельными клиентами, а широко распространена."
   ]
  },
  {
   "cell_type": "code",
   "execution_count": 19,
   "metadata": {
    "scrolled": true
   },
   "outputs": [
    {
     "name": "stdout",
     "output_type": "stream",
     "text": [
      "Распределение направлений звонков среди аномальных операторов:\n"
     ]
    },
    {
     "data": {
      "text/plain": [
       "out    25972\n",
       "in      9957\n",
       "Name: direction, dtype: int64"
      ]
     },
     "metadata": {},
     "output_type": "display_data"
    }
   ],
   "source": [
    "# Фильтруем звонки аномальных операторов (более 24 часов в сутки)\n",
    "calls_from_overloaded_operators = df_calls[df_calls[\"operator_id\"].isin(operators_over_24h_list)]\n",
    "\n",
    "call_direction_distribution = calls_from_overloaded_operators[\"direction\"].value_counts()\n",
    "\n",
    "print(\"Распределение направлений звонков среди аномальных операторов:\")\n",
    "display(call_direction_distribution)\n"
   ]
  },
  {
   "cell_type": "code",
   "execution_count": 20,
   "metadata": {},
   "outputs": [
    {
     "data": {
      "image/png": "[encoded data removed]",
      "text/plain": [
       "<Figure size 432x432 with 1 Axes>"
      ]
     },
     "metadata": {},
     "output_type": "display_data"
    }
   ],
   "source": [
    "plt.figure(figsize=(6, 6))\n",
    "call_direction_distribution.plot(kind='pie', autopct='%1.1f%%', startangle=90, colors=['lightblue', 'lightcoral'])\n",
    "plt.title(\"Распределение направлений звонков среди аномальных операторов\")\n",
    "plt.ylabel('')\n",
    "plt.show()\n"
   ]
  },
  {
   "cell_type": "code",
   "execution_count": 21,
   "metadata": {},
   "outputs": [
    {
     "data": {
      "text/plain": [
       "in     10046\n",
       "out     3027\n",
       "Name: direction, dtype: int64"
      ]
     },
     "metadata": {},
     "output_type": "display_data"
    },
    {
     "data": {
      "image/png": "[encoded data removed]",
      "text/plain": [
       "<Figure size 432x432 with 1 Axes>"
      ]
     },
     "metadata": {},
     "output_type": "display_data"
    }
   ],
   "source": [
    "normal_operators = df_calls[~df_calls[\"operator_id\"].isin(operators_over_24h_list)]\n",
    "\n",
    "call_direction_distribution_normal = normal_operators[\"direction\"].value_counts()\n",
    "\n",
    "display(call_direction_distribution_normal)\n",
    "\n",
    "plt.figure(figsize=(6, 6))\n",
    "call_direction_distribution_normal.plot(kind='pie', autopct='%1.1f%%', startangle=90, colors=['lightgreen', 'gold'])\n",
    "plt.title(\"Распределение направлений звонков среди нормальных операторов\")\n",
    "plt.ylabel('')  # Убираем подпись оси Y\n",
    "plt.show()\n"
   ]
  },
  {
   "cell_type": "markdown",
   "metadata": {},
   "source": [
    "\n",
    "    \n",
    " - У аномальных операторов преобладают исходящие вызовы.\n",
    "    \n",
    " - У \"нормальных\" операторов преобладают входящие вызовы.\n",
    " \n",
    "Аномальные операторы могут быть автоматизированными системами или колл-центрами, так как совершают неестественно много исходящих звонков."
   ]
  },
  {
   "cell_type": "code",
   "execution_count": 22,
   "metadata": {},
   "outputs": [
    {
     "name": "stdout",
     "output_type": "stream",
     "text": [
      "Средняя продолжительность звонка у аномальных операторов: 1503.00 минут\n",
      "Средняя продолжительность звонка у нормальных операторов: 204.42 минут\n"
     ]
    }
   ],
   "source": [
    "# Средняя продолжительность звонков у аномальных операторов\n",
    "mean_duration_anomalous = calls_from_overloaded_operators[\"total_call_duration\"].mean()\n",
    "\n",
    "# Средняя продолжительность звонков у нормальных операторов\n",
    "mean_duration_normal = normal_operators[\"total_call_duration\"].mean()\n",
    "\n",
    "print(f\"Средняя продолжительность звонка у аномальных операторов: {mean_duration_anomalous:.2f} минут\")\n",
    "print(f\"Средняя продолжительность звонка у нормальных операторов: {mean_duration_normal:.2f} минут\")\n"
   ]
  },
  {
   "cell_type": "markdown",
   "metadata": {},
   "source": [
    "\n",
    "    \n",
    "- Средняя длина вызова аномальных операторов ~ 25 часов, что нереалистично.\n",
    "    \n",
    "- Сердняя длина вызова \"нормальных\" операторов ~3.5 часа, что тоже кажется завышенным."
   ]
  },
  {
   "cell_type": "code",
   "execution_count": 23,
   "metadata": {
    "scrolled": true
   },
   "outputs": [
    {
     "data": {
      "image/png": "[encoded data removed]",
      "text/plain": [
       "<Figure size 864x360 with 1 Axes>"
      ]
     },
     "metadata": {
      "needs_background": "light"
     },
     "output_type": "display_data"
    }
   ],
   "source": [
    "plt.figure(figsize=(12, 5))\n",
    "\n",
    "plt.hist(calls_from_overloaded_operators[\"total_call_duration\"], bins=50, alpha=0.5, label=\"Аномальные операторы\", color=\"red\")\n",
    "\n",
    "plt.hist(normal_operators[\"total_call_duration\"], bins=50, alpha=0.5, label=\"Нормальные операторы\", color=\"blue\")\n",
    "\n",
    "plt.xlabel(\"Продолжительность звонка (минуты)\")\n",
    "plt.ylabel(\"Количество звонков\")\n",
    "plt.title(\"Распределение продолжительности звонков\")\n",
    "plt.legend()\n",
    "plt.yscale(\"log\")  # Логарифмическая шкала для лучшей видимости\n",
    "plt.grid(axis='y', linestyle='--', alpha=0.7)\n",
    "\n",
    "plt.show()"
   ]
  },
  {
   "cell_type": "markdown",
   "metadata": {},
   "source": [
    "\n",
    "\n",
    " - Звонки у аномальных операторов (красная гистограмма) сильно смещены в область очень больших значений.\n",
    " - У нормальных операторов (синяя гистограмма) звонки распределены более равномерно, но всё равно есть длинные вызовы.\n",
    "    \n",
    "   **Вывод**:\n",
    "    В учете длительности звонков наблюдаются явные ошибки. Можно либо обратиться к заказчику, чтобы уточнить как именно происходит запись данных, и можно ли интерпретировать результаты иначе.\n",
    "    В нашем случае я не вижу альтернативы фильтровке данных (отбросить 52% аномальных значений)."
   ]
  },
  {
   "cell_type": "code",
   "execution_count": 24,
   "metadata": {},
   "outputs": [
    {
     "name": "stdout",
     "output_type": "stream",
     "text": [
      "После фильтрации осталось 522 уникальных оператора.\n",
      "Количество записей о звонках после фильтрации: 13073.\n"
     ]
    }
   ],
   "source": [
    "df_calls_filtered = df_calls[~df_calls[\"operator_id\"].isin(operators_over_24h_list)]\n",
    "\n",
    "remaining_operators = df_calls_filtered[\"operator_id\"].nunique()\n",
    "remaining_calls = df_calls_filtered.shape[0]\n",
    "\n",
    "print(f\"После фильтрации осталось {remaining_operators} уникальных оператора.\")\n",
    "print(f\"Количество записей о звонках после фильтрации: {remaining_calls}.\")\n"
   ]
  },
  {
   "cell_type": "markdown",
   "metadata": {},
   "source": [
    "\n",
    "**Выводы по предобработке данных:**\n",
    "\n",
    "- Привели **даты** и **ID операторов** к нужному формату.  \n",
    "- Удалили **4900** дубликатов, нашли **7456** пропусков в `operator_id`, большинство связано с пропущенными вызовами.  \n",
    "- Выяснили, что в базе клиентов **732 записи**, но только **307** реально совершали звонки.  \n",
    "- Проверили тарифы – у каждого клиента **только один тариф**.  \n",
    "- **Нашли аномалию**: Более 50% операторов работают **больше 24 часов в сутки**. \n",
    "\n",
    "Для данного исследования важно отметить, что аномальными значениями будут считаться лишь значения, превышающие **24 часа в сутки**, посколько оператор в данном случае - не один человек, а один \"канал связи\", т.е. \"одним оператором\" могут быть несколько человек, работающие посменно. Поэтому, аптайм звонков до 24 часов можно считать нормой - например, для служб поддержки, работающих 24\\7, или же клиентов, работающих со многими часовыми зонами. \n"
   ]
  },
  {
   "cell_type": "markdown",
   "metadata": {},
   "source": [
    "# Исследовательский анализ данных"
   ]
  },
  {
   "cell_type": "markdown",
   "metadata": {},
   "source": [
    "**Поглядим на поведение оставшихся клиентов:**"
   ]
  },
  {
   "cell_type": "code",
   "execution_count": 31,
   "metadata": {},
   "outputs": [
    {
     "data": {
      "text/plain": [
       "<Figure size 720x360 with 0 Axes>"
      ]
     },
     "metadata": {},
     "output_type": "display_data"
    },
    {
     "data": {
      "image/png": "[encoded data removed]",
      "text/plain": [
       "<Figure size 720x360 with 1 Axes>"
      ]
     },
     "metadata": {
      "needs_background": "light"
     },
     "output_type": "display_data"
    },
    {
     "data": {
      "text/plain": [
       "<Figure size 720x360 with 0 Axes>"
      ]
     },
     "metadata": {},
     "output_type": "display_data"
    },
    {
     "data": {
      "image/png": "[encoded data removed]",
      "text/plain": [
       "<Figure size 720x360 with 1 Axes>"
      ]
     },
     "metadata": {
      "needs_background": "light"
     },
     "output_type": "display_data"
    }
   ],
   "source": [
    "daily_call_counts = df_calls_filtered.groupby(['date', 'direction'])['calls_count'].sum().unstack()\n",
    "\n",
    "# График динамики входящих и исходящих вызовов по дням\n",
    "plt.figure(figsize=(10, 5))\n",
    "daily_call_counts.plot(kind='line', marker='o', figsize=(10, 5))\n",
    "plt.title(\"Динамика входящих и исходящих вызовов по дням\")\n",
    "plt.xlabel(\"Дата\")\n",
    "plt.ylabel(\"Количество вызовов\")\n",
    "plt.legend(title=\"Тип вызова\")\n",
    "plt.xticks(rotation=45)\n",
    "plt.grid()\n",
    "plt.show()\n",
    "\n",
    "daily_missed_calls = df_calls_filtered.groupby(['date', 'is_missed_call'])['calls_count'].sum().unstack()\n",
    "\n",
    "# График динамики пропущенных и не пропущенных вызовов по дням\n",
    "plt.figure(figsize=(10, 5))\n",
    "daily_missed_calls.plot(kind='line', marker='o', figsize=(10, 5))\n",
    "plt.title(\"Динамика пропущенных и не пропущенных вызовов по дням\")\n",
    "plt.xlabel(\"Дата\")\n",
    "plt.ylabel(\"Количество вызовов\")\n",
    "plt.legend(title=\"Пропущенные вызовы\", labels=[\"Не пропущенные\", \"Пропущенные\"])\n",
    "plt.xticks(rotation=45)\n",
    "plt.grid()\n",
    "plt.show()\n"
   ]
  },
  {
   "cell_type": "code",
   "execution_count": 32,
   "metadata": {
    "scrolled": true
   },
   "outputs": [
    {
     "data": {
      "image/png": "[encoded data removed]",
      "text/plain": [
       "<Figure size 432x288 with 1 Axes>"
      ]
     },
     "metadata": {},
     "output_type": "display_data"
    },
    {
     "data": {
      "image/png": "[encoded data removed]",
      "text/plain": [
       "<Figure size 432x288 with 1 Axes>"
      ]
     },
     "metadata": {},
     "output_type": "display_data"
    }
   ],
   "source": [
    "call_direction_counts = df_calls_filtered['direction'].value_counts()\n",
    "\n",
    "# График соотношения входящих и исходящих вызовов\n",
    "plt.figure(figsize=(6, 4))\n",
    "plt.pie(call_direction_counts, labels=call_direction_counts.index, autopct='%1.1f%%', startangle=90)\n",
    "plt.title(\"Соотношение входящих и исходящих вызовов\")\n",
    "plt.show()\n",
    "\n",
    "missed_calls_counts = df_calls_filtered['is_missed_call'].value_counts()\n",
    "\n",
    "# График пропущенных и не пропущенных вызовов\n",
    "plt.figure(figsize=(6, 4))\n",
    "plt.pie(missed_calls_counts, labels=[\"Не пропущенные\", \"Пропущенные\"], autopct='%1.1f%%', startangle=90)\n",
    "plt.title(\"Соотношение пропущенных и не пропущенных вызовов\")\n",
    "plt.show()\n"
   ]
  },
  {
   "cell_type": "markdown",
   "metadata": {},
   "source": [
    " - Входящих вызовов больше, чем исходящих.\n",
    " - Есть резкие скачки в количестве вызовов – возможно, это выходные, праздники или технические сбои.\n",
    " - Пропущенные вызовы растут в пиковые дни, что может указывать на перегрузку операторов."
   ]
  },
  {
   "cell_type": "markdown",
   "metadata": {},
   "source": [
    "Посмотрим на распределение звонков по дням недели:"
   ]
  },
  {
   "cell_type": "code",
   "execution_count": 33,
   "metadata": {
    "scrolled": true
   },
   "outputs": [
    {
     "data": {
      "image/png": "[encoded data removed]",
      "text/plain": [
       "<Figure size 576x360 with 1 Axes>"
      ]
     },
     "metadata": {
      "needs_background": "light"
     },
     "output_type": "display_data"
    }
   ],
   "source": [
    "df_calls_filtered['weekday'] = df_calls_filtered['date'].dt.day_name()\n",
    "\n",
    "calls_by_weekday_avg = df_calls_filtered.groupby('weekday')['calls_count'].sum() / df_calls_filtered['date'].nunique()\n",
    "\n",
    "calls_by_weekday_avg = calls_by_weekday_avg.reindex(\n",
    "    [\"Monday\", \"Tuesday\", \"Wednesday\", \"Thursday\", \"Friday\", \"Saturday\", \"Sunday\"]\n",
    ")\n",
    "\n",
    "plt.figure(figsize=(8, 5))\n",
    "calls_by_weekday_avg.plot(kind='bar', color='royalblue', edgecolor='black')\n",
    "plt.title(\"Среднее количество звонков по дням недели (после фильтрации)\")\n",
    "plt.xlabel(\"День недели\")\n",
    "plt.ylabel(\"Среднее количество звонков в день\")\n",
    "plt.xticks(rotation=45)\n",
    "plt.grid(axis='y', linestyle='--', alpha=0.7)\n",
    "plt.show()"
   ]
  },
  {
   "cell_type": "markdown",
   "metadata": {},
   "source": [
    "Отчётливо виден спад количества звонков в выходные дни."
   ]
  },
  {
   "cell_type": "markdown",
   "metadata": {},
   "source": [
    "Посмотрим на распределение данных во времени в зависимости от тарифа:"
   ]
  },
  {
   "cell_type": "code",
   "execution_count": 34,
   "metadata": {
    "scrolled": true
   },
   "outputs": [
    {
     "data": {
      "text/html": [
       "<div>\n",
       "<style scoped>\n",
       "    .dataframe tbody tr th:only-of-type {\n",
       "        vertical-align: middle;\n",
       "    }\n",
       "\n",
       "    .dataframe tbody tr th {\n",
       "        vertical-align: top;\n",
       "    }\n",
       "\n",
       "    .dataframe thead th {\n",
       "        text-align: right;\n",
       "    }\n",
       "</style>\n",
       "<table border=\"1\" class=\"dataframe\">\n",
       "  <thead>\n",
       "    <tr style=\"text-align: right;\">\n",
       "      <th></th>\n",
       "      <th>user_id</th>\n",
       "      <th>date</th>\n",
       "      <th>direction</th>\n",
       "      <th>internal</th>\n",
       "      <th>operator_id</th>\n",
       "      <th>is_missed_call</th>\n",
       "      <th>calls_count</th>\n",
       "      <th>call_duration</th>\n",
       "      <th>total_call_duration</th>\n",
       "      <th>total_call_duration_hours</th>\n",
       "    </tr>\n",
       "  </thead>\n",
       "  <tbody>\n",
       "    <tr>\n",
       "      <th>0</th>\n",
       "      <td>166377</td>\n",
       "      <td>2019-08-04</td>\n",
       "      <td>in</td>\n",
       "      <td>False</td>\n",
       "      <td>&lt;NA&gt;</td>\n",
       "      <td>True</td>\n",
       "      <td>2</td>\n",
       "      <td>0</td>\n",
       "      <td>4</td>\n",
       "      <td>0.067</td>\n",
       "    </tr>\n",
       "    <tr>\n",
       "      <th>1</th>\n",
       "      <td>166377</td>\n",
       "      <td>2019-08-05</td>\n",
       "      <td>out</td>\n",
       "      <td>True</td>\n",
       "      <td>880022</td>\n",
       "      <td>True</td>\n",
       "      <td>3</td>\n",
       "      <td>0</td>\n",
       "      <td>5</td>\n",
       "      <td>0.083</td>\n",
       "    </tr>\n",
       "    <tr>\n",
       "      <th>2</th>\n",
       "      <td>166377</td>\n",
       "      <td>2019-08-05</td>\n",
       "      <td>out</td>\n",
       "      <td>True</td>\n",
       "      <td>880020</td>\n",
       "      <td>True</td>\n",
       "      <td>1</td>\n",
       "      <td>0</td>\n",
       "      <td>1</td>\n",
       "      <td>0.017</td>\n",
       "    </tr>\n",
       "    <tr>\n",
       "      <th>3</th>\n",
       "      <td>166377</td>\n",
       "      <td>2019-08-05</td>\n",
       "      <td>out</td>\n",
       "      <td>True</td>\n",
       "      <td>880020</td>\n",
       "      <td>False</td>\n",
       "      <td>1</td>\n",
       "      <td>10</td>\n",
       "      <td>18</td>\n",
       "      <td>0.300</td>\n",
       "    </tr>\n",
       "    <tr>\n",
       "      <th>4</th>\n",
       "      <td>166377</td>\n",
       "      <td>2019-08-05</td>\n",
       "      <td>out</td>\n",
       "      <td>False</td>\n",
       "      <td>880022</td>\n",
       "      <td>True</td>\n",
       "      <td>3</td>\n",
       "      <td>0</td>\n",
       "      <td>25</td>\n",
       "      <td>0.417</td>\n",
       "    </tr>\n",
       "  </tbody>\n",
       "</table>\n",
       "</div>"
      ],
      "text/plain": [
       "   user_id       date direction internal  operator_id  is_missed_call  \\\n",
       "0   166377 2019-08-04        in    False         <NA>            True   \n",
       "1   166377 2019-08-05       out     True       880022            True   \n",
       "2   166377 2019-08-05       out     True       880020            True   \n",
       "3   166377 2019-08-05       out     True       880020           False   \n",
       "4   166377 2019-08-05       out    False       880022            True   \n",
       "\n",
       "   calls_count  call_duration  total_call_duration  total_call_duration_hours  \n",
       "0            2              0                    4                      0.067  \n",
       "1            3              0                    5                      0.083  \n",
       "2            1              0                    1                      0.017  \n",
       "3            1             10                   18                      0.300  \n",
       "4            3              0                   25                      0.417  "
      ]
     },
     "execution_count": 34,
     "metadata": {},
     "output_type": "execute_result"
    }
   ],
   "source": [
    "df_calls_filtered = df_calls_filtered.merge(df_clients[['user_id', 'tariff_plan']], on=\"user_id\", how=\"left\")\n",
    "df_calls.head()"
   ]
  },
  {
   "cell_type": "code",
   "execution_count": 35,
   "metadata": {},
   "outputs": [
    {
     "data": {
      "text/plain": [
       "<Figure size 720x360 with 0 Axes>"
      ]
     },
     "metadata": {},
     "output_type": "display_data"
    },
    {
     "data": {
      "image/png": "[encoded data removed]",
      "text/plain": [
       "<Figure size 720x360 with 1 Axes>"
      ]
     },
     "metadata": {
      "needs_background": "light"
     },
     "output_type": "display_data"
    }
   ],
   "source": [
    "\n",
    "calls_by_tariff_over_time = df_calls_filtered.groupby(['date', 'tariff_plan'])['calls_count'].sum().unstack()\n",
    "\n",
    "colors = sns.color_palette(\"bright\", n_colors=len(calls_by_tariff_over_time.columns))\n",
    "\n",
    "plt.figure(figsize=(10, 5))\n",
    "calls_by_tariff_over_time.plot(kind='line', marker='o', figsize=(10, 5), color=colors, linewidth=2)\n",
    "plt.title(\"Динамика количества звонков по тарифам\")\n",
    "plt.xlabel(\"Дата\")\n",
    "plt.ylabel(\"Количество звонков\")\n",
    "plt.legend(title=\"Тарифный план\")\n",
    "plt.xticks(rotation=45)\n",
    "plt.grid()\n",
    "plt.show()\n"
   ]
  },
  {
   "cell_type": "markdown",
   "metadata": {},
   "source": [
    "- **Тариф A (синий)** – больше всего звонков, особенно с октября.  \n",
    "- **Тариф C (зеленый)** – число звонков скачет, нестабильное использование.  \n",
    "- **Тариф B (оранжевый)** – самый ровный, без резких изменений.  \n",
    "\n",
    "- Наблюдаем общий рост звонков с сентября по ноябрь.  \n",
    "- Тариф A – самый активный, тарифы В и С показывают более-менее одинаковую активность."
   ]
  },
  {
   "cell_type": "markdown",
   "metadata": {},
   "source": [
    "\n",
    "    \n",
    "За критерий активности пользователей возьмем наличие звонков в последний месяц, т.к.: \n",
    "    \n",
    "    - На графиках видно довольно мощный и стабильный рост активности клиентов в первые два месяца, однако использование устаревших данных (а в данном случае наш клиент был явно в ранней стадии запуска продукта) может исказить текущие тренды.\n",
    "    \n",
    "    - Актуальность данных – последний месяц предоставляет наиболее свежую информацию о поведении пользователей.\n",
    "    \n",
    "    - Пользователи могли изменять свои тарифы или привычки в течение нескольких месяцев. Последний месяц лучше отражает актуальную картину."
   ]
  },
  {
   "cell_type": "markdown",
   "metadata": {},
   "source": [
    "\n",
    "Уточним, какой процент данных будет отфильтрован при таком подходе."
   ]
  },
  {
   "cell_type": "code",
   "execution_count": 36,
   "metadata": {},
   "outputs": [
    {
     "data": {
      "text/plain": [
       "(307, 270, 12.052117263843648)"
      ]
     },
     "execution_count": 36,
     "metadata": {},
     "output_type": "execute_result"
    }
   ],
   "source": [
    "last_month_start = df_calls_filtered['date'].max() - pd.DateOffset(months=1)\n",
    "\n",
    "active_users_last_month = df_calls_filtered[df_calls_filtered['date'] >= last_month_start]['user_id'].unique()\n",
    "\n",
    "total_users_before = df_calls_filtered['user_id'].nunique()\n",
    "\n",
    "total_users_after = len(active_users_last_month)\n",
    "\n",
    "filtered_percentage = ((total_users_before - total_users_after) / total_users_before) * 100\n",
    "\n",
    "total_users_before, total_users_after, filtered_percentage\n"
   ]
  },
  {
   "cell_type": "markdown",
   "metadata": {},
   "source": [
    "\n",
    "\n",
    "Процент пользователей, которые будут отфильтрованы: ~12.05%. Увеличим период и исключим из фильтрации тех, кто присоединился в октябре и ноябре."
   ]
  },
  {
   "cell_type": "code",
   "execution_count": 37,
   "metadata": {},
   "outputs": [
    {
     "data": {
      "text/plain": [
       "(307, 282, 8.143322475570033)"
      ]
     },
     "execution_count": 37,
     "metadata": {},
     "output_type": "execute_result"
    }
   ],
   "source": [
    "adjusted_last_month_start_6w = df_calls_filtered['date'].max() - pd.DateOffset(weeks=6)\n",
    "\n",
    "recent_users_oct_nov = df_clients[df_clients['date_start'].dt.month.isin([10, 11])]['user_id'].unique()\n",
    "\n",
    "active_users_last_6w = df_calls_filtered[df_calls_filtered['date'] >= adjusted_last_month_start_6w]['user_id'].unique()\n",
    "\n",
    "filtered_users_6w_oct_nov = set(df_calls_filtered['user_id'].unique()) - set(active_users_last_6w)\n",
    "filtered_users_final_6w_oct_nov = filtered_users_6w_oct_nov - set(recent_users_oct_nov)\n",
    "\n",
    "total_users_after_6w_oct_nov = total_users_before - len(filtered_users_final_6w_oct_nov)\n",
    "\n",
    "filtered_percentage_6w_oct_nov = ((total_users_before - total_users_after_6w_oct_nov) / total_users_before) * 100\n",
    "\n",
    "total_users_before, total_users_after_6w_oct_nov, filtered_percentage_6w_oct_nov\n"
   ]
  },
  {
   "cell_type": "markdown",
   "metadata": {},
   "source": [
    "\n",
    "Процент отфильтрованных пользователей: ~8.14%, что уже несколько лучше."
   ]
  },
  {
   "cell_type": "markdown",
   "metadata": {},
   "source": [
    "Посмотрим на длительность звонков в зависимости от тарифа:"
   ]
  },
  {
   "cell_type": "code",
   "execution_count": 38,
   "metadata": {},
   "outputs": [
    {
     "data": {
      "image/png": "[encoded data removed]",
      "text/plain": [
       "<Figure size 576x360 with 1 Axes>"
      ]
     },
     "metadata": {
      "needs_background": "light"
     },
     "output_type": "display_data"
    }
   ],
   "source": [
    "duration_by_tariff = df_calls_filtered.groupby('tariff_plan')['total_call_duration'].sum()\n",
    "avg_duration_by_tariff = df_calls_filtered.groupby('tariff_plan')['total_call_duration'].mean()\n",
    "df_duration = pd.DataFrame({'Общая длительность (минуты)': duration_by_tariff, 'Средняя длительность (минуты)': avg_duration_by_tariff})\n",
    "\n",
    "\n",
    "plt.figure(figsize=(8, 5))\n",
    "avg_duration_by_tariff.plot(kind='bar', color='orange', edgecolor='black')\n",
    "plt.title(\"Средняя длительность звонка по тарифам\")\n",
    "plt.xlabel(\"Тарифный план\")\n",
    "plt.ylabel(\"Средняя длительность звонка (минуты)\")\n",
    "plt.xticks(rotation=0)\n",
    "plt.grid(axis='y', linestyle='--', alpha=0.7)\n",
    "plt.show()\n",
    "\n"
   ]
  },
  {
   "cell_type": "markdown",
   "metadata": {},
   "source": [
    "- **Тариф A** – средний звонок длится дольше всех.\n",
    "\n",
    "- **Тарифы B и C** – звонки короче.\n",
    "\n",
    "На всех тарифах наблюдаются **аномально долгие** звонки. "
   ]
  },
  {
   "cell_type": "markdown",
   "metadata": {},
   "source": [
    "Потроим гистограмму распределения продолжительности звонков по операторам\n"
   ]
  },
  {
   "cell_type": "code",
   "execution_count": 39,
   "metadata": {},
   "outputs": [
    {
     "data": {
      "image/png": "[encoded data removed]",
      "text/plain": [
       "<Figure size 720x360 with 1 Axes>"
      ]
     },
     "metadata": {
      "needs_background": "light"
     },
     "output_type": "display_data"
    }
   ],
   "source": [
    "plt.figure(figsize=(10, 5))\n",
    "sns.histplot(df_calls_filtered['total_call_duration'], bins=50, color='steelblue', edgecolor='black', log_scale=(False, True))\n",
    "\n",
    "plt.title(\"Распределение продолжительности звонков по операторам\")\n",
    "plt.xlabel(\"Продолжительность звонка (минуты)\")\n",
    "plt.ylabel(\"Количество звонков\")\n",
    "plt.grid()\n",
    "plt.show()\n"
   ]
  },
  {
   "cell_type": "markdown",
   "metadata": {},
   "source": [
    "Построим гистограмму распределения длительности звонков без учета ожидания\n"
   ]
  },
  {
   "cell_type": "code",
   "execution_count": 40,
   "metadata": {},
   "outputs": [
    {
     "data": {
      "image/png": "[encoded data removed]",
      "text/plain": [
       "<Figure size 720x360 with 1 Axes>"
      ]
     },
     "metadata": {
      "needs_background": "light"
     },
     "output_type": "display_data"
    }
   ],
   "source": [
    "plt.figure(figsize=(10, 5))\n",
    "sns.histplot(df_calls_filtered['call_duration'], bins=50, color='darkblue', edgecolor='black', log_scale=(False, True))\n",
    "\n",
    "plt.title(\"Распределение продолжительности звонков без учета ожидания по операторам\")\n",
    "plt.xlabel(\"Продолжительность звонка (минуты)\")\n",
    "plt.ylabel(\"Количество звонков\")\n",
    "plt.grid()\n",
    "plt.show()\n"
   ]
  },
  {
   "cell_type": "markdown",
   "metadata": {},
   "source": [
    "\n",
    "\n",
    "- Видны вызовы, с нереалистично большой длительностью.   \n",
    "- **Без учета ожидания звонки короче**, но всё равно есть выбросы с длительными вызовами.\n",
    "\n",
    "Как было отмечено ранее, подобные аномалии могут быть случаями круглосуточной работы компании и неверным разделением (а точнее отсутствием разделения звонков)."
   ]
  },
  {
   "cell_type": "markdown",
   "metadata": {},
   "source": [
    "Соотношение звонков внутри вне сети по тарифам:"
   ]
  },
  {
   "cell_type": "code",
   "execution_count": 42,
   "metadata": {},
   "outputs": [
    {
     "data": {
      "image/png": "[encoded data removed]",
      "text/plain": [
       "<Figure size 1080x360 with 3 Axes>"
      ]
     },
     "metadata": {},
     "output_type": "display_data"
    }
   ],
   "source": [
    "internal_external_calls = df_calls_filtered.groupby(['tariff_plan', 'internal'])['calls_count'].sum().unstack()\n",
    "\n",
    "internal_external_calls.columns = ['Внешние', 'Внутренние']\n",
    "\n",
    "fig, axes = plt.subplots(1, 3, figsize=(15, 5))\n",
    "\n",
    "tariffs = internal_external_calls.index\n",
    "colors = ['steelblue', 'orange']\n",
    "\n",
    "for i, tariff in enumerate(tariffs):\n",
    "    axes[i].pie(\n",
    "        internal_external_calls.loc[tariff],\n",
    "        labels=['Внешние', 'Внутренние'],\n",
    "        autopct='%1.1f%%',\n",
    "        colors=colors,\n",
    "        startangle=90\n",
    "    )\n",
    "    axes[i].set_title(f\"Тариф {tariff}\")\n",
    "\n",
    "plt.suptitle(\"Соотношение внутренних и внешних звонков по тарифам\")\n",
    "plt.show()\n"
   ]
  },
  {
   "cell_type": "markdown",
   "metadata": {},
   "source": [
    " - Внутренние звонки составляют менее 3% во всех тарифах.\n",
    " \n",
    " - На тарифе A доля внутренних вызовов самая низкая – всего 1.9%.\n",
    " - В тарифах B и C – чуть больше, но всё равно незначительно (2.8% и 2.2%).\n",
    " - Внешние звонки преобладают во всех тарифах."
   ]
  },
  {
   "cell_type": "markdown",
   "metadata": {},
   "source": [
    "# Поиск клиентов с неоптимальными тарифами"
   ]
  },
  {
   "cell_type": "markdown",
   "metadata": {},
   "source": [
    "Найдем активных пользователей с неоптимальными тарифами. с критерием активности за последние 6 недель и учётом пользователей, присоединившихся не раньше октября:"
   ]
  },
  {
   "cell_type": "code",
   "execution_count": 43,
   "metadata": {},
   "outputs": [
    {
     "data": {
      "text/plain": [
       "(282, 12721)"
      ]
     },
     "execution_count": 43,
     "metadata": {},
     "output_type": "execute_result"
    }
   ],
   "source": [
    "filtered_df_calls = df_calls_filtered[df_calls_filtered['user_id'].isin(active_users_last_6w) | \n",
    "                                      df_calls_filtered['user_id'].isin(recent_users_oct_nov)]\n",
    "\n",
    "remaining_users_after_filter = filtered_df_calls['user_id'].nunique()\n",
    "remaining_calls_after_filter = filtered_df_calls.shape[0]\n",
    "\n",
    "remaining_users_after_filter, remaining_calls_after_filter\n"
   ]
  },
  {
   "cell_type": "code",
   "execution_count": 44,
   "metadata": {},
   "outputs": [
    {
     "data": {
      "text/html": [
       "<div>\n",
       "<style scoped>\n",
       "    .dataframe tbody tr th:only-of-type {\n",
       "        vertical-align: middle;\n",
       "    }\n",
       "\n",
       "    .dataframe tbody tr th {\n",
       "        vertical-align: top;\n",
       "    }\n",
       "\n",
       "    .dataframe thead th {\n",
       "        text-align: right;\n",
       "    }\n",
       "</style>\n",
       "<table border=\"1\" class=\"dataframe\">\n",
       "  <thead>\n",
       "    <tr style=\"text-align: right;\">\n",
       "      <th></th>\n",
       "      <th>user_id</th>\n",
       "      <th>tariff_plan</th>\n",
       "      <th>total_call_duration</th>\n",
       "      <th>total_calls</th>\n",
       "      <th>unique_operators</th>\n",
       "      <th>external_call_duration</th>\n",
       "      <th>calculated_cost</th>\n",
       "      <th>better_tariff</th>\n",
       "    </tr>\n",
       "  </thead>\n",
       "  <tbody>\n",
       "    <tr>\n",
       "      <th>0</th>\n",
       "      <td>166377</td>\n",
       "      <td>B</td>\n",
       "      <td>201</td>\n",
       "      <td>29</td>\n",
       "      <td>1</td>\n",
       "      <td>201</td>\n",
       "      <td>2,250.500</td>\n",
       "      <td>C</td>\n",
       "    </tr>\n",
       "    <tr>\n",
       "      <th>2</th>\n",
       "      <td>166392</td>\n",
       "      <td>C</td>\n",
       "      <td>9671</td>\n",
       "      <td>71</td>\n",
       "      <td>2</td>\n",
       "      <td>9671</td>\n",
       "      <td>11,271.000</td>\n",
       "      <td>A</td>\n",
       "    </tr>\n",
       "    <tr>\n",
       "      <th>3</th>\n",
       "      <td>166405</td>\n",
       "      <td>B</td>\n",
       "      <td>30367</td>\n",
       "      <td>1377</td>\n",
       "      <td>0</td>\n",
       "      <td>30367</td>\n",
       "      <td>21,663.550</td>\n",
       "      <td>A</td>\n",
       "    </tr>\n",
       "    <tr>\n",
       "      <th>4</th>\n",
       "      <td>166406</td>\n",
       "      <td>B</td>\n",
       "      <td>402</td>\n",
       "      <td>15</td>\n",
       "      <td>0</td>\n",
       "      <td>402</td>\n",
       "      <td>2,201.000</td>\n",
       "      <td>C</td>\n",
       "    </tr>\n",
       "    <tr>\n",
       "      <th>7</th>\n",
       "      <td>166482</td>\n",
       "      <td>C</td>\n",
       "      <td>2698</td>\n",
       "      <td>23</td>\n",
       "      <td>2</td>\n",
       "      <td>2698</td>\n",
       "      <td>4,298.000</td>\n",
       "      <td>B</td>\n",
       "    </tr>\n",
       "  </tbody>\n",
       "</table>\n",
       "</div>"
      ],
      "text/plain": [
       "   user_id tariff_plan  total_call_duration  total_calls  unique_operators  \\\n",
       "0   166377           B                  201           29                 1   \n",
       "2   166392           C                 9671           71                 2   \n",
       "3   166405           B                30367         1377                 0   \n",
       "4   166406           B                  402           15                 0   \n",
       "7   166482           C                 2698           23                 2   \n",
       "\n",
       "   external_call_duration  calculated_cost better_tariff  \n",
       "0                     201        2,250.500             C  \n",
       "2                    9671       11,271.000             A  \n",
       "3                   30367       21,663.550             A  \n",
       "4                     402        2,201.000             C  \n",
       "7                    2698        4,298.000             B  "
      ]
     },
     "execution_count": 44,
     "metadata": {},
     "output_type": "execute_result"
    }
   ],
   "source": [
    "filtered_df_calls['month'] = filtered_df_calls['date'].dt.to_period('M')\n",
    "\n",
    "last_month = filtered_df_calls['date'].max().month\n",
    "last_year = filtered_df_calls['date'].max().year\n",
    "\n",
    "active_users = filtered_df_calls[\n",
    "    (filtered_df_calls['date'].dt.month == last_month) & (filtered_df_calls['date'].dt.year == last_year)\n",
    "]['user_id'].unique()\n",
    "\n",
    "df_active_calls = filtered_df_calls[\n",
    "    (filtered_df_calls['user_id'].isin(active_users)) & \n",
    "    (filtered_df_calls['month'] == f\"{last_year}-{last_month}\")\n",
    "]\n",
    "\n",
    "# Группировка данных по пользователям и тарифам\n",
    "user_call_stats = df_active_calls.groupby(['user_id', 'tariff_plan']).agg(\n",
    "    total_call_duration=('total_call_duration', 'sum'),\n",
    "    total_calls=('calls_count', 'sum'),\n",
    "    unique_operators=('operator_id', 'nunique'),\n",
    "    external_call_duration=('total_call_duration', lambda x: x[df_active_calls['internal'] == False].sum())\n",
    ").reset_index()\n",
    "\n",
    "# Детали тарифов\n",
    "tariff_details = {\n",
    "    \"A\": {\"monthly_fee\": 4000, \"included_minutes\": 2000, \"extra_minute_cost\": 0.1, \"operator_fee\": 50, \"external_call_cost\": 0.3},\n",
    "    \"B\": {\"monthly_fee\": 2000, \"included_minutes\": 500, \"extra_minute_cost\": 0.15, \"operator_fee\": 150, \"external_call_cost\": 0.5},\n",
    "    \"C\": {\"monthly_fee\": 1000, \"included_minutes\": 0, \"extra_minute_cost\": 0.3, \"operator_fee\": 300, \"external_call_cost\": 0.7}\n",
    "}\n",
    "\n",
    "# Функция расчета затрат с учетом всех параметров тарифа\n",
    "def calculate_cost(row):\n",
    "    tariff = tariff_details[row['tariff_plan']]\n",
    "    base_cost = tariff[\"monthly_fee\"]\n",
    "    extra_minutes_cost = max(0, row['total_call_duration'] - tariff[\"included_minutes\"]) * tariff[\"extra_minute_cost\"]\n",
    "    operator_fee = row['unique_operators'] * tariff[\"operator_fee\"]\n",
    "    external_calls_cost = row['external_call_duration'] * tariff[\"external_call_cost\"]\n",
    "    \n",
    "    return base_cost + extra_minutes_cost + operator_fee + external_calls_cost\n",
    "\n",
    "user_call_stats['calculated_cost'] = user_call_stats.apply(calculate_cost, axis=1)\n",
    "\n",
    "# Определение неоптимальных тарифов\n",
    "def find_better_tariff(row):\n",
    "    current_cost = row['calculated_cost']\n",
    "    best_tariff = row['tariff_plan']\n",
    "    best_cost = current_cost\n",
    "\n",
    "    for tariff, details in tariff_details.items():\n",
    "        if tariff != row['tariff_plan']:\n",
    "            alternative_cost = (\n",
    "                details[\"monthly_fee\"] +\n",
    "                max(0, row['total_call_duration'] - details[\"included_minutes\"]) * details[\"extra_minute_cost\"] +\n",
    "                row['unique_operators'] * details[\"operator_fee\"] +\n",
    "                row['external_call_duration'] * details[\"external_call_cost\"]\n",
    "            )\n",
    "            if alternative_cost < best_cost:\n",
    "                best_tariff = tariff\n",
    "                best_cost = alternative_cost\n",
    "\n",
    "    return best_tariff if best_tariff != row['tariff_plan'] else None\n",
    "\n",
    "user_call_stats['better_tariff'] = user_call_stats.apply(find_better_tariff, axis=1)\n",
    "\n",
    "# Фильтрация пользователей, для которых можно найти лучший тариф\n",
    "users_with_better_tariffs = user_call_stats.dropna(subset=['better_tariff'])\n",
    "\n",
    "users_with_better_tariffs.head()"
   ]
  },
  {
   "cell_type": "code",
   "execution_count": 45,
   "metadata": {},
   "outputs": [
    {
     "data": {
      "image/png": "[encoded data removed]",
      "text/plain": [
       "<Figure size 432x432 with 1 Axes>"
      ]
     },
     "metadata": {},
     "output_type": "display_data"
    },
    {
     "name": "stdout",
     "output_type": "stream",
     "text": [
      " Пользователей с оптимальными тарифами: 125\n",
      " Пользователей с неоптимальными тарифами: 133\n",
      " Всего активных пользователей: 258\n"
     ]
    }
   ],
   "source": [
    "# Анализ пользователей с оптимальными и неоптимальными тарифами\n",
    "num_users_with_better_tariffs = users_with_better_tariffs['user_id'].nunique()\n",
    "\n",
    "total_active_users = user_call_stats['user_id'].nunique()\n",
    "\n",
    "num_users_with_optimal_tariffs = total_active_users - num_users_with_better_tariffs\n",
    "\n",
    "labels = [\"Оптимальный тариф\", \"Неоптимальный тариф\"]\n",
    "sizes = [num_users_with_optimal_tariffs, num_users_with_better_tariffs]\n",
    "colors = [\"mediumseagreen\", \"coral\"]\n",
    "\n",
    "plt.figure(figsize=(6, 6))\n",
    "plt.pie(sizes, labels=labels, autopct='%1.1f%%', colors=colors, startangle=90)\n",
    "plt.title(\"Соотношение пользователей с оптимальными и неоптимальными тарифами\")\n",
    "plt.show()\n",
    "\n",
    "print(f\" Пользователей с оптимальными тарифами: {num_users_with_optimal_tariffs}\")\n",
    "print(f\" Пользователей с неоптимальными тарифами: {num_users_with_better_tariffs}\")\n",
    "print(f\" Всего активных пользователей: {total_active_users}\")"
   ]
  },
  {
   "cell_type": "code",
   "execution_count": 46,
   "metadata": {},
   "outputs": [
    {
     "data": {
      "text/html": [
       "<div>\n",
       "<style scoped>\n",
       "    .dataframe tbody tr th:only-of-type {\n",
       "        vertical-align: middle;\n",
       "    }\n",
       "\n",
       "    .dataframe tbody tr th {\n",
       "        vertical-align: top;\n",
       "    }\n",
       "\n",
       "    .dataframe thead th {\n",
       "        text-align: right;\n",
       "    }\n",
       "</style>\n",
       "<table border=\"1\" class=\"dataframe\">\n",
       "  <thead>\n",
       "    <tr style=\"text-align: right;\">\n",
       "      <th></th>\n",
       "      <th>Всего активных пользователей</th>\n",
       "      <th>Неоптимальных подключений</th>\n",
       "      <th>Доля неоптимальных подключений (%)</th>\n",
       "    </tr>\n",
       "    <tr>\n",
       "      <th>tariff_plan</th>\n",
       "      <th></th>\n",
       "      <th></th>\n",
       "      <th></th>\n",
       "    </tr>\n",
       "  </thead>\n",
       "  <tbody>\n",
       "    <tr>\n",
       "      <th>A</th>\n",
       "      <td>30</td>\n",
       "      <td>22</td>\n",
       "      <td>73.333</td>\n",
       "    </tr>\n",
       "    <tr>\n",
       "      <th>B</th>\n",
       "      <td>96</td>\n",
       "      <td>68</td>\n",
       "      <td>70.833</td>\n",
       "    </tr>\n",
       "    <tr>\n",
       "      <th>C</th>\n",
       "      <td>132</td>\n",
       "      <td>43</td>\n",
       "      <td>32.576</td>\n",
       "    </tr>\n",
       "  </tbody>\n",
       "</table>\n",
       "</div>"
      ],
      "text/plain": [
       "             Всего активных пользователей  Неоптимальных подключений  \\\n",
       "tariff_plan                                                            \n",
       "A                                      30                         22   \n",
       "B                                      96                         68   \n",
       "C                                     132                         43   \n",
       "\n",
       "             Доля неоптимальных подключений (%)  \n",
       "tariff_plan                                      \n",
       "A                                        73.333  \n",
       "B                                        70.833  \n",
       "C                                        32.576  "
      ]
     },
     "execution_count": 46,
     "metadata": {},
     "output_type": "execute_result"
    }
   ],
   "source": [
    "# Подсчитываем количество пользователей с неоптимальными тарифами по каждому тарифному плану\n",
    "better_tariff_counts = users_with_better_tariffs.groupby('tariff_plan')['user_id'].nunique()\n",
    "\n",
    "total_active_users_by_tariff = user_call_stats.groupby('tariff_plan')['user_id'].nunique()\n",
    "\n",
    "tariff_mismatch_ratio = (better_tariff_counts / total_active_users_by_tariff) * 100\n",
    "\n",
    "df_tariff_analysis = pd.DataFrame({\n",
    "    \"Всего активных пользователей\": total_active_users_by_tariff,\n",
    "    \"Неоптимальных подключений\": better_tariff_counts,\n",
    "    \"Доля неоптимальных подключений (%)\": tariff_mismatch_ratio\n",
    "}).fillna(0)  \n",
    "\n",
    "\n",
    "df_tariff_analysis"
   ]
  },
  {
   "cell_type": "code",
   "execution_count": 47,
   "metadata": {},
   "outputs": [
    {
     "data": {
      "image/png": "[encoded data removed]",
      "text/plain": [
       "<Figure size 576x360 with 1 Axes>"
      ]
     },
     "metadata": {
      "needs_background": "light"
     },
     "output_type": "display_data"
    }
   ],
   "source": [
    "plt.figure(figsize=(8, 5))\n",
    "df_tariff_analysis[\"Доля неоптимальных подключений (%)\"].plot(kind='bar', color='tomato', edgecolor='black')\n",
    "\n",
    "plt.title(\"Доля неоптимальных подключений по тарифам\")\n",
    "plt.xlabel(\"Тарифный план\")\n",
    "plt.ylabel(\"Процент неоптимальных подключений (%)\")\n",
    "plt.xticks(rotation=0)\n",
    "plt.grid(axis='y', linestyle='--', alpha=0.7)\n",
    "plt.show()\n"
   ]
  },
  {
   "cell_type": "markdown",
   "metadata": {},
   "source": [
    " - Тариф A – самый проблемный, 73% пользователей могут сменить тариф и платить меньше.\n",
    " - Тариф В – 71% пользователей также имеют неоптимальный тариф.\n",
    " - Тариф С – 32.5% пользователей могли бы перейти на более выгодный вариант."
   ]
  },
  {
   "cell_type": "markdown",
   "metadata": {},
   "source": [
    "Распределение тарифов, если все пользователи перейдут на оптимальные:"
   ]
  },
  {
   "cell_type": "code",
   "execution_count": 48,
   "metadata": {},
   "outputs": [
    {
     "data": {
      "image/png": "[encoded data removed]",
      "text/plain": [
       "<Figure size 432x432 with 1 Axes>"
      ]
     },
     "metadata": {},
     "output_type": "display_data"
    }
   ],
   "source": [
    "optimized_tariff_distribution = users_with_better_tariffs['better_tariff'].value_counts()\n",
    "\n",
    "current_tariff_distribution = df_clients['tariff_plan'].value_counts()\n",
    "\n",
    "new_tariff_distribution = current_tariff_distribution.copy()\n",
    "for tariff, count in optimized_tariff_distribution.items():\n",
    "    new_tariff_distribution[tariff] += count\n",
    "\n",
    "for tariff, count in users_with_better_tariffs['tariff_plan'].value_counts().items():\n",
    "    new_tariff_distribution[tariff] -= count\n",
    "\n",
    "new_tariff_distribution = new_tariff_distribution.clip(lower=0)\n",
    "\n",
    "plt.figure(figsize=(6, 6))\n",
    "plt.pie(new_tariff_distribution, labels=new_tariff_distribution.index, autopct='%1.1f%%', colors=['steelblue', 'orange', 'mediumseagreen'], startangle=90)\n",
    "plt.title(\"Распределение тарифов после оптимизации\")\n",
    "plt.show()\n"
   ]
  },
  {
   "cell_type": "markdown",
   "metadata": {},
   "source": [
    " - Доля тарифов А и B значительно снизилась, так как многие пользователи перешли на C.\n",
    " - Тариф С стал самым популярным, поскольку он оказался наиболее выгодным для многих клиентов."
   ]
  },
  {
   "cell_type": "code",
   "execution_count": 49,
   "metadata": {
    "scrolled": true
   },
   "outputs": [
    {
     "data": {
      "image/png": "[encoded data removed]",
      "text/plain": [
       "<Figure size 1080x720 with 6 Axes>"
      ]
     },
     "metadata": {},
     "output_type": "display_data"
    }
   ],
   "source": [
    "not_opt_current_tariffs = users_with_better_tariffs['tariff_plan'].value_counts()\n",
    "\n",
    "not_opt_change_tariffs = users_with_better_tariffs['better_tariff'].value_counts()\n",
    "\n",
    "opt_current_tariffs = user_call_stats[user_call_stats['better_tariff'].isna()]['tariff_plan'].value_counts()\n",
    "\n",
    "all_users = {\n",
    "    \"Оптимальный тариф\": opt_current_tariffs.sum(),\n",
    "    \"Неоптимальный тариф\": not_opt_current_tariffs.sum()\n",
    "}\n",
    "\n",
    "# Первоначальное распределение пользователей по тарифам\n",
    "initial_tariffs_dist = user_call_stats['tariff_plan'].value_counts()\n",
    "\n",
    "# Распределение пользователей по тарифам после изменения тарифов на оптимальные\n",
    "best_tariffs_dist = user_call_stats['better_tariff'].fillna(user_call_stats['tariff_plan']).value_counts()\n",
    "\n",
    "fig, axes = plt.subplots(2, 3, figsize=(15, 10))\n",
    "\n",
    "# График 1: Распределение пользователей с неоптимальными тарифами\n",
    "axes[0, 0].pie(not_opt_current_tariffs, labels=not_opt_current_tariffs.index, autopct='%1.1f%%', startangle=90, colors=['royalblue', 'mediumseagreen', 'coral'])\n",
    "axes[0, 0].set_title(\"Пользователи с неоптимальными тарифами\")\n",
    "\n",
    "# График 2: Распределение после перехода на оптимальные тарифы\n",
    "axes[0, 1].pie(not_opt_change_tariffs, labels=not_opt_change_tariffs.index, autopct='%1.1f%%', startangle=90, colors=['mediumseagreen','orange', 'purple'])\n",
    "axes[0, 1].set_title(\"После перехода на оптимальные тарифы\")\n",
    "\n",
    "# График 3: Распределение пользователей с оптимальными тарифами\n",
    "axes[0, 2].pie(opt_current_tariffs, labels=opt_current_tariffs.index, autopct='%1.1f%%', startangle=90, colors=['orange', 'mediumseagreen', 'pink'])\n",
    "axes[0, 2].set_title(\"Пользователи с оптимальными тарифами\")\n",
    "\n",
    "# График 4: Соотношение пользователей с неоптимальными и оптимальными тарифами\n",
    "axes[1, 0].pie(all_users.values(), labels=all_users.keys(), autopct='%1.1f%%', startangle=90, colors=['orange', 'mediumseagreen'])\n",
    "axes[1, 0].set_title(\"Соотношение пользователей по тарифам\")\n",
    "\n",
    "# График 5: Первоначальное распределение пользователей по тарифам\n",
    "axes[1, 1].pie(initial_tariffs_dist, labels=initial_tariffs_dist.index, autopct='%1.1f%%', startangle=90, colors=['coral', 'royalblue', 'mediumseagreen'])\n",
    "axes[1, 1].set_title(\"Первоначальное распределение пользователей\")\n",
    "\n",
    "# График 6: Распределение пользователей после перехода на оптимальные тарифы\n",
    "axes[1, 2].pie(best_tariffs_dist, labels=best_tariffs_dist.index, autopct='%1.1f%%', startangle=90, colors=['royalblue', 'coral', 'mediumseagreen'])\n",
    "axes[1, 2].set_title(\"После перехода на оптимальные тарифы\")\n",
    "\n",
    "plt.tight_layout()\n",
    "plt.show()\n"
   ]
  },
  {
   "cell_type": "markdown",
   "metadata": {},
   "source": [
    "# Определим потери в выручке при переходе всех клиентов на оптимальные тарифы"
   ]
  },
  {
   "cell_type": "code",
   "execution_count": 50,
   "metadata": {},
   "outputs": [
    {
     "data": {
      "text/plain": [
       "(463942.6499999999, 33.26278218562131)"
      ]
     },
     "execution_count": 50,
     "metadata": {},
     "output_type": "execute_result"
    }
   ],
   "source": [
    "current_revenue = user_call_stats['calculated_cost'].sum()\n",
    "\n",
    "def calculate_new_cost(row):\n",
    "    if pd.notna(row['better_tariff']):  \n",
    "        new_tariff = tariff_details[row['better_tariff']]\n",
    "        return new_tariff[\"monthly_fee\"] + max(0, row['total_call_duration'] - new_tariff[\"included_minutes\"]) * new_tariff[\"extra_minute_cost\"]\n",
    "    return row['calculated_cost']  \n",
    "\n",
    "user_call_stats['optimized_cost'] = user_call_stats.apply(calculate_new_cost, axis=1)\n",
    "optimized_revenue = user_call_stats['optimized_cost'].sum()\n",
    "\n",
    "revenue_loss = current_revenue - optimized_revenue\n",
    "revenue_loss_percentage = (revenue_loss / current_revenue) * 100\n",
    "\n",
    "revenue_loss, revenue_loss_percentage\n"
   ]
  },
  {
   "cell_type": "markdown",
   "metadata": {},
   "source": [
    "Потери в среднемесячной выручке при переходе всех клиентов на оптимальные тарифы:\n",
    "- Общие потери: 463942.70 ₽\n",
    "- Процент снижения выручки: 33%\n",
    "\n",
    "Выводы:\n",
    "- Если все клиенты перейдут на более выгодные тарифы, выручка снизится на 33%.\n",
    "- Текущая тарифная структура приносит больше дохода, так как пользователи переплачивают."
   ]
  },
  {
   "cell_type": "code",
   "execution_count": 51,
   "metadata": {},
   "outputs": [
    {
     "data": {
      "text/html": [
       "<div>\n",
       "<style scoped>\n",
       "    .dataframe tbody tr th:only-of-type {\n",
       "        vertical-align: middle;\n",
       "    }\n",
       "\n",
       "    .dataframe tbody tr th {\n",
       "        vertical-align: top;\n",
       "    }\n",
       "\n",
       "    .dataframe thead th {\n",
       "        text-align: right;\n",
       "    }\n",
       "</style>\n",
       "<table border=\"1\" class=\"dataframe\">\n",
       "  <thead>\n",
       "    <tr style=\"text-align: right;\">\n",
       "      <th></th>\n",
       "      <th>user_id</th>\n",
       "      <th>Старый тариф</th>\n",
       "      <th>Новый тариф</th>\n",
       "    </tr>\n",
       "  </thead>\n",
       "  <tbody>\n",
       "    <tr>\n",
       "      <th>0</th>\n",
       "      <td>166377</td>\n",
       "      <td>B</td>\n",
       "      <td>C</td>\n",
       "    </tr>\n",
       "    <tr>\n",
       "      <th>2</th>\n",
       "      <td>166392</td>\n",
       "      <td>C</td>\n",
       "      <td>A</td>\n",
       "    </tr>\n",
       "    <tr>\n",
       "      <th>3</th>\n",
       "      <td>166405</td>\n",
       "      <td>B</td>\n",
       "      <td>A</td>\n",
       "    </tr>\n",
       "    <tr>\n",
       "      <th>4</th>\n",
       "      <td>166406</td>\n",
       "      <td>B</td>\n",
       "      <td>C</td>\n",
       "    </tr>\n",
       "    <tr>\n",
       "      <th>7</th>\n",
       "      <td>166482</td>\n",
       "      <td>C</td>\n",
       "      <td>B</td>\n",
       "    </tr>\n",
       "  </tbody>\n",
       "</table>\n",
       "</div>"
      ],
      "text/plain": [
       "   user_id Старый тариф Новый тариф\n",
       "0   166377            B           C\n",
       "2   166392            C           A\n",
       "3   166405            B           A\n",
       "4   166406            B           C\n",
       "7   166482            C           B"
      ]
     },
     "execution_count": 51,
     "metadata": {},
     "output_type": "execute_result"
    }
   ],
   "source": [
    "# Тааблица с клиентами, их текущими тарифами и рекомендованными новыми тарифами\n",
    "df_final_recommendations = users_with_better_tariffs[['user_id', 'tariff_plan', 'better_tariff']].rename(\n",
    "    columns={'tariff_plan': 'Старый тариф', 'better_tariff': 'Новый тариф'}\n",
    ")\n",
    "\n",
    "df_final_recommendations.head()"
   ]
  },
  {
   "cell_type": "markdown",
   "metadata": {},
   "source": [
    "<div class=\"alert alert-success\">\n",
    "    \n",
    "**Комментарий ревьюера - 2**\n",
    "\n",
    "**#ок**\n",
    "\n",
    "Хорошо. Но результаты могут сильно измениться при использовании полных данных.\n",
    "\n",
    "При этом стоит посмотреть, как мы будем предлагать смену тарифов одну для каждого пользователя при рассмотрении нескольких месцев.\n",
    "\n",
    "</div>"
   ]
  },
  {
   "cell_type": "markdown",
   "metadata": {},
   "source": [
    "# Проверка статистических гипотез"
   ]
  },
  {
   "cell_type": "markdown",
   "metadata": {},
   "source": [
    "Гипотеза 1: Клиенты с неоптимальными тарифами платят значительно больше, чем если бы использовали оптимальный тариф\n",
    "- H₀ (нулевая гипотеза): Средняя стоимость связи у пользователей с неоптимальными тарифами не отличается от стоимости на оптимальном тарифе.\n",
    "- H₁ (альтернативная гипотеза): Средняя стоимость связи у пользователей с неоптимальными тарифами значительно выше, чем на оптимальном тарифе."
   ]
  },
  {
   "cell_type": "code",
   "execution_count": 52,
   "metadata": {},
   "outputs": [
    {
     "name": "stdout",
     "output_type": "stream",
     "text": [
      "Тест Шапиро-Уилка (проверка нормальности данных)\n",
      "Текущая стоимость связи: p-value = 3.91e-32\n",
      "Оптимальная стоимость связи: p-value = 3.34e-33\n"
     ]
    }
   ],
   "source": [
    "# Используем тест Шапиро-Уилка для проверки нормальности распределения\n",
    "shapiro_test_current = shapiro(user_call_stats['calculated_cost'])\n",
    "shapiro_test_optimized = shapiro(user_call_stats['optimized_cost'])\n",
    "\n",
    "print(\"Тест Шапиро-Уилка (проверка нормальности данных)\")\n",
    "print(f\"Текущая стоимость связи: p-value = {shapiro_test_current.pvalue:.2e}\")\n",
    "print(f\"Оптимальная стоимость связи: p-value = {shapiro_test_optimized.pvalue:.2e}\")\n",
    "\n"
   ]
  },
  {
   "cell_type": "markdown",
   "metadata": {},
   "source": [
    "Обе выборки НЕ имеют нормального распределения (p-value < 0.05), поэтому t-тест использовать нельзя."
   ]
  },
  {
   "cell_type": "code",
   "execution_count": 53,
   "metadata": {},
   "outputs": [
    {
     "name": "stdout",
     "output_type": "stream",
     "text": [
      "\n",
      " Результаты теста Уилкоксона (проверка различий в затратах)\n",
      "P-value = 1.43e-23\n",
      "**Гипотеза H₀ отвергается** – пользователи с неоптимальными тарифами платят значительно больше.\n",
      " Разница в стоимости связи статистически значима.\n"
     ]
    }
   ],
   "source": [
    "wilcoxon_test = wilcoxon(user_call_stats['calculated_cost'], user_call_stats['optimized_cost'])\n",
    "\n",
    "# Выводим результат теста Уилкоксона\n",
    "print(\"\\n Результаты теста Уилкоксона (проверка различий в затратах)\")\n",
    "print(f\"P-value = {wilcoxon_test.pvalue:.2e}\")\n",
    "\n",
    "if wilcoxon_test.pvalue < 0.05:\n",
    "    print(\"**Гипотеза H₀ отвергается** – пользователи с неоптимальными тарифами платят значительно больше.\")\n",
    "    print(\" Разница в стоимости связи статистически значима.\")\n",
    "else:\n",
    "    print(\"**Гипотеза H₀ не отвергается** – различий в стоимости связи нет.\")\n"
   ]
  },
  {
   "cell_type": "code",
   "execution_count": 54,
   "metadata": {},
   "outputs": [
    {
     "name": "stdout",
     "output_type": "stream",
     "text": [
      "\n",
      "Результаты одностороннего теста Уилкоксона (проверка, что затраты ВЫШЕ на неоптимальном тарифе)\n",
      "P-value (односторонний) = 7.14e-24\n",
      "**Гипотеза H₀ отвергается** – пользователи с неоптимальными тарифами платят ЗНАЧИТЕЛЬНО БОЛЬШЕ.\n",
      "Разница в стоимости связи статистически значима.\n"
     ]
    }
   ],
   "source": [
    "wilcoxon_test = wilcoxon(user_call_stats['calculated_cost'], user_call_stats['optimized_cost'])\n",
    "\n",
    "# Вычисляем разности между стоимостями\n",
    "differences = user_call_stats['calculated_cost'] - user_call_stats['optimized_cost']\n",
    "\n",
    "p_value_one_sided = wilcoxon_test.pvalue / 2 #делим значимость на 2, т.к. проверяем одностороннюю гипотезу\n",
    "\n",
    "# Выводим результат одностороннего теста Уилкоксона\n",
    "print(\"\\nРезультаты одностороннего теста Уилкоксона (проверка, что затраты ВЫШЕ на неоптимальном тарифе)\")\n",
    "print(f\"P-value (односторонний) = {p_value_one_sided:.2e}\")\n",
    "\n",
    "if p_value_one_sided < 0.05:\n",
    "    print(\"**Гипотеза H₀ отвергается** – пользователи с неоптимальными тарифами платят ЗНАЧИТЕЛЬНО БОЛЬШЕ.\")\n",
    "    print(\"Разница в стоимости связи статистически значима.\")\n",
    "else:\n",
    "    print(\"**Гипотеза H₀ не отвергается** – пользователи с неоптимальными тарифами не платят больше.\")"
   ]
  },
  {
   "cell_type": "code",
   "execution_count": 55,
   "metadata": {},
   "outputs": [
    {
     "name": "stdout",
     "output_type": "stream",
     "text": [
      "\n",
      "Результаты одностороннего теста Уилкоксона (проверка, что затраты ВЫШЕ на неоптимальном тарифе)\n",
      "P-value (односторонний) = 7.14e-24\n",
      "**Гипотеза H₀ отвергается** – пользователи с неоптимальными тарифами платят ЗНАЧИТЕЛЬНО БОЛЬШЕ.\n",
      "Разница в стоимости связи статистически значима.\n"
     ]
    }
   ],
   "source": [
    "wilcoxon_test = wilcoxon(user_call_stats['calculated_cost'], user_call_stats['optimized_cost'])\n",
    "\n",
    "from scipy.stats import wilcoxon\n",
    "\n",
    "# Односторонний тест Вилкоксона (проверяем, что calculated_cost БОЛЬШЕ optimized_cost)\n",
    "wilcoxon_test = wilcoxon(user_call_stats['calculated_cost'], user_call_stats['optimized_cost'], alternative='greater')\n",
    "\n",
    "# Выводим результаты\n",
    "print(\"\\nРезультаты одностороннего теста Уилкоксона (проверка, что затраты ВЫШЕ на неоптимальном тарифе)\")\n",
    "print(f\"P-value (односторонний) = {wilcoxon_test.pvalue:.2e}\")\n",
    "\n",
    "if wilcoxon_test.pvalue < 0.05:\n",
    "    print(\"**Гипотеза H₀ отвергается** – пользователи с неоптимальными тарифами платят ЗНАЧИТЕЛЬНО БОЛЬШЕ.\")\n",
    "    print(\"Разница в стоимости связи статистически значима.\")\n",
    "else:\n",
    "    print(\"**Гипотеза H₀ не отвергается** – пользователи с неоптимальными тарифами не платят больше.\")"
   ]
  },
  {
   "cell_type": "markdown",
   "metadata": {},
   "source": [
    "Гипотеза: Клиенты, которые часто превышают лимиты минут, тратят на связь больше, чем клиенты, остающиеся в пределах лимита.\n",
    "\n",
    " - H₀ (нулевая гипотеза): Средняя стоимость связи у клиентов, превышающих лимиты минут, не отличается от средней стоимости у остальных пользователей.\n",
    "\n",
    " - H₁ (альтернативная гипотеза): Клиенты, выходящие за лимиты минут, тратят на связь значительно больше, чем те, кто остается в пределах тарифного пакета."
   ]
  },
  {
   "cell_type": "code",
   "execution_count": 56,
   "metadata": {},
   "outputs": [
    {
     "data": {
      "text/plain": [
       "(9.328925353154015e-31, 6.451794831718871e-08)"
      ]
     },
     "execution_count": 56,
     "metadata": {},
     "output_type": "execute_result"
    }
   ],
   "source": [
    "user_call_stats_filtered = df_calls_filtered.groupby(['user_id', 'tariff_plan']).agg(\n",
    "    total_call_duration=('total_call_duration', 'sum'),\n",
    "    total_calls=('calls_count', 'sum'),\n",
    "    unique_operators=('operator_id', 'nunique'),\n",
    "    external_call_duration=('total_call_duration', lambda x: x[df_calls_filtered['internal'] == False].sum())\n",
    ").reset_index()\n",
    "\n",
    "# Определение превышения лимита минут с учетом тарифа\n",
    "user_call_stats_filtered['limit_exceeded'] = user_call_stats_filtered.apply(\n",
    "    lambda row: row['total_call_duration'] > tariff_details[row['tariff_plan']][\"included_minutes\"], axis=1\n",
    ")\n",
    "\n",
    "# Функция расчета затрат с учетом всех параметров тарифа\n",
    "def calculate_full_cost(row):\n",
    "    tariff = tariff_details[row['tariff_plan']]\n",
    "    base_cost = tariff[\"monthly_fee\"]\n",
    "    extra_minutes_cost = max(0, row['total_call_duration'] - tariff[\"included_minutes\"]) * tariff[\"extra_minute_cost\"]\n",
    "    operator_fee = row['unique_operators'] * tariff[\"operator_fee\"]\n",
    "    external_calls_cost = row['external_call_duration'] * tariff[\"external_call_cost\"]\n",
    "    \n",
    "    return base_cost + extra_minutes_cost + operator_fee + external_calls_cost\n",
    "\n",
    "user_call_stats_filtered['calculated_cost'] = user_call_stats_filtered.apply(calculate_full_cost, axis=1)\n",
    "\n",
    "user_costs_filtered = user_call_stats_filtered.groupby(['user_id', 'limit_exceeded'])['calculated_cost'].mean().reset_index()\n",
    "\n",
    "group_over_limit_filtered = user_costs_filtered[user_costs_filtered['limit_exceeded'] == True]['calculated_cost']\n",
    "group_within_limit_filtered = user_costs_filtered[user_costs_filtered['limit_exceeded'] == False]['calculated_cost']\n",
    "\n",
    "# Проверка нормальности распределения (тест Шапиро-Уилка)\n",
    "shapiro_over_filtered = st.shapiro(group_over_limit_filtered)\n",
    "shapiro_within_filtered = st.shapiro(group_within_limit_filtered)\n",
    "\n",
    "shapiro_over_filtered.pvalue, shapiro_within_filtered.pvalue\n"
   ]
  },
  {
   "cell_type": "markdown",
   "metadata": {},
   "source": [
    "\n",
    "Используем критерий Манна-Уитни, т.к. выборки независимые, а распределение данных не нормально."
   ]
  },
  {
   "cell_type": "code",
   "execution_count": 57,
   "metadata": {},
   "outputs": [
    {
     "name": "stdout",
     "output_type": "stream",
     "text": [
      "Результаты теста Манна-Уитни (проверка различий в затратах)\n",
      "Статистика теста: 7598.00, p-value = 2.34e-06\n",
      "Гипотеза H₀ отвергается – клиенты, превышающие лимиты минут, действительно тратят больше.\n"
     ]
    }
   ],
   "source": [
    "# Так как данные не нормальны, используем критерий Манна-Уитни\n",
    "\n",
    "mann_whitney_test = st.mannwhitneyu(group_over_limit_filtered, group_within_limit_filtered, alternative='greater')\n",
    "\n",
    "print(\"Результаты теста Манна-Уитни (проверка различий в затратах)\")\n",
    "print(f\"Статистика теста: {mann_whitney_test.statistic:.2f}, p-value = {mann_whitney_test.pvalue:.2e}\")\n",
    "\n",
    "alpha = 0.05  # Уровень статистической значимости\n",
    "if mann_whitney_test.pvalue < alpha:\n",
    "    print(\"Гипотеза H₀ отвергается – клиенты, превышающие лимиты минут, действительно тратят больше.\")\n",
    "else:\n",
    "    print(\"Гипотеза H₀ не отвергается – различий в стоимости связи нет.\")\n"
   ]
  },
  {
   "cell_type": "markdown",
   "metadata": {},
   "source": [
    "- Можно создать доп. опции и гибкие пакеты, чтобы клиенты не меняли тариф, но могли докупать минуты.\n",
    "- Можно таргетировать этих клиентов с предложением пакетов дополнительных минут вместо смены тарифа."
   ]
  },
  {
   "cell_type": "markdown",
   "metadata": {},
   "source": [
    "# Общий вывод по проекту\n",
    "\n",
    "## Предобработка данных и выявление аномалий  \n",
    "- Привели данные к нужному формату, удалили 4900 дубликатов и обработали 7456 пропусков в `operator_id`, большинство из которых связано с пропущенными вызовами.  \n",
    "- Выяснили, что в базе 732 клиента, но только 307 реально совершают звонки.  \n",
    "- Обнаружили аномальных клиентов, у которых операторы говорили более 24 часов в сутки.  \n",
    "- Исключили этих оператороа из анализа, так как их данные могут быть ошибочными или связаны с особенностями работы (например, круглосуточный режим или технические проблемы).  \n",
    "\n",
    "## Общий анализ звонков и тарифов  \n",
    "- Исходящих звонков больше, чем входящих, что подтверждает активное использование связи клиентами.  \n",
    "- Количество звонков падает в выходные дни, возможно, из-за снижения деловой активности.  \n",
    "- Тариф A – самый популярный, а тариф B чаще всего неоптимален.  \n",
    "- Средняя длительность звонков различается по тарифам:  \n",
    "  - Тариф A – средняя длительность звонка 428 минуты.  \n",
    "  - Тарифы B и C – звонки короче (≈163 и 137 минут соответственно).  \n",
    "\n",
    "##  Ошибки в данных и аномальные звонки  \n",
    "- Обнаружили аномально длинные звонки.\n",
    "- Это говорит о возможных ошибках в учете данных, когда звонки не были разделены на отдельные вызовы.  \n",
    "\n",
    "## Анализ неоптимальных тарифов  \n",
    "- Более половины пользователей могли бы платить меньше, выбрав другой тариф.  \n",
    "- Если все клиенты перейдут на выгодные тарифы, выручка компании снизится на 33% (~463942₽ в месяц).  \n",
    "- На тарифе А 74% клиентов переплачивают, что делает его самым невыгодным для пользователей.  \n",
    "- Внешние звонки преобладают во всех тарифах, внутренние составляют менее 3%.  \n",
    "\n",
    "## Проверка статистических гипотез  \n",
    "- **Гипотеза 1: Клиенты с неоптимальными тарифами платят больше**  \n",
    "  - Тест Вилкоксона показал, что разница статистически значима.  \n",
    "  - Пользователи с неоптимальными тарифами действительно переплачивают.  \n",
    "\n",
    "- **Гипотеза 2: Клиенты, превышающие лимиты минут, тратят больше**  \n",
    "  - Тест Манна-Уитни подтвердил, что такие клиенты действительно тратят больше.  \n",
    "  - Это говорит о том, что такие пользователи могут быть целевой аудиторией для дополнительных пакетов минут.  \n",
    "\n",
    "## Рекомендации  \n",
    "**Как уменьшить потери выручки при переходе на выгодные тарифы?**\n",
    "- Ввести гибкие тарифные планы с возможностью докупки минут.  \n",
    "- Создать персонализированные предложения клиентам, чтобы удерживать их на текущих тарифах.  \n",
    "- Монетизировать дополнительные услуги (аналитика звонков, приоритетное соединение, корпоративные пакеты).  \n",
    "\n",
    "\n",
    "Проект показал, что значительная часть клиентов переплачивает, а компания может потерять часть выручки при переходе на оптимальные тарифы. Однако, с правильной стратегией можно сохранить доход и улучшить клиентский опыт.  \n"
   ]
  }
 ],
 "metadata": {
  "ExecuteTimeLog": [
   {
    "duration": 421,
    "start_time": "2025-01-31T10:56:38.908Z"
   },
   {
    "duration": 3,
    "start_time": "2025-01-31T10:57:28.804Z"
   },
   {
    "duration": 96,
    "start_time": "2025-01-31T11:00:54.841Z"
   },
   {
    "duration": 66,
    "start_time": "2025-01-31T11:02:21.999Z"
   },
   {
    "duration": 20,
    "start_time": "2025-01-31T11:02:38.367Z"
   },
   {
    "duration": 8,
    "start_time": "2025-01-31T11:03:01.085Z"
   },
   {
    "duration": 20,
    "start_time": "2025-01-31T11:10:02.407Z"
   },
   {
    "duration": 12,
    "start_time": "2025-01-31T11:10:48.253Z"
   },
   {
    "duration": 6,
    "start_time": "2025-01-31T11:12:22.579Z"
   },
   {
    "duration": 19,
    "start_time": "2025-01-31T11:15:40.568Z"
   },
   {
    "duration": 7,
    "start_time": "2025-01-31T13:24:27.966Z"
   },
   {
    "duration": 6,
    "start_time": "2025-01-31T13:25:04.605Z"
   },
   {
    "duration": 23,
    "start_time": "2025-01-31T13:26:54.626Z"
   },
   {
    "duration": 22,
    "start_time": "2025-01-31T13:27:44.882Z"
   },
   {
    "duration": 26,
    "start_time": "2025-01-31T13:28:37.849Z"
   },
   {
    "duration": 24,
    "start_time": "2025-01-31T13:28:54.600Z"
   },
   {
    "duration": 46,
    "start_time": "2025-01-31T17:11:41.166Z"
   },
   {
    "duration": 372,
    "start_time": "2025-01-31T17:11:57.173Z"
   },
   {
    "duration": 178,
    "start_time": "2025-01-31T17:11:57.546Z"
   },
   {
    "duration": 22,
    "start_time": "2025-01-31T17:11:57.725Z"
   },
   {
    "duration": 13,
    "start_time": "2025-01-31T17:11:57.748Z"
   },
   {
    "duration": 23,
    "start_time": "2025-01-31T17:11:57.762Z"
   },
   {
    "duration": 21,
    "start_time": "2025-01-31T17:11:57.786Z"
   },
   {
    "duration": 78,
    "start_time": "2025-01-31T17:11:57.809Z"
   },
   {
    "duration": 0,
    "start_time": "2025-01-31T17:11:57.889Z"
   },
   {
    "duration": 0,
    "start_time": "2025-01-31T17:11:57.890Z"
   },
   {
    "duration": 0,
    "start_time": "2025-01-31T17:11:57.891Z"
   },
   {
    "duration": 7,
    "start_time": "2025-01-31T17:12:22.101Z"
   },
   {
    "duration": 7,
    "start_time": "2025-01-31T17:12:48.420Z"
   },
   {
    "duration": 8,
    "start_time": "2025-01-31T17:13:08.252Z"
   },
   {
    "duration": 0,
    "start_time": "2025-01-31T17:13:51.414Z"
   },
   {
    "duration": 0,
    "start_time": "2025-01-31T17:13:51.415Z"
   },
   {
    "duration": 0,
    "start_time": "2025-01-31T17:13:51.416Z"
   },
   {
    "duration": 0,
    "start_time": "2025-01-31T17:13:51.417Z"
   },
   {
    "duration": 0,
    "start_time": "2025-01-31T17:13:51.418Z"
   },
   {
    "duration": 0,
    "start_time": "2025-01-31T17:13:51.419Z"
   },
   {
    "duration": 0,
    "start_time": "2025-01-31T17:13:51.420Z"
   },
   {
    "duration": 0,
    "start_time": "2025-01-31T17:13:51.421Z"
   },
   {
    "duration": 0,
    "start_time": "2025-01-31T17:13:51.422Z"
   },
   {
    "duration": 0,
    "start_time": "2025-01-31T17:13:51.447Z"
   },
   {
    "duration": 7,
    "start_time": "2025-01-31T17:13:56.593Z"
   },
   {
    "duration": 7,
    "start_time": "2025-01-31T17:14:24.265Z"
   },
   {
    "duration": 6,
    "start_time": "2025-01-31T17:15:27.016Z"
   },
   {
    "duration": 6,
    "start_time": "2025-01-31T17:16:05.256Z"
   },
   {
    "duration": 6,
    "start_time": "2025-01-31T17:16:11.008Z"
   },
   {
    "duration": 3,
    "start_time": "2025-01-31T17:16:17.703Z"
   },
   {
    "duration": 84,
    "start_time": "2025-01-31T17:16:19.063Z"
   },
   {
    "duration": 18,
    "start_time": "2025-01-31T17:16:19.351Z"
   },
   {
    "duration": 13,
    "start_time": "2025-01-31T17:16:20.187Z"
   },
   {
    "duration": 18,
    "start_time": "2025-01-31T17:16:20.489Z"
   },
   {
    "duration": 22,
    "start_time": "2025-01-31T17:16:21.087Z"
   },
   {
    "duration": 6,
    "start_time": "2025-01-31T17:16:21.855Z"
   },
   {
    "duration": 7,
    "start_time": "2025-01-31T17:17:40.061Z"
   },
   {
    "duration": 85,
    "start_time": "2025-01-31T17:18:08.238Z"
   },
   {
    "duration": 16,
    "start_time": "2025-01-31T17:18:08.791Z"
   },
   {
    "duration": 352,
    "start_time": "2025-01-31T17:18:22.000Z"
   },
   {
    "duration": 87,
    "start_time": "2025-01-31T17:18:22.354Z"
   },
   {
    "duration": 18,
    "start_time": "2025-01-31T17:18:22.442Z"
   },
   {
    "duration": 13,
    "start_time": "2025-01-31T17:18:22.461Z"
   },
   {
    "duration": 23,
    "start_time": "2025-01-31T17:18:22.476Z"
   },
   {
    "duration": 21,
    "start_time": "2025-01-31T17:18:22.500Z"
   },
   {
    "duration": 75,
    "start_time": "2025-01-31T17:18:22.522Z"
   },
   {
    "duration": 0,
    "start_time": "2025-01-31T17:18:22.599Z"
   },
   {
    "duration": 0,
    "start_time": "2025-01-31T17:18:22.600Z"
   },
   {
    "duration": 0,
    "start_time": "2025-01-31T17:18:22.601Z"
   },
   {
    "duration": 0,
    "start_time": "2025-01-31T17:18:22.602Z"
   },
   {
    "duration": 10,
    "start_time": "2025-01-31T17:18:29.269Z"
   },
   {
    "duration": 5,
    "start_time": "2025-01-31T17:18:30.509Z"
   },
   {
    "duration": 6,
    "start_time": "2025-01-31T17:18:31.269Z"
   },
   {
    "duration": 7,
    "start_time": "2025-01-31T17:20:17.501Z"
   },
   {
    "duration": 362,
    "start_time": "2025-01-31T17:21:17.288Z"
   },
   {
    "duration": 99,
    "start_time": "2025-01-31T17:21:17.651Z"
   },
   {
    "duration": 21,
    "start_time": "2025-01-31T17:21:17.752Z"
   },
   {
    "duration": 14,
    "start_time": "2025-01-31T17:21:17.775Z"
   },
   {
    "duration": 22,
    "start_time": "2025-01-31T17:21:17.791Z"
   },
   {
    "duration": 60,
    "start_time": "2025-01-31T17:21:17.815Z"
   },
   {
    "duration": 6,
    "start_time": "2025-01-31T17:21:17.876Z"
   },
   {
    "duration": 9,
    "start_time": "2025-01-31T17:21:17.884Z"
   },
   {
    "duration": 8,
    "start_time": "2025-01-31T17:21:17.895Z"
   },
   {
    "duration": 10,
    "start_time": "2025-01-31T17:21:17.905Z"
   },
   {
    "duration": 31,
    "start_time": "2025-01-31T17:22:31.614Z"
   },
   {
    "duration": 11,
    "start_time": "2025-01-31T17:40:38.744Z"
   },
   {
    "duration": 5,
    "start_time": "2025-01-31T17:43:17.550Z"
   },
   {
    "duration": 9,
    "start_time": "2025-01-31T17:46:37.077Z"
   },
   {
    "duration": 7,
    "start_time": "2025-01-31T17:52:09.167Z"
   },
   {
    "duration": 60,
    "start_time": "2025-01-31T17:54:01.895Z"
   },
   {
    "duration": 5,
    "start_time": "2025-01-31T17:54:09.928Z"
   },
   {
    "duration": 5,
    "start_time": "2025-01-31T17:54:13.021Z"
   },
   {
    "duration": 8,
    "start_time": "2025-01-31T17:56:51.972Z"
   },
   {
    "duration": 6,
    "start_time": "2025-01-31T17:58:51.370Z"
   },
   {
    "duration": 418,
    "start_time": "2025-02-02T09:58:15.626Z"
   },
   {
    "duration": 106,
    "start_time": "2025-02-02T09:58:16.046Z"
   },
   {
    "duration": 20,
    "start_time": "2025-02-02T09:58:16.154Z"
   },
   {
    "duration": 14,
    "start_time": "2025-02-02T09:58:16.176Z"
   },
   {
    "duration": 25,
    "start_time": "2025-02-02T09:58:16.192Z"
   },
   {
    "duration": 39,
    "start_time": "2025-02-02T09:58:16.218Z"
   },
   {
    "duration": 8,
    "start_time": "2025-02-02T09:58:16.258Z"
   },
   {
    "duration": 10,
    "start_time": "2025-02-02T09:58:16.268Z"
   },
   {
    "duration": 7,
    "start_time": "2025-02-02T09:58:16.280Z"
   },
   {
    "duration": 31,
    "start_time": "2025-02-02T09:58:16.289Z"
   },
   {
    "duration": 14,
    "start_time": "2025-02-02T09:58:16.321Z"
   },
   {
    "duration": 6,
    "start_time": "2025-02-02T09:58:16.337Z"
   },
   {
    "duration": 7,
    "start_time": "2025-02-02T09:58:16.345Z"
   },
   {
    "duration": 6,
    "start_time": "2025-02-02T09:58:16.354Z"
   },
   {
    "duration": 4,
    "start_time": "2025-02-02T09:58:16.362Z"
   },
   {
    "duration": 16,
    "start_time": "2025-02-02T10:03:24.129Z"
   },
   {
    "duration": 11,
    "start_time": "2025-02-02T10:09:44.580Z"
   },
   {
    "duration": 12,
    "start_time": "2025-02-02T10:12:08.371Z"
   },
   {
    "duration": 10,
    "start_time": "2025-02-02T10:14:38.248Z"
   },
   {
    "duration": 53,
    "start_time": "2025-02-02T10:32:18.349Z"
   },
   {
    "duration": 98,
    "start_time": "2025-02-02T10:33:55.913Z"
   },
   {
    "duration": 67,
    "start_time": "2025-02-02T10:34:43.787Z"
   },
   {
    "duration": 46,
    "start_time": "2025-02-02T10:35:17.591Z"
   },
   {
    "duration": 43,
    "start_time": "2025-02-02T10:35:33.373Z"
   },
   {
    "duration": 3,
    "start_time": "2025-02-02T10:38:09.535Z"
   },
   {
    "duration": 26,
    "start_time": "2025-02-02T10:38:56.915Z"
   },
   {
    "duration": 420,
    "start_time": "2025-02-02T13:17:42.214Z"
   },
   {
    "duration": 104,
    "start_time": "2025-02-02T13:17:42.636Z"
   },
   {
    "duration": 18,
    "start_time": "2025-02-02T13:17:42.742Z"
   },
   {
    "duration": 14,
    "start_time": "2025-02-02T13:17:42.763Z"
   },
   {
    "duration": 24,
    "start_time": "2025-02-02T13:17:42.779Z"
   },
   {
    "duration": 37,
    "start_time": "2025-02-02T13:17:42.805Z"
   },
   {
    "duration": 7,
    "start_time": "2025-02-02T13:17:42.843Z"
   },
   {
    "duration": 10,
    "start_time": "2025-02-02T13:17:42.851Z"
   },
   {
    "duration": 11,
    "start_time": "2025-02-02T13:17:42.863Z"
   },
   {
    "duration": 7,
    "start_time": "2025-02-02T13:17:42.876Z"
   },
   {
    "duration": 31,
    "start_time": "2025-02-02T13:17:42.884Z"
   },
   {
    "duration": 7,
    "start_time": "2025-02-02T13:17:42.916Z"
   },
   {
    "duration": 9,
    "start_time": "2025-02-02T13:17:42.925Z"
   },
   {
    "duration": 25,
    "start_time": "2025-02-02T13:17:42.935Z"
   },
   {
    "duration": 5,
    "start_time": "2025-02-02T13:17:42.962Z"
   },
   {
    "duration": 17,
    "start_time": "2025-02-02T13:17:42.968Z"
   },
   {
    "duration": 31,
    "start_time": "2025-02-02T13:17:42.987Z"
   },
   {
    "duration": 12,
    "start_time": "2025-02-02T13:17:43.019Z"
   },
   {
    "duration": 17,
    "start_time": "2025-02-02T13:17:43.032Z"
   },
   {
    "duration": 11,
    "start_time": "2025-02-02T13:17:43.051Z"
   },
   {
    "duration": 43,
    "start_time": "2025-02-02T13:17:43.063Z"
   },
   {
    "duration": 19,
    "start_time": "2025-02-02T14:33:53.213Z"
   },
   {
    "duration": 8,
    "start_time": "2025-02-02T14:35:45.149Z"
   },
   {
    "duration": 5,
    "start_time": "2025-02-02T14:40:56.022Z"
   },
   {
    "duration": 5,
    "start_time": "2025-02-02T14:41:02.721Z"
   },
   {
    "duration": 39,
    "start_time": "2025-02-02T14:46:57.176Z"
   },
   {
    "duration": 38,
    "start_time": "2025-02-02T14:47:13.160Z"
   },
   {
    "duration": 36,
    "start_time": "2025-02-02T14:55:33.234Z"
   },
   {
    "duration": 10,
    "start_time": "2025-02-02T14:58:50.393Z"
   },
   {
    "duration": 78,
    "start_time": "2025-02-02T15:05:19.477Z"
   },
   {
    "duration": 1064,
    "start_time": "2025-02-02T15:07:28.638Z"
   },
   {
    "duration": 246,
    "start_time": "2025-02-02T15:08:33.084Z"
   },
   {
    "duration": 221,
    "start_time": "2025-02-02T15:12:50.907Z"
   },
   {
    "duration": 194,
    "start_time": "2025-02-02T15:29:28.340Z"
   },
   {
    "duration": 459,
    "start_time": "2025-02-02T17:01:34.066Z"
   },
   {
    "duration": 364,
    "start_time": "2025-02-02T17:01:34.527Z"
   },
   {
    "duration": 21,
    "start_time": "2025-02-02T17:01:34.893Z"
   },
   {
    "duration": 20,
    "start_time": "2025-02-02T17:01:34.917Z"
   },
   {
    "duration": 32,
    "start_time": "2025-02-02T17:01:34.939Z"
   },
   {
    "duration": 48,
    "start_time": "2025-02-02T17:01:34.973Z"
   },
   {
    "duration": 10,
    "start_time": "2025-02-02T17:01:35.023Z"
   },
   {
    "duration": 15,
    "start_time": "2025-02-02T17:01:35.035Z"
   },
   {
    "duration": 25,
    "start_time": "2025-02-02T17:01:35.052Z"
   },
   {
    "duration": 16,
    "start_time": "2025-02-02T17:01:35.082Z"
   },
   {
    "duration": 81,
    "start_time": "2025-02-02T17:01:35.100Z"
   },
   {
    "duration": 13,
    "start_time": "2025-02-02T17:01:35.183Z"
   },
   {
    "duration": 14,
    "start_time": "2025-02-02T17:01:35.198Z"
   },
   {
    "duration": 20,
    "start_time": "2025-02-02T17:01:35.214Z"
   },
   {
    "duration": 5,
    "start_time": "2025-02-02T17:01:35.237Z"
   },
   {
    "duration": 40,
    "start_time": "2025-02-02T17:01:35.244Z"
   },
   {
    "duration": 12,
    "start_time": "2025-02-02T17:01:35.286Z"
   },
   {
    "duration": 32,
    "start_time": "2025-02-02T17:01:35.300Z"
   },
   {
    "duration": 18,
    "start_time": "2025-02-02T17:01:35.334Z"
   },
   {
    "duration": 5,
    "start_time": "2025-02-02T17:01:35.354Z"
   },
   {
    "duration": 54,
    "start_time": "2025-02-02T17:01:35.363Z"
   },
   {
    "duration": 13,
    "start_time": "2025-02-02T17:01:35.419Z"
   },
   {
    "duration": 5,
    "start_time": "2025-02-02T17:01:35.434Z"
   },
   {
    "duration": 64,
    "start_time": "2025-02-02T17:01:35.442Z"
   },
   {
    "duration": 11,
    "start_time": "2025-02-02T17:01:35.508Z"
   },
   {
    "duration": 1144,
    "start_time": "2025-02-02T17:01:35.521Z"
   },
   {
    "duration": 239,
    "start_time": "2025-02-02T17:01:36.667Z"
   },
   {
    "duration": 1441,
    "start_time": "2025-02-02T17:01:36.909Z"
   },
   {
    "duration": 520,
    "start_time": "2025-02-02T17:02:14.257Z"
   },
   {
    "duration": 1057,
    "start_time": "2025-02-02T17:02:20.701Z"
   },
   {
    "duration": 972,
    "start_time": "2025-02-02T17:02:44.561Z"
   },
   {
    "duration": 3,
    "start_time": "2025-02-02T17:04:11.595Z"
   },
   {
    "duration": 196,
    "start_time": "2025-02-02T17:06:39.437Z"
   },
   {
    "duration": 720,
    "start_time": "2025-02-02T17:17:00.397Z"
   },
   {
    "duration": 14,
    "start_time": "2025-02-02T17:19:29.345Z"
   },
   {
    "duration": 54,
    "start_time": "2025-02-02T17:21:05.710Z"
   },
   {
    "duration": 19,
    "start_time": "2025-02-02T17:21:24.417Z"
   },
   {
    "duration": 45,
    "start_time": "2025-02-02T17:24:42.796Z"
   },
   {
    "duration": 45,
    "start_time": "2025-02-02T17:26:27.547Z"
   },
   {
    "duration": 476,
    "start_time": "2025-02-02T17:26:36.642Z"
   },
   {
    "duration": 102,
    "start_time": "2025-02-02T17:26:37.120Z"
   },
   {
    "duration": 22,
    "start_time": "2025-02-02T17:26:37.224Z"
   },
   {
    "duration": 16,
    "start_time": "2025-02-02T17:26:37.248Z"
   },
   {
    "duration": 28,
    "start_time": "2025-02-02T17:26:37.266Z"
   },
   {
    "duration": 42,
    "start_time": "2025-02-02T17:26:37.296Z"
   },
   {
    "duration": 33,
    "start_time": "2025-02-02T17:26:37.340Z"
   },
   {
    "duration": 12,
    "start_time": "2025-02-02T17:26:37.375Z"
   },
   {
    "duration": 14,
    "start_time": "2025-02-02T17:26:37.389Z"
   },
   {
    "duration": 15,
    "start_time": "2025-02-02T17:26:37.405Z"
   },
   {
    "duration": 11,
    "start_time": "2025-02-02T17:26:37.422Z"
   },
   {
    "duration": 7,
    "start_time": "2025-02-02T17:26:37.435Z"
   },
   {
    "duration": 30,
    "start_time": "2025-02-02T17:26:37.444Z"
   },
   {
    "duration": 10,
    "start_time": "2025-02-02T17:26:37.477Z"
   },
   {
    "duration": 10,
    "start_time": "2025-02-02T17:26:37.489Z"
   },
   {
    "duration": 17,
    "start_time": "2025-02-02T17:26:37.500Z"
   },
   {
    "duration": 12,
    "start_time": "2025-02-02T17:26:37.519Z"
   },
   {
    "duration": 44,
    "start_time": "2025-02-02T17:26:37.532Z"
   },
   {
    "duration": 11,
    "start_time": "2025-02-02T17:26:37.577Z"
   },
   {
    "duration": 3,
    "start_time": "2025-02-02T17:26:37.590Z"
   },
   {
    "duration": 42,
    "start_time": "2025-02-02T17:26:37.595Z"
   },
   {
    "duration": 15,
    "start_time": "2025-02-02T17:26:37.638Z"
   },
   {
    "duration": 6,
    "start_time": "2025-02-02T17:26:37.673Z"
   },
   {
    "duration": 52,
    "start_time": "2025-02-02T17:26:37.681Z"
   },
   {
    "duration": 44,
    "start_time": "2025-02-02T17:26:37.734Z"
   },
   {
    "duration": 870,
    "start_time": "2025-02-02T17:26:37.779Z"
   },
   {
    "duration": 191,
    "start_time": "2025-02-02T17:26:38.650Z"
   },
   {
    "duration": 315,
    "start_time": "2025-02-02T17:26:38.843Z"
   },
   {
    "duration": 125,
    "start_time": "2025-02-02T17:26:39.160Z"
   },
   {
    "duration": 15,
    "start_time": "2025-02-02T17:27:12.373Z"
   },
   {
    "duration": 609,
    "start_time": "2025-02-02T17:27:49.425Z"
   },
   {
    "duration": 34,
    "start_time": "2025-02-02T17:29:32.056Z"
   },
   {
    "duration": 315,
    "start_time": "2025-02-02T17:29:37.396Z"
   },
   {
    "duration": 51,
    "start_time": "2025-02-02T17:29:57.017Z"
   },
   {
    "duration": 300,
    "start_time": "2025-02-02T17:30:11.408Z"
   },
   {
    "duration": 58,
    "start_time": "2025-02-02T17:30:25.374Z"
   },
   {
    "duration": 17,
    "start_time": "2025-02-02T17:31:25.880Z"
   },
   {
    "duration": 41,
    "start_time": "2025-02-02T17:32:10.683Z"
   },
   {
    "duration": 378,
    "start_time": "2025-02-02T17:32:34.068Z"
   },
   {
    "duration": 3,
    "start_time": "2025-02-02T17:33:07.681Z"
   },
   {
    "duration": 476,
    "start_time": "2025-02-02T17:33:15.266Z"
   },
   {
    "duration": 103,
    "start_time": "2025-02-02T17:33:15.744Z"
   },
   {
    "duration": 22,
    "start_time": "2025-02-02T17:33:15.849Z"
   },
   {
    "duration": 16,
    "start_time": "2025-02-02T17:33:15.872Z"
   },
   {
    "duration": 29,
    "start_time": "2025-02-02T17:33:15.890Z"
   },
   {
    "duration": 54,
    "start_time": "2025-02-02T17:33:15.920Z"
   },
   {
    "duration": 8,
    "start_time": "2025-02-02T17:33:15.976Z"
   },
   {
    "duration": 12,
    "start_time": "2025-02-02T17:33:15.986Z"
   },
   {
    "duration": 18,
    "start_time": "2025-02-02T17:33:16.000Z"
   },
   {
    "duration": 10,
    "start_time": "2025-02-02T17:33:16.020Z"
   },
   {
    "duration": 19,
    "start_time": "2025-02-02T17:33:16.032Z"
   },
   {
    "duration": 9,
    "start_time": "2025-02-02T17:33:16.073Z"
   },
   {
    "duration": 12,
    "start_time": "2025-02-02T17:33:16.084Z"
   },
   {
    "duration": 10,
    "start_time": "2025-02-02T17:33:16.102Z"
   },
   {
    "duration": 7,
    "start_time": "2025-02-02T17:33:16.114Z"
   },
   {
    "duration": 61,
    "start_time": "2025-02-02T17:33:16.123Z"
   },
   {
    "duration": 18,
    "start_time": "2025-02-02T17:33:16.187Z"
   },
   {
    "duration": 50,
    "start_time": "2025-02-02T17:33:16.208Z"
   },
   {
    "duration": 46,
    "start_time": "2025-02-02T17:33:16.260Z"
   },
   {
    "duration": 5,
    "start_time": "2025-02-02T17:33:16.309Z"
   },
   {
    "duration": 2,
    "start_time": "2025-02-02T17:33:16.316Z"
   },
   {
    "duration": 11,
    "start_time": "2025-02-02T17:33:16.320Z"
   },
   {
    "duration": 7,
    "start_time": "2025-02-02T17:33:16.332Z"
   },
   {
    "duration": 58,
    "start_time": "2025-02-02T17:33:16.340Z"
   },
   {
    "duration": 9,
    "start_time": "2025-02-02T17:33:16.400Z"
   },
   {
    "duration": 902,
    "start_time": "2025-02-02T17:33:16.411Z"
   },
   {
    "duration": 180,
    "start_time": "2025-02-02T17:33:17.315Z"
   },
   {
    "duration": 275,
    "start_time": "2025-02-02T17:33:17.497Z"
   },
   {
    "duration": 32,
    "start_time": "2025-02-02T17:33:17.775Z"
   },
   {
    "duration": 849,
    "start_time": "2025-02-02T17:33:17.810Z"
   },
   {
    "duration": 127,
    "start_time": "2025-02-02T17:48:56.266Z"
   },
   {
    "duration": 285,
    "start_time": "2025-02-02T17:49:22.399Z"
   },
   {
    "duration": 141,
    "start_time": "2025-02-02T17:51:06.925Z"
   },
   {
    "duration": 180,
    "start_time": "2025-02-02T17:56:41.642Z"
   },
   {
    "duration": 679,
    "start_time": "2025-02-02T18:06:07.170Z"
   },
   {
    "duration": 99,
    "start_time": "2025-02-02T18:09:23.926Z"
   },
   {
    "duration": 642,
    "start_time": "2025-02-02T18:09:33.003Z"
   },
   {
    "duration": 271,
    "start_time": "2025-02-02T18:24:24.108Z"
   },
   {
    "duration": 589,
    "start_time": "2025-02-02T18:34:00.551Z"
   },
   {
    "duration": 32,
    "start_time": "2025-02-02T18:36:11.785Z"
   },
   {
    "duration": 31,
    "start_time": "2025-02-02T18:36:38.867Z"
   },
   {
    "duration": 21,
    "start_time": "2025-02-02T19:20:43.875Z"
   },
   {
    "duration": 51,
    "start_time": "2025-02-02T19:23:14.985Z"
   },
   {
    "duration": 48,
    "start_time": "2025-02-02T19:23:32.920Z"
   },
   {
    "duration": 84,
    "start_time": "2025-02-02T19:23:59.401Z"
   },
   {
    "duration": 63,
    "start_time": "2025-02-02T19:24:08.192Z"
   },
   {
    "duration": 3,
    "start_time": "2025-02-02T19:24:32.461Z"
   },
   {
    "duration": 57,
    "start_time": "2025-02-02T19:24:49.219Z"
   },
   {
    "duration": 58,
    "start_time": "2025-02-02T19:25:21.317Z"
   },
   {
    "duration": 55,
    "start_time": "2025-02-02T19:26:40.962Z"
   },
   {
    "duration": 121,
    "start_time": "2025-02-02T19:34:06.328Z"
   },
   {
    "duration": 235,
    "start_time": "2025-02-02T19:35:49.076Z"
   },
   {
    "duration": 199,
    "start_time": "2025-02-02T19:35:52.536Z"
   },
   {
    "duration": 103,
    "start_time": "2025-02-02T19:36:09.632Z"
   },
   {
    "duration": 20,
    "start_time": "2025-02-02T19:42:39.844Z"
   },
   {
    "duration": 262,
    "start_time": "2025-02-02T19:43:08.127Z"
   },
   {
    "duration": 125,
    "start_time": "2025-02-02T19:54:11.178Z"
   },
   {
    "duration": 13,
    "start_time": "2025-02-02T20:03:39.693Z"
   },
   {
    "duration": 9,
    "start_time": "2025-02-02T20:15:19.058Z"
   },
   {
    "duration": 9,
    "start_time": "2025-02-02T20:16:26.921Z"
   },
   {
    "duration": 9,
    "start_time": "2025-02-02T20:16:47.807Z"
   },
   {
    "duration": 8,
    "start_time": "2025-02-02T20:16:53.796Z"
   },
   {
    "duration": 8,
    "start_time": "2025-02-02T20:17:59.711Z"
   },
   {
    "duration": 7,
    "start_time": "2025-02-02T20:18:11.928Z"
   },
   {
    "duration": 7,
    "start_time": "2025-02-02T20:19:32.693Z"
   },
   {
    "duration": 7,
    "start_time": "2025-02-02T20:19:49.566Z"
   },
   {
    "duration": 12,
    "start_time": "2025-02-02T20:25:27.242Z"
   },
   {
    "duration": 428,
    "start_time": "2025-02-02T20:41:07.201Z"
   },
   {
    "duration": 101,
    "start_time": "2025-02-02T20:41:07.631Z"
   },
   {
    "duration": 24,
    "start_time": "2025-02-02T20:41:07.734Z"
   },
   {
    "duration": 17,
    "start_time": "2025-02-02T20:41:07.760Z"
   },
   {
    "duration": 28,
    "start_time": "2025-02-02T20:41:07.778Z"
   },
   {
    "duration": 41,
    "start_time": "2025-02-02T20:41:07.808Z"
   },
   {
    "duration": 29,
    "start_time": "2025-02-02T20:41:07.851Z"
   },
   {
    "duration": 11,
    "start_time": "2025-02-02T20:41:07.882Z"
   },
   {
    "duration": 10,
    "start_time": "2025-02-02T20:41:07.895Z"
   },
   {
    "duration": 7,
    "start_time": "2025-02-02T20:41:07.910Z"
   },
   {
    "duration": 13,
    "start_time": "2025-02-02T20:41:07.918Z"
   },
   {
    "duration": 46,
    "start_time": "2025-02-02T20:41:07.933Z"
   },
   {
    "duration": 17,
    "start_time": "2025-02-02T20:41:07.981Z"
   },
   {
    "duration": 9,
    "start_time": "2025-02-02T20:41:08.000Z"
   },
   {
    "duration": 8,
    "start_time": "2025-02-02T20:41:08.011Z"
   },
   {
    "duration": 51,
    "start_time": "2025-02-02T20:41:08.021Z"
   },
   {
    "duration": 13,
    "start_time": "2025-02-02T20:41:08.074Z"
   },
   {
    "duration": 12,
    "start_time": "2025-02-02T20:41:08.089Z"
   },
   {
    "duration": 9,
    "start_time": "2025-02-02T20:41:08.103Z"
   },
   {
    "duration": 3,
    "start_time": "2025-02-02T20:41:08.114Z"
   },
   {
    "duration": 14,
    "start_time": "2025-02-02T20:41:08.118Z"
   },
   {
    "duration": 43,
    "start_time": "2025-02-02T20:41:08.133Z"
   },
   {
    "duration": 45,
    "start_time": "2025-02-02T20:41:08.177Z"
   },
   {
    "duration": 9,
    "start_time": "2025-02-02T20:41:08.224Z"
   },
   {
    "duration": 935,
    "start_time": "2025-02-02T20:41:08.234Z"
   },
   {
    "duration": 175,
    "start_time": "2025-02-02T20:41:09.171Z"
   },
   {
    "duration": 268,
    "start_time": "2025-02-02T20:41:09.348Z"
   },
   {
    "duration": 33,
    "start_time": "2025-02-02T20:41:09.620Z"
   },
   {
    "duration": 827,
    "start_time": "2025-02-02T20:41:09.654Z"
   },
   {
    "duration": 164,
    "start_time": "2025-02-02T20:41:10.483Z"
   },
   {
    "duration": 758,
    "start_time": "2025-02-02T20:41:10.649Z"
   },
   {
    "duration": 563,
    "start_time": "2025-02-02T20:41:11.409Z"
   },
   {
    "duration": 37,
    "start_time": "2025-02-02T20:41:11.974Z"
   },
   {
    "duration": 350,
    "start_time": "2025-02-02T20:41:12.012Z"
   },
   {
    "duration": 30,
    "start_time": "2025-02-02T20:41:12.364Z"
   },
   {
    "duration": 56,
    "start_time": "2025-02-02T20:41:12.396Z"
   },
   {
    "duration": 128,
    "start_time": "2025-02-02T20:41:12.454Z"
   },
   {
    "duration": 14,
    "start_time": "2025-02-02T20:41:12.584Z"
   },
   {
    "duration": 168,
    "start_time": "2025-02-02T20:41:12.600Z"
   },
   {
    "duration": 109,
    "start_time": "2025-02-02T20:41:12.773Z"
   },
   {
    "duration": 14,
    "start_time": "2025-02-02T20:41:12.884Z"
   },
   {
    "duration": 13,
    "start_time": "2025-02-02T20:41:12.900Z"
   },
   {
    "duration": 8,
    "start_time": "2025-02-02T20:41:12.916Z"
   },
   {
    "duration": 692,
    "start_time": "2025-02-02T20:48:50.169Z"
   },
   {
    "duration": 12,
    "start_time": "2025-02-02T20:49:18.778Z"
   },
   {
    "duration": 438,
    "start_time": "2025-02-02T20:49:47.108Z"
   },
   {
    "duration": 127,
    "start_time": "2025-02-02T20:49:47.548Z"
   },
   {
    "duration": 25,
    "start_time": "2025-02-02T20:49:47.677Z"
   },
   {
    "duration": 16,
    "start_time": "2025-02-02T20:49:47.705Z"
   },
   {
    "duration": 28,
    "start_time": "2025-02-02T20:49:47.723Z"
   },
   {
    "duration": 63,
    "start_time": "2025-02-02T20:49:47.773Z"
   },
   {
    "duration": 9,
    "start_time": "2025-02-02T20:49:47.838Z"
   },
   {
    "duration": 43,
    "start_time": "2025-02-02T20:49:47.849Z"
   },
   {
    "duration": 25,
    "start_time": "2025-02-02T20:49:47.894Z"
   },
   {
    "duration": 9,
    "start_time": "2025-02-02T20:49:47.922Z"
   },
   {
    "duration": 13,
    "start_time": "2025-02-02T20:49:47.933Z"
   },
   {
    "duration": 8,
    "start_time": "2025-02-02T20:49:47.948Z"
   },
   {
    "duration": 16,
    "start_time": "2025-02-02T20:49:47.958Z"
   },
   {
    "duration": 8,
    "start_time": "2025-02-02T20:49:47.976Z"
   },
   {
    "duration": 5,
    "start_time": "2025-02-02T20:49:47.986Z"
   },
   {
    "duration": 17,
    "start_time": "2025-02-02T20:49:47.993Z"
   },
   {
    "duration": 11,
    "start_time": "2025-02-02T20:49:48.012Z"
   },
   {
    "duration": 48,
    "start_time": "2025-02-02T20:49:48.025Z"
   },
   {
    "duration": 10,
    "start_time": "2025-02-02T20:49:48.075Z"
   },
   {
    "duration": 2,
    "start_time": "2025-02-02T20:49:48.087Z"
   },
   {
    "duration": 10,
    "start_time": "2025-02-02T20:49:48.091Z"
   },
   {
    "duration": 10,
    "start_time": "2025-02-02T20:49:48.102Z"
   },
   {
    "duration": 85,
    "start_time": "2025-02-02T20:49:48.114Z"
   },
   {
    "duration": 8,
    "start_time": "2025-02-02T20:49:48.201Z"
   },
   {
    "duration": 858,
    "start_time": "2025-02-02T20:49:48.211Z"
   },
   {
    "duration": 203,
    "start_time": "2025-02-02T20:49:49.070Z"
   },
   {
    "duration": 254,
    "start_time": "2025-02-02T20:49:49.275Z"
   },
   {
    "duration": 40,
    "start_time": "2025-02-02T20:49:49.533Z"
   },
   {
    "duration": 756,
    "start_time": "2025-02-02T20:49:49.575Z"
   },
   {
    "duration": 155,
    "start_time": "2025-02-02T20:49:50.333Z"
   },
   {
    "duration": 758,
    "start_time": "2025-02-02T20:49:50.489Z"
   },
   {
    "duration": 563,
    "start_time": "2025-02-02T20:49:51.250Z"
   },
   {
    "duration": 36,
    "start_time": "2025-02-02T20:49:51.815Z"
   },
   {
    "duration": 359,
    "start_time": "2025-02-02T20:49:51.853Z"
   },
   {
    "duration": 26,
    "start_time": "2025-02-02T20:49:52.214Z"
   },
   {
    "duration": 76,
    "start_time": "2025-02-02T20:49:52.242Z"
   },
   {
    "duration": 127,
    "start_time": "2025-02-02T20:49:52.320Z"
   },
   {
    "duration": 14,
    "start_time": "2025-02-02T20:49:52.449Z"
   },
   {
    "duration": 174,
    "start_time": "2025-02-02T20:49:52.472Z"
   },
   {
    "duration": 105,
    "start_time": "2025-02-02T20:49:52.648Z"
   },
   {
    "duration": 23,
    "start_time": "2025-02-02T20:49:52.755Z"
   },
   {
    "duration": 7,
    "start_time": "2025-02-02T20:49:52.780Z"
   },
   {
    "duration": 31,
    "start_time": "2025-02-02T20:49:52.789Z"
   },
   {
    "duration": 723,
    "start_time": "2025-02-02T20:49:52.822Z"
   },
   {
    "duration": 0,
    "start_time": "2025-02-02T20:49:53.547Z"
   },
   {
    "duration": 711,
    "start_time": "2025-02-02T20:50:30.622Z"
   },
   {
    "duration": 5,
    "start_time": "2025-02-02T20:54:20.890Z"
   },
   {
    "duration": 9,
    "start_time": "2025-02-02T20:54:58.805Z"
   },
   {
    "duration": 1323,
    "start_time": "2025-02-02T20:55:59.981Z"
   },
   {
    "duration": 9,
    "start_time": "2025-02-02T20:56:37.093Z"
   },
   {
    "duration": 8,
    "start_time": "2025-02-02T20:56:57.569Z"
   },
   {
    "duration": 8,
    "start_time": "2025-02-02T20:57:10.903Z"
   },
   {
    "duration": 464,
    "start_time": "2025-02-02T21:00:49.982Z"
   },
   {
    "duration": 116,
    "start_time": "2025-02-02T21:00:50.448Z"
   },
   {
    "duration": 23,
    "start_time": "2025-02-02T21:00:50.565Z"
   },
   {
    "duration": 18,
    "start_time": "2025-02-02T21:00:50.590Z"
   },
   {
    "duration": 28,
    "start_time": "2025-02-02T21:00:50.610Z"
   },
   {
    "duration": 69,
    "start_time": "2025-02-02T21:00:50.641Z"
   },
   {
    "duration": 9,
    "start_time": "2025-02-02T21:00:50.712Z"
   },
   {
    "duration": 20,
    "start_time": "2025-02-02T21:00:50.722Z"
   },
   {
    "duration": 28,
    "start_time": "2025-02-02T21:00:50.744Z"
   },
   {
    "duration": 22,
    "start_time": "2025-02-02T21:00:50.775Z"
   },
   {
    "duration": 23,
    "start_time": "2025-02-02T21:00:50.799Z"
   },
   {
    "duration": 9,
    "start_time": "2025-02-02T21:00:50.824Z"
   },
   {
    "duration": 30,
    "start_time": "2025-02-02T21:00:50.835Z"
   },
   {
    "duration": 9,
    "start_time": "2025-02-02T21:00:50.867Z"
   },
   {
    "duration": 28,
    "start_time": "2025-02-02T21:00:50.878Z"
   },
   {
    "duration": 20,
    "start_time": "2025-02-02T21:00:50.908Z"
   },
   {
    "duration": 13,
    "start_time": "2025-02-02T21:00:50.929Z"
   },
   {
    "duration": 11,
    "start_time": "2025-02-02T21:00:50.944Z"
   },
   {
    "duration": 29,
    "start_time": "2025-02-02T21:00:50.956Z"
   },
   {
    "duration": 26,
    "start_time": "2025-02-02T21:00:50.986Z"
   },
   {
    "duration": 18,
    "start_time": "2025-02-02T21:00:51.013Z"
   },
   {
    "duration": 5,
    "start_time": "2025-02-02T21:00:51.033Z"
   },
   {
    "duration": 45,
    "start_time": "2025-02-02T21:00:51.040Z"
   },
   {
    "duration": 9,
    "start_time": "2025-02-02T21:00:51.087Z"
   },
   {
    "duration": 879,
    "start_time": "2025-02-02T21:00:51.098Z"
   },
   {
    "duration": 171,
    "start_time": "2025-02-02T21:00:51.978Z"
   },
   {
    "duration": 276,
    "start_time": "2025-02-02T21:00:52.151Z"
   },
   {
    "duration": 43,
    "start_time": "2025-02-02T21:00:52.431Z"
   },
   {
    "duration": 774,
    "start_time": "2025-02-02T21:00:52.476Z"
   },
   {
    "duration": 158,
    "start_time": "2025-02-02T21:00:53.252Z"
   },
   {
    "duration": 735,
    "start_time": "2025-02-02T21:00:53.412Z"
   },
   {
    "duration": 579,
    "start_time": "2025-02-02T21:00:54.149Z"
   },
   {
    "duration": 48,
    "start_time": "2025-02-02T21:00:54.730Z"
   },
   {
    "duration": 352,
    "start_time": "2025-02-02T21:00:54.780Z"
   },
   {
    "duration": 38,
    "start_time": "2025-02-02T21:00:55.134Z"
   },
   {
    "duration": 54,
    "start_time": "2025-02-02T21:00:55.174Z"
   },
   {
    "duration": 124,
    "start_time": "2025-02-02T21:00:55.230Z"
   },
   {
    "duration": 25,
    "start_time": "2025-02-02T21:00:55.356Z"
   },
   {
    "duration": 165,
    "start_time": "2025-02-02T21:00:55.383Z"
   },
   {
    "duration": 110,
    "start_time": "2025-02-02T21:00:55.551Z"
   },
   {
    "duration": 14,
    "start_time": "2025-02-02T21:00:55.672Z"
   },
   {
    "duration": 8,
    "start_time": "2025-02-02T21:00:55.689Z"
   },
   {
    "duration": 18,
    "start_time": "2025-02-02T21:00:55.699Z"
   },
   {
    "duration": 1457,
    "start_time": "2025-02-02T21:00:55.719Z"
   },
   {
    "duration": 0,
    "start_time": "2025-02-02T21:00:57.178Z"
   },
   {
    "duration": 11,
    "start_time": "2025-02-02T21:01:02.888Z"
   },
   {
    "duration": 6,
    "start_time": "2025-02-02T21:01:37.269Z"
   },
   {
    "duration": 1305,
    "start_time": "2025-02-02T21:01:45.595Z"
   },
   {
    "duration": 1318,
    "start_time": "2025-02-02T21:01:58.580Z"
   },
   {
    "duration": 11,
    "start_time": "2025-02-02T21:02:13.292Z"
   },
   {
    "duration": 6,
    "start_time": "2025-02-02T21:03:04.689Z"
   },
   {
    "duration": 7,
    "start_time": "2025-02-02T21:03:23.676Z"
   },
   {
    "duration": 11,
    "start_time": "2025-02-02T21:03:33.425Z"
   },
   {
    "duration": 7,
    "start_time": "2025-02-02T21:03:43.111Z"
   },
   {
    "duration": 1295,
    "start_time": "2025-02-02T21:03:52.036Z"
   },
   {
    "duration": 7,
    "start_time": "2025-02-02T21:04:19.579Z"
   },
   {
    "duration": 406,
    "start_time": "2025-02-02T21:04:50.616Z"
   },
   {
    "duration": 102,
    "start_time": "2025-02-02T21:04:51.024Z"
   },
   {
    "duration": 23,
    "start_time": "2025-02-02T21:04:51.128Z"
   },
   {
    "duration": 25,
    "start_time": "2025-02-02T21:04:51.154Z"
   },
   {
    "duration": 30,
    "start_time": "2025-02-02T21:04:51.181Z"
   },
   {
    "duration": 75,
    "start_time": "2025-02-02T21:04:51.212Z"
   },
   {
    "duration": 10,
    "start_time": "2025-02-02T21:04:51.289Z"
   },
   {
    "duration": 15,
    "start_time": "2025-02-02T21:04:51.301Z"
   },
   {
    "duration": 14,
    "start_time": "2025-02-02T21:04:51.318Z"
   },
   {
    "duration": 11,
    "start_time": "2025-02-02T21:04:51.336Z"
   },
   {
    "duration": 31,
    "start_time": "2025-02-02T21:04:51.349Z"
   },
   {
    "duration": 19,
    "start_time": "2025-02-02T21:04:51.382Z"
   },
   {
    "duration": 6,
    "start_time": "2025-02-02T21:04:51.403Z"
   },
   {
    "duration": 12,
    "start_time": "2025-02-02T21:04:51.411Z"
   },
   {
    "duration": 5,
    "start_time": "2025-02-02T21:04:51.425Z"
   },
   {
    "duration": 41,
    "start_time": "2025-02-02T21:04:51.432Z"
   },
   {
    "duration": 12,
    "start_time": "2025-02-02T21:04:51.475Z"
   },
   {
    "duration": 40,
    "start_time": "2025-02-02T21:04:51.488Z"
   },
   {
    "duration": 20,
    "start_time": "2025-02-02T21:04:51.530Z"
   },
   {
    "duration": 3,
    "start_time": "2025-02-02T21:04:51.552Z"
   },
   {
    "duration": 14,
    "start_time": "2025-02-02T21:04:51.557Z"
   },
   {
    "duration": 22,
    "start_time": "2025-02-02T21:04:51.572Z"
   },
   {
    "duration": 54,
    "start_time": "2025-02-02T21:04:51.596Z"
   },
   {
    "duration": 7,
    "start_time": "2025-02-02T21:04:51.652Z"
   },
   {
    "duration": 803,
    "start_time": "2025-02-02T21:04:51.661Z"
   },
   {
    "duration": 174,
    "start_time": "2025-02-02T21:04:52.466Z"
   },
   {
    "duration": 268,
    "start_time": "2025-02-02T21:04:52.642Z"
   },
   {
    "duration": 29,
    "start_time": "2025-02-02T21:04:52.914Z"
   },
   {
    "duration": 809,
    "start_time": "2025-02-02T21:04:52.945Z"
   },
   {
    "duration": 158,
    "start_time": "2025-02-02T21:04:53.755Z"
   },
   {
    "duration": 758,
    "start_time": "2025-02-02T21:04:53.914Z"
   },
   {
    "duration": 557,
    "start_time": "2025-02-02T21:04:54.675Z"
   },
   {
    "duration": 51,
    "start_time": "2025-02-02T21:04:55.234Z"
   },
   {
    "duration": 350,
    "start_time": "2025-02-02T21:04:55.287Z"
   },
   {
    "duration": 38,
    "start_time": "2025-02-02T21:04:55.639Z"
   },
   {
    "duration": 59,
    "start_time": "2025-02-02T21:04:55.679Z"
   },
   {
    "duration": 132,
    "start_time": "2025-02-02T21:04:55.740Z"
   },
   {
    "duration": 16,
    "start_time": "2025-02-02T21:04:55.874Z"
   },
   {
    "duration": 171,
    "start_time": "2025-02-02T21:04:55.892Z"
   },
   {
    "duration": 125,
    "start_time": "2025-02-02T21:04:56.071Z"
   },
   {
    "duration": 18,
    "start_time": "2025-02-02T21:04:56.198Z"
   },
   {
    "duration": 125,
    "start_time": "2025-02-02T21:04:56.218Z"
   },
   {
    "duration": 0,
    "start_time": "2025-02-02T21:04:56.345Z"
   },
   {
    "duration": 0,
    "start_time": "2025-02-02T21:04:56.346Z"
   },
   {
    "duration": 0,
    "start_time": "2025-02-02T21:04:56.348Z"
   },
   {
    "duration": 6,
    "start_time": "2025-02-02T21:05:40.577Z"
   },
   {
    "duration": 7,
    "start_time": "2025-02-02T21:05:44.386Z"
   },
   {
    "duration": 1294,
    "start_time": "2025-02-02T21:05:45.640Z"
   },
   {
    "duration": 7,
    "start_time": "2025-02-02T21:05:48.787Z"
   },
   {
    "duration": 495,
    "start_time": "2025-02-02T21:20:55.172Z"
   },
   {
    "duration": 118,
    "start_time": "2025-02-02T21:20:55.671Z"
   },
   {
    "duration": 23,
    "start_time": "2025-02-02T21:20:55.790Z"
   },
   {
    "duration": 16,
    "start_time": "2025-02-02T21:20:55.815Z"
   },
   {
    "duration": 27,
    "start_time": "2025-02-02T21:20:55.833Z"
   },
   {
    "duration": 49,
    "start_time": "2025-02-02T21:20:55.862Z"
   },
   {
    "duration": 8,
    "start_time": "2025-02-02T21:20:55.912Z"
   },
   {
    "duration": 11,
    "start_time": "2025-02-02T21:20:55.922Z"
   },
   {
    "duration": 37,
    "start_time": "2025-02-02T21:20:55.935Z"
   },
   {
    "duration": 7,
    "start_time": "2025-02-02T21:20:55.974Z"
   },
   {
    "duration": 16,
    "start_time": "2025-02-02T21:20:55.983Z"
   },
   {
    "duration": 7,
    "start_time": "2025-02-02T21:20:56.001Z"
   },
   {
    "duration": 5,
    "start_time": "2025-02-02T21:20:56.010Z"
   },
   {
    "duration": 9,
    "start_time": "2025-02-02T21:20:56.020Z"
   },
   {
    "duration": 44,
    "start_time": "2025-02-02T21:20:56.032Z"
   },
   {
    "duration": 18,
    "start_time": "2025-02-02T21:20:56.078Z"
   },
   {
    "duration": 12,
    "start_time": "2025-02-02T21:20:56.098Z"
   },
   {
    "duration": 14,
    "start_time": "2025-02-02T21:20:56.112Z"
   },
   {
    "duration": 49,
    "start_time": "2025-02-02T21:20:56.128Z"
   },
   {
    "duration": 3,
    "start_time": "2025-02-02T21:20:56.179Z"
   },
   {
    "duration": 17,
    "start_time": "2025-02-02T21:20:56.184Z"
   },
   {
    "duration": 14,
    "start_time": "2025-02-02T21:20:56.204Z"
   },
   {
    "duration": 92,
    "start_time": "2025-02-02T21:20:56.221Z"
   },
   {
    "duration": 12,
    "start_time": "2025-02-02T21:20:56.315Z"
   },
   {
    "duration": 932,
    "start_time": "2025-02-02T21:20:56.329Z"
   },
   {
    "duration": 170,
    "start_time": "2025-02-02T21:20:57.263Z"
   },
   {
    "duration": 269,
    "start_time": "2025-02-02T21:20:57.435Z"
   },
   {
    "duration": 31,
    "start_time": "2025-02-02T21:20:57.706Z"
   },
   {
    "duration": 803,
    "start_time": "2025-02-02T21:20:57.739Z"
   },
   {
    "duration": 159,
    "start_time": "2025-02-02T21:20:58.544Z"
   },
   {
    "duration": 758,
    "start_time": "2025-02-02T21:20:58.705Z"
   },
   {
    "duration": 572,
    "start_time": "2025-02-02T21:20:59.464Z"
   },
   {
    "duration": 53,
    "start_time": "2025-02-02T21:21:00.038Z"
   },
   {
    "duration": 367,
    "start_time": "2025-02-02T21:21:00.093Z"
   },
   {
    "duration": 30,
    "start_time": "2025-02-02T21:21:00.462Z"
   },
   {
    "duration": 62,
    "start_time": "2025-02-02T21:21:00.494Z"
   },
   {
    "duration": 125,
    "start_time": "2025-02-02T21:21:00.558Z"
   },
   {
    "duration": 14,
    "start_time": "2025-02-02T21:21:00.685Z"
   },
   {
    "duration": 178,
    "start_time": "2025-02-02T21:21:00.701Z"
   },
   {
    "duration": 107,
    "start_time": "2025-02-02T21:21:00.881Z"
   },
   {
    "duration": 12,
    "start_time": "2025-02-02T21:21:00.992Z"
   },
   {
    "duration": 13,
    "start_time": "2025-02-02T21:21:01.006Z"
   },
   {
    "duration": 13,
    "start_time": "2025-02-02T21:21:01.021Z"
   },
   {
    "duration": 1336,
    "start_time": "2025-02-02T21:21:01.036Z"
   },
   {
    "duration": 8,
    "start_time": "2025-02-02T21:21:02.374Z"
   },
   {
    "duration": 429,
    "start_time": "2025-02-02T21:45:05.730Z"
   },
   {
    "duration": 104,
    "start_time": "2025-02-02T21:45:06.162Z"
   },
   {
    "duration": 22,
    "start_time": "2025-02-02T21:45:06.269Z"
   },
   {
    "duration": 29,
    "start_time": "2025-02-02T21:45:06.293Z"
   },
   {
    "duration": 43,
    "start_time": "2025-02-02T21:45:06.325Z"
   },
   {
    "duration": 66,
    "start_time": "2025-02-02T21:45:06.370Z"
   },
   {
    "duration": 9,
    "start_time": "2025-02-02T21:45:06.437Z"
   },
   {
    "duration": 30,
    "start_time": "2025-02-02T21:45:06.448Z"
   },
   {
    "duration": 29,
    "start_time": "2025-02-02T21:45:06.480Z"
   },
   {
    "duration": 22,
    "start_time": "2025-02-02T21:45:06.510Z"
   },
   {
    "duration": 27,
    "start_time": "2025-02-02T21:45:06.534Z"
   },
   {
    "duration": 19,
    "start_time": "2025-02-02T21:45:06.563Z"
   },
   {
    "duration": 14,
    "start_time": "2025-02-02T21:45:06.584Z"
   },
   {
    "duration": 22,
    "start_time": "2025-02-02T21:45:06.603Z"
   },
   {
    "duration": 5,
    "start_time": "2025-02-02T21:45:06.627Z"
   },
   {
    "duration": 22,
    "start_time": "2025-02-02T21:45:06.634Z"
   },
   {
    "duration": 14,
    "start_time": "2025-02-02T21:45:06.658Z"
   },
   {
    "duration": 19,
    "start_time": "2025-02-02T21:45:06.674Z"
   },
   {
    "duration": 38,
    "start_time": "2025-02-02T21:45:06.695Z"
   },
   {
    "duration": 14,
    "start_time": "2025-02-02T21:45:06.734Z"
   },
   {
    "duration": 33,
    "start_time": "2025-02-02T21:45:06.750Z"
   },
   {
    "duration": 14,
    "start_time": "2025-02-02T21:45:06.785Z"
   },
   {
    "duration": 56,
    "start_time": "2025-02-02T21:45:06.801Z"
   },
   {
    "duration": 13,
    "start_time": "2025-02-02T21:45:06.859Z"
   },
   {
    "duration": 835,
    "start_time": "2025-02-02T21:45:06.874Z"
   },
   {
    "duration": 168,
    "start_time": "2025-02-02T21:45:07.711Z"
   },
   {
    "duration": 288,
    "start_time": "2025-02-02T21:45:07.881Z"
   },
   {
    "duration": 33,
    "start_time": "2025-02-02T21:45:08.172Z"
   },
   {
    "duration": 816,
    "start_time": "2025-02-02T21:45:08.207Z"
   },
   {
    "duration": 192,
    "start_time": "2025-02-02T21:45:09.026Z"
   },
   {
    "duration": 743,
    "start_time": "2025-02-02T21:45:09.221Z"
   },
   {
    "duration": 563,
    "start_time": "2025-02-02T21:45:09.967Z"
   },
   {
    "duration": 52,
    "start_time": "2025-02-02T21:45:10.532Z"
   },
   {
    "duration": 379,
    "start_time": "2025-02-02T21:45:10.587Z"
   },
   {
    "duration": 28,
    "start_time": "2025-02-02T21:45:10.972Z"
   },
   {
    "duration": 74,
    "start_time": "2025-02-02T21:45:11.002Z"
   },
   {
    "duration": 124,
    "start_time": "2025-02-02T21:45:11.078Z"
   },
   {
    "duration": 17,
    "start_time": "2025-02-02T21:45:11.205Z"
   },
   {
    "duration": 181,
    "start_time": "2025-02-02T21:45:11.225Z"
   },
   {
    "duration": 113,
    "start_time": "2025-02-02T21:45:11.408Z"
   },
   {
    "duration": 13,
    "start_time": "2025-02-02T21:45:11.526Z"
   },
   {
    "duration": 10,
    "start_time": "2025-02-02T21:45:11.541Z"
   },
   {
    "duration": 7,
    "start_time": "2025-02-02T21:45:11.572Z"
   },
   {
    "duration": 1301,
    "start_time": "2025-02-02T21:45:11.581Z"
   },
   {
    "duration": 7,
    "start_time": "2025-02-02T21:45:12.884Z"
   },
   {
    "duration": 35,
    "start_time": "2025-02-02T21:47:36.180Z"
   },
   {
    "duration": 37,
    "start_time": "2025-02-02T21:47:46.082Z"
   },
   {
    "duration": 41,
    "start_time": "2025-02-02T21:47:51.173Z"
   },
   {
    "duration": 4,
    "start_time": "2025-02-02T21:48:02.626Z"
   },
   {
    "duration": 100,
    "start_time": "2025-02-02T21:48:02.907Z"
   },
   {
    "duration": 23,
    "start_time": "2025-02-02T21:48:03.226Z"
   },
   {
    "duration": 16,
    "start_time": "2025-02-02T21:48:04.018Z"
   },
   {
    "duration": 20,
    "start_time": "2025-02-02T21:48:04.283Z"
   },
   {
    "duration": 39,
    "start_time": "2025-02-02T21:48:04.738Z"
   },
   {
    "duration": 10,
    "start_time": "2025-02-02T21:48:05.650Z"
   },
   {
    "duration": 14,
    "start_time": "2025-02-02T21:48:06.608Z"
   },
   {
    "duration": 5,
    "start_time": "2025-02-02T21:48:07.466Z"
   },
   {
    "duration": 7,
    "start_time": "2025-02-02T21:48:07.691Z"
   },
   {
    "duration": 15,
    "start_time": "2025-02-02T21:48:08.755Z"
   },
   {
    "duration": 8,
    "start_time": "2025-02-02T21:48:10.459Z"
   },
   {
    "duration": 8,
    "start_time": "2025-02-02T21:48:11.210Z"
   },
   {
    "duration": 7,
    "start_time": "2025-02-02T21:48:12.461Z"
   },
   {
    "duration": 6,
    "start_time": "2025-02-02T21:48:13.090Z"
   },
   {
    "duration": 18,
    "start_time": "2025-02-02T21:48:13.730Z"
   },
   {
    "duration": 11,
    "start_time": "2025-02-02T21:48:14.884Z"
   },
   {
    "duration": 12,
    "start_time": "2025-02-02T21:48:15.899Z"
   },
   {
    "duration": 10,
    "start_time": "2025-02-02T21:48:19.938Z"
   },
   {
    "duration": 11,
    "start_time": "2025-02-02T21:48:23.692Z"
   },
   {
    "duration": 6,
    "start_time": "2025-02-02T21:48:25.979Z"
   },
   {
    "duration": 42,
    "start_time": "2025-02-02T21:48:27.242Z"
   },
   {
    "duration": 9,
    "start_time": "2025-02-02T21:48:43.610Z"
   },
   {
    "duration": 518,
    "start_time": "2025-02-02T21:48:46.723Z"
   },
   {
    "duration": 415,
    "start_time": "2025-02-03T07:12:55.430Z"
   },
   {
    "duration": 88,
    "start_time": "2025-02-03T07:12:55.847Z"
   },
   {
    "duration": 18,
    "start_time": "2025-02-03T07:12:55.936Z"
   },
   {
    "duration": 13,
    "start_time": "2025-02-03T07:12:55.955Z"
   },
   {
    "duration": 35,
    "start_time": "2025-02-03T07:12:55.970Z"
   },
   {
    "duration": 43,
    "start_time": "2025-02-03T07:12:56.006Z"
   },
   {
    "duration": 10,
    "start_time": "2025-02-03T07:12:56.052Z"
   },
   {
    "duration": 14,
    "start_time": "2025-02-03T07:12:56.064Z"
   },
   {
    "duration": 8,
    "start_time": "2025-02-03T07:12:56.080Z"
   },
   {
    "duration": 8,
    "start_time": "2025-02-03T07:12:56.091Z"
   },
   {
    "duration": 49,
    "start_time": "2025-02-03T07:12:56.101Z"
   },
   {
    "duration": 7,
    "start_time": "2025-02-03T07:12:56.153Z"
   },
   {
    "duration": 13,
    "start_time": "2025-02-03T07:12:56.162Z"
   },
   {
    "duration": 8,
    "start_time": "2025-02-03T07:12:56.178Z"
   },
   {
    "duration": 5,
    "start_time": "2025-02-03T07:12:56.187Z"
   },
   {
    "duration": 16,
    "start_time": "2025-02-03T07:12:56.194Z"
   },
   {
    "duration": 43,
    "start_time": "2025-02-03T07:12:56.212Z"
   },
   {
    "duration": 9,
    "start_time": "2025-02-03T07:12:56.257Z"
   },
   {
    "duration": 9,
    "start_time": "2025-02-03T07:12:56.267Z"
   },
   {
    "duration": 8,
    "start_time": "2025-02-03T07:12:56.278Z"
   },
   {
    "duration": 5,
    "start_time": "2025-02-03T07:12:56.288Z"
   },
   {
    "duration": 72,
    "start_time": "2025-02-03T07:12:56.295Z"
   },
   {
    "duration": 7,
    "start_time": "2025-02-03T07:12:56.369Z"
   },
   {
    "duration": 782,
    "start_time": "2025-02-03T07:12:56.378Z"
   },
   {
    "duration": 151,
    "start_time": "2025-02-03T07:12:57.162Z"
   },
   {
    "duration": 235,
    "start_time": "2025-02-03T07:12:57.315Z"
   },
   {
    "duration": 25,
    "start_time": "2025-02-03T07:12:57.552Z"
   },
   {
    "duration": 711,
    "start_time": "2025-02-03T07:12:57.579Z"
   },
   {
    "duration": 123,
    "start_time": "2025-02-03T07:12:58.292Z"
   },
   {
    "duration": 609,
    "start_time": "2025-02-03T07:12:58.417Z"
   },
   {
    "duration": 456,
    "start_time": "2025-02-03T07:12:59.027Z"
   },
   {
    "duration": 31,
    "start_time": "2025-02-03T07:12:59.485Z"
   },
   {
    "duration": 299,
    "start_time": "2025-02-03T07:12:59.518Z"
   },
   {
    "duration": 30,
    "start_time": "2025-02-03T07:12:59.819Z"
   },
   {
    "duration": 52,
    "start_time": "2025-02-03T07:12:59.852Z"
   },
   {
    "duration": 21,
    "start_time": "2025-02-03T07:13:25.637Z"
   },
   {
    "duration": 47,
    "start_time": "2025-02-03T07:13:37.261Z"
   },
   {
    "duration": 20,
    "start_time": "2025-02-03T07:14:14.463Z"
   },
   {
    "duration": 3,
    "start_time": "2025-02-03T07:21:48.752Z"
   },
   {
    "duration": 109,
    "start_time": "2025-02-03T07:21:48.757Z"
   },
   {
    "duration": 17,
    "start_time": "2025-02-03T07:21:48.868Z"
   },
   {
    "duration": 12,
    "start_time": "2025-02-03T07:21:48.887Z"
   },
   {
    "duration": 16,
    "start_time": "2025-02-03T07:21:48.902Z"
   },
   {
    "duration": 31,
    "start_time": "2025-02-03T07:21:48.919Z"
   },
   {
    "duration": 6,
    "start_time": "2025-02-03T07:21:48.952Z"
   },
   {
    "duration": 9,
    "start_time": "2025-02-03T07:21:48.960Z"
   },
   {
    "duration": 5,
    "start_time": "2025-02-03T07:21:48.971Z"
   },
   {
    "duration": 10,
    "start_time": "2025-02-03T07:21:48.977Z"
   },
   {
    "duration": 10,
    "start_time": "2025-02-03T07:21:48.989Z"
   },
   {
    "duration": 8,
    "start_time": "2025-02-03T07:21:49.000Z"
   },
   {
    "duration": 5,
    "start_time": "2025-02-03T07:21:49.049Z"
   },
   {
    "duration": 8,
    "start_time": "2025-02-03T07:21:49.055Z"
   },
   {
    "duration": 6,
    "start_time": "2025-02-03T07:21:49.065Z"
   },
   {
    "duration": 16,
    "start_time": "2025-02-03T07:21:49.073Z"
   },
   {
    "duration": 9,
    "start_time": "2025-02-03T07:21:49.091Z"
   },
   {
    "duration": 51,
    "start_time": "2025-02-03T07:21:49.103Z"
   },
   {
    "duration": 9,
    "start_time": "2025-02-03T07:21:49.156Z"
   },
   {
    "duration": 8,
    "start_time": "2025-02-03T07:21:49.167Z"
   },
   {
    "duration": 9,
    "start_time": "2025-02-03T07:21:49.177Z"
   },
   {
    "duration": 62,
    "start_time": "2025-02-03T07:21:49.188Z"
   },
   {
    "duration": 8,
    "start_time": "2025-02-03T07:21:49.252Z"
   },
   {
    "duration": 449,
    "start_time": "2025-02-03T07:21:49.262Z"
   },
   {
    "duration": 160,
    "start_time": "2025-02-03T07:21:49.713Z"
   },
   {
    "duration": 169,
    "start_time": "2025-02-03T07:21:49.875Z"
   },
   {
    "duration": 24,
    "start_time": "2025-02-03T07:21:50.049Z"
   },
   {
    "duration": 232,
    "start_time": "2025-02-03T07:21:50.074Z"
   },
   {
    "duration": 129,
    "start_time": "2025-02-03T07:21:50.307Z"
   },
   {
    "duration": 549,
    "start_time": "2025-02-03T07:21:50.438Z"
   },
   {
    "duration": 469,
    "start_time": "2025-02-03T07:21:50.989Z"
   },
   {
    "duration": 30,
    "start_time": "2025-02-03T07:21:51.460Z"
   },
   {
    "duration": 216,
    "start_time": "2025-02-03T07:21:51.492Z"
   },
   {
    "duration": 20,
    "start_time": "2025-02-03T07:21:51.710Z"
   },
   {
    "duration": 56,
    "start_time": "2025-02-03T07:21:51.732Z"
   },
   {
    "duration": 100,
    "start_time": "2025-02-03T07:21:51.789Z"
   },
   {
    "duration": 10,
    "start_time": "2025-02-03T07:21:51.892Z"
   },
   {
    "duration": 134,
    "start_time": "2025-02-03T07:21:51.903Z"
   },
   {
    "duration": 86,
    "start_time": "2025-02-03T07:21:52.039Z"
   },
   {
    "duration": 25,
    "start_time": "2025-02-03T07:21:52.126Z"
   },
   {
    "duration": 5,
    "start_time": "2025-02-03T07:21:52.153Z"
   },
   {
    "duration": 7,
    "start_time": "2025-02-03T07:21:52.160Z"
   },
   {
    "duration": 1146,
    "start_time": "2025-02-03T07:21:52.169Z"
   },
   {
    "duration": 1083,
    "start_time": "2025-02-03T07:22:43.197Z"
   },
   {
    "duration": 9,
    "start_time": "2025-02-03T07:26:11.688Z"
   },
   {
    "duration": 10,
    "start_time": "2025-02-03T08:55:39.222Z"
   },
   {
    "duration": 3,
    "start_time": "2025-02-03T08:55:56.848Z"
   },
   {
    "duration": 373,
    "start_time": "2025-02-03T08:58:46.646Z"
   },
   {
    "duration": 93,
    "start_time": "2025-02-03T08:58:47.301Z"
   },
   {
    "duration": 19,
    "start_time": "2025-02-03T08:58:51.018Z"
   },
   {
    "duration": 15,
    "start_time": "2025-02-03T08:58:53.801Z"
   },
   {
    "duration": 24,
    "start_time": "2025-02-03T08:58:54.304Z"
   },
   {
    "duration": 41,
    "start_time": "2025-02-03T08:58:55.988Z"
   },
   {
    "duration": 8,
    "start_time": "2025-02-03T08:59:00.409Z"
   },
   {
    "duration": 10,
    "start_time": "2025-02-03T08:59:04.069Z"
   },
   {
    "duration": 4,
    "start_time": "2025-02-03T08:59:06.593Z"
   },
   {
    "duration": 6,
    "start_time": "2025-02-03T08:59:06.871Z"
   },
   {
    "duration": 11,
    "start_time": "2025-02-03T08:59:11.428Z"
   },
   {
    "duration": 7,
    "start_time": "2025-02-03T08:59:15.218Z"
   },
   {
    "duration": 5,
    "start_time": "2025-02-03T08:59:16.498Z"
   },
   {
    "duration": 7,
    "start_time": "2025-02-03T08:59:19.095Z"
   },
   {
    "duration": 5,
    "start_time": "2025-02-03T08:59:26.031Z"
   },
   {
    "duration": 64,
    "start_time": "2025-02-03T09:06:46.015Z"
   },
   {
    "duration": 19,
    "start_time": "2025-02-03T09:08:24.796Z"
   },
   {
    "duration": 17,
    "start_time": "2025-02-03T09:09:41.735Z"
   },
   {
    "duration": 7,
    "start_time": "2025-02-03T09:12:42.214Z"
   },
   {
    "duration": 17,
    "start_time": "2025-02-03T09:13:04.281Z"
   },
   {
    "duration": 462,
    "start_time": "2025-02-03T09:13:20.714Z"
   },
   {
    "duration": 4,
    "start_time": "2025-02-03T09:13:28.508Z"
   },
   {
    "duration": 91,
    "start_time": "2025-02-03T09:13:29.986Z"
   },
   {
    "duration": 20,
    "start_time": "2025-02-03T09:13:32.618Z"
   },
   {
    "duration": 14,
    "start_time": "2025-02-03T09:13:33.760Z"
   },
   {
    "duration": 24,
    "start_time": "2025-02-03T09:13:34.083Z"
   },
   {
    "duration": 40,
    "start_time": "2025-02-03T09:13:34.659Z"
   },
   {
    "duration": 7,
    "start_time": "2025-02-03T09:13:35.758Z"
   },
   {
    "duration": 10,
    "start_time": "2025-02-03T09:13:36.328Z"
   },
   {
    "duration": 5,
    "start_time": "2025-02-03T09:13:36.846Z"
   },
   {
    "duration": 6,
    "start_time": "2025-02-03T09:13:37.144Z"
   },
   {
    "duration": 12,
    "start_time": "2025-02-03T09:13:37.644Z"
   },
   {
    "duration": 7,
    "start_time": "2025-02-03T09:13:45.472Z"
   },
   {
    "duration": 5,
    "start_time": "2025-02-03T09:13:46.478Z"
   },
   {
    "duration": 7,
    "start_time": "2025-02-03T09:13:48.116Z"
   },
   {
    "duration": 6,
    "start_time": "2025-02-03T09:13:50.788Z"
   },
   {
    "duration": 5,
    "start_time": "2025-02-03T09:13:53.108Z"
   },
   {
    "duration": 18,
    "start_time": "2025-02-03T09:13:54.930Z"
   },
   {
    "duration": 24,
    "start_time": "2025-02-03T09:15:06.560Z"
   },
   {
    "duration": 16,
    "start_time": "2025-02-03T09:15:23.404Z"
   },
   {
    "duration": 4,
    "start_time": "2025-02-03T09:24:15.699Z"
   },
   {
    "duration": 3,
    "start_time": "2025-02-03T09:24:26.439Z"
   },
   {
    "duration": 8,
    "start_time": "2025-02-03T09:38:52.903Z"
   },
   {
    "duration": 415,
    "start_time": "2025-02-03T09:45:06.531Z"
   },
   {
    "duration": 20,
    "start_time": "2025-02-03T09:45:21.580Z"
   },
   {
    "duration": 39,
    "start_time": "2025-02-03T09:50:53.119Z"
   },
   {
    "duration": 12,
    "start_time": "2025-02-03T09:53:50.444Z"
   },
   {
    "duration": 9,
    "start_time": "2025-02-03T09:54:48.272Z"
   },
   {
    "duration": 31,
    "start_time": "2025-02-03T09:59:25.050Z"
   },
   {
    "duration": 105,
    "start_time": "2025-02-03T10:00:20.450Z"
   },
   {
    "duration": 116,
    "start_time": "2025-02-03T10:01:29.957Z"
   },
   {
    "duration": 5,
    "start_time": "2025-02-03T10:11:43.210Z"
   },
   {
    "duration": 740,
    "start_time": "2025-02-03T10:18:24.317Z"
   },
   {
    "duration": 3,
    "start_time": "2025-02-03T10:23:28.227Z"
   },
   {
    "duration": 2,
    "start_time": "2025-02-03T10:23:42.784Z"
   },
   {
    "duration": 3,
    "start_time": "2025-02-03T10:23:52.705Z"
   },
   {
    "duration": 2,
    "start_time": "2025-02-03T10:23:54.481Z"
   },
   {
    "duration": 3,
    "start_time": "2025-02-03T10:24:48.687Z"
   },
   {
    "duration": 3,
    "start_time": "2025-02-03T10:24:58.030Z"
   },
   {
    "duration": 3,
    "start_time": "2025-02-03T10:25:35.922Z"
   },
   {
    "duration": 27,
    "start_time": "2025-02-03T10:28:54.692Z"
   },
   {
    "duration": 28,
    "start_time": "2025-02-03T10:29:57.994Z"
   },
   {
    "duration": 6,
    "start_time": "2025-02-03T10:31:23.975Z"
   },
   {
    "duration": 490,
    "start_time": "2025-02-03T10:33:01.835Z"
   },
   {
    "duration": 606,
    "start_time": "2025-02-03T10:33:21.546Z"
   },
   {
    "duration": 94,
    "start_time": "2025-02-03T10:33:22.154Z"
   },
   {
    "duration": 21,
    "start_time": "2025-02-03T10:33:22.249Z"
   },
   {
    "duration": 15,
    "start_time": "2025-02-03T10:33:22.272Z"
   },
   {
    "duration": 21,
    "start_time": "2025-02-03T10:33:22.290Z"
   },
   {
    "duration": 38,
    "start_time": "2025-02-03T10:33:22.313Z"
   },
   {
    "duration": 7,
    "start_time": "2025-02-03T10:33:22.352Z"
   },
   {
    "duration": 10,
    "start_time": "2025-02-03T10:33:22.361Z"
   },
   {
    "duration": 30,
    "start_time": "2025-02-03T10:33:22.372Z"
   },
   {
    "duration": 5,
    "start_time": "2025-02-03T10:33:22.404Z"
   },
   {
    "duration": 15,
    "start_time": "2025-02-03T10:33:22.410Z"
   },
   {
    "duration": 24,
    "start_time": "2025-02-03T10:33:22.427Z"
   },
   {
    "duration": 19,
    "start_time": "2025-02-03T10:33:22.453Z"
   },
   {
    "duration": 14,
    "start_time": "2025-02-03T10:33:22.475Z"
   },
   {
    "duration": 11,
    "start_time": "2025-02-03T10:33:22.490Z"
   },
   {
    "duration": 25,
    "start_time": "2025-02-03T10:33:22.503Z"
   },
   {
    "duration": 17,
    "start_time": "2025-02-03T10:33:22.530Z"
   },
   {
    "duration": 51,
    "start_time": "2025-02-03T10:33:22.549Z"
   },
   {
    "duration": 31,
    "start_time": "2025-02-03T10:33:22.602Z"
   },
   {
    "duration": 123,
    "start_time": "2025-02-03T10:33:22.635Z"
   },
   {
    "duration": 126,
    "start_time": "2025-02-03T10:33:22.760Z"
   },
   {
    "duration": 13,
    "start_time": "2025-02-03T10:33:22.888Z"
   },
   {
    "duration": 773,
    "start_time": "2025-02-03T10:33:22.903Z"
   },
   {
    "duration": 30,
    "start_time": "2025-02-03T10:33:23.678Z"
   },
   {
    "duration": 3,
    "start_time": "2025-02-03T10:33:23.709Z"
   },
   {
    "duration": 7,
    "start_time": "2025-02-03T10:33:23.713Z"
   },
   {
    "duration": 4,
    "start_time": "2025-02-03T10:33:23.722Z"
   },
   {
    "duration": 3,
    "start_time": "2025-02-03T10:33:23.727Z"
   },
   {
    "duration": 10,
    "start_time": "2025-02-03T10:33:23.732Z"
   },
   {
    "duration": 6,
    "start_time": "2025-02-03T10:33:23.744Z"
   },
   {
    "duration": 510,
    "start_time": "2025-02-03T10:33:23.751Z"
   },
   {
    "duration": 154,
    "start_time": "2025-02-03T10:33:24.263Z"
   },
   {
    "duration": 184,
    "start_time": "2025-02-03T10:33:24.419Z"
   },
   {
    "duration": 28,
    "start_time": "2025-02-03T10:33:24.605Z"
   },
   {
    "duration": 751,
    "start_time": "2025-02-03T10:33:24.634Z"
   },
   {
    "duration": 184,
    "start_time": "2025-02-03T10:33:25.387Z"
   },
   {
    "duration": 579,
    "start_time": "2025-02-03T10:33:25.573Z"
   },
   {
    "duration": 526,
    "start_time": "2025-02-03T10:33:26.154Z"
   },
   {
    "duration": 42,
    "start_time": "2025-02-03T10:33:26.682Z"
   },
   {
    "duration": 246,
    "start_time": "2025-02-03T10:33:26.726Z"
   },
   {
    "duration": 33,
    "start_time": "2025-02-03T10:33:26.976Z"
   },
   {
    "duration": 140,
    "start_time": "2025-02-03T10:33:27.011Z"
   },
   {
    "duration": 100,
    "start_time": "2025-02-03T10:33:27.153Z"
   },
   {
    "duration": 13,
    "start_time": "2025-02-03T10:33:27.255Z"
   },
   {
    "duration": 158,
    "start_time": "2025-02-03T10:33:27.270Z"
   },
   {
    "duration": 100,
    "start_time": "2025-02-03T10:33:27.430Z"
   },
   {
    "duration": 12,
    "start_time": "2025-02-03T10:33:27.532Z"
   },
   {
    "duration": 9,
    "start_time": "2025-02-03T10:33:27.546Z"
   },
   {
    "duration": 16,
    "start_time": "2025-02-03T10:33:27.557Z"
   },
   {
    "duration": 1225,
    "start_time": "2025-02-03T10:33:27.575Z"
   },
   {
    "duration": 7,
    "start_time": "2025-02-03T10:33:28.801Z"
   },
   {
    "duration": 573,
    "start_time": "2025-02-03T10:38:25.351Z"
   },
   {
    "duration": 50,
    "start_time": "2025-02-03T13:03:26.116Z"
   },
   {
    "duration": 1143,
    "start_time": "2025-02-03T13:03:42.604Z"
   },
   {
    "duration": 95,
    "start_time": "2025-02-03T13:03:43.749Z"
   },
   {
    "duration": 21,
    "start_time": "2025-02-03T13:03:43.846Z"
   },
   {
    "duration": 16,
    "start_time": "2025-02-03T13:03:44.657Z"
   },
   {
    "duration": 33,
    "start_time": "2025-02-03T13:03:45.210Z"
   },
   {
    "duration": 38,
    "start_time": "2025-02-03T13:03:46.151Z"
   },
   {
    "duration": 8,
    "start_time": "2025-02-03T13:03:47.635Z"
   },
   {
    "duration": 11,
    "start_time": "2025-02-03T13:03:48.557Z"
   },
   {
    "duration": 6,
    "start_time": "2025-02-03T13:03:49.483Z"
   },
   {
    "duration": 6,
    "start_time": "2025-02-03T13:03:49.857Z"
   },
   {
    "duration": 10,
    "start_time": "2025-02-03T13:03:50.672Z"
   },
   {
    "duration": 7,
    "start_time": "2025-02-03T13:03:51.776Z"
   },
   {
    "duration": 5,
    "start_time": "2025-02-03T13:03:52.406Z"
   },
   {
    "duration": 9,
    "start_time": "2025-02-03T13:03:53.377Z"
   },
   {
    "duration": 5,
    "start_time": "2025-02-03T13:03:59.255Z"
   },
   {
    "duration": 16,
    "start_time": "2025-02-03T13:04:00.384Z"
   },
   {
    "duration": 16,
    "start_time": "2025-02-03T13:04:02.476Z"
   },
   {
    "duration": 35,
    "start_time": "2025-02-03T13:04:03.266Z"
   },
   {
    "duration": 29,
    "start_time": "2025-02-03T13:04:04.130Z"
   },
   {
    "duration": 103,
    "start_time": "2025-02-03T13:04:04.590Z"
   },
   {
    "duration": 117,
    "start_time": "2025-02-03T13:04:04.929Z"
   },
   {
    "duration": 5,
    "start_time": "2025-02-03T13:04:05.743Z"
   },
   {
    "duration": 750,
    "start_time": "2025-02-03T13:04:06.221Z"
   },
   {
    "duration": 38,
    "start_time": "2025-02-03T13:04:06.974Z"
   },
   {
    "duration": 3,
    "start_time": "2025-02-03T13:04:07.041Z"
   },
   {
    "duration": 2,
    "start_time": "2025-02-03T13:04:07.898Z"
   },
   {
    "duration": 3,
    "start_time": "2025-02-03T13:04:10.259Z"
   },
   {
    "duration": 2,
    "start_time": "2025-02-03T13:04:10.968Z"
   },
   {
    "duration": 3,
    "start_time": "2025-02-03T13:04:11.646Z"
   },
   {
    "duration": 2,
    "start_time": "2025-02-03T13:04:12.363Z"
   },
   {
    "duration": 495,
    "start_time": "2025-02-03T13:04:15.471Z"
   },
   {
    "duration": 144,
    "start_time": "2025-02-03T13:04:17.982Z"
   },
   {
    "duration": 169,
    "start_time": "2025-02-03T13:04:31.130Z"
   },
   {
    "duration": 26,
    "start_time": "2025-02-03T13:04:37.452Z"
   },
   {
    "duration": 189,
    "start_time": "2025-02-03T13:17:32.382Z"
   },
   {
    "duration": 183,
    "start_time": "2025-02-03T13:18:19.709Z"
   },
   {
    "duration": 253,
    "start_time": "2025-02-03T13:18:45.463Z"
   },
   {
    "duration": 10,
    "start_time": "2025-02-03T13:26:14.501Z"
   },
   {
    "duration": 40,
    "start_time": "2025-02-03T13:29:29.223Z"
   },
   {
    "duration": 92,
    "start_time": "2025-02-03T13:29:39.358Z"
   },
   {
    "duration": 473,
    "start_time": "2025-02-03T13:35:35.251Z"
   },
   {
    "duration": 160,
    "start_time": "2025-02-03T13:36:49.935Z"
   },
   {
    "duration": 193,
    "start_time": "2025-02-03T13:36:53.848Z"
   },
   {
    "duration": 620,
    "start_time": "2025-02-03T13:37:21.731Z"
   },
   {
    "duration": 93,
    "start_time": "2025-02-03T13:37:22.423Z"
   },
   {
    "duration": 74,
    "start_time": "2025-02-03T13:37:32.937Z"
   },
   {
    "duration": 1287,
    "start_time": "2025-02-03T13:37:48.695Z"
   },
   {
    "duration": 98,
    "start_time": "2025-02-03T13:37:49.984Z"
   },
   {
    "duration": 19,
    "start_time": "2025-02-03T13:37:50.084Z"
   },
   {
    "duration": 15,
    "start_time": "2025-02-03T13:37:50.105Z"
   },
   {
    "duration": 23,
    "start_time": "2025-02-03T13:37:50.122Z"
   },
   {
    "duration": 37,
    "start_time": "2025-02-03T13:37:50.146Z"
   },
   {
    "duration": 30,
    "start_time": "2025-02-03T13:37:50.185Z"
   },
   {
    "duration": 11,
    "start_time": "2025-02-03T13:37:50.217Z"
   },
   {
    "duration": 9,
    "start_time": "2025-02-03T13:37:50.230Z"
   },
   {
    "duration": 16,
    "start_time": "2025-02-03T13:37:50.242Z"
   },
   {
    "duration": 12,
    "start_time": "2025-02-03T13:37:50.259Z"
   },
   {
    "duration": 9,
    "start_time": "2025-02-03T13:37:50.272Z"
   },
   {
    "duration": 27,
    "start_time": "2025-02-03T13:37:50.283Z"
   },
   {
    "duration": 10,
    "start_time": "2025-02-03T13:37:50.312Z"
   },
   {
    "duration": 18,
    "start_time": "2025-02-03T13:37:50.323Z"
   },
   {
    "duration": 17,
    "start_time": "2025-02-03T13:37:50.343Z"
   },
   {
    "duration": 17,
    "start_time": "2025-02-03T13:37:50.362Z"
   },
   {
    "duration": 61,
    "start_time": "2025-02-03T13:37:50.381Z"
   },
   {
    "duration": 41,
    "start_time": "2025-02-03T13:37:50.445Z"
   },
   {
    "duration": 119,
    "start_time": "2025-02-03T13:37:50.487Z"
   },
   {
    "duration": 134,
    "start_time": "2025-02-03T13:37:50.610Z"
   },
   {
    "duration": 6,
    "start_time": "2025-02-03T13:37:50.745Z"
   },
   {
    "duration": 723,
    "start_time": "2025-02-03T13:37:50.753Z"
   },
   {
    "duration": 35,
    "start_time": "2025-02-03T13:37:51.478Z"
   },
   {
    "duration": 6,
    "start_time": "2025-02-03T13:37:51.514Z"
   },
   {
    "duration": 11,
    "start_time": "2025-02-03T13:37:51.522Z"
   },
   {
    "duration": 9,
    "start_time": "2025-02-03T13:37:51.534Z"
   },
   {
    "duration": 53,
    "start_time": "2025-02-03T13:37:51.547Z"
   },
   {
    "duration": 12,
    "start_time": "2025-02-03T13:37:51.601Z"
   },
   {
    "duration": 17,
    "start_time": "2025-02-03T13:37:51.615Z"
   },
   {
    "duration": 563,
    "start_time": "2025-02-03T13:37:51.634Z"
   },
   {
    "duration": 182,
    "start_time": "2025-02-03T13:37:52.198Z"
   },
   {
    "duration": 187,
    "start_time": "2025-02-03T13:37:52.381Z"
   },
   {
    "duration": 26,
    "start_time": "2025-02-03T13:37:52.570Z"
   },
   {
    "duration": 275,
    "start_time": "2025-02-03T13:37:52.598Z"
   },
   {
    "duration": 178,
    "start_time": "2025-02-03T13:37:52.874Z"
   },
   {
    "duration": 603,
    "start_time": "2025-02-03T13:37:53.054Z"
   },
   {
    "duration": 554,
    "start_time": "2025-02-03T13:37:53.658Z"
   },
   {
    "duration": 28,
    "start_time": "2025-02-03T13:37:54.214Z"
   },
   {
    "duration": 247,
    "start_time": "2025-02-03T13:37:54.244Z"
   },
   {
    "duration": 32,
    "start_time": "2025-02-03T13:37:54.493Z"
   },
   {
    "duration": 50,
    "start_time": "2025-02-03T13:37:54.527Z"
   },
   {
    "duration": 125,
    "start_time": "2025-02-03T13:37:54.579Z"
   },
   {
    "duration": 20,
    "start_time": "2025-02-03T13:37:54.710Z"
   },
   {
    "duration": 162,
    "start_time": "2025-02-03T13:37:54.732Z"
   },
   {
    "duration": 100,
    "start_time": "2025-02-03T13:37:54.896Z"
   },
   {
    "duration": 18,
    "start_time": "2025-02-03T13:37:54.997Z"
   },
   {
    "duration": 17,
    "start_time": "2025-02-03T13:37:55.017Z"
   },
   {
    "duration": 18,
    "start_time": "2025-02-03T13:37:55.036Z"
   },
   {
    "duration": 1227,
    "start_time": "2025-02-03T13:37:55.056Z"
   },
   {
    "duration": 7,
    "start_time": "2025-02-03T13:37:56.285Z"
   },
   {
    "duration": 186,
    "start_time": "2025-02-03T13:58:26.243Z"
   },
   {
    "duration": 523,
    "start_time": "2025-02-03T13:59:16.139Z"
   },
   {
    "duration": 155,
    "start_time": "2025-02-03T13:59:33.025Z"
   },
   {
    "duration": 503,
    "start_time": "2025-02-03T14:00:24.179Z"
   },
   {
    "duration": 587,
    "start_time": "2025-02-03T14:00:42.706Z"
   },
   {
    "duration": 129,
    "start_time": "2025-02-03T14:01:03.985Z"
   },
   {
    "duration": 511,
    "start_time": "2025-02-03T14:02:59.358Z"
   },
   {
    "duration": 233,
    "start_time": "2025-02-03T14:03:32.759Z"
   },
   {
    "duration": 587,
    "start_time": "2025-02-03T14:05:38.972Z"
   },
   {
    "duration": 501,
    "start_time": "2025-02-03T14:06:34.790Z"
   },
   {
    "duration": 22,
    "start_time": "2025-02-03T14:11:58.134Z"
   },
   {
    "duration": 3,
    "start_time": "2025-02-03T14:14:31.218Z"
   },
   {
    "duration": 229,
    "start_time": "2025-02-03T14:14:59.476Z"
   },
   {
    "duration": 151,
    "start_time": "2025-02-03T14:20:51.294Z"
   },
   {
    "duration": 62,
    "start_time": "2025-02-03T14:23:39.045Z"
   },
   {
    "duration": 99,
    "start_time": "2025-02-03T14:26:10.787Z"
   },
   {
    "duration": 13,
    "start_time": "2025-02-03T14:26:22.468Z"
   },
   {
    "duration": 141,
    "start_time": "2025-02-03T14:26:39.131Z"
   },
   {
    "duration": 197,
    "start_time": "2025-02-03T14:27:20.769Z"
   },
   {
    "duration": 168,
    "start_time": "2025-02-03T14:31:47.942Z"
   },
   {
    "duration": 678,
    "start_time": "2025-02-03T14:36:27.675Z"
   },
   {
    "duration": 651,
    "start_time": "2025-02-03T14:40:23.224Z"
   },
   {
    "duration": 677,
    "start_time": "2025-02-03T14:40:35.382Z"
   },
   {
    "duration": 697,
    "start_time": "2025-02-03T14:40:52.483Z"
   },
   {
    "duration": 780,
    "start_time": "2025-02-03T14:41:06.291Z"
   },
   {
    "duration": 637,
    "start_time": "2025-02-03T14:41:22.722Z"
   },
   {
    "duration": 637,
    "start_time": "2025-02-03T14:41:29.447Z"
   },
   {
    "duration": 693,
    "start_time": "2025-02-03T14:41:36.702Z"
   },
   {
    "duration": 674,
    "start_time": "2025-02-03T14:41:59.195Z"
   },
   {
    "duration": 653,
    "start_time": "2025-02-03T14:42:07.388Z"
   },
   {
    "duration": 808,
    "start_time": "2025-02-03T14:42:28.775Z"
   },
   {
    "duration": 692,
    "start_time": "2025-02-03T14:42:49.983Z"
   },
   {
    "duration": 595,
    "start_time": "2025-02-03T14:49:16.439Z"
   },
   {
    "duration": 607,
    "start_time": "2025-02-03T14:50:20.886Z"
   },
   {
    "duration": 588,
    "start_time": "2025-02-03T14:50:46.170Z"
   },
   {
    "duration": 739,
    "start_time": "2025-02-03T14:51:53.926Z"
   },
   {
    "duration": 11,
    "start_time": "2025-02-03T14:53:55.529Z"
   },
   {
    "duration": 5,
    "start_time": "2025-02-03T14:58:44.143Z"
   },
   {
    "duration": 3,
    "start_time": "2025-02-03T15:00:24.305Z"
   },
   {
    "duration": 5,
    "start_time": "2025-02-03T15:00:42.437Z"
   },
   {
    "duration": 11,
    "start_time": "2025-02-03T15:16:25.500Z"
   },
   {
    "duration": 8,
    "start_time": "2025-02-03T15:29:35.475Z"
   },
   {
    "duration": 8,
    "start_time": "2025-02-03T15:36:24.255Z"
   },
   {
    "duration": 7,
    "start_time": "2025-02-03T15:37:19.517Z"
   },
   {
    "duration": 1231,
    "start_time": "2025-02-03T16:12:39.511Z"
   },
   {
    "duration": 96,
    "start_time": "2025-02-03T16:12:40.745Z"
   },
   {
    "duration": 21,
    "start_time": "2025-02-03T16:12:40.843Z"
   },
   {
    "duration": 17,
    "start_time": "2025-02-03T16:12:40.866Z"
   },
   {
    "duration": 30,
    "start_time": "2025-02-03T16:12:40.886Z"
   },
   {
    "duration": 54,
    "start_time": "2025-02-03T16:12:40.918Z"
   },
   {
    "duration": 7,
    "start_time": "2025-02-03T16:12:40.974Z"
   },
   {
    "duration": 31,
    "start_time": "2025-02-03T16:12:40.983Z"
   },
   {
    "duration": 7,
    "start_time": "2025-02-03T16:12:41.016Z"
   },
   {
    "duration": 9,
    "start_time": "2025-02-03T16:12:41.025Z"
   },
   {
    "duration": 17,
    "start_time": "2025-02-03T16:12:41.035Z"
   },
   {
    "duration": 6,
    "start_time": "2025-02-03T16:12:41.054Z"
   },
   {
    "duration": 10,
    "start_time": "2025-02-03T16:12:41.062Z"
   },
   {
    "duration": 36,
    "start_time": "2025-02-03T16:12:41.075Z"
   },
   {
    "duration": 4,
    "start_time": "2025-02-03T16:12:41.113Z"
   },
   {
    "duration": 18,
    "start_time": "2025-02-03T16:12:41.119Z"
   },
   {
    "duration": 17,
    "start_time": "2025-02-03T16:12:41.139Z"
   },
   {
    "duration": 90,
    "start_time": "2025-02-03T16:12:41.158Z"
   },
   {
    "duration": 31,
    "start_time": "2025-02-03T16:12:41.250Z"
   },
   {
    "duration": 125,
    "start_time": "2025-02-03T16:12:41.282Z"
   },
   {
    "duration": 137,
    "start_time": "2025-02-03T16:12:41.410Z"
   },
   {
    "duration": 5,
    "start_time": "2025-02-03T16:12:41.549Z"
   },
   {
    "duration": 764,
    "start_time": "2025-02-03T16:12:41.556Z"
   },
   {
    "duration": 46,
    "start_time": "2025-02-03T16:12:42.322Z"
   },
   {
    "duration": 3,
    "start_time": "2025-02-03T16:12:42.370Z"
   },
   {
    "duration": 4,
    "start_time": "2025-02-03T16:12:42.375Z"
   },
   {
    "duration": 4,
    "start_time": "2025-02-03T16:12:42.381Z"
   },
   {
    "duration": 3,
    "start_time": "2025-02-03T16:12:42.410Z"
   },
   {
    "duration": 26,
    "start_time": "2025-02-03T16:12:42.415Z"
   },
   {
    "duration": 21,
    "start_time": "2025-02-03T16:12:42.443Z"
   },
   {
    "duration": 624,
    "start_time": "2025-02-03T16:12:42.466Z"
   },
   {
    "duration": 174,
    "start_time": "2025-02-03T16:12:43.092Z"
   },
   {
    "duration": 216,
    "start_time": "2025-02-03T16:12:43.268Z"
   },
   {
    "duration": 38,
    "start_time": "2025-02-03T16:12:43.485Z"
   },
   {
    "duration": 274,
    "start_time": "2025-02-03T16:12:43.525Z"
   },
   {
    "duration": 148,
    "start_time": "2025-02-03T16:12:43.801Z"
   },
   {
    "duration": 654,
    "start_time": "2025-02-03T16:12:43.951Z"
   },
   {
    "duration": 542,
    "start_time": "2025-02-03T16:12:44.610Z"
   },
   {
    "duration": 2,
    "start_time": "2025-02-03T16:12:45.154Z"
   },
   {
    "duration": 254,
    "start_time": "2025-02-03T16:12:45.158Z"
   },
   {
    "duration": 21,
    "start_time": "2025-02-03T16:12:45.416Z"
   },
   {
    "duration": 87,
    "start_time": "2025-02-03T16:12:45.439Z"
   },
   {
    "duration": 119,
    "start_time": "2025-02-03T16:12:45.528Z"
   },
   {
    "duration": 14,
    "start_time": "2025-02-03T16:12:45.649Z"
   },
   {
    "duration": 179,
    "start_time": "2025-02-03T16:12:45.665Z"
   },
   {
    "duration": 108,
    "start_time": "2025-02-03T16:12:45.846Z"
   },
   {
    "duration": 757,
    "start_time": "2025-02-03T16:12:45.956Z"
   },
   {
    "duration": 12,
    "start_time": "2025-02-03T16:12:46.715Z"
   },
   {
    "duration": 8,
    "start_time": "2025-02-03T16:12:46.729Z"
   },
   {
    "duration": 8,
    "start_time": "2025-02-03T16:12:46.738Z"
   },
   {
    "duration": 14,
    "start_time": "2025-02-03T16:12:46.747Z"
   },
   {
    "duration": 1730,
    "start_time": "2025-02-03T16:12:46.763Z"
   },
   {
    "duration": 17,
    "start_time": "2025-02-03T16:12:48.495Z"
   },
   {
    "duration": 529,
    "start_time": "2025-02-03T16:28:40.539Z"
   },
   {
    "duration": 524,
    "start_time": "2025-02-03T16:28:52.772Z"
   },
   {
    "duration": 177,
    "start_time": "2025-02-03T16:29:25.137Z"
   },
   {
    "duration": 25,
    "start_time": "2025-02-03T16:31:21.269Z"
   },
   {
    "duration": 281,
    "start_time": "2025-02-03T16:31:38.265Z"
   },
   {
    "duration": 127,
    "start_time": "2025-02-03T16:32:13.714Z"
   },
   {
    "duration": 626,
    "start_time": "2025-02-03T16:32:41.919Z"
   },
   {
    "duration": 500,
    "start_time": "2025-02-03T16:32:55.865Z"
   },
   {
    "duration": 221,
    "start_time": "2025-02-03T16:33:33.718Z"
   },
   {
    "duration": 18,
    "start_time": "2025-02-03T16:33:54.437Z"
   },
   {
    "duration": 15,
    "start_time": "2025-02-03T16:33:59.336Z"
   },
   {
    "duration": 105,
    "start_time": "2025-02-03T16:34:54.899Z"
   },
   {
    "duration": 96,
    "start_time": "2025-02-03T16:35:17.014Z"
   },
   {
    "duration": 12,
    "start_time": "2025-02-03T16:35:34.140Z"
   },
   {
    "duration": 123,
    "start_time": "2025-02-03T16:35:40.341Z"
   },
   {
    "duration": 102,
    "start_time": "2025-02-03T16:36:29.861Z"
   },
   {
    "duration": 767,
    "start_time": "2025-02-03T16:37:09.510Z"
   },
   {
    "duration": 10,
    "start_time": "2025-02-03T16:37:35.178Z"
   },
   {
    "duration": 21,
    "start_time": "2025-02-03T16:44:36.266Z"
   },
   {
    "duration": 18,
    "start_time": "2025-02-03T16:45:02.436Z"
   },
   {
    "duration": 3,
    "start_time": "2025-02-03T16:45:23.603Z"
   },
   {
    "duration": 111,
    "start_time": "2025-02-03T16:46:24.346Z"
   },
   {
    "duration": 102,
    "start_time": "2025-02-03T16:47:33.580Z"
   },
   {
    "duration": 92,
    "start_time": "2025-02-03T16:50:15.892Z"
   },
   {
    "duration": 11,
    "start_time": "2025-02-03T16:52:05.451Z"
   },
   {
    "duration": 999,
    "start_time": "2025-02-03T16:54:51.638Z"
   },
   {
    "duration": 439,
    "start_time": "2025-02-03T16:55:31.442Z"
   },
   {
    "duration": 387,
    "start_time": "2025-02-03T16:56:33.887Z"
   },
   {
    "duration": 14,
    "start_time": "2025-02-03T16:57:52.173Z"
   },
   {
    "duration": 1049,
    "start_time": "2025-02-03T17:00:32.483Z"
   },
   {
    "duration": 367,
    "start_time": "2025-02-03T17:01:20.036Z"
   },
   {
    "duration": 74,
    "start_time": "2025-02-03T17:14:12.330Z"
   },
   {
    "duration": 252,
    "start_time": "2025-02-03T17:14:17.984Z"
   },
   {
    "duration": 101,
    "start_time": "2025-02-03T17:14:26.112Z"
   },
   {
    "duration": 13,
    "start_time": "2025-02-03T17:14:28.969Z"
   },
   {
    "duration": 134,
    "start_time": "2025-02-03T17:14:34.487Z"
   },
   {
    "duration": 92,
    "start_time": "2025-02-03T17:15:09.582Z"
   },
   {
    "duration": 587,
    "start_time": "2025-02-03T17:15:13.948Z"
   },
   {
    "duration": 13,
    "start_time": "2025-02-03T17:15:17.508Z"
   },
   {
    "duration": 10,
    "start_time": "2025-02-03T17:15:50.820Z"
   },
   {
    "duration": 6,
    "start_time": "2025-02-03T17:15:56.084Z"
   },
   {
    "duration": 7,
    "start_time": "2025-02-03T17:16:03.218Z"
   },
   {
    "duration": 7,
    "start_time": "2025-02-03T17:16:09.372Z"
   },
   {
    "duration": 7,
    "start_time": "2025-02-03T17:16:25.116Z"
   },
   {
    "duration": 15,
    "start_time": "2025-02-03T17:16:29.793Z"
   },
   {
    "duration": 1800,
    "start_time": "2025-02-03T17:19:16.271Z"
   },
   {
    "duration": 406,
    "start_time": "2025-02-03T17:19:42.190Z"
   },
   {
    "duration": 402,
    "start_time": "2025-02-03T17:20:22.189Z"
   },
   {
    "duration": 8,
    "start_time": "2025-02-03T17:22:10.751Z"
   },
   {
    "duration": 1142,
    "start_time": "2025-02-03T17:28:03.562Z"
   },
   {
    "duration": 105,
    "start_time": "2025-02-03T17:28:04.706Z"
   },
   {
    "duration": 20,
    "start_time": "2025-02-03T17:28:04.813Z"
   },
   {
    "duration": 17,
    "start_time": "2025-02-03T17:28:04.835Z"
   },
   {
    "duration": 21,
    "start_time": "2025-02-03T17:28:04.854Z"
   },
   {
    "duration": 61,
    "start_time": "2025-02-03T17:28:04.876Z"
   },
   {
    "duration": 8,
    "start_time": "2025-02-03T17:28:04.939Z"
   },
   {
    "duration": 26,
    "start_time": "2025-02-03T17:28:04.949Z"
   },
   {
    "duration": 5,
    "start_time": "2025-02-03T17:28:04.977Z"
   },
   {
    "duration": 7,
    "start_time": "2025-02-03T17:28:04.985Z"
   },
   {
    "duration": 25,
    "start_time": "2025-02-03T17:28:04.994Z"
   },
   {
    "duration": 7,
    "start_time": "2025-02-03T17:28:05.021Z"
   },
   {
    "duration": 10,
    "start_time": "2025-02-03T17:28:05.029Z"
   },
   {
    "duration": 7,
    "start_time": "2025-02-03T17:28:05.040Z"
   },
   {
    "duration": 24,
    "start_time": "2025-02-03T17:28:05.048Z"
   },
   {
    "duration": 21,
    "start_time": "2025-02-03T17:28:05.073Z"
   },
   {
    "duration": 22,
    "start_time": "2025-02-03T17:28:05.095Z"
   },
   {
    "duration": 54,
    "start_time": "2025-02-03T17:28:05.119Z"
   },
   {
    "duration": 35,
    "start_time": "2025-02-03T17:28:05.174Z"
   },
   {
    "duration": 107,
    "start_time": "2025-02-03T17:28:05.211Z"
   },
   {
    "duration": 130,
    "start_time": "2025-02-03T17:28:05.320Z"
   },
   {
    "duration": 5,
    "start_time": "2025-02-03T17:28:05.452Z"
   },
   {
    "duration": 693,
    "start_time": "2025-02-03T17:28:05.460Z"
   },
   {
    "duration": 26,
    "start_time": "2025-02-03T17:28:06.155Z"
   },
   {
    "duration": 31,
    "start_time": "2025-02-03T17:28:06.182Z"
   },
   {
    "duration": 17,
    "start_time": "2025-02-03T17:28:06.215Z"
   },
   {
    "duration": 14,
    "start_time": "2025-02-03T17:28:06.234Z"
   },
   {
    "duration": 13,
    "start_time": "2025-02-03T17:28:06.251Z"
   },
   {
    "duration": 5,
    "start_time": "2025-02-03T17:28:06.266Z"
   },
   {
    "duration": 4,
    "start_time": "2025-02-03T17:28:06.273Z"
   },
   {
    "duration": 534,
    "start_time": "2025-02-03T17:28:06.278Z"
   },
   {
    "duration": 158,
    "start_time": "2025-02-03T17:28:06.814Z"
   },
   {
    "duration": 178,
    "start_time": "2025-02-03T17:28:06.973Z"
   },
   {
    "duration": 18,
    "start_time": "2025-02-03T17:28:07.152Z"
   },
   {
    "duration": 245,
    "start_time": "2025-02-03T17:28:07.172Z"
   },
   {
    "duration": 135,
    "start_time": "2025-02-03T17:28:07.419Z"
   },
   {
    "duration": 543,
    "start_time": "2025-02-03T17:28:07.556Z"
   },
   {
    "duration": 455,
    "start_time": "2025-02-03T17:28:08.101Z"
   },
   {
    "duration": 2,
    "start_time": "2025-02-03T17:28:08.558Z"
   },
   {
    "duration": 220,
    "start_time": "2025-02-03T17:28:08.562Z"
   },
   {
    "duration": 150,
    "start_time": "2025-02-03T17:28:08.784Z"
   },
   {
    "duration": 1,
    "start_time": "2025-02-03T17:28:08.935Z"
   },
   {
    "duration": 0,
    "start_time": "2025-02-03T17:28:08.937Z"
   },
   {
    "duration": 0,
    "start_time": "2025-02-03T17:28:08.938Z"
   },
   {
    "duration": 0,
    "start_time": "2025-02-03T17:28:08.939Z"
   },
   {
    "duration": 0,
    "start_time": "2025-02-03T17:28:08.940Z"
   },
   {
    "duration": 0,
    "start_time": "2025-02-03T17:28:08.941Z"
   },
   {
    "duration": 0,
    "start_time": "2025-02-03T17:28:08.942Z"
   },
   {
    "duration": 0,
    "start_time": "2025-02-03T17:28:08.943Z"
   },
   {
    "duration": 0,
    "start_time": "2025-02-03T17:28:08.944Z"
   },
   {
    "duration": 0,
    "start_time": "2025-02-03T17:28:08.945Z"
   },
   {
    "duration": 0,
    "start_time": "2025-02-03T17:28:08.946Z"
   },
   {
    "duration": 0,
    "start_time": "2025-02-03T17:28:08.947Z"
   },
   {
    "duration": 0,
    "start_time": "2025-02-03T17:28:08.947Z"
   },
   {
    "duration": 0,
    "start_time": "2025-02-03T17:28:08.949Z"
   },
   {
    "duration": 1190,
    "start_time": "2025-02-03T17:29:31.856Z"
   },
   {
    "duration": 97,
    "start_time": "2025-02-03T17:29:33.048Z"
   },
   {
    "duration": 20,
    "start_time": "2025-02-03T17:29:33.146Z"
   },
   {
    "duration": 16,
    "start_time": "2025-02-03T17:29:33.168Z"
   },
   {
    "duration": 23,
    "start_time": "2025-02-03T17:29:33.185Z"
   },
   {
    "duration": 39,
    "start_time": "2025-02-03T17:29:33.210Z"
   },
   {
    "duration": 8,
    "start_time": "2025-02-03T17:29:33.251Z"
   },
   {
    "duration": 11,
    "start_time": "2025-02-03T17:29:33.261Z"
   },
   {
    "duration": 22,
    "start_time": "2025-02-03T17:29:33.273Z"
   },
   {
    "duration": 9,
    "start_time": "2025-02-03T17:29:33.309Z"
   },
   {
    "duration": 16,
    "start_time": "2025-02-03T17:29:33.320Z"
   },
   {
    "duration": 8,
    "start_time": "2025-02-03T17:29:33.338Z"
   },
   {
    "duration": 16,
    "start_time": "2025-02-03T17:29:33.348Z"
   },
   {
    "duration": 7,
    "start_time": "2025-02-03T17:29:33.366Z"
   },
   {
    "duration": 4,
    "start_time": "2025-02-03T17:29:33.375Z"
   },
   {
    "duration": 38,
    "start_time": "2025-02-03T17:29:33.380Z"
   },
   {
    "duration": 16,
    "start_time": "2025-02-03T17:29:33.420Z"
   },
   {
    "duration": 37,
    "start_time": "2025-02-03T17:29:33.438Z"
   },
   {
    "duration": 53,
    "start_time": "2025-02-03T17:29:33.477Z"
   },
   {
    "duration": 116,
    "start_time": "2025-02-03T17:29:33.531Z"
   },
   {
    "duration": 132,
    "start_time": "2025-02-03T17:29:33.648Z"
   },
   {
    "duration": 5,
    "start_time": "2025-02-03T17:29:33.782Z"
   },
   {
    "duration": 746,
    "start_time": "2025-02-03T17:29:33.788Z"
   },
   {
    "duration": 26,
    "start_time": "2025-02-03T17:29:34.536Z"
   },
   {
    "duration": 6,
    "start_time": "2025-02-03T17:29:34.564Z"
   },
   {
    "duration": 16,
    "start_time": "2025-02-03T17:29:34.572Z"
   },
   {
    "duration": 5,
    "start_time": "2025-02-03T17:29:34.589Z"
   },
   {
    "duration": 16,
    "start_time": "2025-02-03T17:29:34.597Z"
   },
   {
    "duration": 23,
    "start_time": "2025-02-03T17:29:34.615Z"
   },
   {
    "duration": 5,
    "start_time": "2025-02-03T17:29:34.639Z"
   },
   {
    "duration": 545,
    "start_time": "2025-02-03T17:29:34.645Z"
   },
   {
    "duration": 170,
    "start_time": "2025-02-03T17:29:35.192Z"
   },
   {
    "duration": 181,
    "start_time": "2025-02-03T17:29:35.364Z"
   },
   {
    "duration": 18,
    "start_time": "2025-02-03T17:29:35.547Z"
   },
   {
    "duration": 255,
    "start_time": "2025-02-03T17:29:35.566Z"
   },
   {
    "duration": 129,
    "start_time": "2025-02-03T17:29:35.823Z"
   },
   {
    "duration": 558,
    "start_time": "2025-02-03T17:29:35.953Z"
   },
   {
    "duration": 480,
    "start_time": "2025-02-03T17:29:36.513Z"
   },
   {
    "duration": 2,
    "start_time": "2025-02-03T17:29:36.995Z"
   },
   {
    "duration": 232,
    "start_time": "2025-02-03T17:29:36.999Z"
   },
   {
    "duration": 121,
    "start_time": "2025-02-03T17:29:37.233Z"
   },
   {
    "duration": 0,
    "start_time": "2025-02-03T17:29:37.356Z"
   },
   {
    "duration": 0,
    "start_time": "2025-02-03T17:29:37.357Z"
   },
   {
    "duration": 0,
    "start_time": "2025-02-03T17:29:37.358Z"
   },
   {
    "duration": 0,
    "start_time": "2025-02-03T17:29:37.360Z"
   },
   {
    "duration": 0,
    "start_time": "2025-02-03T17:29:37.361Z"
   },
   {
    "duration": 0,
    "start_time": "2025-02-03T17:29:37.362Z"
   },
   {
    "duration": 0,
    "start_time": "2025-02-03T17:29:37.363Z"
   },
   {
    "duration": 0,
    "start_time": "2025-02-03T17:29:37.365Z"
   },
   {
    "duration": 0,
    "start_time": "2025-02-03T17:29:37.366Z"
   },
   {
    "duration": 0,
    "start_time": "2025-02-03T17:29:37.367Z"
   },
   {
    "duration": 0,
    "start_time": "2025-02-03T17:29:37.368Z"
   },
   {
    "duration": 1,
    "start_time": "2025-02-03T17:29:37.368Z"
   },
   {
    "duration": 0,
    "start_time": "2025-02-03T17:29:37.369Z"
   },
   {
    "duration": 0,
    "start_time": "2025-02-03T17:29:37.371Z"
   },
   {
    "duration": 45,
    "start_time": "2025-02-03T17:30:56.917Z"
   },
   {
    "duration": 42,
    "start_time": "2025-02-03T17:31:03.509Z"
   },
   {
    "duration": 262,
    "start_time": "2025-02-03T17:31:04.414Z"
   },
   {
    "duration": 94,
    "start_time": "2025-02-03T17:31:06.971Z"
   },
   {
    "duration": 11,
    "start_time": "2025-02-03T17:31:08.377Z"
   },
   {
    "duration": 129,
    "start_time": "2025-02-03T17:31:09.145Z"
   },
   {
    "duration": 88,
    "start_time": "2025-02-03T17:31:10.513Z"
   },
   {
    "duration": 749,
    "start_time": "2025-02-03T17:31:11.893Z"
   },
   {
    "duration": 12,
    "start_time": "2025-02-03T17:31:12.666Z"
   },
   {
    "duration": 9,
    "start_time": "2025-02-03T17:31:14.022Z"
   },
   {
    "duration": 6,
    "start_time": "2025-02-03T17:31:15.551Z"
   },
   {
    "duration": 7,
    "start_time": "2025-02-03T17:31:17.651Z"
   },
   {
    "duration": 7,
    "start_time": "2025-02-03T17:31:19.037Z"
   },
   {
    "duration": 13,
    "start_time": "2025-02-03T17:31:19.925Z"
   },
   {
    "duration": 361,
    "start_time": "2025-02-03T17:31:20.227Z"
   },
   {
    "duration": 10,
    "start_time": "2025-02-03T17:31:21.587Z"
   },
   {
    "duration": 7,
    "start_time": "2025-02-03T17:32:10.749Z"
   },
   {
    "duration": 1185,
    "start_time": "2025-02-03T17:35:04.459Z"
   },
   {
    "duration": 96,
    "start_time": "2025-02-03T17:35:05.646Z"
   },
   {
    "duration": 20,
    "start_time": "2025-02-03T17:35:05.743Z"
   },
   {
    "duration": 27,
    "start_time": "2025-02-03T17:35:05.765Z"
   },
   {
    "duration": 41,
    "start_time": "2025-02-03T17:35:05.794Z"
   },
   {
    "duration": 39,
    "start_time": "2025-02-03T17:35:05.837Z"
   },
   {
    "duration": 7,
    "start_time": "2025-02-03T17:35:05.877Z"
   },
   {
    "duration": 73,
    "start_time": "2025-02-03T17:35:05.886Z"
   },
   {
    "duration": 60,
    "start_time": "2025-02-03T17:35:05.961Z"
   },
   {
    "duration": 43,
    "start_time": "2025-02-03T17:35:06.025Z"
   },
   {
    "duration": 24,
    "start_time": "2025-02-03T17:35:06.070Z"
   },
   {
    "duration": 40,
    "start_time": "2025-02-03T17:35:06.095Z"
   },
   {
    "duration": 101,
    "start_time": "2025-02-03T17:35:06.137Z"
   },
   {
    "duration": 15,
    "start_time": "2025-02-03T17:35:06.240Z"
   },
   {
    "duration": 5,
    "start_time": "2025-02-03T17:35:06.257Z"
   },
   {
    "duration": 18,
    "start_time": "2025-02-03T17:35:06.263Z"
   },
   {
    "duration": 16,
    "start_time": "2025-02-03T17:35:06.282Z"
   },
   {
    "duration": 120,
    "start_time": "2025-02-03T17:35:06.299Z"
   },
   {
    "duration": 30,
    "start_time": "2025-02-03T17:35:06.421Z"
   },
   {
    "duration": 119,
    "start_time": "2025-02-03T17:35:06.452Z"
   },
   {
    "duration": 126,
    "start_time": "2025-02-03T17:35:06.573Z"
   },
   {
    "duration": 8,
    "start_time": "2025-02-03T17:35:06.701Z"
   },
   {
    "duration": 703,
    "start_time": "2025-02-03T17:35:06.711Z"
   },
   {
    "duration": 25,
    "start_time": "2025-02-03T17:35:07.416Z"
   },
   {
    "duration": 2,
    "start_time": "2025-02-03T17:35:07.443Z"
   },
   {
    "duration": 4,
    "start_time": "2025-02-03T17:35:07.447Z"
   },
   {
    "duration": 10,
    "start_time": "2025-02-03T17:35:07.452Z"
   },
   {
    "duration": 3,
    "start_time": "2025-02-03T17:35:07.465Z"
   },
   {
    "duration": 6,
    "start_time": "2025-02-03T17:35:07.470Z"
   },
   {
    "duration": 6,
    "start_time": "2025-02-03T17:35:07.477Z"
   },
   {
    "duration": 576,
    "start_time": "2025-02-03T17:35:07.485Z"
   },
   {
    "duration": 182,
    "start_time": "2025-02-03T17:35:08.063Z"
   },
   {
    "duration": 168,
    "start_time": "2025-02-03T17:35:08.247Z"
   },
   {
    "duration": 18,
    "start_time": "2025-02-03T17:35:08.417Z"
   },
   {
    "duration": 243,
    "start_time": "2025-02-03T17:35:08.436Z"
   },
   {
    "duration": 135,
    "start_time": "2025-02-03T17:35:08.681Z"
   },
   {
    "duration": 573,
    "start_time": "2025-02-03T17:35:08.819Z"
   },
   {
    "duration": 481,
    "start_time": "2025-02-03T17:35:09.394Z"
   },
   {
    "duration": 3,
    "start_time": "2025-02-03T17:35:09.877Z"
   },
   {
    "duration": 231,
    "start_time": "2025-02-03T17:35:09.881Z"
   },
   {
    "duration": 46,
    "start_time": "2025-02-03T17:35:10.114Z"
   },
   {
    "duration": 264,
    "start_time": "2025-02-03T17:35:10.162Z"
   },
   {
    "duration": 106,
    "start_time": "2025-02-03T17:35:10.428Z"
   },
   {
    "duration": 12,
    "start_time": "2025-02-03T17:35:10.536Z"
   },
   {
    "duration": 149,
    "start_time": "2025-02-03T17:35:10.549Z"
   },
   {
    "duration": 95,
    "start_time": "2025-02-03T17:35:10.700Z"
   },
   {
    "duration": 753,
    "start_time": "2025-02-03T17:35:10.797Z"
   },
   {
    "duration": 12,
    "start_time": "2025-02-03T17:35:11.552Z"
   },
   {
    "duration": 9,
    "start_time": "2025-02-03T17:35:11.566Z"
   },
   {
    "duration": 6,
    "start_time": "2025-02-03T17:35:11.577Z"
   },
   {
    "duration": 6,
    "start_time": "2025-02-03T17:35:11.585Z"
   },
   {
    "duration": 6,
    "start_time": "2025-02-03T17:35:11.592Z"
   },
   {
    "duration": 373,
    "start_time": "2025-02-03T17:35:11.600Z"
   },
   {
    "duration": 6,
    "start_time": "2025-02-03T17:35:11.974Z"
   },
   {
    "duration": 61,
    "start_time": "2025-02-03T21:13:00.572Z"
   },
   {
    "duration": 1456,
    "start_time": "2025-02-03T21:13:11.540Z"
   },
   {
    "duration": 92,
    "start_time": "2025-02-03T21:13:12.999Z"
   },
   {
    "duration": 20,
    "start_time": "2025-02-03T21:13:13.093Z"
   },
   {
    "duration": 15,
    "start_time": "2025-02-03T21:13:13.115Z"
   },
   {
    "duration": 20,
    "start_time": "2025-02-03T21:13:13.132Z"
   },
   {
    "duration": 39,
    "start_time": "2025-02-03T21:13:13.154Z"
   },
   {
    "duration": 10,
    "start_time": "2025-02-03T21:13:13.195Z"
   },
   {
    "duration": 36,
    "start_time": "2025-02-03T21:13:13.207Z"
   },
   {
    "duration": 12,
    "start_time": "2025-02-03T21:13:13.245Z"
   },
   {
    "duration": 6,
    "start_time": "2025-02-03T21:13:13.260Z"
   },
   {
    "duration": 13,
    "start_time": "2025-02-03T21:13:13.268Z"
   },
   {
    "duration": 7,
    "start_time": "2025-02-03T21:13:13.282Z"
   },
   {
    "duration": 42,
    "start_time": "2025-02-03T21:13:13.291Z"
   },
   {
    "duration": 8,
    "start_time": "2025-02-03T21:13:13.335Z"
   },
   {
    "duration": 5,
    "start_time": "2025-02-03T21:13:13.345Z"
   },
   {
    "duration": 26,
    "start_time": "2025-02-03T21:13:13.352Z"
   },
   {
    "duration": 53,
    "start_time": "2025-02-03T21:13:13.380Z"
   },
   {
    "duration": 38,
    "start_time": "2025-02-03T21:13:13.434Z"
   },
   {
    "duration": 32,
    "start_time": "2025-02-03T21:13:13.473Z"
   },
   {
    "duration": 137,
    "start_time": "2025-02-03T21:13:13.507Z"
   },
   {
    "duration": 137,
    "start_time": "2025-02-03T21:13:13.646Z"
   },
   {
    "duration": 6,
    "start_time": "2025-02-03T21:13:13.785Z"
   },
   {
    "duration": 714,
    "start_time": "2025-02-03T21:13:13.792Z"
   },
   {
    "duration": 36,
    "start_time": "2025-02-03T21:13:14.509Z"
   },
   {
    "duration": 29,
    "start_time": "2025-02-03T21:13:14.547Z"
   },
   {
    "duration": 12,
    "start_time": "2025-02-03T21:13:14.578Z"
   },
   {
    "duration": 5,
    "start_time": "2025-02-03T21:13:14.591Z"
   },
   {
    "duration": 2,
    "start_time": "2025-02-03T21:13:14.600Z"
   },
   {
    "duration": 9,
    "start_time": "2025-02-03T21:13:14.604Z"
   },
   {
    "duration": 12,
    "start_time": "2025-02-03T21:13:14.614Z"
   },
   {
    "duration": 553,
    "start_time": "2025-02-03T21:13:14.628Z"
   },
   {
    "duration": 174,
    "start_time": "2025-02-03T21:13:15.184Z"
   },
   {
    "duration": 178,
    "start_time": "2025-02-03T21:13:15.360Z"
   },
   {
    "duration": 19,
    "start_time": "2025-02-03T21:13:15.539Z"
   },
   {
    "duration": 250,
    "start_time": "2025-02-03T21:13:15.560Z"
   },
   {
    "duration": 131,
    "start_time": "2025-02-03T21:13:15.811Z"
   },
   {
    "duration": 571,
    "start_time": "2025-02-03T21:13:15.944Z"
   },
   {
    "duration": 486,
    "start_time": "2025-02-03T21:13:16.516Z"
   },
   {
    "duration": 3,
    "start_time": "2025-02-03T21:13:17.003Z"
   },
   {
    "duration": 229,
    "start_time": "2025-02-03T21:13:17.007Z"
   },
   {
    "duration": 47,
    "start_time": "2025-02-03T21:13:17.238Z"
   },
   {
    "duration": 261,
    "start_time": "2025-02-03T21:13:17.286Z"
   },
   {
    "duration": 131,
    "start_time": "2025-02-03T21:13:17.550Z"
   },
   {
    "duration": 17,
    "start_time": "2025-02-03T21:13:17.683Z"
   },
   {
    "duration": 181,
    "start_time": "2025-02-03T21:13:17.702Z"
   },
   {
    "duration": 106,
    "start_time": "2025-02-03T21:13:17.885Z"
   },
   {
    "duration": 833,
    "start_time": "2025-02-03T21:13:17.993Z"
   },
   {
    "duration": 13,
    "start_time": "2025-02-03T21:13:18.828Z"
   },
   {
    "duration": 17,
    "start_time": "2025-02-03T21:13:18.843Z"
   },
   {
    "duration": 11,
    "start_time": "2025-02-03T21:13:18.862Z"
   },
   {
    "duration": 8,
    "start_time": "2025-02-03T21:13:18.875Z"
   },
   {
    "duration": 13,
    "start_time": "2025-02-03T21:13:18.885Z"
   },
   {
    "duration": 34,
    "start_time": "2025-02-03T21:13:18.899Z"
   },
   {
    "duration": 387,
    "start_time": "2025-02-03T21:13:18.935Z"
   },
   {
    "duration": 12,
    "start_time": "2025-02-03T21:13:19.324Z"
   },
   {
    "duration": 9,
    "start_time": "2025-02-03T21:15:18.296Z"
   },
   {
    "duration": 4,
    "start_time": "2025-02-03T21:22:13.109Z"
   },
   {
    "duration": 10,
    "start_time": "2025-02-03T21:46:57.159Z"
   },
   {
    "duration": 104,
    "start_time": "2025-02-03T22:01:44.067Z"
   },
   {
    "duration": 13,
    "start_time": "2025-02-03T22:02:08.518Z"
   },
   {
    "duration": 12,
    "start_time": "2025-02-03T22:03:27.650Z"
   },
   {
    "duration": 12,
    "start_time": "2025-02-03T22:03:52.932Z"
   },
   {
    "duration": 11,
    "start_time": "2025-02-03T22:08:23.555Z"
   },
   {
    "duration": 260,
    "start_time": "2025-02-03T22:12:22.909Z"
   },
   {
    "duration": 238,
    "start_time": "2025-02-03T22:12:31.705Z"
   },
   {
    "duration": 97,
    "start_time": "2025-02-03T22:13:04.189Z"
   },
   {
    "duration": 13,
    "start_time": "2025-02-03T22:13:08.858Z"
   },
   {
    "duration": 135,
    "start_time": "2025-02-03T22:13:11.213Z"
   },
   {
    "duration": 87,
    "start_time": "2025-02-03T22:13:27.012Z"
   },
   {
    "duration": 673,
    "start_time": "2025-02-03T22:14:34.102Z"
   },
   {
    "duration": 14,
    "start_time": "2025-02-03T22:14:37.857Z"
   },
   {
    "duration": 10,
    "start_time": "2025-02-03T22:14:39.812Z"
   },
   {
    "duration": 1223,
    "start_time": "2025-02-03T22:15:00.137Z"
   },
   {
    "duration": 93,
    "start_time": "2025-02-03T22:15:01.362Z"
   },
   {
    "duration": 21,
    "start_time": "2025-02-03T22:15:01.456Z"
   },
   {
    "duration": 38,
    "start_time": "2025-02-03T22:15:01.479Z"
   },
   {
    "duration": 47,
    "start_time": "2025-02-03T22:15:01.520Z"
   },
   {
    "duration": 92,
    "start_time": "2025-02-03T22:15:01.568Z"
   },
   {
    "duration": 13,
    "start_time": "2025-02-03T22:15:01.662Z"
   },
   {
    "duration": 51,
    "start_time": "2025-02-03T22:15:01.677Z"
   },
   {
    "duration": 29,
    "start_time": "2025-02-03T22:15:01.730Z"
   },
   {
    "duration": 66,
    "start_time": "2025-02-03T22:15:01.761Z"
   },
   {
    "duration": 38,
    "start_time": "2025-02-03T22:15:01.829Z"
   },
   {
    "duration": 39,
    "start_time": "2025-02-03T22:15:01.869Z"
   },
   {
    "duration": 72,
    "start_time": "2025-02-03T22:15:01.910Z"
   },
   {
    "duration": 48,
    "start_time": "2025-02-03T22:15:01.985Z"
   },
   {
    "duration": 20,
    "start_time": "2025-02-03T22:15:02.035Z"
   },
   {
    "duration": 47,
    "start_time": "2025-02-03T22:15:02.056Z"
   },
   {
    "duration": 34,
    "start_time": "2025-02-03T22:15:02.105Z"
   },
   {
    "duration": 42,
    "start_time": "2025-02-03T22:15:02.140Z"
   },
   {
    "duration": 37,
    "start_time": "2025-02-03T22:15:02.184Z"
   },
   {
    "duration": 132,
    "start_time": "2025-02-03T22:15:02.223Z"
   },
   {
    "duration": 139,
    "start_time": "2025-02-03T22:15:02.356Z"
   },
   {
    "duration": 5,
    "start_time": "2025-02-03T22:15:02.496Z"
   },
   {
    "duration": 756,
    "start_time": "2025-02-03T22:15:02.503Z"
   },
   {
    "duration": 26,
    "start_time": "2025-02-03T22:15:03.261Z"
   },
   {
    "duration": 79,
    "start_time": "2025-02-03T22:15:03.289Z"
   },
   {
    "duration": 18,
    "start_time": "2025-02-03T22:15:03.370Z"
   },
   {
    "duration": 22,
    "start_time": "2025-02-03T22:15:03.390Z"
   },
   {
    "duration": 28,
    "start_time": "2025-02-03T22:15:03.414Z"
   },
   {
    "duration": 14,
    "start_time": "2025-02-03T22:15:03.444Z"
   },
   {
    "duration": 9,
    "start_time": "2025-02-03T22:15:03.460Z"
   },
   {
    "duration": 553,
    "start_time": "2025-02-03T22:15:03.471Z"
   },
   {
    "duration": 171,
    "start_time": "2025-02-03T22:15:04.026Z"
   },
   {
    "duration": 180,
    "start_time": "2025-02-03T22:15:04.198Z"
   },
   {
    "duration": 20,
    "start_time": "2025-02-03T22:15:04.380Z"
   },
   {
    "duration": 263,
    "start_time": "2025-02-03T22:15:04.402Z"
   },
   {
    "duration": 11,
    "start_time": "2025-02-03T22:15:04.667Z"
   },
   {
    "duration": 96,
    "start_time": "2025-02-03T22:15:04.680Z"
   },
   {
    "duration": 137,
    "start_time": "2025-02-03T22:15:04.778Z"
   },
   {
    "duration": 569,
    "start_time": "2025-02-03T22:15:04.917Z"
   },
   {
    "duration": 485,
    "start_time": "2025-02-03T22:15:05.487Z"
   },
   {
    "duration": 3,
    "start_time": "2025-02-03T22:15:05.976Z"
   },
   {
    "duration": 245,
    "start_time": "2025-02-03T22:15:05.981Z"
   },
   {
    "duration": 11,
    "start_time": "2025-02-03T22:15:06.228Z"
   },
   {
    "duration": 275,
    "start_time": "2025-02-03T22:15:06.241Z"
   },
   {
    "duration": 98,
    "start_time": "2025-02-03T22:15:06.518Z"
   },
   {
    "duration": 23,
    "start_time": "2025-02-03T22:15:06.618Z"
   },
   {
    "duration": 244,
    "start_time": "2025-02-03T22:15:06.643Z"
   },
   {
    "duration": 101,
    "start_time": "2025-02-03T22:15:06.889Z"
   },
   {
    "duration": 817,
    "start_time": "2025-02-03T22:15:06.992Z"
   },
   {
    "duration": 13,
    "start_time": "2025-02-03T22:15:07.811Z"
   },
   {
    "duration": 19,
    "start_time": "2025-02-03T22:15:07.825Z"
   },
   {
    "duration": 30,
    "start_time": "2025-02-03T22:15:07.845Z"
   },
   {
    "duration": 25,
    "start_time": "2025-02-03T22:15:07.877Z"
   },
   {
    "duration": 32,
    "start_time": "2025-02-03T22:15:07.904Z"
   },
   {
    "duration": 11,
    "start_time": "2025-02-03T22:15:07.938Z"
   },
   {
    "duration": 389,
    "start_time": "2025-02-03T22:15:07.951Z"
   },
   {
    "duration": 6,
    "start_time": "2025-02-03T22:15:08.341Z"
   },
   {
    "duration": 1178,
    "start_time": "2025-02-03T22:21:59.584Z"
   },
   {
    "duration": 93,
    "start_time": "2025-02-03T22:22:00.765Z"
   },
   {
    "duration": 22,
    "start_time": "2025-02-03T22:22:00.860Z"
   },
   {
    "duration": 15,
    "start_time": "2025-02-03T22:22:00.884Z"
   },
   {
    "duration": 56,
    "start_time": "2025-02-03T22:22:00.901Z"
   },
   {
    "duration": 40,
    "start_time": "2025-02-03T22:22:00.958Z"
   },
   {
    "duration": 8,
    "start_time": "2025-02-03T22:22:00.999Z"
   },
   {
    "duration": 27,
    "start_time": "2025-02-03T22:22:01.008Z"
   },
   {
    "duration": 24,
    "start_time": "2025-02-03T22:22:01.037Z"
   },
   {
    "duration": 19,
    "start_time": "2025-02-03T22:22:01.063Z"
   },
   {
    "duration": 28,
    "start_time": "2025-02-03T22:22:01.084Z"
   },
   {
    "duration": 6,
    "start_time": "2025-02-03T22:22:01.113Z"
   },
   {
    "duration": 21,
    "start_time": "2025-02-03T22:22:01.121Z"
   },
   {
    "duration": 17,
    "start_time": "2025-02-03T22:22:01.144Z"
   },
   {
    "duration": 26,
    "start_time": "2025-02-03T22:22:01.162Z"
   },
   {
    "duration": 43,
    "start_time": "2025-02-03T22:22:01.189Z"
   },
   {
    "duration": 17,
    "start_time": "2025-02-03T22:22:01.233Z"
   },
   {
    "duration": 35,
    "start_time": "2025-02-03T22:22:01.252Z"
   },
   {
    "duration": 50,
    "start_time": "2025-02-03T22:22:01.288Z"
   },
   {
    "duration": 110,
    "start_time": "2025-02-03T22:22:01.340Z"
   },
   {
    "duration": 133,
    "start_time": "2025-02-03T22:22:01.451Z"
   },
   {
    "duration": 6,
    "start_time": "2025-02-03T22:22:01.586Z"
   },
   {
    "duration": 713,
    "start_time": "2025-02-03T22:22:01.593Z"
   },
   {
    "duration": 31,
    "start_time": "2025-02-03T22:22:02.308Z"
   },
   {
    "duration": 3,
    "start_time": "2025-02-03T22:22:02.341Z"
   },
   {
    "duration": 28,
    "start_time": "2025-02-03T22:22:02.346Z"
   },
   {
    "duration": 24,
    "start_time": "2025-02-03T22:22:02.376Z"
   },
   {
    "duration": 60,
    "start_time": "2025-02-03T22:22:02.404Z"
   },
   {
    "duration": 32,
    "start_time": "2025-02-03T22:22:02.466Z"
   },
   {
    "duration": 63,
    "start_time": "2025-02-03T22:22:02.500Z"
   },
   {
    "duration": 560,
    "start_time": "2025-02-03T22:22:02.565Z"
   },
   {
    "duration": 164,
    "start_time": "2025-02-03T22:22:03.126Z"
   },
   {
    "duration": 177,
    "start_time": "2025-02-03T22:22:03.292Z"
   },
   {
    "duration": 18,
    "start_time": "2025-02-03T22:22:03.471Z"
   },
   {
    "duration": 258,
    "start_time": "2025-02-03T22:22:03.491Z"
   },
   {
    "duration": 10,
    "start_time": "2025-02-03T22:22:03.750Z"
   },
   {
    "duration": 24,
    "start_time": "2025-02-03T22:22:03.761Z"
   },
   {
    "duration": 138,
    "start_time": "2025-02-03T22:22:03.786Z"
   },
   {
    "duration": 556,
    "start_time": "2025-02-03T22:22:03.925Z"
   },
   {
    "duration": 479,
    "start_time": "2025-02-03T22:22:04.483Z"
   },
   {
    "duration": 2,
    "start_time": "2025-02-03T22:22:04.964Z"
   },
   {
    "duration": 232,
    "start_time": "2025-02-03T22:22:04.968Z"
   },
   {
    "duration": 9,
    "start_time": "2025-02-03T22:22:05.202Z"
   },
   {
    "duration": 278,
    "start_time": "2025-02-03T22:22:05.213Z"
   },
   {
    "duration": 109,
    "start_time": "2025-02-03T22:22:05.493Z"
   },
   {
    "duration": 13,
    "start_time": "2025-02-03T22:22:05.604Z"
   },
   {
    "duration": 137,
    "start_time": "2025-02-03T22:22:05.632Z"
   },
   {
    "duration": 104,
    "start_time": "2025-02-03T22:22:05.771Z"
   },
   {
    "duration": 716,
    "start_time": "2025-02-03T22:22:05.877Z"
   },
   {
    "duration": 12,
    "start_time": "2025-02-03T22:22:06.595Z"
   },
   {
    "duration": 81,
    "start_time": "2025-02-03T22:22:06.608Z"
   },
   {
    "duration": 145,
    "start_time": "2025-02-03T22:22:06.691Z"
   },
   {
    "duration": 8,
    "start_time": "2025-02-03T22:22:06.838Z"
   },
   {
    "duration": 10,
    "start_time": "2025-02-03T22:22:06.848Z"
   },
   {
    "duration": 39,
    "start_time": "2025-02-03T22:22:06.860Z"
   },
   {
    "duration": 416,
    "start_time": "2025-02-03T22:22:06.901Z"
   },
   {
    "duration": 7,
    "start_time": "2025-02-03T22:22:07.318Z"
   },
   {
    "duration": 240,
    "start_time": "2025-02-03T22:24:39.778Z"
   },
   {
    "duration": 13,
    "start_time": "2025-02-03T22:25:04.939Z"
   },
   {
    "duration": 1185,
    "start_time": "2025-02-03T22:25:35.500Z"
   },
   {
    "duration": 95,
    "start_time": "2025-02-03T22:25:36.686Z"
   },
   {
    "duration": 20,
    "start_time": "2025-02-03T22:25:36.783Z"
   },
   {
    "duration": 21,
    "start_time": "2025-02-03T22:25:36.805Z"
   },
   {
    "duration": 31,
    "start_time": "2025-02-03T22:25:36.828Z"
   },
   {
    "duration": 39,
    "start_time": "2025-02-03T22:25:36.860Z"
   },
   {
    "duration": 7,
    "start_time": "2025-02-03T22:25:36.901Z"
   },
   {
    "duration": 27,
    "start_time": "2025-02-03T22:25:36.910Z"
   },
   {
    "duration": 10,
    "start_time": "2025-02-03T22:25:36.938Z"
   },
   {
    "duration": 7,
    "start_time": "2025-02-03T22:25:36.950Z"
   },
   {
    "duration": 11,
    "start_time": "2025-02-03T22:25:36.959Z"
   },
   {
    "duration": 8,
    "start_time": "2025-02-03T22:25:36.971Z"
   },
   {
    "duration": 18,
    "start_time": "2025-02-03T22:25:36.980Z"
   },
   {
    "duration": 16,
    "start_time": "2025-02-03T22:25:37.000Z"
   },
   {
    "duration": 6,
    "start_time": "2025-02-03T22:25:37.034Z"
   },
   {
    "duration": 25,
    "start_time": "2025-02-03T22:25:37.042Z"
   },
   {
    "duration": 17,
    "start_time": "2025-02-03T22:25:37.070Z"
   },
   {
    "duration": 64,
    "start_time": "2025-02-03T22:25:37.089Z"
   },
   {
    "duration": 30,
    "start_time": "2025-02-03T22:25:37.155Z"
   },
   {
    "duration": 160,
    "start_time": "2025-02-03T22:25:37.187Z"
   },
   {
    "duration": 125,
    "start_time": "2025-02-03T22:25:37.349Z"
   },
   {
    "duration": 5,
    "start_time": "2025-02-03T22:25:37.476Z"
   },
   {
    "duration": 800,
    "start_time": "2025-02-03T22:25:37.483Z"
   },
   {
    "duration": 27,
    "start_time": "2025-02-03T22:25:38.285Z"
   },
   {
    "duration": 19,
    "start_time": "2025-02-03T22:25:38.313Z"
   },
   {
    "duration": 7,
    "start_time": "2025-02-03T22:25:38.334Z"
   },
   {
    "duration": 4,
    "start_time": "2025-02-03T22:25:38.343Z"
   },
   {
    "duration": 2,
    "start_time": "2025-02-03T22:25:38.352Z"
   },
   {
    "duration": 4,
    "start_time": "2025-02-03T22:25:38.355Z"
   },
   {
    "duration": 11,
    "start_time": "2025-02-03T22:25:38.361Z"
   },
   {
    "duration": 585,
    "start_time": "2025-02-03T22:25:38.374Z"
   },
   {
    "duration": 177,
    "start_time": "2025-02-03T22:25:38.961Z"
   },
   {
    "duration": 178,
    "start_time": "2025-02-03T22:25:39.139Z"
   },
   {
    "duration": 27,
    "start_time": "2025-02-03T22:25:39.319Z"
   },
   {
    "duration": 246,
    "start_time": "2025-02-03T22:25:39.348Z"
   },
   {
    "duration": 10,
    "start_time": "2025-02-03T22:25:39.595Z"
   },
   {
    "duration": 26,
    "start_time": "2025-02-03T22:25:39.607Z"
   },
   {
    "duration": 143,
    "start_time": "2025-02-03T22:25:39.635Z"
   },
   {
    "duration": 554,
    "start_time": "2025-02-03T22:25:39.780Z"
   },
   {
    "duration": 470,
    "start_time": "2025-02-03T22:25:40.336Z"
   },
   {
    "duration": 3,
    "start_time": "2025-02-03T22:25:40.808Z"
   },
   {
    "duration": 228,
    "start_time": "2025-02-03T22:25:40.812Z"
   },
   {
    "duration": 9,
    "start_time": "2025-02-03T22:25:41.041Z"
   },
   {
    "duration": 255,
    "start_time": "2025-02-03T22:25:41.051Z"
   },
   {
    "duration": 103,
    "start_time": "2025-02-03T22:25:41.307Z"
   },
   {
    "duration": 26,
    "start_time": "2025-02-03T22:25:41.413Z"
   },
   {
    "duration": 147,
    "start_time": "2025-02-03T22:25:41.440Z"
   },
   {
    "duration": 96,
    "start_time": "2025-02-03T22:25:41.589Z"
   },
   {
    "duration": 735,
    "start_time": "2025-02-03T22:25:41.686Z"
   },
   {
    "duration": 17,
    "start_time": "2025-02-03T22:25:42.424Z"
   },
   {
    "duration": 12,
    "start_time": "2025-02-03T22:25:42.443Z"
   },
   {
    "duration": 23,
    "start_time": "2025-02-03T22:25:42.457Z"
   },
   {
    "duration": 18,
    "start_time": "2025-02-03T22:25:42.481Z"
   },
   {
    "duration": 8,
    "start_time": "2025-02-03T22:25:42.501Z"
   },
   {
    "duration": 32,
    "start_time": "2025-02-03T22:25:42.511Z"
   },
   {
    "duration": 402,
    "start_time": "2025-02-03T22:25:42.545Z"
   },
   {
    "duration": 7,
    "start_time": "2025-02-03T22:25:42.949Z"
   }
  ],
  "kernelspec": {
   "display_name": "Python 3 (ipykernel)",
   "language": "python",
   "name": "python3"
  },
  "language_info": {
   "codemirror_mode": {
    "name": "ipython",
    "version": 3
   },
   "file_extension": ".py",
   "mimetype": "text/x-python",
   "name": "python",
   "nbconvert_exporter": "python",
   "pygments_lexer": "ipython3",
   "version": "3.9.5"
  },
  "toc": {
   "base_numbering": 1,
   "nav_menu": {},
   "number_sections": true,
   "sideBar": true,
   "skip_h1_title": true,
   "title_cell": "Table of Contents",
   "title_sidebar": "Contents",
   "toc_cell": false,
   "toc_position": {},
   "toc_section_display": true,
   "toc_window_display": false
  }
 },
 "nbformat": 4,
 "nbformat_minor": 2
}
