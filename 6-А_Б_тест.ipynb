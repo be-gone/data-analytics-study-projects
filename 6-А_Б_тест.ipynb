{
 "cells": [
  {
   "cell_type": "markdown",
   "metadata": {},
   "source": [
    "# Принятие решений в бизнесе: проект\n",
    "\n",
    "В рамках проекта мы оказываем поддержку отделу маркетинга крупного интернет-магазина для увеличения выручки. Работа будет выполнена в два этапа: приоритизация гипотез и анализ результатов A/B-теста.\n",
    "\n",
    "---\n",
    "\n",
    "## Этап. Приоритизация гипотез\n",
    "\n",
    "На первом этапе мы оценим девять предложенных гипотез по увеличению выручки. Для этого будут использованы фреймворки **ICE** и **RICE**, что позволит определить приоритеты для внедрения гипотез. \n",
    "\n",
    "**Задачи этапа:**\n",
    "- Оценка гипотез с использованием ICE и RICE.\n",
    "- Сравнение результатов приоритизации по обоим методам.\n",
    "- Анализ различий между результатами методов.\n",
    "\n",
    "---\n",
    "\n",
    "## Этап. Анализ A/B-теста\n",
    "\n",
    "**На втором этапе мы проведём анализ результатов проведённого A/B-теста. Работа будет включать:**\n",
    "\n",
    "1. Построение ключевых графиков, отражающих изменения кумулятивных метрик:\n",
    "   - выручки;\n",
    "   - среднего чека;\n",
    "   - конверсии.\n",
    "\n",
    "2. Выявление аномалий среди пользователей и заказов с помощью статистических методов.\n",
    "\n",
    "3. Проведение тестов на статистическую значимость различий между группами:\n",
    "   - на сырых данных;\n",
    "   - на очищенных данных.\n",
    "\n",
    "4. Принятие обоснованного решения о дальнейших действиях на основе результатов теста.\n",
    "\n",
    "---\n",
    "\n",
    "## Итоги проекта\n",
    "\n",
    "Результатом работы станут:\n",
    "- **Рекомендации** по приоритетным гипотезам.\n",
    "- **Заключение** о результатах A/B-теста, которое поможет компании выбрать дальнейший курс действий для увеличения выручки.\n"
   ]
  },
  {
   "cell_type": "markdown",
   "metadata": {},
   "source": [
    "# Описание данных\n",
    "\n",
    "**Файл `hypothesis.csv`** \n",
    "- **Hypothesis** — краткое описание гипотезы.\n",
    "- **Reach** — охват пользователей по 10-балльной шкале.\n",
    "- **Impact** — влияние на пользователей по 10-балльной шкале.\n",
    "- **Confidence** — уверенность в гипотезе по 10-балльной шкале.\n",
    "- **Efforts** — затраты ресурсов на проверку гипотезы по 10-балльной шкале. Чем больше значение `Efforts`, тем дороже проверка гипотезы.\n",
    "\n",
    "---\n",
    "\n",
    "**Файл `orders.csv`**\n",
    "- **transactionId** — идентификатор заказа.\n",
    "- **visitorId** — идентификатор пользователя, совершившего заказ.\n",
    "- **date** — дата, когда был совершён заказ.\n",
    "- **revenue** — выручка заказа.\n",
    "- **group** — группа A/B-теста, в которую попал заказ.\n",
    "\n",
    "---\n",
    "\n",
    "**Файл `visitors.csv`**\n",
    "- **date** — дата.\n",
    "- **group** — группа A/B-теста.\n",
    "- **visitors** — количество пользователей в указанную дату в указанной группе A/B-теста.\n"
   ]
  },
  {
   "cell_type": "markdown",
   "metadata": {},
   "source": [
    "# **Этап 1. Приоритизация гипотез**\n"
   ]
  },
  {
   "cell_type": "markdown",
   "metadata": {},
   "source": [
    "**Начнём с обзора и предобработки данных:**"
   ]
  },
  {
   "cell_type": "code",
   "execution_count": 1,
   "metadata": {},
   "outputs": [],
   "source": [
    "# импорт необходимых для работы библиотек\n",
    "\n",
    "import pandas as pd\n",
    "import numpy as np\n",
    "import matplotlib.pyplot as plt\n",
    "import seaborn as sns\n",
    "import math\n",
    "import datetime as dt\n",
    "import scipy.stats as stats\n",
    "import warnings\n",
    "from scipy import stats as st\n",
    "from scipy.stats import mannwhitneyu"
   ]
  },
  {
   "cell_type": "code",
   "execution_count": 2,
   "metadata": {},
   "outputs": [],
   "source": [
    "# снимаем ограничение на количество столбцов\n",
    "pd.set_option('display.max_columns', None)\n",
    "\n",
    "# снимаем ограничение на ширину столбцов\n",
    "pd.set_option('display.max_colwidth', None)\n",
    "\n",
    "# игнорируем предупреждения\n",
    "warnings.filterwarnings(action='ignore')\n",
    "\n",
    "# выставляем ограничение на показ знаков после запятой\n",
    "pd.options.display.float_format = '{:,.3f}'.format\n",
    "\n",
    "# задаем размер графика\n",
    "sns.set(rc={'figure.figsize':(10,8)})"
   ]
  },
  {
   "cell_type": "code",
   "execution_count": 3,
   "metadata": {},
   "outputs": [],
   "source": [
    "hypothesis = pd.read_csv('/datasets/hypothesis.csv')\n",
    "orders = pd.read_csv('/datasets/orders.csv')\n",
    "visitors = pd.read_csv('/datasets/visitors.csv')"
   ]
  },
  {
   "cell_type": "code",
   "execution_count": 4,
   "metadata": {},
   "outputs": [],
   "source": [
    "def inspect_df(*dataframes, head_rows=5):\n",
    "    \n",
    "    for i, df in enumerate(dataframes):\n",
    "        print(f\"--- DataFrame {i + 1} ---\")\n",
    "        \n",
    "        # Выводим общую информацию\n",
    "        print(\"Информация о данных:\")\n",
    "        df.info()\n",
    "        print(\"\\n\")\n",
    "        \n",
    "        # Выводим первые строки датафрейма\n",
    "        print(f\"Первые {head_rows} строк:\")\n",
    "        print(df.head(head_rows))\n",
    "        print(\"\\n\")\n",
    "        \n",
    "        # Проверяем на наличие дубликатов\n",
    "        duplicate_count = df.duplicated().sum()\n",
    "        print(f\"Количество дубликатов: {duplicate_count}\\n\")\n",
    "        \n",
    "        # Если есть дубликаты, выводим сообщение\n",
    "        if duplicate_count > 0:\n",
    "            print(f\"В DataFrame {i + 1} обнаружены дубликаты.\\n\")\n",
    "        \n",
    "        print(\"\\n=============================\\n\")\n"
   ]
  },
  {
   "cell_type": "code",
   "execution_count": 5,
   "metadata": {},
   "outputs": [
    {
     "name": "stdout",
     "output_type": "stream",
     "text": [
      "--- DataFrame 1 ---\n",
      "Информация о данных:\n",
      "<class 'pandas.core.frame.DataFrame'>\n",
      "RangeIndex: 9 entries, 0 to 8\n",
      "Data columns (total 5 columns):\n",
      " #   Column      Non-Null Count  Dtype \n",
      "---  ------      --------------  ----- \n",
      " 0   Hypothesis  9 non-null      object\n",
      " 1   Reach       9 non-null      int64 \n",
      " 2   Impact      9 non-null      int64 \n",
      " 3   Confidence  9 non-null      int64 \n",
      " 4   Efforts     9 non-null      int64 \n",
      "dtypes: int64(4), object(1)\n",
      "memory usage: 488.0+ bytes\n",
      "\n",
      "\n",
      "Первые 5 строк:\n",
      "                                                                                                     Hypothesis  \\\n",
      "0            Добавить два новых канала привлечения трафика, что позволит привлекать на 30% больше пользователей   \n",
      "1                                     Запустить собственную службу доставки, что сократит срок доставки заказов   \n",
      "2  Добавить блоки рекомендаций товаров на сайт интернет магазина, чтобы повысить конверсию и средний чек заказа   \n",
      "3           Изменить структура категорий, что увеличит конверсию, т.к. пользователи быстрее найдут нужный товар   \n",
      "4                              Изменить цвет фона главной страницы, чтобы увеличить вовлеченность пользователей   \n",
      "\n",
      "   Reach  Impact  Confidence  Efforts  \n",
      "0      3      10           8        6  \n",
      "1      2       5           4       10  \n",
      "2      8       3           7        3  \n",
      "3      8       3           3        8  \n",
      "4      3       1           1        1  \n",
      "\n",
      "\n",
      "Количество дубликатов: 0\n",
      "\n",
      "\n",
      "=============================\n",
      "\n",
      "--- DataFrame 2 ---\n",
      "Информация о данных:\n",
      "<class 'pandas.core.frame.DataFrame'>\n",
      "RangeIndex: 1197 entries, 0 to 1196\n",
      "Data columns (total 5 columns):\n",
      " #   Column         Non-Null Count  Dtype \n",
      "---  ------         --------------  ----- \n",
      " 0   transactionId  1197 non-null   int64 \n",
      " 1   visitorId      1197 non-null   int64 \n",
      " 2   date           1197 non-null   object\n",
      " 3   revenue        1197 non-null   int64 \n",
      " 4   group          1197 non-null   object\n",
      "dtypes: int64(3), object(2)\n",
      "memory usage: 46.9+ KB\n",
      "\n",
      "\n",
      "Первые 5 строк:\n",
      "   transactionId   visitorId        date  revenue group\n",
      "0     3667963787  3312258926  2019-08-15     1650     B\n",
      "1     2804400009  3642806036  2019-08-15      730     B\n",
      "2     2961555356  4069496402  2019-08-15      400     A\n",
      "3     3797467345  1196621759  2019-08-15     9759     B\n",
      "4     2282983706  2322279887  2019-08-15     2308     B\n",
      "\n",
      "\n",
      "Количество дубликатов: 0\n",
      "\n",
      "\n",
      "=============================\n",
      "\n",
      "--- DataFrame 3 ---\n",
      "Информация о данных:\n",
      "<class 'pandas.core.frame.DataFrame'>\n",
      "RangeIndex: 62 entries, 0 to 61\n",
      "Data columns (total 3 columns):\n",
      " #   Column    Non-Null Count  Dtype \n",
      "---  ------    --------------  ----- \n",
      " 0   date      62 non-null     object\n",
      " 1   group     62 non-null     object\n",
      " 2   visitors  62 non-null     int64 \n",
      "dtypes: int64(1), object(2)\n",
      "memory usage: 1.6+ KB\n",
      "\n",
      "\n",
      "Первые 5 строк:\n",
      "         date group  visitors\n",
      "0  2019-08-01     A       719\n",
      "1  2019-08-02     A       619\n",
      "2  2019-08-03     A       507\n",
      "3  2019-08-04     A       717\n",
      "4  2019-08-05     A       756\n",
      "\n",
      "\n",
      "Количество дубликатов: 0\n",
      "\n",
      "\n",
      "=============================\n",
      "\n"
     ]
    }
   ],
   "source": [
    "inspect_df(hypothesis, orders, visitors, head_rows=5)"
   ]
  },
  {
   "cell_type": "code",
   "execution_count": 6,
   "metadata": {},
   "outputs": [],
   "source": [
    "# изменим тип данных для столбцов с датами\n",
    "visitors['date'] = pd.to_datetime(visitors['date'])\n",
    "orders['date'] = pd.to_datetime(orders['date'])"
   ]
  },
  {
   "cell_type": "code",
   "execution_count": 7,
   "metadata": {},
   "outputs": [
    {
     "data": {
      "text/plain": [
       "Index(['hypothesis', 'reach', 'impact', 'confidence', 'efforts'], dtype='object')"
      ]
     },
     "metadata": {},
     "output_type": "display_data"
    },
    {
     "data": {
      "text/plain": [
       "Index(['transaction_id', 'visitor_id', 'date', 'revenue', 'group'], dtype='object')"
      ]
     },
     "execution_count": 7,
     "metadata": {},
     "output_type": "execute_result"
    }
   ],
   "source": [
    "# Приведение названий столбцов к змеиному формату\n",
    "\n",
    "# Для hypothesis: все буквы — в нижний регистр\n",
    "hypothesis.columns = hypothesis.columns.str.lower()\n",
    "\n",
    "# Для orders: заменяем \"Id\" в названиях столбцов на \"_id\" для более унифицированного стиля\n",
    "orders.columns = [col.replace('Id', '_id') for col in orders.columns]\n",
    "\n",
    "display(hypothesis.columns)\n",
    "orders.columns\n"
   ]
  },
  {
   "cell_type": "markdown",
   "metadata": {},
   "source": [
    "**Приступим к приоритезации гипотез:**"
   ]
  },
  {
   "cell_type": "code",
   "execution_count": 8,
   "metadata": {},
   "outputs": [
    {
     "data": {
      "text/html": [
       "<div>\n",
       "<style scoped>\n",
       "    .dataframe tbody tr th:only-of-type {\n",
       "        vertical-align: middle;\n",
       "    }\n",
       "\n",
       "    .dataframe tbody tr th {\n",
       "        vertical-align: top;\n",
       "    }\n",
       "\n",
       "    .dataframe thead th {\n",
       "        text-align: right;\n",
       "    }\n",
       "</style>\n",
       "<table border=\"1\" class=\"dataframe\">\n",
       "  <thead>\n",
       "    <tr style=\"text-align: right;\">\n",
       "      <th></th>\n",
       "      <th>hypothesis</th>\n",
       "      <th>ice</th>\n",
       "    </tr>\n",
       "  </thead>\n",
       "  <tbody>\n",
       "    <tr>\n",
       "      <th>8</th>\n",
       "      <td>Запустить акцию, дающую скидку на товар в день рождения</td>\n",
       "      <td>16.200</td>\n",
       "    </tr>\n",
       "    <tr>\n",
       "      <th>0</th>\n",
       "      <td>Добавить два новых канала привлечения трафика, что позволит привлекать на 30% больше пользователей</td>\n",
       "      <td>13.333</td>\n",
       "    </tr>\n",
       "    <tr>\n",
       "      <th>7</th>\n",
       "      <td>Добавить форму подписки на все основные страницы, чтобы собрать базу клиентов для email-рассылок</td>\n",
       "      <td>11.200</td>\n",
       "    </tr>\n",
       "    <tr>\n",
       "      <th>6</th>\n",
       "      <td>Показать на главной странице баннеры с актуальными акциями и распродажами, чтобы увеличить конверсию</td>\n",
       "      <td>8.000</td>\n",
       "    </tr>\n",
       "    <tr>\n",
       "      <th>2</th>\n",
       "      <td>Добавить блоки рекомендаций товаров на сайт интернет магазина, чтобы повысить конверсию и средний чек заказа</td>\n",
       "      <td>7.000</td>\n",
       "    </tr>\n",
       "  </tbody>\n",
       "</table>\n",
       "</div>"
      ],
      "text/plain": [
       "                                                                                                     hypothesis  \\\n",
       "8                                                       Запустить акцию, дающую скидку на товар в день рождения   \n",
       "0            Добавить два новых канала привлечения трафика, что позволит привлекать на 30% больше пользователей   \n",
       "7              Добавить форму подписки на все основные страницы, чтобы собрать базу клиентов для email-рассылок   \n",
       "6          Показать на главной странице баннеры с актуальными акциями и распродажами, чтобы увеличить конверсию   \n",
       "2  Добавить блоки рекомендаций товаров на сайт интернет магазина, чтобы повысить конверсию и средний чек заказа   \n",
       "\n",
       "     ice  \n",
       "8 16.200  \n",
       "0 13.333  \n",
       "7 11.200  \n",
       "6  8.000  \n",
       "2  7.000  "
      ]
     },
     "execution_count": 8,
     "metadata": {},
     "output_type": "execute_result"
    }
   ],
   "source": [
    "hypothesis['ice'] = hypothesis['impact'] * hypothesis['confidence'] / hypothesis['efforts']\n",
    "\n",
    "hypothesis[['hypothesis', 'ice']].sort_values(by='ice', ascending=False).head(5)"
   ]
  },
  {
   "cell_type": "code",
   "execution_count": 9,
   "metadata": {},
   "outputs": [
    {
     "data": {
      "image/png": "[encoded data removed]",
      "text/plain": [
       "<Figure size 720x576 with 1 Axes>"
      ]
     },
     "metadata": {},
     "output_type": "display_data"
    }
   ],
   "source": [
    "# Построение горизонтальной гистограммы для визуализации приоритизации гипотез по ICE\n",
    "ax = (hypothesis[['hypothesis', 'ice']]\n",
    "      .set_index('hypothesis')\n",
    "      .sort_values('ice', ascending=False)\n",
    "      .plot(kind='barh', color='g', alpha=0.4))\n",
    "\n",
    "ax.grid(True)\n",
    "\n",
    "ax.set_xlabel('Приоритет')\n",
    "ax.set_ylabel('')\n",
    "\n",
    "ax.set_title('Приоритизация гипотез по методу ICE', loc='left')\n",
    "\n",
    "plt.show()"
   ]
  },
  {
   "cell_type": "code",
   "execution_count": 10,
   "metadata": {},
   "outputs": [
    {
     "data": {
      "text/html": [
       "<div>\n",
       "<style scoped>\n",
       "    .dataframe tbody tr th:only-of-type {\n",
       "        vertical-align: middle;\n",
       "    }\n",
       "\n",
       "    .dataframe tbody tr th {\n",
       "        vertical-align: top;\n",
       "    }\n",
       "\n",
       "    .dataframe thead th {\n",
       "        text-align: right;\n",
       "    }\n",
       "</style>\n",
       "<table border=\"1\" class=\"dataframe\">\n",
       "  <thead>\n",
       "    <tr style=\"text-align: right;\">\n",
       "      <th></th>\n",
       "      <th>hypothesis</th>\n",
       "      <th>rice</th>\n",
       "    </tr>\n",
       "  </thead>\n",
       "  <tbody>\n",
       "    <tr>\n",
       "      <th>7</th>\n",
       "      <td>Добавить форму подписки на все основные страницы, чтобы собрать базу клиентов для email-рассылок</td>\n",
       "      <td>112.000</td>\n",
       "    </tr>\n",
       "    <tr>\n",
       "      <th>2</th>\n",
       "      <td>Добавить блоки рекомендаций товаров на сайт интернет магазина, чтобы повысить конверсию и средний чек заказа</td>\n",
       "      <td>56.000</td>\n",
       "    </tr>\n",
       "    <tr>\n",
       "      <th>0</th>\n",
       "      <td>Добавить два новых канала привлечения трафика, что позволит привлекать на 30% больше пользователей</td>\n",
       "      <td>40.000</td>\n",
       "    </tr>\n",
       "    <tr>\n",
       "      <th>6</th>\n",
       "      <td>Показать на главной странице баннеры с актуальными акциями и распродажами, чтобы увеличить конверсию</td>\n",
       "      <td>40.000</td>\n",
       "    </tr>\n",
       "    <tr>\n",
       "      <th>8</th>\n",
       "      <td>Запустить акцию, дающую скидку на товар в день рождения</td>\n",
       "      <td>16.200</td>\n",
       "    </tr>\n",
       "  </tbody>\n",
       "</table>\n",
       "</div>"
      ],
      "text/plain": [
       "                                                                                                     hypothesis  \\\n",
       "7              Добавить форму подписки на все основные страницы, чтобы собрать базу клиентов для email-рассылок   \n",
       "2  Добавить блоки рекомендаций товаров на сайт интернет магазина, чтобы повысить конверсию и средний чек заказа   \n",
       "0            Добавить два новых канала привлечения трафика, что позволит привлекать на 30% больше пользователей   \n",
       "6          Показать на главной странице баннеры с актуальными акциями и распродажами, чтобы увеличить конверсию   \n",
       "8                                                       Запустить акцию, дающую скидку на товар в день рождения   \n",
       "\n",
       "     rice  \n",
       "7 112.000  \n",
       "2  56.000  \n",
       "0  40.000  \n",
       "6  40.000  \n",
       "8  16.200  "
      ]
     },
     "execution_count": 10,
     "metadata": {},
     "output_type": "execute_result"
    }
   ],
   "source": [
    "# Расчёт приоритета гипотез по методу RICE\n",
    "hypothesis['rice'] = (hypothesis['reach'] * hypothesis['impact'] * \n",
    "                      hypothesis['confidence'] / hypothesis['efforts'])\n",
    "\n",
    "# Отображаем топ-5 гипотез с самым высоким приоритетом по RICE\n",
    "hypothesis[['hypothesis', 'rice']].sort_values(by='rice', ascending=False).head(5)\n"
   ]
  },
  {
   "cell_type": "code",
   "execution_count": 11,
   "metadata": {},
   "outputs": [
    {
     "data": {
      "text/html": [
       "<div>\n",
       "<style scoped>\n",
       "    .dataframe tbody tr th:only-of-type {\n",
       "        vertical-align: middle;\n",
       "    }\n",
       "\n",
       "    .dataframe tbody tr th {\n",
       "        vertical-align: top;\n",
       "    }\n",
       "\n",
       "    .dataframe thead th {\n",
       "        text-align: right;\n",
       "    }\n",
       "</style>\n",
       "<table border=\"1\" class=\"dataframe\">\n",
       "  <thead>\n",
       "    <tr style=\"text-align: right;\">\n",
       "      <th></th>\n",
       "      <th>hypothesis</th>\n",
       "      <th>ice</th>\n",
       "      <th>rice</th>\n",
       "    </tr>\n",
       "  </thead>\n",
       "  <tbody>\n",
       "    <tr>\n",
       "      <th>7</th>\n",
       "      <td>Добавить форму подписки на все основные страницы, чтобы собрать базу клиентов для email-рассылок</td>\n",
       "      <td>11.200</td>\n",
       "      <td>112.000</td>\n",
       "    </tr>\n",
       "    <tr>\n",
       "      <th>2</th>\n",
       "      <td>Добавить блоки рекомендаций товаров на сайт интернет магазина, чтобы повысить конверсию и средний чек заказа</td>\n",
       "      <td>7.000</td>\n",
       "      <td>56.000</td>\n",
       "    </tr>\n",
       "    <tr>\n",
       "      <th>0</th>\n",
       "      <td>Добавить два новых канала привлечения трафика, что позволит привлекать на 30% больше пользователей</td>\n",
       "      <td>13.333</td>\n",
       "      <td>40.000</td>\n",
       "    </tr>\n",
       "    <tr>\n",
       "      <th>6</th>\n",
       "      <td>Показать на главной странице баннеры с актуальными акциями и распродажами, чтобы увеличить конверсию</td>\n",
       "      <td>8.000</td>\n",
       "      <td>40.000</td>\n",
       "    </tr>\n",
       "    <tr>\n",
       "      <th>8</th>\n",
       "      <td>Запустить акцию, дающую скидку на товар в день рождения</td>\n",
       "      <td>16.200</td>\n",
       "      <td>16.200</td>\n",
       "    </tr>\n",
       "  </tbody>\n",
       "</table>\n",
       "</div>"
      ],
      "text/plain": [
       "                                                                                                     hypothesis  \\\n",
       "7              Добавить форму подписки на все основные страницы, чтобы собрать базу клиентов для email-рассылок   \n",
       "2  Добавить блоки рекомендаций товаров на сайт интернет магазина, чтобы повысить конверсию и средний чек заказа   \n",
       "0            Добавить два новых канала привлечения трафика, что позволит привлекать на 30% больше пользователей   \n",
       "6          Показать на главной странице баннеры с актуальными акциями и распродажами, чтобы увеличить конверсию   \n",
       "8                                                       Запустить акцию, дающую скидку на товар в день рождения   \n",
       "\n",
       "     ice    rice  \n",
       "7 11.200 112.000  \n",
       "2  7.000  56.000  \n",
       "0 13.333  40.000  \n",
       "6  8.000  40.000  \n",
       "8 16.200  16.200  "
      ]
     },
     "execution_count": 11,
     "metadata": {},
     "output_type": "execute_result"
    }
   ],
   "source": [
    "hypothesis[['hypothesis','ice', 'rice']].sort_values(by='rice', ascending=False).head(5)"
   ]
  },
  {
   "cell_type": "markdown",
   "metadata": {},
   "source": [
    "**Вывод:**\n",
    "**Метод ICE**  \n",
    "Наибольший приоритет у гипотезы 8, предлагающей скидку на день рождения. Гипотезы 0, 7, 6 и 2 также имеют высокий приоритет.\n",
    "\n",
    "**Метод RICE**  \n",
    "У гипотезы 7 максимальный приоритет благодаря большому охвату. Гипотезы 2, 0, 6 и 8 поменяли свои позиции в сравнении с ICE из-за учёта охвата (Reach).\n"
   ]
  },
  {
   "cell_type": "markdown",
   "metadata": {},
   "source": [
    "Учет охвата в методе RICE существенно изменил порядок приоритизации гипотез. Гипотеза \"Добавить форму подписки на все основные страницы, чтобы собрать базу клиентов для email-рассылок\" занимает первое место при учете охвата, тогда как гипотеза \"Запустить акцию, дающую скидку на товар в день рождения\" была лидером в методе ICE."
   ]
  },
  {
   "cell_type": "markdown",
   "metadata": {},
   "source": [
    "\n",
    "# Этап 2. Анализ A/B-теста\n"
   ]
  },
  {
   "cell_type": "code",
   "execution_count": 12,
   "metadata": {},
   "outputs": [
    {
     "data": {
      "text/html": [
       "<div>\n",
       "<style scoped>\n",
       "    .dataframe tbody tr th:only-of-type {\n",
       "        vertical-align: middle;\n",
       "    }\n",
       "\n",
       "    .dataframe tbody tr th {\n",
       "        vertical-align: top;\n",
       "    }\n",
       "\n",
       "    .dataframe thead th {\n",
       "        text-align: right;\n",
       "    }\n",
       "</style>\n",
       "<table border=\"1\" class=\"dataframe\">\n",
       "  <thead>\n",
       "    <tr style=\"text-align: right;\">\n",
       "      <th></th>\n",
       "      <th>date</th>\n",
       "      <th>group</th>\n",
       "      <th>transaction_id</th>\n",
       "      <th>visitor_id</th>\n",
       "      <th>revenue</th>\n",
       "    </tr>\n",
       "  </thead>\n",
       "  <tbody>\n",
       "    <tr>\n",
       "      <th>55</th>\n",
       "      <td>2019-08-01</td>\n",
       "      <td>A</td>\n",
       "      <td>24</td>\n",
       "      <td>20</td>\n",
       "      <td>148579</td>\n",
       "    </tr>\n",
       "    <tr>\n",
       "      <th>66</th>\n",
       "      <td>2019-08-01</td>\n",
       "      <td>B</td>\n",
       "      <td>21</td>\n",
       "      <td>20</td>\n",
       "      <td>101217</td>\n",
       "    </tr>\n",
       "    <tr>\n",
       "      <th>175</th>\n",
       "      <td>2019-08-02</td>\n",
       "      <td>A</td>\n",
       "      <td>44</td>\n",
       "      <td>38</td>\n",
       "      <td>242401</td>\n",
       "    </tr>\n",
       "    <tr>\n",
       "      <th>173</th>\n",
       "      <td>2019-08-02</td>\n",
       "      <td>B</td>\n",
       "      <td>45</td>\n",
       "      <td>43</td>\n",
       "      <td>266748</td>\n",
       "    </tr>\n",
       "    <tr>\n",
       "      <th>291</th>\n",
       "      <td>2019-08-03</td>\n",
       "      <td>A</td>\n",
       "      <td>68</td>\n",
       "      <td>62</td>\n",
       "      <td>354874</td>\n",
       "    </tr>\n",
       "  </tbody>\n",
       "</table>\n",
       "</div>"
      ],
      "text/plain": [
       "          date group  transaction_id  visitor_id  revenue\n",
       "55  2019-08-01     A              24          20   148579\n",
       "66  2019-08-01     B              21          20   101217\n",
       "175 2019-08-02     A              44          38   242401\n",
       "173 2019-08-02     B              45          43   266748\n",
       "291 2019-08-03     A              68          62   354874"
      ]
     },
     "execution_count": 12,
     "metadata": {},
     "output_type": "execute_result"
    }
   ],
   "source": [
    "# Сформируем массив уникальных комбинаций дат и групп теста\n",
    "unique_dates_groups = orders[['date', 'group']].drop_duplicates()\n",
    "\n",
    "# Посчитаем накопленные метрики по дням для каждой группы\n",
    "cumulative_orders = unique_dates_groups.apply(\n",
    "    lambda row: orders[\n",
    "        (orders['date'] <= row['date']) & (orders['group'] == row['group'])\n",
    "    ].agg(\n",
    "        {\n",
    "            'date': 'max',\n",
    "            'group': 'max',\n",
    "            'transaction_id': 'nunique',\n",
    "            'visitor_id': 'nunique',\n",
    "            'revenue': 'sum',\n",
    "        }\n",
    "    ),\n",
    "    axis=1,\n",
    ").sort_values(by=['date', 'group'])\n",
    "\n",
    "cumulative_orders.head(5)\n"
   ]
  },
  {
   "cell_type": "code",
   "execution_count": 13,
   "metadata": {},
   "outputs": [
    {
     "data": {
      "text/html": [
       "<div>\n",
       "<style scoped>\n",
       "    .dataframe tbody tr th:only-of-type {\n",
       "        vertical-align: middle;\n",
       "    }\n",
       "\n",
       "    .dataframe tbody tr th {\n",
       "        vertical-align: top;\n",
       "    }\n",
       "\n",
       "    .dataframe thead th {\n",
       "        text-align: right;\n",
       "    }\n",
       "</style>\n",
       "<table border=\"1\" class=\"dataframe\">\n",
       "  <thead>\n",
       "    <tr style=\"text-align: right;\">\n",
       "      <th></th>\n",
       "      <th>date</th>\n",
       "      <th>group</th>\n",
       "      <th>visitors</th>\n",
       "    </tr>\n",
       "  </thead>\n",
       "  <tbody>\n",
       "    <tr>\n",
       "      <th>55</th>\n",
       "      <td>2019-08-01</td>\n",
       "      <td>A</td>\n",
       "      <td>719</td>\n",
       "    </tr>\n",
       "    <tr>\n",
       "      <th>66</th>\n",
       "      <td>2019-08-01</td>\n",
       "      <td>B</td>\n",
       "      <td>713</td>\n",
       "    </tr>\n",
       "    <tr>\n",
       "      <th>175</th>\n",
       "      <td>2019-08-02</td>\n",
       "      <td>A</td>\n",
       "      <td>1338</td>\n",
       "    </tr>\n",
       "    <tr>\n",
       "      <th>173</th>\n",
       "      <td>2019-08-02</td>\n",
       "      <td>B</td>\n",
       "      <td>1294</td>\n",
       "    </tr>\n",
       "    <tr>\n",
       "      <th>291</th>\n",
       "      <td>2019-08-03</td>\n",
       "      <td>A</td>\n",
       "      <td>1845</td>\n",
       "    </tr>\n",
       "  </tbody>\n",
       "</table>\n",
       "</div>"
      ],
      "text/plain": [
       "          date group  visitors\n",
       "55  2019-08-01     A       719\n",
       "66  2019-08-01     B       713\n",
       "175 2019-08-02     A      1338\n",
       "173 2019-08-02     B      1294\n",
       "291 2019-08-03     A      1845"
      ]
     },
     "execution_count": 13,
     "metadata": {},
     "output_type": "execute_result"
    }
   ],
   "source": [
    "# Сформируем агрегированные кумулятивные данные по дням для посетителей интернет-магазина\n",
    "\n",
    "cumulative_visitors = unique_dates_groups.apply(\n",
    "    lambda row: visitors[\n",
    "        (visitors['date'] <= row['date']) & (visitors['group'] == row['group'])\n",
    "    ].agg(\n",
    "        {\n",
    "            'date': 'max',\n",
    "            'group': 'max',\n",
    "            'visitors': 'sum',\n",
    "        }\n",
    "    ),\n",
    "    axis=1,\n",
    ").sort_values(by=['date', 'group'])\n",
    "\n",
    "cumulative_visitors.head(5)\n"
   ]
  },
  {
   "cell_type": "code",
   "execution_count": 14,
   "metadata": {},
   "outputs": [
    {
     "data": {
      "text/html": [
       "<div>\n",
       "<style scoped>\n",
       "    .dataframe tbody tr th:only-of-type {\n",
       "        vertical-align: middle;\n",
       "    }\n",
       "\n",
       "    .dataframe tbody tr th {\n",
       "        vertical-align: top;\n",
       "    }\n",
       "\n",
       "    .dataframe thead th {\n",
       "        text-align: right;\n",
       "    }\n",
       "</style>\n",
       "<table border=\"1\" class=\"dataframe\">\n",
       "  <thead>\n",
       "    <tr style=\"text-align: right;\">\n",
       "      <th></th>\n",
       "      <th>date</th>\n",
       "      <th>group</th>\n",
       "      <th>orders</th>\n",
       "      <th>buyers</th>\n",
       "      <th>revenue</th>\n",
       "      <th>visitors</th>\n",
       "      <th>conversion</th>\n",
       "    </tr>\n",
       "  </thead>\n",
       "  <tbody>\n",
       "    <tr>\n",
       "      <th>0</th>\n",
       "      <td>2019-08-01</td>\n",
       "      <td>A</td>\n",
       "      <td>24</td>\n",
       "      <td>20</td>\n",
       "      <td>148579</td>\n",
       "      <td>719</td>\n",
       "      <td>0.033</td>\n",
       "    </tr>\n",
       "    <tr>\n",
       "      <th>1</th>\n",
       "      <td>2019-08-01</td>\n",
       "      <td>B</td>\n",
       "      <td>21</td>\n",
       "      <td>20</td>\n",
       "      <td>101217</td>\n",
       "      <td>713</td>\n",
       "      <td>0.029</td>\n",
       "    </tr>\n",
       "    <tr>\n",
       "      <th>2</th>\n",
       "      <td>2019-08-02</td>\n",
       "      <td>A</td>\n",
       "      <td>44</td>\n",
       "      <td>38</td>\n",
       "      <td>242401</td>\n",
       "      <td>1338</td>\n",
       "      <td>0.033</td>\n",
       "    </tr>\n",
       "    <tr>\n",
       "      <th>3</th>\n",
       "      <td>2019-08-02</td>\n",
       "      <td>B</td>\n",
       "      <td>45</td>\n",
       "      <td>43</td>\n",
       "      <td>266748</td>\n",
       "      <td>1294</td>\n",
       "      <td>0.035</td>\n",
       "    </tr>\n",
       "    <tr>\n",
       "      <th>4</th>\n",
       "      <td>2019-08-03</td>\n",
       "      <td>A</td>\n",
       "      <td>68</td>\n",
       "      <td>62</td>\n",
       "      <td>354874</td>\n",
       "      <td>1845</td>\n",
       "      <td>0.037</td>\n",
       "    </tr>\n",
       "  </tbody>\n",
       "</table>\n",
       "</div>"
      ],
      "text/plain": [
       "        date group  orders  buyers  revenue  visitors  conversion\n",
       "0 2019-08-01     A      24      20   148579       719       0.033\n",
       "1 2019-08-01     B      21      20   101217       713       0.029\n",
       "2 2019-08-02     A      44      38   242401      1338       0.033\n",
       "3 2019-08-02     B      45      43   266748      1294       0.035\n",
       "4 2019-08-03     A      68      62   354874      1845       0.037"
      ]
     },
     "execution_count": 14,
     "metadata": {},
     "output_type": "execute_result"
    }
   ],
   "source": [
    "# Объединим кумулятивные данные по заказам и посетителям в одну таблицу\n",
    "\n",
    "cumulative_data = cumulative_orders.merge(\n",
    "    cumulative_visitors,\n",
    "    left_on=['date', 'group'],\n",
    "    right_on=['date', 'group']\n",
    ")\n",
    "\n",
    "cumulative_data.columns = ['date', 'group', 'orders', 'buyers', 'revenue', 'visitors']\n",
    "\n",
    "# Конверсия: отношение числа заказов к количеству посетителей\n",
    "cumulative_data['conversion'] = cumulative_data['orders'] / cumulative_data['visitors']\n",
    "\n",
    "cumulative_data.head(5)\n"
   ]
  },
  {
   "cell_type": "markdown",
   "metadata": {},
   "source": [
    "**Построим график кумулятивной выручки:**"
   ]
  },
  {
   "cell_type": "code",
   "execution_count": 15,
   "metadata": {
    "scrolled": false
   },
   "outputs": [
    {
     "data": {
      "image/png": "[encoded data removed]",
      "text/plain": [
       "<Figure size 720x576 with 1 Axes>"
      ]
     },
     "metadata": {},
     "output_type": "display_data"
    }
   ],
   "source": [
    "cumulative_revenue_a = cumulative_data[cumulative_data['group'] == 'A'][['date', 'revenue', 'orders']]\n",
    "\n",
    "cumulative_revenue_b = cumulative_data[cumulative_data['group'] == 'B'][['date', 'revenue', 'orders']]\n",
    "\n",
    "plt.plot(cumulative_revenue_a['date'], cumulative_revenue_a['revenue'], label='Группа A')\n",
    "plt.plot(cumulative_revenue_b['date'], cumulative_revenue_b['revenue'], label='Группа B')\n",
    "\n",
    "plt.title('Динамика кумулятивной выручки по группам A и B')\n",
    "plt.ylabel('Выручка, млн.')\n",
    "plt.xticks(rotation=30)\n",
    "plt.legend()\n",
    "plt.show()\n"
   ]
  },
  {
   "cell_type": "markdown",
   "metadata": {},
   "source": [
    "По графику видно, что кумулятивная выручка группы B стабильно выше группы A. В группе B наблюдается резкий скачок выручки около 18 августа, что может быть связано с крупными заказами или выбросами в данных."
   ]
  },
  {
   "cell_type": "code",
   "execution_count": 16,
   "metadata": {},
   "outputs": [
    {
     "data": {
      "image/png": "[encoded data removed]",
      "text/plain": [
       "<Figure size 720x576 with 1 Axes>"
      ]
     },
     "metadata": {},
     "output_type": "display_data"
    }
   ],
   "source": [
    "# Построение графика среднего чека по группам\n",
    "plt.plot(\n",
    "    cumulative_revenue_a['date'], \n",
    "    cumulative_revenue_a['revenue'] / cumulative_revenue_a['orders'], \n",
    "    label='Группа A'\n",
    ")\n",
    "\n",
    "plt.plot(\n",
    "    cumulative_revenue_b['date'], \n",
    "    cumulative_revenue_b['revenue'] / cumulative_revenue_b['orders'], \n",
    "    label='Группа B'\n",
    ")\n",
    "\n",
    "plt.title('Динамика кумулятивного среднего чека по группам A и B')\n",
    "plt.ylabel(\"Средний чек, млн.\")\n",
    "plt.xlabel(\"Дата\")\n",
    "plt.xticks(rotation=30)\n",
    "plt.legend()\n",
    "plt.grid(True)\n",
    "plt.show()\n"
   ]
  },
  {
   "cell_type": "markdown",
   "metadata": {},
   "source": [
    "На графике видно, что кумулятивный средний чек в группе A остается относительно стабильным после начальных колебаний, тогда как в группе B наблюдается резкий скачок 17–18 августа. Это указывает на наличие крупного заказа или выброса в данных. После скачка средний чек в группе B постепенно снижается, но остается выше, чем в группе A. "
   ]
  },
  {
   "cell_type": "code",
   "execution_count": 17,
   "metadata": {},
   "outputs": [
    {
     "data": {
      "image/png": "[encoded data removed]",
      "text/plain": [
       "<Figure size 720x576 with 1 Axes>"
      ]
     },
     "metadata": {},
     "output_type": "display_data"
    }
   ],
   "source": [
    "# Объединение данных о кумулятивной выручке и заказах для групп A и B\n",
    "cumulative_revenue_combined = cumulative_revenue_a.merge(\n",
    "    cumulative_revenue_b, \n",
    "    on='date', \n",
    "    how='left', \n",
    "    suffixes=['_a', '_b']\n",
    ")\n",
    "\n",
    "# Построение графика относительного изменения среднего чека группы B к группе A\n",
    "plt.plot(\n",
    "    cumulative_revenue_combined['date'], \n",
    "    (\n",
    "        cumulative_revenue_combined['revenue_b'] / cumulative_revenue_combined['orders_b']\n",
    "    ) /\n",
    "    (\n",
    "        cumulative_revenue_combined['revenue_a'] / cumulative_revenue_combined['orders_a']\n",
    "    ) - 1,\n",
    "    label='Относительное изменение'\n",
    ")\n",
    "\n",
    "# Добавление горизонтальной линии на уровне 0\n",
    "plt.axhline(y=0, color='red', linestyle='--')\n",
    "\n",
    "plt.title('Относительное изменение среднего чека группы B к группе A')\n",
    "plt.ylabel('Изменение, доли')\n",
    "plt.xlabel('Дата')\n",
    "plt.xticks(rotation=30)\n",
    "plt.grid(True)\n",
    "plt.show()\n"
   ]
  },
  {
   "cell_type": "markdown",
   "metadata": {},
   "source": [
    "График показывает значительные колебания относительного изменения среднего чека группы B по сравнению с группой A. Особенно заметны резкие скачки, что, вероятно, связано с выбросами или крупными заказами в группе B. "
   ]
  },
  {
   "cell_type": "code",
   "execution_count": 18,
   "metadata": {},
   "outputs": [
    {
     "data": {
      "image/png": "[encoded data removed]",
      "text/plain": [
       "<Figure size 720x576 with 1 Axes>"
      ]
     },
     "metadata": {},
     "output_type": "display_data"
    }
   ],
   "source": [
    "# Отделяем данные по группам\n",
    "cumulative_conversion_a = cumulative_data[cumulative_data['group'] == 'A']\n",
    "cumulative_conversion_b = cumulative_data[cumulative_data['group'] == 'B']\n",
    "\n",
    "# Построение графика кумулятивной конверсии\n",
    "plt.plot(\n",
    "    cumulative_conversion_a['date'], \n",
    "    cumulative_conversion_a['conversion'], \n",
    "    label='Группа A'\n",
    ")\n",
    "\n",
    "plt.plot(\n",
    "    cumulative_conversion_b['date'], \n",
    "    cumulative_conversion_b['conversion'], \n",
    "    label='Группа B'\n",
    ")\n",
    "\n",
    "plt.legend()\n",
    "plt.title('Кумулятивная конверсия по группам A и B')\n",
    "plt.xlabel('Дата')\n",
    "plt.ylabel('Конверсия')\n",
    "plt.xticks(rotation=30)\n",
    "plt.grid(True)\n",
    "plt.show()\n"
   ]
  },
  {
   "cell_type": "markdown",
   "metadata": {},
   "source": [
    "График показывает, что конверсия группы B стабильно выше, чем у группы A, начиная с первых дней эксперимента. После начальных колебаний конверсия обеих групп стабилизировалась, с явным преимуществом группы B."
   ]
  },
  {
   "cell_type": "code",
   "execution_count": 19,
   "metadata": {},
   "outputs": [
    {
     "data": {
      "image/png": "[encoded data removed]",
      "text/plain": [
       "<Figure size 720x576 with 1 Axes>"
      ]
     },
     "metadata": {},
     "output_type": "display_data"
    }
   ],
   "source": [
    "# Разделяем данные на группы A и B\n",
    "cumulative_data_a = cumulative_data[cumulative_data['group'] == 'A']\n",
    "cumulative_data_b = cumulative_data[cumulative_data['group'] == 'B']\n",
    "\n",
    "# Объединение данных о кумулятивной конверсии для групп A и B\n",
    "cumulative_conversion_comparison = (\n",
    "    cumulative_data_a[['date', 'conversion']]\n",
    "    .merge(\n",
    "        cumulative_data_b[['date', 'conversion']], \n",
    "        on='date', \n",
    "        how='left', \n",
    "        suffixes=['_a', '_b']\n",
    "    )\n",
    ")\n",
    "\n",
    "# Построение графика относительного прироста конверсии группы B относительно группы A\n",
    "plt.plot(\n",
    "    cumulative_conversion_comparison['date'], \n",
    "    cumulative_conversion_comparison['conversion_b'] / \n",
    "    cumulative_conversion_comparison['conversion_a'] - 1,\n",
    "    label='Относительный прирост'\n",
    ")\n",
    "\n",
    "plt.axhline(y=0, color='red', linestyle='--', label='Нулевой уровень')\n",
    "\n",
    "plt.title('Относительный прирост конверсии группы B относительно группы A')\n",
    "plt.ylabel('Относительное изменение, доли')\n",
    "plt.xlabel('Дата')\n",
    "plt.xticks(rotation=30)\n",
    "plt.legend()\n",
    "plt.grid(True)\n",
    "plt.show()\n"
   ]
  },
  {
   "cell_type": "markdown",
   "metadata": {},
   "source": [
    "График показывает, что в начале эксперимента наблюдались значительные колебания относительного прироста конверсии группы B по сравнению с группой A. После 5 августа прирост стабилизируется и удерживается на уровне около 15–20%. Это свидетельствует о значительном преимуществе группы B по сравнению с группой A."
   ]
  },
  {
   "cell_type": "markdown",
   "metadata": {},
   "source": [
    "Построим точечный график количества заказов по пользователям:"
   ]
  },
  {
   "cell_type": "code",
   "execution_count": 20,
   "metadata": {},
   "outputs": [
    {
     "data": {
      "text/html": [
       "<div>\n",
       "<style scoped>\n",
       "    .dataframe tbody tr th:only-of-type {\n",
       "        vertical-align: middle;\n",
       "    }\n",
       "\n",
       "    .dataframe tbody tr th {\n",
       "        vertical-align: top;\n",
       "    }\n",
       "\n",
       "    .dataframe thead th {\n",
       "        text-align: right;\n",
       "    }\n",
       "</style>\n",
       "<table border=\"1\" class=\"dataframe\">\n",
       "  <thead>\n",
       "    <tr style=\"text-align: right;\">\n",
       "      <th></th>\n",
       "      <th>visitor_id</th>\n",
       "      <th>orders</th>\n",
       "    </tr>\n",
       "  </thead>\n",
       "  <tbody>\n",
       "    <tr>\n",
       "      <th>0</th>\n",
       "      <td>5114589</td>\n",
       "      <td>1</td>\n",
       "    </tr>\n",
       "    <tr>\n",
       "      <th>1</th>\n",
       "      <td>6958315</td>\n",
       "      <td>1</td>\n",
       "    </tr>\n",
       "    <tr>\n",
       "      <th>2</th>\n",
       "      <td>8300375</td>\n",
       "      <td>2</td>\n",
       "    </tr>\n",
       "    <tr>\n",
       "      <th>3</th>\n",
       "      <td>11685486</td>\n",
       "      <td>1</td>\n",
       "    </tr>\n",
       "    <tr>\n",
       "      <th>4</th>\n",
       "      <td>39475350</td>\n",
       "      <td>1</td>\n",
       "    </tr>\n",
       "  </tbody>\n",
       "</table>\n",
       "</div>"
      ],
      "text/plain": [
       "   visitor_id  orders\n",
       "0     5114589       1\n",
       "1     6958315       1\n",
       "2     8300375       2\n",
       "3    11685486       1\n",
       "4    39475350       1"
      ]
     },
     "execution_count": 20,
     "metadata": {},
     "output_type": "execute_result"
    }
   ],
   "source": [
    "orders_per_user = orders.groupby('visitor_id', as_index=False).agg({'transaction_id': 'nunique'}) \\\n",
    "                         .rename(columns={'transaction_id': 'orders'})\n",
    "\n",
    "orders_per_user.head()"
   ]
  },
  {
   "cell_type": "code",
   "execution_count": 21,
   "metadata": {},
   "outputs": [
    {
     "data": {
      "image/png": "[encoded data removed]",
      "text/plain": [
       "<Figure size 720x576 with 1 Axes>"
      ]
     },
     "metadata": {},
     "output_type": "display_data"
    }
   ],
   "source": [
    "x_values = pd.Series(range(0, len(orders_per_user['orders'])))\n",
    "plt.scatter(x_values, orders_per_user['orders'], color='blue', alpha=0.6)\n",
    "plt.title('Количество заказов на пользователя')\n",
    "plt.xlabel('Пользователи')\n",
    "plt.ylabel('Количество заказов')\n",
    "plt.grid(True)\n",
    "plt.show()"
   ]
  },
  {
   "cell_type": "markdown",
   "metadata": {},
   "source": [
    "Большинство пользователей совершают 1–2 заказа. Однако наблюдаются выбросы — отдельные пользователи, которые совершили более 4 заказов. "
   ]
  },
  {
   "cell_type": "markdown",
   "metadata": {},
   "source": [
    "Посчитаем 95-й и 99-й перцентили количества заказов на пользователя:"
   ]
  },
  {
   "cell_type": "code",
   "execution_count": 22,
   "metadata": {},
   "outputs": [
    {
     "name": "stdout",
     "output_type": "stream",
     "text": [
      "95-й перцентиль: 2.00\n",
      "99-й перцентиль: 4.00\n"
     ]
    }
   ],
   "source": [
    "percentile_95 = np.percentile(orders_per_user['orders'], 95)\n",
    "percentile_99 = np.percentile(orders_per_user['orders'], 99)\n",
    "\n",
    "print(f'95-й перцентиль: {percentile_95:.2f}')\n",
    "print(f'99-й перцентиль: {percentile_99:.2f}')\n"
   ]
  },
  {
   "cell_type": "markdown",
   "metadata": {},
   "source": [
    "95-й перцентиль равен 2, что означает, что 95% пользователей совершают не более 2 заказов.\n",
    "99-й перцентиль равен 4, то есть только 1% пользователей совершают 4 или более заказов.\n",
    "\n",
    "Следовательно, пользователи с количеством заказов 4 и выше могут считаться аномальными и быть исключены из анализа."
   ]
  },
  {
   "cell_type": "markdown",
   "metadata": {},
   "source": [
    "**Построим точечный график стоимостей заказов:**"
   ]
  },
  {
   "cell_type": "code",
   "execution_count": 23,
   "metadata": {},
   "outputs": [
    {
     "data": {
      "image/png": "[encoded data removed]",
      "text/plain": [
       "<Figure size 720x576 with 1 Axes>"
      ]
     },
     "metadata": {},
     "output_type": "display_data"
    }
   ],
   "source": [
    "x_values = pd.Series(range(0, len(orders['revenue'])))\n",
    "plt.scatter(x_values, orders['revenue'], color='blue', alpha=0.6)\n",
    "\n",
    "plt.title('Распределение стоимости заказов')\n",
    "plt.xlabel('Индекс заказа')\n",
    "plt.ylabel('Стоимость заказа')\n",
    "plt.grid(True)\n",
    "plt.show()\n"
   ]
  },
  {
   "cell_type": "markdown",
   "metadata": {},
   "source": [
    "Большинство заказов имеют стоимость в пределах небольшой величины, однако присутствуют выбросы, включая один аномально дорогой заказ стоимостью более 1,2 млн. Эти выбросы могут существенно влиять на результаты анализа и требуют их учета для получения корректных выводов."
   ]
  },
  {
   "cell_type": "markdown",
   "metadata": {},
   "source": [
    "**Посчитаем 95-й и 99-й перцентили стоимости заказов. Выберем границу для определения аномальных заказов:**"
   ]
  },
  {
   "cell_type": "code",
   "execution_count": 24,
   "metadata": {},
   "outputs": [
    {
     "name": "stdout",
     "output_type": "stream",
     "text": [
      "95-й перцентиль стоимости заказов: 28000.00\n",
      "99-й перцентиль стоимости заказов: 58233.20\n",
      "Граница для аномальных заказов: 58233.20\n"
     ]
    }
   ],
   "source": [
    "percentile_95_revenue = np.percentile(orders['revenue'], 95)\n",
    "percentile_99_revenue = np.percentile(orders['revenue'], 99)\n",
    "\n",
    "print(f'95-й перцентиль стоимости заказов: {percentile_95_revenue:.2f}')\n",
    "print(f'99-й перцентиль стоимости заказов: {percentile_99_revenue:.2f}')\n",
    "\n",
    "# Определяем границу для аномальных заказов\n",
    "anomaly_threshold = percentile_99_revenue\n",
    "print(f'Граница для аномальных заказов: {anomaly_threshold:.2f}')\n"
   ]
  },
  {
   "cell_type": "markdown",
   "metadata": {},
   "source": [
    "**Посчитаем статистическую значимость различий в среднем количестве заказов на посетителя между группами по «сырым» данным:**"
   ]
  },
  {
   "cell_type": "markdown",
   "metadata": {},
   "source": [
    "\n",
    "    \n",
    "    Нулевая и альтернативная гипотезы:\n",
    "    \n",
    "**Нулевая гипотеза (H₀):** \n",
    "Среднее количество заказов на пользователя не отличается между группами A и B.\n",
    "\n",
    "**Альтернативная гипотеза (H₁):**\n",
    "Среднее количество заказов на пользователя отличается между группами A и B."
   ]
  },
  {
   "cell_type": "code",
   "execution_count": 25,
   "metadata": {
    "scrolled": true
   },
   "outputs": [
    {
     "name": "stdout",
     "output_type": "stream",
     "text": [
      "P-value: 0.0168\n",
      "Средняя разница в количестве заказов на пользователя: 0.0041\n",
      "Между группами есть статистически значимые различия.\n",
      "Относительный прирост конверсии группы B относительно группы A составляет: 13.81%\n"
     ]
    }
   ],
   "source": [
    "# Подготовка данных: количество заказов на пользователя по группам\n",
    "orders_by_user_a = (\n",
    "    orders[orders['group'] == 'A']\n",
    "    .groupby('visitor_id', as_index=False)\n",
    "    .agg({'transaction_id': 'nunique'})\n",
    "    .rename(columns={'transaction_id': 'orders'})\n",
    ")\n",
    "\n",
    "orders_by_user_b = (\n",
    "    orders[orders['group'] == 'B']\n",
    "    .groupby('visitor_id', as_index=False)\n",
    "    .agg({'transaction_id': 'nunique'})\n",
    "    .rename(columns={'transaction_id': 'orders'})\n",
    ")\n",
    "\n",
    "# Дополнение выборок нулями для учета пользователей, которые не сделали заказов\n",
    "sample_a = pd.concat(\n",
    "    [orders_by_user_a['orders'], \n",
    "     pd.Series(0, index=np.arange(visitors[visitors['group'] == 'A']['visitors'].sum() - len(orders_by_user_a['orders'])))],\n",
    "    axis=0\n",
    ")\n",
    "\n",
    "sample_b = pd.concat(\n",
    "    [orders_by_user_b['orders'], \n",
    "     pd.Series(0, index=np.arange(visitors[visitors['group'] == 'B']['visitors'].sum() - len(orders_by_user_b['orders'])))],\n",
    "    axis=0\n",
    ")\n",
    "\n",
    "# Применение теста Манна-Уитни\n",
    "p_value = mannwhitneyu(sample_a, sample_b, alternative='two-sided')[1]\n",
    "mean_diff = sample_b.mean() - sample_a.mean()\n",
    "\n",
    "print(f'P-value: {p_value:.4f}')\n",
    "print(f'Средняя разница в количестве заказов на пользователя: {mean_diff:.4f}')\n",
    "\n",
    "if p_value < 0.05:\n",
    "    print('Между группами есть статистически значимые различия.')\n",
    "else:\n",
    "    print('Нет статистически значимых различий между группами.')\n",
    "    \n",
    "relative_increase = sample_b.mean() / sample_a.mean() - 1\n",
    "print(f\"Относительный прирост конверсии группы B относительно группы A составляет: {relative_increase:.2%}\")\n"
   ]
  },
  {
   "cell_type": "markdown",
   "metadata": {},
   "source": [
    "Отвергаем нулевую гипотезу."
   ]
  },
  {
   "cell_type": "markdown",
   "metadata": {},
   "source": [
    "Конверсия группы B выше, и это различие является статистически значимым."
   ]
  },
  {
   "cell_type": "markdown",
   "metadata": {},
   "source": [
    "**Посчитаем статистическую значимость различий в среднем чеке заказа между группами по «сырым» данным:**"
   ]
  },
  {
   "cell_type": "code",
   "execution_count": 26,
   "metadata": {},
   "outputs": [
    {
     "name": "stdout",
     "output_type": "stream",
     "text": [
      "P-value: 0.7293\n",
      "Средняя разница в среднем чеке заказа между группами: 1897.30\n",
      "Нет статистически значимых различий в среднем чеке заказа между группами.\n"
     ]
    }
   ],
   "source": [
    "# Подготовка данных: выручка заказов для каждой группы\n",
    "revenue_a = orders[orders['group'] == 'A']['revenue']\n",
    "revenue_b = orders[orders['group'] == 'B']['revenue']\n",
    "\n",
    "# Применение критерия Манна-Уитни\n",
    "p_value = mannwhitneyu(revenue_a, revenue_b, alternative='two-sided')[1]\n",
    "mean_diff = revenue_b.mean() - revenue_a.mean()\n",
    "\n",
    "print(f'P-value: {p_value:.4f}')\n",
    "print(f'Средняя разница в среднем чеке заказа между группами: {mean_diff:.2f}')\n",
    "\n",
    "if p_value < 0.05:\n",
    "    print('Между группами есть статистически значимые различия в среднем чеке заказа.')\n",
    "else:\n",
    "    print('Нет статистически значимых различий в среднем чеке заказа между группами.')\n"
   ]
  },
  {
   "cell_type": "markdown",
   "metadata": {},
   "source": [
    "**Посчитаем статистическую значимость различий в среднем количестве заказов на посетителя между группами по «очищенным» данным:**"
   ]
  },
  {
   "cell_type": "code",
   "execution_count": 27,
   "metadata": {},
   "outputs": [
    {
     "name": "stdout",
     "output_type": "stream",
     "text": [
      "P-value (очищенные данные): 0.0138\n",
      "Средняя разница в количестве заказов на пользователя (очищенные данные): 0.0042\n",
      "Между группами есть статистически значимые различия в среднем количестве заказов на пользователя (очищенные данные).\n",
      "Относительный прирост группы B к группе A составляет: 13.81%\n"
     ]
    }
   ],
   "source": [
    "# Пороги для фильтрации аномальных пользователей\n",
    "order_threshold = np.percentile(orders_per_user['orders'], 99)  # Порог для количества заказов\n",
    "revenue_threshold = np.percentile(orders['revenue'], 99)  # Порог для стоимости заказов\n",
    "\n",
    "# Определим аномальных пользователей\n",
    "high_order_users = orders_per_user[orders_per_user['orders'] > order_threshold]['visitor_id']\n",
    "high_revenue_users = orders[orders['revenue'] > revenue_threshold]['visitor_id']\n",
    "\n",
    "outliers = pd.concat([high_order_users, high_revenue_users]).drop_duplicates()\n",
    "\n",
    "# Сформируем очищенные данные для группы A\n",
    "filtered_sample_a = pd.concat([\n",
    "    orders_by_user_a[orders_by_user_a['visitor_id'].isin(outliers) == False]['orders'],\n",
    "    pd.Series(0, index=np.arange(visitors[visitors['group'] == 'A']['visitors'].sum() - len(orders_by_user_a['orders'])))\n",
    "])\n",
    "\n",
    "# Сформируем очищенные данные для группы B\n",
    "filtered_sample_b = pd.concat([\n",
    "    orders_by_user_b[orders_by_user_b['visitor_id'].isin(outliers) == False]['orders'],\n",
    "    pd.Series(0, index=np.arange(visitors[visitors['group'] == 'B']['visitors'].sum() - len(orders_by_user_b['orders'])))\n",
    "])\n",
    "\n",
    "# Применение теста Манна-Уитни\n",
    "p_value_filtered = mannwhitneyu(filtered_sample_a, filtered_sample_b, alternative='two-sided')[1]\n",
    "mean_difference = filtered_sample_b.mean() - filtered_sample_a.mean()\n",
    "\n",
    "print(f'P-value (очищенные данные): {p_value_filtered:.4f}')\n",
    "print(f'Средняя разница в количестве заказов на пользователя (очищенные данные): {mean_difference:.4f}')\n",
    "\n",
    "if p_value_filtered < 0.05:\n",
    "    print('Между группами есть статистически значимые различия в среднем количестве заказов на пользователя (очищенные данные).')\n",
    "else:\n",
    "    print('Нет статистически значимых различий в среднем количестве заказов на пользователя между группами (очищенные данные).')\n",
    "\n",
    "# Расчет относительного прироста группы B к группе A\n",
    "relative_increase = sample_b.mean() / sample_a.mean() - 1\n",
    "print(f'Относительный прирост группы B к группе A составляет: {relative_increase:.2%}')\n"
   ]
  },
  {
   "cell_type": "markdown",
   "metadata": {},
   "source": [
    "**Посчитаем статистическую значимость различий в среднем чеке заказа между группами по «очищенным» данным:**"
   ]
  },
  {
   "cell_type": "code",
   "execution_count": 28,
   "metadata": {},
   "outputs": [
    {
     "name": "stdout",
     "output_type": "stream",
     "text": [
      "P-value (очищенные данные): 0.9575\n",
      "Нет статистически значимых различий в среднем чеке заказа между группами (очищенные данные).\n"
     ]
    }
   ],
   "source": [
    "#Сформируем очищенные данные для группы A (без аномалий)\n",
    "filtered_revenue_a = orders[\n",
    "    (orders['group'] == 'A') & \n",
    "    (orders['visitor_id'].isin(outliers) == False)\n",
    "]['revenue']\n",
    "\n",
    "# Сформируем очищенные данные для группы B (без аномалий)\n",
    "filtered_revenue_b = orders[\n",
    "    (orders['group'] == 'B') & \n",
    "    (orders['visitor_id'].isin(outliers) == False)\n",
    "]['revenue']\n",
    "\n",
    "# Применяем критерий Манна-Уитни\n",
    "p_value_filtered = mannwhitneyu(filtered_revenue_a, filtered_revenue_b, alternative='two-sided')[1]\n",
    "mean_diff_filtered = filtered_revenue_b.mean() - filtered_revenue_a.mean()\n",
    "\n",
    "print(f'P-value (очищенные данные): {p_value_filtered:.4f}')\n",
    "\n",
    "if p_value_filtered < 0.05:\n",
    "    print('Между группами есть статистически значимые различия в среднем чеке заказа (очищенные данные).')\n",
    "else:\n",
    "    print('Нет статистически значимых различий в среднем чеке заказа между группами (очищенные данные).')\n"
   ]
  },
  {
   "cell_type": "markdown",
   "metadata": {},
   "source": [
    "# Выводы и рекомендации по результатам A/B-теста\n",
    "\n",
    "**Приоритизация гипотез**\n",
    "\n",
    "- **Метод ICE**:\n",
    "  - Наивысший приоритет у гипотезы 8 (скидка на день рождения).\n",
    "  - Высокий приоритет также у гипотез 0, 7, 6 и 2.\n",
    "- **Метод RICE**:\n",
    "  - Гипотеза 7 выделена как наиболее перспективная за счет учета охвата (Reach).\n",
    "  - Порядок приоритизации других гипотез изменился по сравнению с ICE.\n",
    "- **Учет охвата** в методе RICE значительно влияет на приоритеты, что важно учитывать при выборе гипотез для реализации.\n",
    "------\n",
    "**Результаты теста по ключевым метрикам**\n",
    "\n",
    "**Выручка**\n",
    "- Кумулятивная выручка группы B стабильно выше группы A.\n",
    "- Резкий скачок около 18 августа может быть вызван крупными заказами или выбросами.\n",
    "\n",
    "**Средний чек**\n",
    "- Средний чек группы A стабилен.\n",
    "- В группе B наблюдаются скачки из-за крупных заказов.\n",
    "- После учета выбросов **статистически значимых различий** в среднем чеке между группами **не выявлено**.\n",
    "\n",
    "**Конверсия**\n",
    "- Конверсия группы B стабильно выше группы A на протяжении всего теста.\n",
    "- Относительный прирост конверсии группы B относительно группы A составляет **13.81%**.\n",
    "- **Статистически значимые различия** в конверсии подтверждены как на «сырых» данных, так и после фильтрации аномалий.\n",
    "-----\n",
    "**Рекомендация**\n",
    "\n",
    "На основании данных и анализа метрик предлагаем:\n",
    "\n",
    " - **Остановить тест и зафиксировать победу группы B** по следующим причинам:\n",
    "   - Конверсия группы B значительно выше группы A (на **13.81%**) и это различие статистически значимо.\n",
    "   - Средний чек не имеет статистически значимых различий между группами, но тестирование показало, что группа B обеспечивает стабильный рост конверсии.\n",
    "\n",
    " - Учитывая высокую конверсию группы B, **улучшения в привлечении пользователей** могут привести к значительному росту выручки.\n"
   ]
  }
 ],
 "metadata": {
  "ExecuteTimeLog": [
   {
    "duration": 1370,
    "start_time": "2024-11-28T13:30:18.009Z"
   },
   {
    "duration": 4,
    "start_time": "2024-11-28T13:30:24.013Z"
   },
   {
    "duration": 4,
    "start_time": "2024-11-28T13:31:37.176Z"
   },
   {
    "duration": 4,
    "start_time": "2024-11-28T13:31:55.581Z"
   },
   {
    "duration": 229,
    "start_time": "2024-11-28T13:32:17.287Z"
   },
   {
    "duration": 5,
    "start_time": "2024-11-28T13:36:50.421Z"
   },
   {
    "duration": 102,
    "start_time": "2024-11-28T13:37:06.122Z"
   },
   {
    "duration": 5,
    "start_time": "2024-11-28T13:37:09.879Z"
   },
   {
    "duration": 33,
    "start_time": "2024-11-28T13:37:10.777Z"
   },
   {
    "duration": 4,
    "start_time": "2024-11-28T13:41:25.919Z"
   },
   {
    "duration": 35,
    "start_time": "2024-11-28T13:41:38.941Z"
   },
   {
    "duration": 32,
    "start_time": "2024-11-28T13:42:38.913Z"
   },
   {
    "duration": 6,
    "start_time": "2024-11-28T13:46:42.625Z"
   },
   {
    "duration": 8,
    "start_time": "2024-11-28T13:48:09.698Z"
   },
   {
    "duration": 7,
    "start_time": "2024-11-28T13:48:29.525Z"
   },
   {
    "duration": 1216,
    "start_time": "2024-11-28T13:48:46.642Z"
   },
   {
    "duration": 5,
    "start_time": "2024-11-28T13:48:47.860Z"
   },
   {
    "duration": 121,
    "start_time": "2024-11-28T13:48:47.866Z"
   },
   {
    "duration": 5,
    "start_time": "2024-11-28T13:48:47.989Z"
   },
   {
    "duration": 37,
    "start_time": "2024-11-28T13:48:47.995Z"
   },
   {
    "duration": 5,
    "start_time": "2024-11-28T13:48:48.033Z"
   },
   {
    "duration": 9,
    "start_time": "2024-11-28T13:48:48.040Z"
   },
   {
    "duration": 7,
    "start_time": "2024-11-28T13:49:03.352Z"
   },
   {
    "duration": 14,
    "start_time": "2024-11-28T13:50:49.903Z"
   },
   {
    "duration": 361,
    "start_time": "2024-11-28T13:52:42.847Z"
   },
   {
    "duration": 14,
    "start_time": "2024-11-28T14:53:50.922Z"
   },
   {
    "duration": 11,
    "start_time": "2024-11-28T16:37:56.286Z"
   },
   {
    "duration": 174,
    "start_time": "2024-11-28T17:12:49.167Z"
   },
   {
    "duration": 117,
    "start_time": "2024-11-28T17:14:41.891Z"
   },
   {
    "duration": 8,
    "start_time": "2024-11-28T17:15:46.512Z"
   },
   {
    "duration": 15,
    "start_time": "2024-11-28T17:16:42.485Z"
   },
   {
    "duration": 404,
    "start_time": "2024-11-28T17:21:36.992Z"
   },
   {
    "duration": 53,
    "start_time": "2024-11-29T11:39:49.656Z"
   },
   {
    "duration": 1548,
    "start_time": "2024-11-29T11:40:25.201Z"
   },
   {
    "duration": 4,
    "start_time": "2024-11-29T11:40:26.751Z"
   },
   {
    "duration": 267,
    "start_time": "2024-11-29T11:40:26.757Z"
   },
   {
    "duration": 5,
    "start_time": "2024-11-29T11:40:27.025Z"
   },
   {
    "duration": 41,
    "start_time": "2024-11-29T11:40:27.032Z"
   },
   {
    "duration": 6,
    "start_time": "2024-11-29T11:40:27.074Z"
   },
   {
    "duration": 23,
    "start_time": "2024-11-29T11:40:27.081Z"
   },
   {
    "duration": 24,
    "start_time": "2024-11-29T11:40:27.105Z"
   },
   {
    "duration": 408,
    "start_time": "2024-11-29T11:40:27.130Z"
   },
   {
    "duration": 12,
    "start_time": "2024-11-29T11:40:27.540Z"
   },
   {
    "duration": 20,
    "start_time": "2024-11-29T11:40:27.554Z"
   },
   {
    "duration": 183,
    "start_time": "2024-11-29T11:40:27.575Z"
   },
   {
    "duration": 117,
    "start_time": "2024-11-29T11:40:27.760Z"
   },
   {
    "duration": 27,
    "start_time": "2024-11-29T11:40:27.879Z"
   },
   {
    "duration": 393,
    "start_time": "2024-11-29T11:40:27.908Z"
   },
   {
    "duration": 344,
    "start_time": "2024-11-29T11:40:28.302Z"
   },
   {
    "duration": 488,
    "start_time": "2024-11-29T14:12:59.490Z"
   },
   {
    "duration": 335,
    "start_time": "2024-11-29T14:18:01.447Z"
   },
   {
    "duration": 435,
    "start_time": "2024-11-29T15:39:18.682Z"
   },
   {
    "duration": 124,
    "start_time": "2024-11-29T15:46:13.973Z"
   },
   {
    "duration": 1210,
    "start_time": "2024-11-29T15:46:30.415Z"
   },
   {
    "duration": 5,
    "start_time": "2024-11-29T15:46:31.628Z"
   },
   {
    "duration": 118,
    "start_time": "2024-11-29T15:46:31.634Z"
   },
   {
    "duration": 6,
    "start_time": "2024-11-29T15:46:31.754Z"
   },
   {
    "duration": 44,
    "start_time": "2024-11-29T15:46:31.762Z"
   },
   {
    "duration": 20,
    "start_time": "2024-11-29T15:46:31.807Z"
   },
   {
    "duration": 13,
    "start_time": "2024-11-29T15:46:31.829Z"
   },
   {
    "duration": 24,
    "start_time": "2024-11-29T15:46:31.845Z"
   },
   {
    "duration": 418,
    "start_time": "2024-11-29T15:46:31.871Z"
   },
   {
    "duration": 12,
    "start_time": "2024-11-29T15:46:32.292Z"
   },
   {
    "duration": 23,
    "start_time": "2024-11-29T15:46:32.306Z"
   },
   {
    "duration": 192,
    "start_time": "2024-11-29T15:46:32.331Z"
   },
   {
    "duration": 132,
    "start_time": "2024-11-29T15:46:32.525Z"
   },
   {
    "duration": 16,
    "start_time": "2024-11-29T15:46:32.658Z"
   },
   {
    "duration": 422,
    "start_time": "2024-11-29T15:46:32.676Z"
   },
   {
    "duration": 329,
    "start_time": "2024-11-29T15:46:33.099Z"
   },
   {
    "duration": 399,
    "start_time": "2024-11-29T15:46:33.430Z"
   },
   {
    "duration": 349,
    "start_time": "2024-11-29T15:46:33.831Z"
   },
   {
    "duration": 136,
    "start_time": "2024-11-29T15:46:34.182Z"
   },
   {
    "duration": 444,
    "start_time": "2024-11-29T15:50:23.124Z"
   },
   {
    "duration": 418,
    "start_time": "2024-11-29T15:51:06.350Z"
   },
   {
    "duration": 13,
    "start_time": "2024-11-29T16:22:05.946Z"
   },
   {
    "duration": 281,
    "start_time": "2024-11-29T16:22:26.743Z"
   },
   {
    "duration": 196,
    "start_time": "2024-11-29T16:22:40.509Z"
   },
   {
    "duration": 47,
    "start_time": "2024-11-30T11:57:39.170Z"
   },
   {
    "duration": 1217,
    "start_time": "2024-11-30T11:57:48.600Z"
   },
   {
    "duration": 4,
    "start_time": "2024-11-30T11:57:49.818Z"
   },
   {
    "duration": 206,
    "start_time": "2024-11-30T11:57:49.824Z"
   },
   {
    "duration": 5,
    "start_time": "2024-11-30T11:57:50.031Z"
   },
   {
    "duration": 40,
    "start_time": "2024-11-30T11:57:50.038Z"
   },
   {
    "duration": 5,
    "start_time": "2024-11-30T11:57:50.080Z"
   },
   {
    "duration": 8,
    "start_time": "2024-11-30T11:57:50.087Z"
   },
   {
    "duration": 11,
    "start_time": "2024-11-30T11:57:50.096Z"
   },
   {
    "duration": 363,
    "start_time": "2024-11-30T11:57:50.109Z"
   },
   {
    "duration": 9,
    "start_time": "2024-11-30T11:57:50.473Z"
   },
   {
    "duration": 23,
    "start_time": "2024-11-30T11:57:50.483Z"
   },
   {
    "duration": 218,
    "start_time": "2024-11-30T11:57:50.507Z"
   },
   {
    "duration": 96,
    "start_time": "2024-11-30T11:57:50.727Z"
   },
   {
    "duration": 12,
    "start_time": "2024-11-30T11:57:50.826Z"
   },
   {
    "duration": 322,
    "start_time": "2024-11-30T11:57:50.839Z"
   },
   {
    "duration": 254,
    "start_time": "2024-11-30T11:57:51.170Z"
   },
   {
    "duration": 449,
    "start_time": "2024-11-30T11:57:51.425Z"
   },
   {
    "duration": 278,
    "start_time": "2024-11-30T11:57:51.875Z"
   },
   {
    "duration": 407,
    "start_time": "2024-11-30T11:57:52.154Z"
   },
   {
    "duration": 15,
    "start_time": "2024-11-30T11:57:52.562Z"
   },
   {
    "duration": 172,
    "start_time": "2024-11-30T11:57:52.578Z"
   },
   {
    "duration": 5,
    "start_time": "2024-11-30T11:57:52.751Z"
   },
   {
    "duration": 229,
    "start_time": "2024-11-30T12:07:02.160Z"
   },
   {
    "duration": 4,
    "start_time": "2024-11-30T12:13:03.259Z"
   },
   {
    "duration": 32,
    "start_time": "2024-11-30T12:18:51.094Z"
   },
   {
    "duration": 51,
    "start_time": "2024-11-30T12:24:09.766Z"
   },
   {
    "duration": 35,
    "start_time": "2024-11-30T12:27:24.475Z"
   },
   {
    "duration": 33,
    "start_time": "2024-11-30T12:28:44.290Z"
   },
   {
    "duration": 10,
    "start_time": "2024-11-30T12:30:57.853Z"
   },
   {
    "duration": 31,
    "start_time": "2024-11-30T12:42:36.126Z"
   },
   {
    "duration": 32,
    "start_time": "2024-11-30T12:45:15.489Z"
   },
   {
    "duration": 27,
    "start_time": "2024-11-30T12:45:27.511Z"
   },
   {
    "duration": 10,
    "start_time": "2024-11-30T13:06:33.460Z"
   },
   {
    "duration": 10,
    "start_time": "2024-11-30T13:08:06.062Z"
   },
   {
    "duration": 11,
    "start_time": "2024-11-30T13:08:36.466Z"
   },
   {
    "duration": 10,
    "start_time": "2024-11-30T13:09:38.228Z"
   },
   {
    "duration": 9,
    "start_time": "2024-11-30T13:10:31.884Z"
   },
   {
    "duration": 13,
    "start_time": "2024-11-30T13:24:40.666Z"
   },
   {
    "duration": 136,
    "start_time": "2024-11-30T13:26:05.033Z"
   },
   {
    "duration": 126,
    "start_time": "2024-11-30T13:26:11.761Z"
   },
   {
    "duration": 13,
    "start_time": "2024-11-30T13:26:16.273Z"
   },
   {
    "duration": 1078,
    "start_time": "2024-11-30T13:26:24.544Z"
   },
   {
    "duration": 4,
    "start_time": "2024-11-30T13:26:25.624Z"
   },
   {
    "duration": 80,
    "start_time": "2024-11-30T13:26:25.629Z"
   },
   {
    "duration": 4,
    "start_time": "2024-11-30T13:26:25.710Z"
   },
   {
    "duration": 47,
    "start_time": "2024-11-30T13:26:25.716Z"
   },
   {
    "duration": 4,
    "start_time": "2024-11-30T13:26:25.765Z"
   },
   {
    "duration": 11,
    "start_time": "2024-11-30T13:26:25.770Z"
   },
   {
    "duration": 16,
    "start_time": "2024-11-30T13:26:25.782Z"
   },
   {
    "duration": 341,
    "start_time": "2024-11-30T13:26:25.799Z"
   },
   {
    "duration": 9,
    "start_time": "2024-11-30T13:26:26.141Z"
   },
   {
    "duration": 20,
    "start_time": "2024-11-30T13:26:26.151Z"
   },
   {
    "duration": 141,
    "start_time": "2024-11-30T13:26:26.172Z"
   },
   {
    "duration": 101,
    "start_time": "2024-11-30T13:26:26.314Z"
   },
   {
    "duration": 11,
    "start_time": "2024-11-30T13:26:26.417Z"
   },
   {
    "duration": 346,
    "start_time": "2024-11-30T13:26:26.429Z"
   },
   {
    "duration": 261,
    "start_time": "2024-11-30T13:26:26.776Z"
   },
   {
    "duration": 383,
    "start_time": "2024-11-30T13:26:27.038Z"
   },
   {
    "duration": 266,
    "start_time": "2024-11-30T13:26:27.423Z"
   },
   {
    "duration": 370,
    "start_time": "2024-11-30T13:26:27.691Z"
   },
   {
    "duration": 15,
    "start_time": "2024-11-30T13:26:28.062Z"
   },
   {
    "duration": 156,
    "start_time": "2024-11-30T13:26:28.079Z"
   },
   {
    "duration": 5,
    "start_time": "2024-11-30T13:26:28.237Z"
   },
   {
    "duration": 223,
    "start_time": "2024-11-30T13:26:28.243Z"
   },
   {
    "duration": 5,
    "start_time": "2024-11-30T13:26:28.468Z"
   },
   {
    "duration": 116,
    "start_time": "2024-11-30T13:26:28.474Z"
   },
   {
    "duration": 0,
    "start_time": "2024-11-30T13:26:28.591Z"
   },
   {
    "duration": 0,
    "start_time": "2024-11-30T13:26:28.592Z"
   },
   {
    "duration": 0,
    "start_time": "2024-11-30T13:26:28.593Z"
   },
   {
    "duration": 3,
    "start_time": "2024-11-30T13:28:38.483Z"
   },
   {
    "duration": 1051,
    "start_time": "2024-11-30T13:28:53.468Z"
   },
   {
    "duration": 3,
    "start_time": "2024-11-30T13:28:54.521Z"
   },
   {
    "duration": 72,
    "start_time": "2024-11-30T13:28:54.525Z"
   },
   {
    "duration": 3,
    "start_time": "2024-11-30T13:28:54.599Z"
   },
   {
    "duration": 29,
    "start_time": "2024-11-30T13:28:54.604Z"
   },
   {
    "duration": 5,
    "start_time": "2024-11-30T13:28:54.634Z"
   },
   {
    "duration": 7,
    "start_time": "2024-11-30T13:28:54.640Z"
   },
   {
    "duration": 9,
    "start_time": "2024-11-30T13:28:54.649Z"
   },
   {
    "duration": 335,
    "start_time": "2024-11-30T13:28:54.660Z"
   },
   {
    "duration": 8,
    "start_time": "2024-11-30T13:28:54.997Z"
   },
   {
    "duration": 8,
    "start_time": "2024-11-30T13:28:55.007Z"
   },
   {
    "duration": 148,
    "start_time": "2024-11-30T13:28:55.016Z"
   },
   {
    "duration": 107,
    "start_time": "2024-11-30T13:28:55.165Z"
   },
   {
    "duration": 11,
    "start_time": "2024-11-30T13:28:55.274Z"
   },
   {
    "duration": 314,
    "start_time": "2024-11-30T13:28:55.287Z"
   },
   {
    "duration": 256,
    "start_time": "2024-11-30T13:28:55.602Z"
   },
   {
    "duration": 372,
    "start_time": "2024-11-30T13:28:55.860Z"
   },
   {
    "duration": 261,
    "start_time": "2024-11-30T13:28:56.233Z"
   },
   {
    "duration": 370,
    "start_time": "2024-11-30T13:28:56.495Z"
   },
   {
    "duration": 9,
    "start_time": "2024-11-30T13:28:56.870Z"
   },
   {
    "duration": 161,
    "start_time": "2024-11-30T13:28:56.880Z"
   },
   {
    "duration": 5,
    "start_time": "2024-11-30T13:28:57.042Z"
   },
   {
    "duration": 236,
    "start_time": "2024-11-30T13:28:57.048Z"
   },
   {
    "duration": 5,
    "start_time": "2024-11-30T13:28:57.285Z"
   },
   {
    "duration": 32,
    "start_time": "2024-11-30T13:28:57.291Z"
   },
   {
    "duration": 8,
    "start_time": "2024-11-30T13:28:57.324Z"
   },
   {
    "duration": 47,
    "start_time": "2024-11-30T13:28:57.334Z"
   },
   {
    "duration": 9,
    "start_time": "2024-11-30T13:28:57.383Z"
   },
   {
    "duration": 1396,
    "start_time": "2024-12-01T19:28:49.291Z"
   },
   {
    "duration": 4,
    "start_time": "2024-12-01T19:28:50.689Z"
   },
   {
    "duration": 249,
    "start_time": "2024-12-01T19:28:50.694Z"
   },
   {
    "duration": 4,
    "start_time": "2024-12-01T19:28:50.945Z"
   },
   {
    "duration": 64,
    "start_time": "2024-12-01T19:28:50.950Z"
   },
   {
    "duration": 6,
    "start_time": "2024-12-01T19:28:51.016Z"
   },
   {
    "duration": 35,
    "start_time": "2024-12-01T19:28:51.023Z"
   },
   {
    "duration": 26,
    "start_time": "2024-12-01T19:28:51.060Z"
   },
   {
    "duration": 386,
    "start_time": "2024-12-01T19:28:51.087Z"
   },
   {
    "duration": 11,
    "start_time": "2024-12-01T19:28:51.475Z"
   },
   {
    "duration": 24,
    "start_time": "2024-12-01T19:28:51.488Z"
   },
   {
    "duration": 160,
    "start_time": "2024-12-01T19:28:51.514Z"
   },
   {
    "duration": 132,
    "start_time": "2024-12-01T19:28:51.676Z"
   },
   {
    "duration": 16,
    "start_time": "2024-12-01T19:28:51.809Z"
   },
   {
    "duration": 506,
    "start_time": "2024-12-01T19:28:51.826Z"
   },
   {
    "duration": 318,
    "start_time": "2024-12-01T19:28:52.334Z"
   },
   {
    "duration": 459,
    "start_time": "2024-12-01T19:28:52.654Z"
   },
   {
    "duration": 318,
    "start_time": "2024-12-01T19:28:53.115Z"
   },
   {
    "duration": 438,
    "start_time": "2024-12-01T19:28:53.435Z"
   },
   {
    "duration": 14,
    "start_time": "2024-12-01T19:28:53.875Z"
   },
   {
    "duration": 227,
    "start_time": "2024-12-01T19:28:53.891Z"
   },
   {
    "duration": 5,
    "start_time": "2024-12-01T19:28:54.120Z"
   },
   {
    "duration": 277,
    "start_time": "2024-12-01T19:28:54.126Z"
   },
   {
    "duration": 5,
    "start_time": "2024-12-01T19:28:54.404Z"
   },
   {
    "duration": 53,
    "start_time": "2024-12-01T19:28:54.411Z"
   },
   {
    "duration": 9,
    "start_time": "2024-12-01T19:28:54.465Z"
   },
   {
    "duration": 51,
    "start_time": "2024-12-01T19:28:54.476Z"
   },
   {
    "duration": 22,
    "start_time": "2024-12-01T19:28:54.530Z"
   }
  ],
  "kernelspec": {
   "display_name": "Python 3 (ipykernel)",
   "language": "python",
   "name": "python3"
  },
  "language_info": {
   "codemirror_mode": {
    "name": "ipython",
    "version": 3
   },
   "file_extension": ".py",
   "mimetype": "text/x-python",
   "name": "python",
   "nbconvert_exporter": "python",
   "pygments_lexer": "ipython3",
   "version": "3.9.5"
  },
  "toc": {
   "base_numbering": 1,
   "nav_menu": {},
   "number_sections": true,
   "sideBar": true,
   "skip_h1_title": true,
   "title_cell": "Table of Contents",
   "title_sidebar": "Contents",
   "toc_cell": false,
   "toc_position": {},
   "toc_section_display": true,
   "toc_window_display": false
  }
 },
 "nbformat": 4,
 "nbformat_minor": 2
}
