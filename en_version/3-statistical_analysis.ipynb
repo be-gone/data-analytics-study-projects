{
 "cells": [
  {
   "cell_type": "markdown",
   "id": "6420594b",
   "metadata": {},
   "source": [
    "**Statistical analysis of GoFast scooter rental service mobile application data**"
   ]
  },
  {
   "cell_type": "markdown",
   "id": "5df605fc",
   "metadata": {},
   "source": [
    "Let's analyze the data obtained from the mobile application.\n",
    "\n",
    "\n",
    "The GoFast service can be used:\n",
    "\n",
    "**No subscription:**\n",
    "- there is no subscription fee;\n",
    "- the cost of one minute of a trip - 8 rubles;\n",
    "- the cost of the start (beginning of the trip) - 50 rubles;\n",
    "\n",
    "**With an Ultra subscription:**\n",
    "- subscription fee - 199 rubles per month;\n",
    "- cost of one minute of a trip - 6 rubles;\n",
    "- the cost of the start - free of charge."
   ]
  },
  {
   "cell_type": "markdown",
   "id": "43115930",
   "metadata": {},
   "source": [
    "Work plan:\n",
    "\n",
    "\n",
    "1. Data loading\n",
    "2. Data preprocessing\n",
    "3. exploratory data analysis\n",
    "4. data fusion\n",
    "5. Revenue calculation\n",
    "6. Hypothesis testing\n",
    "7. Distributions"
   ]
  },
  {
   "cell_type": "markdown",
   "id": "2d083113",
   "metadata": {},
   "source": [
    "----------------------"
   ]
  },
  {
   "cell_type": "markdown",
   "id": "770fafb2",
   "metadata": {},
   "source": [
    "Import all the libraries that will be needed for the job."
   ]
  },
  {
   "cell_type": "code",
   "execution_count": 35,
   "id": "cd61290f",
   "metadata": {},
   "outputs": [],
   "source": [
    "import pandas as pd\n",
    "import matplotlib.pyplot as plt\n",
    "import numpy as np\n",
    "from scipy import stats as st\n",
    "from scipy.stats import binom"
   ]
  },
  {
   "cell_type": "markdown",
   "id": "d00da635",
   "metadata": {},
   "source": [
    "Let's set the main variables and read data from csv files."
   ]
  },
  {
   "cell_type": "code",
   "execution_count": 36,
   "id": "971b0a4f-c5bf-4ca7-9e0a-afb4d526089a",
   "metadata": {},
   "outputs": [],
   "source": [
    "try:\n",
    "    users_go = pd.read_csv('/datasets/users_go.csv')\n",
    "    rides_go = pd.read_csv('/datasets/rides_go.csv')\n",
    "    subscriptions_go = pd.read_csv('/datasets/subscriptions_go.csv')\n",
    "\n",
    "except:\n",
    "    users_go = pd.read_csv('https://code.s3.yandex.net/datasets/users_go.csv')\n",
    "    rides_go = pd.read_csv('https://code.s3.yandex.net/datasets/rides_go.csv')\n",
    "    subscriptions_go = pd.read_csv('https://code.s3.yandex.net/datasets/subscriptions_go.csv')"
   ]
  },
  {
   "cell_type": "markdown",
   "id": "bc8fdba4",
   "metadata": {},
   "source": [
    "Let's display the first rows of the tables to familiarize ourselves with the data record format."
   ]
  },
  {
   "cell_type": "code",
   "execution_count": 37,
   "id": "460c47c1",
   "metadata": {
    "scrolled": true
   },
   "outputs": [
    {
     "data": {
      "text/plain": [
       "'Таблица users_go:'"
      ]
     },
     "metadata": {},
     "output_type": "display_data"
    },
    {
     "data": {
      "text/html": [
       "<div>\n",
       "<style scoped>\n",
       "    .dataframe tbody tr th:only-of-type {\n",
       "        vertical-align: middle;\n",
       "    }\n",
       "\n",
       "    .dataframe tbody tr th {\n",
       "        vertical-align: top;\n",
       "    }\n",
       "\n",
       "    .dataframe thead th {\n",
       "        text-align: right;\n",
       "    }\n",
       "</style>\n",
       "<table border=\"1\" class=\"dataframe\">\n",
       "  <thead>\n",
       "    <tr style=\"text-align: right;\">\n",
       "      <th></th>\n",
       "      <th>user_id</th>\n",
       "      <th>name</th>\n",
       "      <th>age</th>\n",
       "      <th>city</th>\n",
       "      <th>subscription_type</th>\n",
       "    </tr>\n",
       "  </thead>\n",
       "  <tbody>\n",
       "    <tr>\n",
       "      <th>0</th>\n",
       "      <td>1</td>\n",
       "      <td>Кира</td>\n",
       "      <td>22</td>\n",
       "      <td>Тюмень</td>\n",
       "      <td>ultra</td>\n",
       "    </tr>\n",
       "    <tr>\n",
       "      <th>1</th>\n",
       "      <td>2</td>\n",
       "      <td>Станислав</td>\n",
       "      <td>31</td>\n",
       "      <td>Омск</td>\n",
       "      <td>ultra</td>\n",
       "    </tr>\n",
       "    <tr>\n",
       "      <th>2</th>\n",
       "      <td>3</td>\n",
       "      <td>Алексей</td>\n",
       "      <td>20</td>\n",
       "      <td>Москва</td>\n",
       "      <td>ultra</td>\n",
       "    </tr>\n",
       "    <tr>\n",
       "      <th>3</th>\n",
       "      <td>4</td>\n",
       "      <td>Константин</td>\n",
       "      <td>26</td>\n",
       "      <td>Ростов-на-Дону</td>\n",
       "      <td>ultra</td>\n",
       "    </tr>\n",
       "    <tr>\n",
       "      <th>4</th>\n",
       "      <td>5</td>\n",
       "      <td>Адель</td>\n",
       "      <td>28</td>\n",
       "      <td>Омск</td>\n",
       "      <td>ultra</td>\n",
       "    </tr>\n",
       "  </tbody>\n",
       "</table>\n",
       "</div>"
      ],
      "text/plain": [
       "   user_id        name  age            city subscription_type\n",
       "0        1        Кира   22          Тюмень             ultra\n",
       "1        2   Станислав   31            Омск             ultra\n",
       "2        3     Алексей   20          Москва             ultra\n",
       "3        4  Константин   26  Ростов-на-Дону             ultra\n",
       "4        5       Адель   28            Омск             ultra"
      ]
     },
     "metadata": {},
     "output_type": "display_data"
    },
    {
     "data": {
      "text/plain": [
       "'Таблица rides_go:'"
      ]
     },
     "metadata": {},
     "output_type": "display_data"
    },
    {
     "data": {
      "text/html": [
       "<div>\n",
       "<style scoped>\n",
       "    .dataframe tbody tr th:only-of-type {\n",
       "        vertical-align: middle;\n",
       "    }\n",
       "\n",
       "    .dataframe tbody tr th {\n",
       "        vertical-align: top;\n",
       "    }\n",
       "\n",
       "    .dataframe thead th {\n",
       "        text-align: right;\n",
       "    }\n",
       "</style>\n",
       "<table border=\"1\" class=\"dataframe\">\n",
       "  <thead>\n",
       "    <tr style=\"text-align: right;\">\n",
       "      <th></th>\n",
       "      <th>user_id</th>\n",
       "      <th>distance</th>\n",
       "      <th>duration</th>\n",
       "      <th>date</th>\n",
       "    </tr>\n",
       "  </thead>\n",
       "  <tbody>\n",
       "    <tr>\n",
       "      <th>0</th>\n",
       "      <td>1</td>\n",
       "      <td>4409.919140</td>\n",
       "      <td>25.599769</td>\n",
       "      <td>2021-01-01</td>\n",
       "    </tr>\n",
       "    <tr>\n",
       "      <th>1</th>\n",
       "      <td>1</td>\n",
       "      <td>2617.592153</td>\n",
       "      <td>15.816871</td>\n",
       "      <td>2021-01-18</td>\n",
       "    </tr>\n",
       "    <tr>\n",
       "      <th>2</th>\n",
       "      <td>1</td>\n",
       "      <td>754.159807</td>\n",
       "      <td>6.232113</td>\n",
       "      <td>2021-04-20</td>\n",
       "    </tr>\n",
       "    <tr>\n",
       "      <th>3</th>\n",
       "      <td>1</td>\n",
       "      <td>2694.783254</td>\n",
       "      <td>18.511000</td>\n",
       "      <td>2021-08-11</td>\n",
       "    </tr>\n",
       "    <tr>\n",
       "      <th>4</th>\n",
       "      <td>1</td>\n",
       "      <td>4028.687306</td>\n",
       "      <td>26.265803</td>\n",
       "      <td>2021-08-28</td>\n",
       "    </tr>\n",
       "  </tbody>\n",
       "</table>\n",
       "</div>"
      ],
      "text/plain": [
       "   user_id     distance   duration        date\n",
       "0        1  4409.919140  25.599769  2021-01-01\n",
       "1        1  2617.592153  15.816871  2021-01-18\n",
       "2        1   754.159807   6.232113  2021-04-20\n",
       "3        1  2694.783254  18.511000  2021-08-11\n",
       "4        1  4028.687306  26.265803  2021-08-28"
      ]
     },
     "metadata": {},
     "output_type": "display_data"
    },
    {
     "data": {
      "text/plain": [
       "'Таблица subscriptions_go:'"
      ]
     },
     "metadata": {},
     "output_type": "display_data"
    },
    {
     "data": {
      "text/html": [
       "<div>\n",
       "<style scoped>\n",
       "    .dataframe tbody tr th:only-of-type {\n",
       "        vertical-align: middle;\n",
       "    }\n",
       "\n",
       "    .dataframe tbody tr th {\n",
       "        vertical-align: top;\n",
       "    }\n",
       "\n",
       "    .dataframe thead th {\n",
       "        text-align: right;\n",
       "    }\n",
       "</style>\n",
       "<table border=\"1\" class=\"dataframe\">\n",
       "  <thead>\n",
       "    <tr style=\"text-align: right;\">\n",
       "      <th></th>\n",
       "      <th>subscription_type</th>\n",
       "      <th>minute_price</th>\n",
       "      <th>start_ride_price</th>\n",
       "      <th>subscription_fee</th>\n",
       "    </tr>\n",
       "  </thead>\n",
       "  <tbody>\n",
       "    <tr>\n",
       "      <th>0</th>\n",
       "      <td>free</td>\n",
       "      <td>8</td>\n",
       "      <td>50</td>\n",
       "      <td>0</td>\n",
       "    </tr>\n",
       "    <tr>\n",
       "      <th>1</th>\n",
       "      <td>ultra</td>\n",
       "      <td>6</td>\n",
       "      <td>0</td>\n",
       "      <td>199</td>\n",
       "    </tr>\n",
       "  </tbody>\n",
       "</table>\n",
       "</div>"
      ],
      "text/plain": [
       "  subscription_type  minute_price  start_ride_price  subscription_fee\n",
       "0              free             8                50                 0\n",
       "1             ultra             6                 0               199"
      ]
     },
     "metadata": {},
     "output_type": "display_data"
    }
   ],
   "source": [
    "display('Таблица users_go:', users_go.head(),)\n",
    "display('Таблица rides_go:', rides_go.head(),)\n",
    "display('Таблица subscriptions_go:', subscriptions_go)\n"
   ]
  },
  {
   "cell_type": "markdown",
   "id": "75d2c802",
   "metadata": {},
   "source": [
    "Let's familiarize ourselves with general information about dataframes."
   ]
  },
  {
   "cell_type": "code",
   "execution_count": 38,
   "id": "c7f6feae",
   "metadata": {},
   "outputs": [
    {
     "name": "stdout",
     "output_type": "stream",
     "text": [
      "<class 'pandas.core.frame.DataFrame'>\n",
      "RangeIndex: 1565 entries, 0 to 1564\n",
      "Data columns (total 5 columns):\n",
      " #   Column             Non-Null Count  Dtype \n",
      "---  ------             --------------  ----- \n",
      " 0   user_id            1565 non-null   int64 \n",
      " 1   name               1565 non-null   object\n",
      " 2   age                1565 non-null   int64 \n",
      " 3   city               1565 non-null   object\n",
      " 4   subscription_type  1565 non-null   object\n",
      "dtypes: int64(2), object(3)\n",
      "memory usage: 61.3+ KB\n",
      "None\n",
      "Number of apparent duplicates in `users_go.csv` =  31\n",
      "<class 'pandas.core.frame.DataFrame'>\n",
      "RangeIndex: 18068 entries, 0 to 18067\n",
      "Data columns (total 4 columns):\n",
      " #   Column    Non-Null Count  Dtype  \n",
      "---  ------    --------------  -----  \n",
      " 0   user_id   18068 non-null  int64  \n",
      " 1   distance  18068 non-null  float64\n",
      " 2   duration  18068 non-null  float64\n",
      " 3   date      18068 non-null  object \n",
      "dtypes: float64(2), int64(1), object(1)\n",
      "memory usage: 564.8+ KB\n",
      "None\n",
      "Number of apparent duplicates in `rides_go.csv` =  0\n",
      "<class 'pandas.core.frame.DataFrame'>\n",
      "RangeIndex: 2 entries, 0 to 1\n",
      "Data columns (total 4 columns):\n",
      " #   Column             Non-Null Count  Dtype \n",
      "---  ------             --------------  ----- \n",
      " 0   subscription_type  2 non-null      object\n",
      " 1   minute_price       2 non-null      int64 \n",
      " 2   start_ride_price   2 non-null      int64 \n",
      " 3   subscription_fee   2 non-null      int64 \n",
      "dtypes: int64(3), object(1)\n",
      "memory usage: 196.0+ bytes\n",
      "None\n"
     ]
    }
   ],
   "source": [
    "print(users_go.info())\n",
    "print('Number of apparent duplicates in `users_go.csv` = ', users_go.duplicated().sum())\n",
    "print(rides_go.info())\n",
    "print('Number of apparent duplicates in `rides_go.csv` = ', rides_go.duplicated().sum())\n",
    "print(subscriptions_go.info())"
   ]
  },
  {
   "cell_type": "markdown",
   "id": "c7e05f45",
   "metadata": {},
   "source": [
    "Let's draw histograms."
   ]
  },
  {
   "cell_type": "code",
   "execution_count": 40,
   "id": "abd1119e",
   "metadata": {
    "scrolled": true
   },
   "outputs": [
    {
     "data": {
      "image/png": "[encoded data removed]",
      "text/plain": [
       "<Figure size 640x480 with 1 Axes>"
      ]
     },
     "metadata": {},
     "output_type": "display_data"
    },
    {
     "data": {
      "image/png": "[encoded data removed]",
      "text/plain": [
       "<Figure size 640x480 with 1 Axes>"
      ]
     },
     "metadata": {},
     "output_type": "display_data"
    },
    {
     "data": {
      "image/png": "[encoded data removed]",
      "text/plain": [
       "<Figure size 640x480 with 1 Axes>"
      ]
     },
     "metadata": {},
     "output_type": "display_data"
    },
    {
     "data": {
      "image/png": "[encoded data removed]",
      "text/plain": [
       "<Figure size 640x480 with 1 Axes>"
      ]
     },
     "metadata": {},
     "output_type": "display_data"
    }
   ],
   "source": [
    "plt.hist(users_go['age'], bins=100)\n",
    "plt. title('Age of users')\n",
    "plt.xlabel('Age (years)')\n",
    "plt.ylabel('Number of users')\n",
    "plt.show()\n",
    "\n",
    "plt.hist(rides_go['distance'], bins=100)\n",
    "plt. title('Travel distance')\n",
    "plt.xlabel('Distance (m)')\n",
    "plt.ylabel('Number of trips')\n",
    "plt.show()\n",
    "\n",
    "plt.hist(rides_go['duration'], bins=100)\n",
    "plt. title('Trip Duration')\n",
    "plt.xlabel('Duration (minutes)')\n",
    "plt.ylabel('Number of trips')\n",
    "plt.show()\n",
    "\n",
    "plt.hist(rides_go['date'].sort_values(), bins=len(rides_go['date'].unique()))\n",
    "plt.title('Date of travel')\n",
    "plt.xlabel('Date')\n",
    "plt.xticks(rotation=90)\n",
    "labels = ['2021-01-01', '2021-02-01', '2021-03-01', '2021-04-01', '2021-05-01', '2021-06-01', '2021-07-01', '2021-08-01', '2021-09-01', '2021-10-01', '2021-11-01', '2021-12-01', '2021-12-30'] \n",
    "x = ['2021-01-01', '2021-02-01', '2021-03-01', '2021-04-01', '2021-05-01', '2021-06-01', '2021-07-01', '2021-08-01', '2021-09-01', '2021-10-01', '2021-11-01', '2021-12-01', '2021-12-30'] \n",
    "plt.xticks(x, labels, rotation ='vertical')\n",
    "plt.ylabel('Number of trips')\n",
    "plt.show();"
   ]
  },
  {
   "cell_type": "markdown",
   "id": "d779ac97",
   "metadata": {},
   "source": [
    "From the general information about the data in the dataframes we can conclude that:\n",
    "\n",
    "\n",
    "- users_go 1565 records, no skips, the number of apparent duplicates is 31.\n",
    "- users_go 18068 records, no skips, no obvious duplicates.\n",
    "- subscriptions_go 2 records, no skips, no obvious duplicates.\n",
    "\n",
    "\n",
    "Several columns have incorrect data type. The data can be recognized as complete and sufficient for the study."
   ]
  },
  {
   "cell_type": "markdown",
   "id": "56abd33b",
   "metadata": {},
   "source": [
    "# 2. Data preprocessing"
   ]
  },
  {
   "cell_type": "markdown",
   "id": "d8cd79e6",
   "metadata": {},
   "source": [
    "Let's remove duplicates in users_go."
   ]
  },
  {
   "cell_type": "code",
   "execution_count": 7,
   "id": "bcc16102",
   "metadata": {},
   "outputs": [],
   "source": [
    "users_go = users_go.drop_duplicates()"
   ]
  },
  {
   "cell_type": "markdown",
   "id": "95a5a137",
   "metadata": {},
   "source": [
    "In rides_go, let's do the following:\n",
    "- Round the distance in meters to two decimal places.\n",
    "- Round the trip duration to integers in accordance with the refined data (section 5.2) and convert it to int.\n",
    "- Let's convert the date column to datetime64 format.\n",
    "- Create a month column containing the month number from the date column."
   ]
  },
  {
   "cell_type": "code",
   "execution_count": 41,
   "id": "2b9cb5d3",
   "metadata": {},
   "outputs": [],
   "source": [
    "rides_go['distance'] = rides_go['distance'].round(2)\n",
    "rides_go['duration'] = np.ceil(rides_go['duration']).astype('int')\n",
    "rides_go['date'] = pd.to_datetime(rides_go['date'], format='%Y-%m-%d')\n",
    "rides_go['month'] = rides_go['date'].dt.month"
   ]
  },
  {
   "cell_type": "code",
   "execution_count": 42,
   "id": "66a2f440",
   "metadata": {
    "scrolled": true
   },
   "outputs": [
    {
     "name": "stdout",
     "output_type": "stream",
     "text": [
      "Records with  2021-01-01 00:00:00  by 2021-12-30 00:00:00\n"
     ]
    }
   ],
   "source": [
    "print('Records with ', rides_go['date'].min(), ' by', rides_go['date'].max())"
   ]
  },
  {
   "cell_type": "markdown",
   "id": "81087f21",
   "metadata": {},
   "source": [
    "Results of data preprocessing:\n",
    "- removed duplicates in users_go\n",
    "\n",
    "\n",
    "The following changes were made in rides_go:\n",
    "- Rounded the distance in meters to two decimal places.\n",
    "- Rounded the trip duration to integers in accordance with the refined data (section 5.2) and converted it to int.\n",
    "- We converted the date column to datetime64 format.\n",
    "- Created a month column containing the month number from the date column.\n",
    "\n",
    "\n",
    "- The subscriptions_go column was left unchanged."
   ]
  },
  {
   "cell_type": "markdown",
   "id": "70e5010d",
   "metadata": {},
   "source": [
    "# 3. Exploratory data analysis"
   ]
  },
  {
   "cell_type": "markdown",
   "id": "69a43c36",
   "metadata": {},
   "source": [
    "**3.1 Analyze the frequency of occurrence of cities in our data sample."
   ]
  },
  {
   "cell_type": "code",
   "execution_count": 44,
   "id": "a01c19a0",
   "metadata": {},
   "outputs": [
    {
     "data": {
      "image/png": "[encoded data removed]",
      "text/plain": [
       "<Figure size 1000x500 with 1 Axes>"
      ]
     },
     "metadata": {},
     "output_type": "display_data"
    },
    {
     "name": "stdout",
     "output_type": "stream",
     "text": [
      "Number of users by city \n"
     ]
    },
    {
     "data": {
      "text/html": [
       "<div>\n",
       "<style scoped>\n",
       "    .dataframe tbody tr th:only-of-type {\n",
       "        vertical-align: middle;\n",
       "    }\n",
       "\n",
       "    .dataframe tbody tr th {\n",
       "        vertical-align: top;\n",
       "    }\n",
       "\n",
       "    .dataframe thead th {\n",
       "        text-align: right;\n",
       "    }\n",
       "</style>\n",
       "<table border=\"1\" class=\"dataframe\">\n",
       "  <thead>\n",
       "    <tr style=\"text-align: right;\">\n",
       "      <th></th>\n",
       "      <th>user_id</th>\n",
       "    </tr>\n",
       "    <tr>\n",
       "      <th>city</th>\n",
       "      <th></th>\n",
       "    </tr>\n",
       "  </thead>\n",
       "  <tbody>\n",
       "    <tr>\n",
       "      <th>Пятигорск</th>\n",
       "      <td>226</td>\n",
       "    </tr>\n",
       "    <tr>\n",
       "      <th>Екатеринбург</th>\n",
       "      <td>206</td>\n",
       "    </tr>\n",
       "    <tr>\n",
       "      <th>Ростов-на-Дону</th>\n",
       "      <td>202</td>\n",
       "    </tr>\n",
       "    <tr>\n",
       "      <th>Краснодар</th>\n",
       "      <td>196</td>\n",
       "    </tr>\n",
       "    <tr>\n",
       "      <th>Сочи</th>\n",
       "      <td>192</td>\n",
       "    </tr>\n",
       "    <tr>\n",
       "      <th>Омск</th>\n",
       "      <td>186</td>\n",
       "    </tr>\n",
       "    <tr>\n",
       "      <th>Тюмень</th>\n",
       "      <td>185</td>\n",
       "    </tr>\n",
       "    <tr>\n",
       "      <th>Москва</th>\n",
       "      <td>172</td>\n",
       "    </tr>\n",
       "  </tbody>\n",
       "</table>\n",
       "</div>"
      ],
      "text/plain": [
       "                user_id\n",
       "city                   \n",
       "Пятигорск           226\n",
       "Екатеринбург        206\n",
       "Ростов-на-Дону      202\n",
       "Краснодар           196\n",
       "Сочи                192\n",
       "Омск                186\n",
       "Тюмень              185\n",
       "Москва              172"
      ]
     },
     "execution_count": 44,
     "metadata": {},
     "output_type": "execute_result"
    }
   ],
   "source": [
    "(\n",
    "    users_go.pivot_table(index='city', values='user_id', aggfunc='count').sort_values(by='user_id', ascending=True)\n",
    "    .plot(kind='barh', figsize=(10, 5))\n",
    ")\n",
    "plt. title('Number of users by city')\n",
    "plt.xlabel('Number of users')\n",
    "plt.ylabel('City')\n",
    "\n",
    "plt.show()\n",
    "print('Number of users by city ')\n",
    "users_go.pivot_table(index='city', values='user_id', aggfunc='count').sort_values(by='user_id', ascending=False)"
   ]
  },
  {
   "cell_type": "markdown",
   "id": "ba1b4d4f",
   "metadata": {},
   "source": [
    "According to the graph, we can conclude that Pyatigorsk is in the lead in terms of the number of users of the app, followed by Yekaterinburg and Rostov-on-Don. Despite the potentially larger number of users, Moscow is only on the eighth position - this may be due to increased competition from other scooter rental companies. Yekaterinburg, the only city out of the five that is not located in the south, is also in the top five. The leadership of southern cities in the number of scooter rental users can be explained by a longer summer period."
   ]
  },
  {
   "cell_type": "markdown",
   "id": "f666a8cb",
   "metadata": {},
   "source": [
    "**3.2 Let's look at the ratio of subscribed and unsubscribed users.**"
   ]
  },
  {
   "cell_type": "markdown",
   "id": "f8e47483",
   "metadata": {},
   "source": [
    "A pie-chart would be the clearest way to build a pie-chart:"
   ]
  },
  {
   "cell_type": "code",
   "execution_count": 46,
   "id": "fde56b63",
   "metadata": {
    "scrolled": true
   },
   "outputs": [
    {
     "data": {
      "image/png": "[encoded data removed]",
      "text/plain": [
       "<Figure size 500x500 with 1 Axes>"
      ]
     },
     "metadata": {},
     "output_type": "display_data"
    }
   ],
   "source": [
    "(\n",
    "    users_go.pivot_table(index='subscription_type', values='user_id', aggfunc='count')\n",
    "    .plot.pie(y='user_id', figsize=(5,5),  label='',  # Remove the y-axis caption\n",
    "    autopct='%1.1f%%', startangle=45, \n",
    "    title='Ratio of unsubscribed (free) and subscribed (ultra) users, to total number of users', \n",
    "    legend=False)  # Disable the legend\n",
    ")\n",
    "plt.axis('equal')\n",
    "plt.show()"
   ]
  },
  {
   "cell_type": "markdown",
   "id": "e6b419b6",
   "metadata": {},
   "source": [
    "More users use the free version of the subscription: 54.4% vs. 45.6% who use the paid subscription."
   ]
  },
  {
   "cell_type": "markdown",
   "id": "0666b0fa",
   "metadata": {},
   "source": [
    "**3.3 Analyze the age of the users of the application**"
   ]
  },
  {
   "cell_type": "code",
   "execution_count": 47,
   "id": "d73748b7",
   "metadata": {
    "scrolled": true
   },
   "outputs": [
    {
     "data": {
      "image/png": "[encoded data removed]",
      "text/plain": [
       "<Figure size 1000x500 with 1 Axes>"
      ]
     },
     "metadata": {},
     "output_type": "display_data"
    }
   ],
   "source": [
    "(\n",
    "    users_go.pivot_table(index='age', values='user_id', aggfunc='count').sort_values(by='age', ascending=True)\n",
    "    .plot(kind='bar', figsize=(10, 5), rot=0)  # Rotate the X-axis marks\n",
    ")\n",
    "plt. title('Number of users by age')\n",
    "plt.xlabel('Age')\n",
    "plt.ylabel('Number of users')\n",
    "plt.show()\n"
   ]
  },
  {
   "cell_type": "code",
   "execution_count": 48,
   "id": "778e5de3",
   "metadata": {
    "scrolled": true
   },
   "outputs": [
    {
     "name": "stdout",
     "output_type": "stream",
     "text": [
      "Average age of users 24.9\n"
     ]
    },
    {
     "data": {
      "text/plain": [
       "count    1565.000000\n",
       "mean       24.922045\n",
       "std         4.553496\n",
       "min        12.000000\n",
       "25%        22.000000\n",
       "50%        25.000000\n",
       "75%        28.000000\n",
       "max        43.000000\n",
       "Name: age, dtype: float64"
      ]
     },
     "execution_count": 48,
     "metadata": {},
     "output_type": "execute_result"
    }
   ],
   "source": [
    "print('Average age of users', users_go['age'].mean().round(1))\n",
    "users_go['age'].describe()"
   ]
  },
  {
   "cell_type": "markdown",
   "id": "73e540fc",
   "metadata": {},
   "source": [
    "The graph of the distribution of the number of users by age shows that the average age of users of the service obeys a normal distribution with a median of about 25 years."
   ]
  },
  {
   "cell_type": "markdown",
   "id": "c22da163",
   "metadata": {},
   "source": [
    "**3.4 Estimate the distance traveled by the user in one trip."
   ]
  },
  {
   "cell_type": "code",
   "execution_count": 49,
   "id": "930052e2",
   "metadata": {},
   "outputs": [
    {
     "data": {
      "text/plain": [
       "count    18068.000000\n",
       "mean      3070.659992\n",
       "std       1116.831222\n",
       "min          0.860000\n",
       "25%       2543.227500\n",
       "50%       3133.610000\n",
       "75%       3776.220000\n",
       "max       7211.010000\n",
       "Name: distance, dtype: float64"
      ]
     },
     "execution_count": 49,
     "metadata": {},
     "output_type": "execute_result"
    }
   ],
   "source": [
    "rides_go['distance'].describe()"
   ]
  },
  {
   "cell_type": "code",
   "execution_count": 50,
   "id": "8011bc9f",
   "metadata": {},
   "outputs": [
    {
     "data": {
      "image/png": "[encoded data removed]",
      "text/plain": [
       "<Figure size 640x480 with 1 Axes>"
      ]
     },
     "metadata": {},
     "output_type": "display_data"
    }
   ],
   "source": [
    "plt.hist(rides_go['distance'], bins=300, range=(1,7211))\n",
    "plt. title('Number of trips depending on travel distance')\n",
    "plt.xlabel('Distance(m)')\n",
    "plt.ylabel('Number of trips')\n",
    "plt.show()"
   ]
  },
  {
   "cell_type": "markdown",
   "id": "3bf4f96b",
   "metadata": {},
   "source": [
    "- Most trips have distances between 2,000 and 4,000 meters. The distribution peaks at about 3000 meters, where the number of trips reaches a maximum (about 250).\n",
    "- Very short trips (less than 1000 meters) are less frequent, but their number is still noticeable.\n",
    "- After the peak at 3000 meters, the number of trips steadily decreases, although trips up to 5000 meters are still relatively frequent.\n",
    "- The median is 3133.61 meters. This is close to the mean value, indicating that the distribution is symmetrical around the mean value.\n",
    "- The standard deviation is 1116.83 meters, indicating a significant spread of values. This can be seen in the graph: although the main cluster of trips is centered around 3000 meters, the data is spread over a wide range of distances.\n"
   ]
  },
  {
   "cell_type": "markdown",
   "id": "70711c04",
   "metadata": {},
   "source": [
    "The first peak can most likely be explained by a scooter use scenario in which the user needs to quickly get, for example, from the subway or bus stop to work - usually such distances do not exceed 1km. The second peak is a usage scenario in which the scooter is the main means of transportation from point A to point B."
   ]
  },
  {
   "cell_type": "markdown",
   "id": "af45e522",
   "metadata": {},
   "source": [
    "**3.5 Let's analyze the travel time**"
   ]
  },
  {
   "cell_type": "code",
   "execution_count": 51,
   "id": "402685b8",
   "metadata": {},
   "outputs": [
    {
     "data": {
      "text/plain": [
       "count    18068.000000\n",
       "mean        18.303520\n",
       "std          6.094928\n",
       "min          1.000000\n",
       "25%         14.000000\n",
       "50%         18.000000\n",
       "75%         22.000000\n",
       "max         41.000000\n",
       "Name: duration, dtype: float64"
      ]
     },
     "execution_count": 51,
     "metadata": {},
     "output_type": "execute_result"
    }
   ],
   "source": [
    "rides_go['duration'].describe()"
   ]
  },
  {
   "cell_type": "code",
   "execution_count": 52,
   "id": "6816253f",
   "metadata": {
    "scrolled": true
   },
   "outputs": [
    {
     "data": {
      "image/png": "[encoded data removed]",
      "text/plain": [
       "<Figure size 640x480 with 1 Axes>"
      ]
     },
     "metadata": {},
     "output_type": "display_data"
    }
   ],
   "source": [
    "plt.hist(rides_go['duration'], bins=41, range=(1,41))\n",
    "plt. title('Number of trips by duration')\n",
    "plt.xlabel('Trip duration(minutes)')\n",
    "plt.ylabel('Number of trips')\n",
    "plt.show()"
   ]
  },
  {
   "cell_type": "markdown",
   "id": "f3e51d1e",
   "metadata": {},
   "source": [
    "- The average trip duration is 18.5 minutes. This value on the graph is close to the peak of the distribution.\n",
    "- The standard deviation is 6.09 minutes, indicating a moderate variation in the data. Although most of the trips are centered around the mean, the graph shows a noticeable number of trips with both shorter and longer durations.\n",
    "- The histogram shows about a hundred trips of about a minute in length, possibly users who unlocked the scooter but didn't go anywhere."
   ]
  },
  {
   "cell_type": "markdown",
   "id": "a220b07c",
   "metadata": {},
   "source": [
    "Results of the research data analysis:\n",
    "- According to the visualization data, we can conclude that the leader in terms of the number of scooter rental users is Pyatigorsk, followed by Yekaterinburg and Rostov-on-Don. Despite the fact that Moscow potentially has a large number of users, it occupies only the eighth position, which may be due to the high competition in the scooter rental market from other companies.\n",
    "An interesting observation is the fact that Ekaterinburg is the only city in the top five that is not located in the south of Russia. The dominance of southern cities can be explained by the longer summer season, which increases the length of time favorable for scooter use.\n",
    "- The data also shows that more users prefer the free version of the subscription - 54.4% vs. 45.6% using a paid subscription. This may indicate that many users either do not see the need for a paid subscription, or are just starting to use the service and are not ready to pay for services immediately.\n",
    "- The distribution of users by age obeys a normal distribution. The average age of scooter rental users is about 25 years old, and this value coincides with the median, indicating that the distribution is symmetrical.\n",
    "- Most trips are between 2000 and 4000 meters long, with a peak at 3000 meters, where the number of trips reaches a maximum of about 250. This means that most users choose medium length trips. The median trip distance is 3133.61 meters, which is very close to the mean value. This indicates that the distribution of the data is relatively symmetrical around the mean.\n",
    "- The average trip duration is 18.5 minutes, which also corresponds to a peak in the distribution graph. The graph also contains trips with a minimum duration of about one minute. This could mean that some users unlocked the scooter but did not make a trip for some reason, which could lead to such short time entries."
   ]
  },
  {
   "cell_type": "markdown",
   "id": "07c17b54",
   "metadata": {},
   "source": [
    "# 4. Data merging"
   ]
  },
  {
   "cell_type": "markdown",
   "id": "3ea71cdc",
   "metadata": {},
   "source": [
    "**4.1 Combine user, trip and subscription data into one dataframe."
   ]
  },
  {
   "cell_type": "code",
   "execution_count": 18,
   "id": "3f80d0fa",
   "metadata": {},
   "outputs": [],
   "source": [
    "df = pd.merge(users_go, subscriptions_go, on='subscription_type')\n",
    "df = pd.merge(rides_go, df, on='user_id')"
   ]
  },
  {
   "cell_type": "code",
   "execution_count": 53,
   "id": "024c9c66",
   "metadata": {
    "scrolled": true
   },
   "outputs": [
    {
     "name": "stdout",
     "output_type": "stream",
     "text": [
      "Number of apparent duplicates in `df` = 0 \n",
      "\n",
      "<class 'pandas.core.frame.DataFrame'>\n",
      "RangeIndex: 18068 entries, 0 to 18067\n",
      "Data columns (total 12 columns):\n",
      " #   Column             Non-Null Count  Dtype         \n",
      "---  ------             --------------  -----         \n",
      " 0   user_id            18068 non-null  int64         \n",
      " 1   distance           18068 non-null  float64       \n",
      " 2   duration           18068 non-null  int32         \n",
      " 3   date               18068 non-null  datetime64[ns]\n",
      " 4   month              18068 non-null  int32         \n",
      " 5   name               18068 non-null  object        \n",
      " 6   age                18068 non-null  int64         \n",
      " 7   city               18068 non-null  object        \n",
      " 8   subscription_type  18068 non-null  object        \n",
      " 9   minute_price       18068 non-null  int64         \n",
      " 10  start_ride_price   18068 non-null  int64         \n",
      " 11  subscription_fee   18068 non-null  int64         \n",
      "dtypes: datetime64[ns](1), float64(1), int32(2), int64(5), object(3)\n",
      "memory usage: 1.5+ MB\n"
     ]
    }
   ],
   "source": [
    "print('Number of apparent duplicates in `df` =', df.duplicated().sum(), '\\n')\n",
    "df.info()"
   ]
  },
  {
   "cell_type": "code",
   "execution_count": 54,
   "id": "63719174",
   "metadata": {
    "scrolled": true
   },
   "outputs": [
    {
     "data": {
      "text/html": [
       "<div>\n",
       "<style scoped>\n",
       "    .dataframe tbody tr th:only-of-type {\n",
       "        vertical-align: middle;\n",
       "    }\n",
       "\n",
       "    .dataframe tbody tr th {\n",
       "        vertical-align: top;\n",
       "    }\n",
       "\n",
       "    .dataframe thead th {\n",
       "        text-align: right;\n",
       "    }\n",
       "</style>\n",
       "<table border=\"1\" class=\"dataframe\">\n",
       "  <thead>\n",
       "    <tr style=\"text-align: right;\">\n",
       "      <th></th>\n",
       "      <th>user_id</th>\n",
       "      <th>distance</th>\n",
       "      <th>duration</th>\n",
       "      <th>date</th>\n",
       "      <th>month</th>\n",
       "      <th>name</th>\n",
       "      <th>age</th>\n",
       "      <th>city</th>\n",
       "      <th>subscription_type</th>\n",
       "      <th>minute_price</th>\n",
       "      <th>start_ride_price</th>\n",
       "      <th>subscription_fee</th>\n",
       "    </tr>\n",
       "  </thead>\n",
       "  <tbody>\n",
       "    <tr>\n",
       "      <th>0</th>\n",
       "      <td>1</td>\n",
       "      <td>4409.92</td>\n",
       "      <td>26</td>\n",
       "      <td>2021-01-01</td>\n",
       "      <td>1</td>\n",
       "      <td>Кира</td>\n",
       "      <td>22</td>\n",
       "      <td>Тюмень</td>\n",
       "      <td>ultra</td>\n",
       "      <td>6</td>\n",
       "      <td>0</td>\n",
       "      <td>199</td>\n",
       "    </tr>\n",
       "    <tr>\n",
       "      <th>1</th>\n",
       "      <td>1</td>\n",
       "      <td>2617.59</td>\n",
       "      <td>16</td>\n",
       "      <td>2021-01-18</td>\n",
       "      <td>1</td>\n",
       "      <td>Кира</td>\n",
       "      <td>22</td>\n",
       "      <td>Тюмень</td>\n",
       "      <td>ultra</td>\n",
       "      <td>6</td>\n",
       "      <td>0</td>\n",
       "      <td>199</td>\n",
       "    </tr>\n",
       "    <tr>\n",
       "      <th>2</th>\n",
       "      <td>1</td>\n",
       "      <td>754.16</td>\n",
       "      <td>7</td>\n",
       "      <td>2021-04-20</td>\n",
       "      <td>4</td>\n",
       "      <td>Кира</td>\n",
       "      <td>22</td>\n",
       "      <td>Тюмень</td>\n",
       "      <td>ultra</td>\n",
       "      <td>6</td>\n",
       "      <td>0</td>\n",
       "      <td>199</td>\n",
       "    </tr>\n",
       "    <tr>\n",
       "      <th>3</th>\n",
       "      <td>1</td>\n",
       "      <td>2694.78</td>\n",
       "      <td>19</td>\n",
       "      <td>2021-08-11</td>\n",
       "      <td>8</td>\n",
       "      <td>Кира</td>\n",
       "      <td>22</td>\n",
       "      <td>Тюмень</td>\n",
       "      <td>ultra</td>\n",
       "      <td>6</td>\n",
       "      <td>0</td>\n",
       "      <td>199</td>\n",
       "    </tr>\n",
       "    <tr>\n",
       "      <th>4</th>\n",
       "      <td>1</td>\n",
       "      <td>4028.69</td>\n",
       "      <td>27</td>\n",
       "      <td>2021-08-28</td>\n",
       "      <td>8</td>\n",
       "      <td>Кира</td>\n",
       "      <td>22</td>\n",
       "      <td>Тюмень</td>\n",
       "      <td>ultra</td>\n",
       "      <td>6</td>\n",
       "      <td>0</td>\n",
       "      <td>199</td>\n",
       "    </tr>\n",
       "  </tbody>\n",
       "</table>\n",
       "</div>"
      ],
      "text/plain": [
       "   user_id  distance  duration       date  month  name  age    city  \\\n",
       "0        1   4409.92        26 2021-01-01      1  Кира   22  Тюмень   \n",
       "1        1   2617.59        16 2021-01-18      1  Кира   22  Тюмень   \n",
       "2        1    754.16         7 2021-04-20      4  Кира   22  Тюмень   \n",
       "3        1   2694.78        19 2021-08-11      8  Кира   22  Тюмень   \n",
       "4        1   4028.69        27 2021-08-28      8  Кира   22  Тюмень   \n",
       "\n",
       "  subscription_type  minute_price  start_ride_price  subscription_fee  \n",
       "0             ultra             6                 0               199  \n",
       "1             ultra             6                 0               199  \n",
       "2             ultra             6                 0               199  \n",
       "3             ultra             6                 0               199  \n",
       "4             ultra             6                 0               199  "
      ]
     },
     "execution_count": 54,
     "metadata": {},
     "output_type": "execute_result"
    }
   ],
   "source": [
    "df.head()\n"
   ]
  },
  {
   "cell_type": "markdown",
   "id": "4d3fb43c",
   "metadata": {},
   "source": [
    "We have merged two tables:\n",
    "- First, we merged users_go and subscriptions_go by subscription_type column. This merged the user data with the subscription information associated with each subscription type.\n",
    "- We then merged the result with the rides_go table using the user_id column, which merged the trip information with the user profiles and subscriptions.\n",
    "- After merging, a check for obvious duplicates was performed. The result showed that the number of duplicates is zero, which indicates that the data merge is correct and there are no duplicate records.\n",
    "\n",
    "\n",
    "Bottom line:\n",
    "As a result of the merge, all the required data has been collected into a single dataframe.\n",
    "The dataframe is ready for further analysis because:\n",
    "- It is free of omissions and duplicates.\n",
    "- Data formats are brought to the correct state.\n",
    "- The total data volume is 18068 records, which is sufficient for statistical calculations and visualizations.\n"
   ]
  },
  {
   "cell_type": "markdown",
   "id": "c00b96a3",
   "metadata": {},
   "source": [
    "**4.2 Create two dataframes: one with data about subscribed and one without subscription.**"
   ]
  },
  {
   "cell_type": "code",
   "execution_count": 55,
   "id": "4c038b02",
   "metadata": {},
   "outputs": [
    {
     "data": {
      "text/html": [
       "<div>\n",
       "<style scoped>\n",
       "    .dataframe tbody tr th:only-of-type {\n",
       "        vertical-align: middle;\n",
       "    }\n",
       "\n",
       "    .dataframe tbody tr th {\n",
       "        vertical-align: top;\n",
       "    }\n",
       "\n",
       "    .dataframe thead th {\n",
       "        text-align: right;\n",
       "    }\n",
       "</style>\n",
       "<table border=\"1\" class=\"dataframe\">\n",
       "  <thead>\n",
       "    <tr style=\"text-align: right;\">\n",
       "      <th></th>\n",
       "      <th>user_id</th>\n",
       "      <th>distance</th>\n",
       "      <th>duration</th>\n",
       "      <th>date</th>\n",
       "      <th>month</th>\n",
       "      <th>name</th>\n",
       "      <th>age</th>\n",
       "      <th>city</th>\n",
       "      <th>subscription_type</th>\n",
       "      <th>minute_price</th>\n",
       "      <th>start_ride_price</th>\n",
       "      <th>subscription_fee</th>\n",
       "    </tr>\n",
       "  </thead>\n",
       "  <tbody>\n",
       "    <tr>\n",
       "      <th>6500</th>\n",
       "      <td>700</td>\n",
       "      <td>2515.69</td>\n",
       "      <td>15</td>\n",
       "      <td>2021-01-02</td>\n",
       "      <td>1</td>\n",
       "      <td>Айдар</td>\n",
       "      <td>22</td>\n",
       "      <td>Омск</td>\n",
       "      <td>free</td>\n",
       "      <td>8</td>\n",
       "      <td>50</td>\n",
       "      <td>0</td>\n",
       "    </tr>\n",
       "    <tr>\n",
       "      <th>6501</th>\n",
       "      <td>700</td>\n",
       "      <td>846.93</td>\n",
       "      <td>17</td>\n",
       "      <td>2021-02-01</td>\n",
       "      <td>2</td>\n",
       "      <td>Айдар</td>\n",
       "      <td>22</td>\n",
       "      <td>Омск</td>\n",
       "      <td>free</td>\n",
       "      <td>8</td>\n",
       "      <td>50</td>\n",
       "      <td>0</td>\n",
       "    </tr>\n",
       "    <tr>\n",
       "      <th>6502</th>\n",
       "      <td>700</td>\n",
       "      <td>4004.43</td>\n",
       "      <td>21</td>\n",
       "      <td>2021-02-04</td>\n",
       "      <td>2</td>\n",
       "      <td>Айдар</td>\n",
       "      <td>22</td>\n",
       "      <td>Омск</td>\n",
       "      <td>free</td>\n",
       "      <td>8</td>\n",
       "      <td>50</td>\n",
       "      <td>0</td>\n",
       "    </tr>\n",
       "    <tr>\n",
       "      <th>6503</th>\n",
       "      <td>700</td>\n",
       "      <td>1205.91</td>\n",
       "      <td>10</td>\n",
       "      <td>2021-02-10</td>\n",
       "      <td>2</td>\n",
       "      <td>Айдар</td>\n",
       "      <td>22</td>\n",
       "      <td>Омск</td>\n",
       "      <td>free</td>\n",
       "      <td>8</td>\n",
       "      <td>50</td>\n",
       "      <td>0</td>\n",
       "    </tr>\n",
       "    <tr>\n",
       "      <th>6504</th>\n",
       "      <td>700</td>\n",
       "      <td>3047.38</td>\n",
       "      <td>18</td>\n",
       "      <td>2021-02-14</td>\n",
       "      <td>2</td>\n",
       "      <td>Айдар</td>\n",
       "      <td>22</td>\n",
       "      <td>Омск</td>\n",
       "      <td>free</td>\n",
       "      <td>8</td>\n",
       "      <td>50</td>\n",
       "      <td>0</td>\n",
       "    </tr>\n",
       "  </tbody>\n",
       "</table>\n",
       "</div>"
      ],
      "text/plain": [
       "      user_id  distance  duration       date  month   name  age  city  \\\n",
       "6500      700   2515.69        15 2021-01-02      1  Айдар   22  Омск   \n",
       "6501      700    846.93        17 2021-02-01      2  Айдар   22  Омск   \n",
       "6502      700   4004.43        21 2021-02-04      2  Айдар   22  Омск   \n",
       "6503      700   1205.91        10 2021-02-10      2  Айдар   22  Омск   \n",
       "6504      700   3047.38        18 2021-02-14      2  Айдар   22  Омск   \n",
       "\n",
       "     subscription_type  minute_price  start_ride_price  subscription_fee  \n",
       "6500              free             8                50                 0  \n",
       "6501              free             8                50                 0  \n",
       "6502              free             8                50                 0  \n",
       "6503              free             8                50                 0  \n",
       "6504              free             8                50                 0  "
      ]
     },
     "execution_count": 55,
     "metadata": {},
     "output_type": "execute_result"
    }
   ],
   "source": [
    "df_free = df[df['subscription_type'] == 'free']\n",
    "df_free.head()"
   ]
  },
  {
   "cell_type": "code",
   "execution_count": 56,
   "id": "641373ee",
   "metadata": {},
   "outputs": [
    {
     "data": {
      "text/html": [
       "<div>\n",
       "<style scoped>\n",
       "    .dataframe tbody tr th:only-of-type {\n",
       "        vertical-align: middle;\n",
       "    }\n",
       "\n",
       "    .dataframe tbody tr th {\n",
       "        vertical-align: top;\n",
       "    }\n",
       "\n",
       "    .dataframe thead th {\n",
       "        text-align: right;\n",
       "    }\n",
       "</style>\n",
       "<table border=\"1\" class=\"dataframe\">\n",
       "  <thead>\n",
       "    <tr style=\"text-align: right;\">\n",
       "      <th></th>\n",
       "      <th>user_id</th>\n",
       "      <th>distance</th>\n",
       "      <th>duration</th>\n",
       "      <th>date</th>\n",
       "      <th>month</th>\n",
       "      <th>name</th>\n",
       "      <th>age</th>\n",
       "      <th>city</th>\n",
       "      <th>subscription_type</th>\n",
       "      <th>minute_price</th>\n",
       "      <th>start_ride_price</th>\n",
       "      <th>subscription_fee</th>\n",
       "    </tr>\n",
       "  </thead>\n",
       "  <tbody>\n",
       "    <tr>\n",
       "      <th>0</th>\n",
       "      <td>1</td>\n",
       "      <td>4409.92</td>\n",
       "      <td>26</td>\n",
       "      <td>2021-01-01</td>\n",
       "      <td>1</td>\n",
       "      <td>Кира</td>\n",
       "      <td>22</td>\n",
       "      <td>Тюмень</td>\n",
       "      <td>ultra</td>\n",
       "      <td>6</td>\n",
       "      <td>0</td>\n",
       "      <td>199</td>\n",
       "    </tr>\n",
       "    <tr>\n",
       "      <th>1</th>\n",
       "      <td>1</td>\n",
       "      <td>2617.59</td>\n",
       "      <td>16</td>\n",
       "      <td>2021-01-18</td>\n",
       "      <td>1</td>\n",
       "      <td>Кира</td>\n",
       "      <td>22</td>\n",
       "      <td>Тюмень</td>\n",
       "      <td>ultra</td>\n",
       "      <td>6</td>\n",
       "      <td>0</td>\n",
       "      <td>199</td>\n",
       "    </tr>\n",
       "    <tr>\n",
       "      <th>2</th>\n",
       "      <td>1</td>\n",
       "      <td>754.16</td>\n",
       "      <td>7</td>\n",
       "      <td>2021-04-20</td>\n",
       "      <td>4</td>\n",
       "      <td>Кира</td>\n",
       "      <td>22</td>\n",
       "      <td>Тюмень</td>\n",
       "      <td>ultra</td>\n",
       "      <td>6</td>\n",
       "      <td>0</td>\n",
       "      <td>199</td>\n",
       "    </tr>\n",
       "    <tr>\n",
       "      <th>3</th>\n",
       "      <td>1</td>\n",
       "      <td>2694.78</td>\n",
       "      <td>19</td>\n",
       "      <td>2021-08-11</td>\n",
       "      <td>8</td>\n",
       "      <td>Кира</td>\n",
       "      <td>22</td>\n",
       "      <td>Тюмень</td>\n",
       "      <td>ultra</td>\n",
       "      <td>6</td>\n",
       "      <td>0</td>\n",
       "      <td>199</td>\n",
       "    </tr>\n",
       "    <tr>\n",
       "      <th>4</th>\n",
       "      <td>1</td>\n",
       "      <td>4028.69</td>\n",
       "      <td>27</td>\n",
       "      <td>2021-08-28</td>\n",
       "      <td>8</td>\n",
       "      <td>Кира</td>\n",
       "      <td>22</td>\n",
       "      <td>Тюмень</td>\n",
       "      <td>ultra</td>\n",
       "      <td>6</td>\n",
       "      <td>0</td>\n",
       "      <td>199</td>\n",
       "    </tr>\n",
       "  </tbody>\n",
       "</table>\n",
       "</div>"
      ],
      "text/plain": [
       "   user_id  distance  duration       date  month  name  age    city  \\\n",
       "0        1   4409.92        26 2021-01-01      1  Кира   22  Тюмень   \n",
       "1        1   2617.59        16 2021-01-18      1  Кира   22  Тюмень   \n",
       "2        1    754.16         7 2021-04-20      4  Кира   22  Тюмень   \n",
       "3        1   2694.78        19 2021-08-11      8  Кира   22  Тюмень   \n",
       "4        1   4028.69        27 2021-08-28      8  Кира   22  Тюмень   \n",
       "\n",
       "  subscription_type  minute_price  start_ride_price  subscription_fee  \n",
       "0             ultra             6                 0               199  \n",
       "1             ultra             6                 0               199  \n",
       "2             ultra             6                 0               199  \n",
       "3             ultra             6                 0               199  \n",
       "4             ultra             6                 0               199  "
      ]
     },
     "execution_count": 56,
     "metadata": {},
     "output_type": "execute_result"
    }
   ],
   "source": [
    "df_ultra = df[df['subscription_type'] == 'ultra']\n",
    "df_ultra.head()"
   ]
  },
  {
   "cell_type": "code",
   "execution_count": 57,
   "id": "c6e448b9",
   "metadata": {},
   "outputs": [
    {
     "name": "stdout",
     "output_type": "stream",
     "text": [
      "Dataframe separation was successful\n"
     ]
    }
   ],
   "source": [
    "total_length = len(df_free) + len(df_ultra)\n",
    "df_length = len(df)\n",
    "\n",
    "if df_length == total_length:\n",
    "    print('Dataframe separation was successful')\n",
    "else:\n",
    "    print('Dataframe separation failed with errors')"
   ]
  },
  {
   "cell_type": "markdown",
   "id": "3045360c",
   "metadata": {},
   "source": [
    "**4.3 Visualize distance and travel time information for users of both categories.**\n"
   ]
  },
  {
   "cell_type": "code",
   "execution_count": 58,
   "id": "c8c92644",
   "metadata": {},
   "outputs": [
    {
     "data": {
      "image/png": "[encoded data removed]",
      "text/plain": [
       "<Figure size 640x480 with 1 Axes>"
      ]
     },
     "metadata": {},
     "output_type": "display_data"
    }
   ],
   "source": [
    "plt.hist([df_free['distance'], df_ultra['distance']], bins=50, range=(1, 6000), label=['free', 'ultra'])\n",
    "plt.legend()\n",
    "plt. title('Number of trips as a function of distance')\n",
    "plt.xlabel('Distance (m)')\n",
    "plt.ylabel('Number of trips')\n",
    "plt.show()"
   ]
  },
  {
   "cell_type": "code",
   "execution_count": 59,
   "id": "1146c0f6",
   "metadata": {},
   "outputs": [
    {
     "data": {
      "image/png": "[encoded data removed]",
      "text/plain": [
       "<Figure size 640x480 with 1 Axes>"
      ]
     },
     "metadata": {},
     "output_type": "display_data"
    }
   ],
   "source": [
    "plt.hist([df_free['duration'], df_ultra['duration']], bins=20, range=(1,40), label=['free', 'ultra'])\n",
    "plt.legend()\n",
    "plt. title('Number of trips by distance')\n",
    "plt.xlabel('trip duration (minutes)')\n",
    "plt.ylabel('Number of trips')\n",
    "plt.show()"
   ]
  },
  {
   "cell_type": "code",
   "execution_count": 60,
   "id": "9603cf51",
   "metadata": {
    "scrolled": true
   },
   "outputs": [
    {
     "data": {
      "text/plain": [
       "count    11568.000000\n",
       "mean      3045.495284\n",
       "std       1246.173810\n",
       "min          0.860000\n",
       "25%       2366.560000\n",
       "50%       3114.650000\n",
       "75%       3905.695000\n",
       "max       7211.010000\n",
       "Name: distance, dtype: float64"
      ]
     },
     "execution_count": 60,
     "metadata": {},
     "output_type": "execute_result"
    }
   ],
   "source": [
    "df_free['distance'].describe()"
   ]
  },
  {
   "cell_type": "code",
   "execution_count": 61,
   "id": "4038edd5",
   "metadata": {
    "scrolled": true
   },
   "outputs": [
    {
     "data": {
      "text/plain": [
       "count    6500.000000\n",
       "mean     3115.445431\n",
       "std       836.895369\n",
       "min       244.210000\n",
       "25%      2785.447500\n",
       "50%      3148.640000\n",
       "75%      3560.577500\n",
       "max      5699.770000\n",
       "Name: distance, dtype: float64"
      ]
     },
     "execution_count": 61,
     "metadata": {},
     "output_type": "execute_result"
    }
   ],
   "source": [
    "df_ultra['distance'].describe()\n"
   ]
  },
  {
   "cell_type": "code",
   "execution_count": 62,
   "id": "34b50040",
   "metadata": {},
   "outputs": [
    {
     "data": {
      "text/plain": [
       "count    11568.000000\n",
       "mean        17.890992\n",
       "std          6.330250\n",
       "min          1.000000\n",
       "25%         13.000000\n",
       "50%         18.000000\n",
       "75%         22.000000\n",
       "max         35.000000\n",
       "Name: duration, dtype: float64"
      ]
     },
     "execution_count": 62,
     "metadata": {},
     "output_type": "execute_result"
    }
   ],
   "source": [
    "df_free['duration'].describe()\n"
   ]
  },
  {
   "cell_type": "code",
   "execution_count": 63,
   "id": "c2e89641",
   "metadata": {
    "scrolled": true
   },
   "outputs": [
    {
     "data": {
      "text/plain": [
       "count    6500.000000\n",
       "mean       19.037692\n",
       "std         5.577439\n",
       "min         4.000000\n",
       "25%        15.000000\n",
       "50%        19.000000\n",
       "75%        22.000000\n",
       "max        41.000000\n",
       "Name: duration, dtype: float64"
      ]
     },
     "execution_count": 63,
     "metadata": {},
     "output_type": "execute_result"
    }
   ],
   "source": [
    "df_ultra['duration'].describe()\n"
   ]
  },
  {
   "cell_type": "markdown",
   "id": "20f686ad",
   "metadata": {},
   "source": [
    "*Conclusion on combining and visualizing user data with free and ultra subscriptions:*"
   ]
  },
  {
   "cell_type": "markdown",
   "id": "a2aace56",
   "metadata": {},
   "source": [
    "- Although the average distances traveled by Free and Ultra users are similar, Free users show greater variability, sometimes traveling significantly longer distances.\n",
    "- Ultra users tend to travel more constant and moderate distances, with fewer emissions than Free users.\n",
    "- Ultra users on average have longer trips with less variability in duration. The difference between their mean and median is smaller, indicating less variability.\n",
    "- Free users show a wider range in trip duration, with a greater number of both short and long trips.\n",
    "\n",
    "\n",
    "Thus, the type of subscription has an impact on both distance and length of trips."
   ]
  },
  {
   "cell_type": "markdown",
   "id": "37442a78",
   "metadata": {},
   "source": [
    "# 5. Revenue calculation"
   ]
  },
  {
   "cell_type": "markdown",
   "id": "5799d98b",
   "metadata": {},
   "source": [
    "**5.1 Create a dataframe with aggregated travel data based on the dataframe with aggregated data from step 4: find the total distance, number of trips, and total time for each user for each month.**"
   ]
  },
  {
   "cell_type": "code",
   "execution_count": 64,
   "id": "346396b9",
   "metadata": {},
   "outputs": [
    {
     "data": {
      "text/html": [
       "<div>\n",
       "<style scoped>\n",
       "    .dataframe tbody tr th:only-of-type {\n",
       "        vertical-align: middle;\n",
       "    }\n",
       "\n",
       "    .dataframe tbody tr th {\n",
       "        vertical-align: top;\n",
       "    }\n",
       "\n",
       "    .dataframe thead th {\n",
       "        text-align: right;\n",
       "    }\n",
       "</style>\n",
       "<table border=\"1\" class=\"dataframe\">\n",
       "  <thead>\n",
       "    <tr style=\"text-align: right;\">\n",
       "      <th></th>\n",
       "      <th></th>\n",
       "      <th></th>\n",
       "      <th>count</th>\n",
       "      <th>distance</th>\n",
       "      <th>duration</th>\n",
       "      <th>minute_price</th>\n",
       "      <th>start_ride_price</th>\n",
       "      <th>subscription_fee</th>\n",
       "    </tr>\n",
       "    <tr>\n",
       "      <th>user_id</th>\n",
       "      <th>month</th>\n",
       "      <th>subscription_type</th>\n",
       "      <th></th>\n",
       "      <th></th>\n",
       "      <th></th>\n",
       "      <th></th>\n",
       "      <th></th>\n",
       "      <th></th>\n",
       "    </tr>\n",
       "  </thead>\n",
       "  <tbody>\n",
       "    <tr>\n",
       "      <th rowspan=\"5\" valign=\"top\">1</th>\n",
       "      <th>1</th>\n",
       "      <th>ultra</th>\n",
       "      <td>2</td>\n",
       "      <td>7027.51</td>\n",
       "      <td>42</td>\n",
       "      <td>6.0</td>\n",
       "      <td>0.0</td>\n",
       "      <td>199.0</td>\n",
       "    </tr>\n",
       "    <tr>\n",
       "      <th>4</th>\n",
       "      <th>ultra</th>\n",
       "      <td>1</td>\n",
       "      <td>754.16</td>\n",
       "      <td>7</td>\n",
       "      <td>6.0</td>\n",
       "      <td>0.0</td>\n",
       "      <td>199.0</td>\n",
       "    </tr>\n",
       "    <tr>\n",
       "      <th>8</th>\n",
       "      <th>ultra</th>\n",
       "      <td>2</td>\n",
       "      <td>6723.47</td>\n",
       "      <td>46</td>\n",
       "      <td>6.0</td>\n",
       "      <td>0.0</td>\n",
       "      <td>199.0</td>\n",
       "    </tr>\n",
       "    <tr>\n",
       "      <th>10</th>\n",
       "      <th>ultra</th>\n",
       "      <td>2</td>\n",
       "      <td>5809.91</td>\n",
       "      <td>32</td>\n",
       "      <td>6.0</td>\n",
       "      <td>0.0</td>\n",
       "      <td>199.0</td>\n",
       "    </tr>\n",
       "    <tr>\n",
       "      <th>11</th>\n",
       "      <th>ultra</th>\n",
       "      <td>3</td>\n",
       "      <td>7003.50</td>\n",
       "      <td>56</td>\n",
       "      <td>6.0</td>\n",
       "      <td>0.0</td>\n",
       "      <td>199.0</td>\n",
       "    </tr>\n",
       "  </tbody>\n",
       "</table>\n",
       "</div>"
      ],
      "text/plain": [
       "                                 count  distance  duration  minute_price  \\\n",
       "user_id month subscription_type                                            \n",
       "1       1     ultra                  2   7027.51        42           6.0   \n",
       "        4     ultra                  1    754.16         7           6.0   \n",
       "        8     ultra                  2   6723.47        46           6.0   \n",
       "        10    ultra                  2   5809.91        32           6.0   \n",
       "        11    ultra                  3   7003.50        56           6.0   \n",
       "\n",
       "                                 start_ride_price  subscription_fee  \n",
       "user_id month subscription_type                                      \n",
       "1       1     ultra                           0.0             199.0  \n",
       "        4     ultra                           0.0             199.0  \n",
       "        8     ultra                           0.0             199.0  \n",
       "        10    ultra                           0.0             199.0  \n",
       "        11    ultra                           0.0             199.0  "
      ]
     },
     "execution_count": 64,
     "metadata": {},
     "output_type": "execute_result"
    }
   ],
   "source": [
    "revenue = df.pivot_table(\n",
    "    index=('user_id', 'month', 'subscription_type'),  # Add subscription_type to the index\n",
    "    values=(\n",
    "        'distance', \n",
    "        'duration', \n",
    "        'minute_price', \n",
    "        'start_ride_price', \n",
    "        'subscription_fee'\n",
    "    ), \n",
    "    aggfunc={\n",
    "        'distance': {'count', 'sum'}, \n",
    "        'duration': 'sum',\n",
    "        'minute_price': 'mean',\n",
    "        'start_ride_price': 'mean',\n",
    "        'subscription_fee': 'mean'\n",
    "    }\n",
    ")\n",
    "\n",
    "revenue.columns = [\n",
    "    'count', 'distance', \n",
    "    'duration', \n",
    "    'minute_price',\n",
    "    'start_ride_price', \n",
    "    'subscription_fee'\n",
    "]\n",
    "\n",
    "revenue.head()\n"
   ]
  },
  {
   "cell_type": "markdown",
   "id": "6dc4d382",
   "metadata": {},
   "source": [
    "**5.2 In the same dataframe, let's add a column with the monthly revenue that each user brought in.**"
   ]
  },
  {
   "cell_type": "code",
   "execution_count": 65,
   "id": "95d5162f",
   "metadata": {},
   "outputs": [
    {
     "name": "stdout",
     "output_type": "stream",
     "text": [
      "Записи с  2021-01-01 00:00:00 по 2021-12-30 00:00:00\n",
      "Выручка за 2021 год: 3878641.0 рублей.\n"
     ]
    }
   ],
   "source": [
    "revenue['revenue'] = (\n",
    "revenue['start_ride_price']*revenue['count']+\n",
    "revenue['minute_price']*revenue['duration']+\n",
    "revenue['subscription_fee'])\n",
    "\n",
    "print('Записи с ', df['date'].min(), 'по', df['date'].max())\n",
    "print ('Выручка за 2021 год:',revenue['revenue'].sum(), 'рублей.')"
   ]
  },
  {
   "cell_type": "markdown",
   "id": "37fae82f",
   "metadata": {},
   "source": [
    "The annual revenue of the scooter rental service \"GoFast\" amounted to 3,878,641 rubles."
   ]
  },
  {
   "cell_type": "markdown",
   "id": "bed4fbe0",
   "metadata": {},
   "source": [
    "# 6. Hypothesis testing"
   ]
  },
  {
   "cell_type": "markdown",
   "id": "5050c7a2",
   "metadata": {},
   "source": [
    "**6.1 Let's test whether users with a subscription spend more time traveling.\n",
    "\n",
    "\n",
    "Let's formulate the following hypotheses:\n",
    "\n",
    "\n",
    "- H0: The average duration of subscription trips is equal to the average duration of non-subscription trips.\n",
    "\n",
    "\n",
    "- H1: The average duration of subscription trips is greater than the average duration of non-subscription trips.\n",
    "\n",
    "\n",
    "To test these hypotheses, we use the raw data on the duration of each session, dividing them into subscription and non-subscription user groups."
   ]
  },
  {
   "cell_type": "code",
   "execution_count": 66,
   "id": "c63acb78",
   "metadata": {},
   "outputs": [
    {
     "name": "stdout",
     "output_type": "stream",
     "text": [
      "2.4959453720736625e-34\n",
      "Rejecting the null hypothesis.\n"
     ]
    }
   ],
   "source": [
    "p_value = st.ttest_ind(df_ultra['duration'], df_free['duration'], equal_var=True, alternative='greater').pvalue\n",
    "print(p_value)\n",
    "\n",
    "# Testing the hypothesis\n",
    "if p_value < 0.05:\n",
    "    print('Rejecting the null hypothesis.')\n",
    "else:\n",
    "    print('Do not reject the null hypothesis.')"
   ]
  },
  {
   "cell_type": "markdown",
   "id": "bcf5dcea",
   "metadata": {},
   "source": [
    "**Conclusion**: Since the p-value is significantly less than the significance level of α = 0.05, we reject the null hypothesis. This means that the average duration of trips with subscription is statistically significantly higher than the average duration of trips without subscription."
   ]
  },
  {
   "cell_type": "markdown",
   "id": "30ae0ef8",
   "metadata": {},
   "source": [
    "**6.2 Let's check whether the average distance of one trip of users with subscriptions exceeds 3130 meters, which is optimal in terms of scooter wear and tear.**"
   ]
  },
  {
   "cell_type": "markdown",
   "id": "d4aeb0d9",
   "metadata": {},
   "source": [
    "Let us formulate the following hypotheses:\n",
    "- H0: The average distance per trip of users with Ultra subscription is equal to the optimal value of 3130 meters.\n",
    "- H1: The average distance per trip of users with Ultra subscription exceeds the optimal value of 3130 meters.\n",
    "\n",
    "\n",
    "Let's check the hyotheses:"
   ]
  },
  {
   "cell_type": "code",
   "execution_count": 67,
   "id": "222ed721",
   "metadata": {
    "scrolled": true
   },
   "outputs": [
    {
     "name": "stdout",
     "output_type": "stream",
     "text": [
      "P-value: 0.9195362605842414\n",
      "Do not reject the null hypothesis\n"
     ]
    }
   ],
   "source": [
    "optimal_distance = 3130\n",
    "alpha = 0.05\n",
    "\n",
    "p_value = st.ttest_1samp(df_ultra['distance'], optimal_distance, alternative='greater').pvalue\n",
    "print(f\"P-value: {p_value}\")\n",
    "\n",
    "# Проверяем гипотезу\n",
    "if p_value < alpha:\n",
    "    print('Rejecting the null hypothesis')\n",
    "else:\n",
    "    print('Do not reject the null hypothesis')"
   ]
  },
  {
   "cell_type": "markdown",
   "id": "8f3520e3",
   "metadata": {},
   "source": [
    "**Conclusion:**\n",
    "Since the obtained p-value (0.9195) is significantly higher than the significance level of α = 0.05, we cannot reject the null hypothesis. This means that based on the presented data, there is no statistically significant evidence that the average distance per trip of users with Ultra subscription exceeds the optimal value of 3130 meters."
   ]
  },
  {
   "cell_type": "markdown",
   "id": "e95a25a5",
   "metadata": {},
   "source": [
    "**6.3 Let's test the hypothesis of whether the monthly revenue from users with subscriptions will be higher by month than the revenue from users without subscriptions.** **"
   ]
  },
  {
   "cell_type": "markdown",
   "id": "586c6e63",
   "metadata": {},
   "source": [
    "Let's formulate the following hypotheses:\n",
    "- H0: The average monthly revenue from users with subscription is equal to the average monthly revenue from users without subscription.\n",
    "\n",
    "\n",
    "- H1: The average monthly revenue from subscribed users exceeds the average monthly revenue from non-subscribed users."
   ]
  },
  {
   "cell_type": "code",
   "execution_count": 68,
   "id": "7e32b1a2",
   "metadata": {},
   "outputs": [
    {
     "name": "stdout",
     "output_type": "stream",
     "text": [
      "P-value: 1.8850e-31\n",
      "Rejecting the null hypothesis.\n"
     ]
    }
   ],
   "source": [
    "alpha = 0.05\n",
    "\n",
    "revenue_with_sub = revenue[revenue['subscription_fee'] > 0]['revenue']\n",
    "revenue_without_sub = revenue[revenue['subscription_fee'] == 0]['revenue']\n",
    "\n",
    "t_stat, p_value = st.ttest_ind(revenue_with_sub, revenue_without_sub, equal_var=True, alternative='greater')\n",
    "\n",
    "print(f\"P-value: {p_value:.4e}\")\n",
    "\n",
    "# Testing the hypothesis\n",
    "if p_value < alpha:\n",
    "    print('Rejecting the null hypothesis.')\n",
    "else:\n",
    "    print('Do not reject the null hypothesis.')\n"
   ]
  },
  {
   "cell_type": "markdown",
   "id": "52bd70ff",
   "metadata": {},
   "source": [
    "**Conclusion**: Since the obtained p-value is significantly less than the significance level of α = 0.05, we reject the null hypothesis. This indicates that there is a statistically significant difference in the monthly average revenue between users with and without subscription.\n",
    "\n",
    "\n",
    "The average monthly revenue from subscribed users is significantly higher than the average monthly revenue from non-subscribed users."
   ]
  },
  {
   "cell_type": "markdown",
   "id": "99f694e5",
   "metadata": {},
   "source": [
    "**6.4. Let's analyze a situation: the technical team of the service has updated the servers with which the mobile application interacts. They hope that because of this the number of calls to technical support has significantly decreased. Some file contains data for each user about the number of calls before and after the update. What test would you need to test this hypothesis?"
   ]
  },
  {
   "cell_type": "markdown",
   "id": "22546f17",
   "metadata": {},
   "source": [
    "To test the hypothesis that server upgrades led to a significant decrease in the number of support calls, a paired t-test (t-test for dependent samples) should be used.\n",
    "If the same variable is measured twice for the same users and the samples are equal in size, the scipy.stats.ttest_rel() method can be used."
   ]
  },
  {
   "cell_type": "markdown",
   "id": "d5be6045",
   "metadata": {},
   "source": [
    "**General Conclusions**:"
   ]
  },
  {
   "cell_type": "markdown",
   "id": "3b6de753",
   "metadata": {},
   "source": [
    "- The graph showing the distribution of the number of users by city shows that Pyatigorsk leads in the number of users of the app, followed by Yekaterinburg and Rostov-on-Don. Despite its potentially larger population, Moscow ranks only eighth, possibly due to high competition among rental companies. In the top five, Ekaterinburg stands out as the only city not located in the south of Russia. The predominance of southern cities can be explained by the longer summer period, which increases the use of scooters.\n",
    "- We found that more users use the free version of the subscription: 54.4% vs. 45.6% of paid users.\n",
    "- The graph of user age distribution showed that the average age of the application users is normally distributed, with a median of about 25 years old."
   ]
  },
  {
   "cell_type": "markdown",
   "id": "2e9740a6",
   "metadata": {},
   "source": [
    "Analyzing the number of trips as a function of distance showed the following:\n",
    "- Most trips are between 2000 and 4000 meters, with the highest number around 3000 meters.\n",
    "- Short trips (less than 1000 meters) are less frequent, but their number is noticeable.\n",
    "- Long trips after 3000 meters become less frequent, although up to 5000 meters are still quite common.\n",
    "- The average trip distance is about 3134 meters, which shows an even distribution.\n",
    "- The variety of trips is large: most are around 3000 meters, but there are both significantly shorter and longer trips."
   ]
  },
  {
   "cell_type": "markdown",
   "id": "a932560e",
   "metadata": {},
   "source": [
    "- The average trip duration is 18.5 minutes, which also corresponds to the peak in the distribution graph. The graph also contains trips with a minimum duration of about one minute. This could mean that some users unlocked the scooter but did not make a trip for some reason, which could lead to such short time entries."
   ]
  },
  {
   "cell_type": "markdown",
   "id": "fc515ab3",
   "metadata": {},
   "source": [
    "The type of subscription has been shown to have an impact on both distance and length of trips:\n",
    "- Although the average distances traveled by Free and Ultra users are similar, Free fare users show greater variability, sometimes traveling significantly longer distances.\n",
    "- Ultra users tend to travel more constant and moderate distances, with fewer emissions than Free users.\n",
    "- Ultra users on average have longer trips with less variability in duration. The difference between their mean and median is smaller, indicating less variability.\n",
    "- Free fare users show a wider range in trip duration, with more both short and long trips."
   ]
  },
  {
   "cell_type": "markdown",
   "id": "9055a07e",
   "metadata": {},
   "source": [
    "The annual revenue of the scooter rental service \"GoFast\" amounted to 3,878,641 rubles."
   ]
  },
  {
   "cell_type": "markdown",
   "id": "68103551",
   "metadata": {},
   "source": [
    "Based on the results of hypothesis testing, the following can be concluded:\n",
    "- Users with subscription make longer trips on average than those without subscription.\n",
    "- The average trip distance of subscribers does not exceed the optimal 3,130 meters.\n",
    "- Subscribers generate more monthly revenue than non-subscribers."
   ]
  },
  {
   "cell_type": "markdown",
   "id": "9b3a71e4",
   "metadata": {},
   "source": [
    "As a bottom line, it can be argued that users with subscriptions are more valuable to the scooter rental service."
   ]
  },
  {
   "cell_type": "code",
   "execution_count": null,
   "id": "948026d4-7ad6-4425-93a7-e9bb6e3eb2a2",
   "metadata": {},
   "outputs": [],
   "source": []
  }
 ],
 "metadata": {
  "ExecuteTimeLog": [
   {
    "duration": 1166,
    "start_time": "2024-09-15T15:03:09.851Z"
   },
   {
    "duration": 301,
    "start_time": "2024-09-15T15:03:11.500Z"
   },
   {
    "duration": 13,
    "start_time": "2024-09-15T15:03:12.604Z"
   },
   {
    "duration": 28,
    "start_time": "2024-09-15T15:09:23.068Z"
   },
   {
    "duration": 55,
    "start_time": "2024-09-15T15:10:26.418Z"
   },
   {
    "duration": 4708,
    "start_time": "2024-09-15T15:10:32.969Z"
   },
   {
    "duration": 606,
    "start_time": "2024-09-15T15:12:42.250Z"
   },
   {
    "duration": 723,
    "start_time": "2024-09-15T15:14:07.881Z"
   },
   {
    "duration": 610,
    "start_time": "2024-09-15T15:24:54.510Z"
   },
   {
    "duration": 53,
    "start_time": "2024-09-16T10:12:49.780Z"
   },
   {
    "duration": 1362,
    "start_time": "2024-09-16T10:13:07.695Z"
   },
   {
    "duration": 287,
    "start_time": "2024-09-16T10:13:09.059Z"
   },
   {
    "duration": 14,
    "start_time": "2024-09-16T10:13:10.681Z"
   },
   {
    "duration": 33,
    "start_time": "2024-09-16T10:13:12.306Z"
   },
   {
    "duration": 1955,
    "start_time": "2024-09-16T10:13:16.967Z"
   },
   {
    "duration": 1945,
    "start_time": "2024-09-16T10:14:00.189Z"
   },
   {
    "duration": 6,
    "start_time": "2024-09-16T10:28:55.488Z"
   },
   {
    "duration": 13,
    "start_time": "2024-09-16T10:34:09.327Z"
   },
   {
    "duration": 5,
    "start_time": "2024-09-16T10:34:24.829Z"
   },
   {
    "duration": 200,
    "start_time": "2024-09-16T10:40:38.121Z"
   },
   {
    "duration": 182,
    "start_time": "2024-09-16T10:42:15.974Z"
   },
   {
    "duration": 191,
    "start_time": "2024-09-16T10:42:46.559Z"
   },
   {
    "duration": 192,
    "start_time": "2024-09-16T10:54:37.583Z"
   },
   {
    "duration": 198,
    "start_time": "2024-09-16T10:57:33.858Z"
   },
   {
    "duration": 350,
    "start_time": "2024-09-16T10:57:42.090Z"
   },
   {
    "duration": 164,
    "start_time": "2024-09-16T10:57:57.594Z"
   },
   {
    "duration": 165,
    "start_time": "2024-09-16T10:59:22.707Z"
   },
   {
    "duration": 338,
    "start_time": "2024-09-16T11:25:00.986Z"
   },
   {
    "duration": 10,
    "start_time": "2024-09-16T11:25:28.199Z"
   },
   {
    "duration": 331,
    "start_time": "2024-09-16T11:25:54.433Z"
   },
   {
    "duration": 333,
    "start_time": "2024-09-16T11:26:01.445Z"
   },
   {
    "duration": 309,
    "start_time": "2024-09-16T11:26:08.451Z"
   },
   {
    "duration": 415,
    "start_time": "2024-09-16T11:26:17.581Z"
   },
   {
    "duration": 8,
    "start_time": "2024-09-16T11:29:08.963Z"
   },
   {
    "duration": 763,
    "start_time": "2024-09-16T11:29:41.219Z"
   },
   {
    "duration": 889,
    "start_time": "2024-09-16T11:29:57.469Z"
   },
   {
    "duration": 525,
    "start_time": "2024-09-16T11:30:08.468Z"
   },
   {
    "duration": 522,
    "start_time": "2024-09-16T11:39:44.125Z"
   },
   {
    "duration": 408,
    "start_time": "2024-09-16T11:39:54.005Z"
   },
   {
    "duration": 1557,
    "start_time": "2024-09-16T11:40:02.520Z"
   },
   {
    "duration": 1561,
    "start_time": "2024-09-16T11:40:12.265Z"
   },
   {
    "duration": 8,
    "start_time": "2024-09-16T11:41:48.169Z"
   },
   {
    "duration": 195,
    "start_time": "2024-09-16T11:41:55.903Z"
   },
   {
    "duration": 206,
    "start_time": "2024-09-16T11:42:11.793Z"
   },
   {
    "duration": 209,
    "start_time": "2024-09-16T11:42:28.380Z"
   },
   {
    "duration": 201,
    "start_time": "2024-09-16T11:42:56.770Z"
   },
   {
    "duration": 436,
    "start_time": "2024-09-16T11:43:15.027Z"
   },
   {
    "duration": 66,
    "start_time": "2024-09-16T11:59:51.527Z"
   },
   {
    "duration": 16,
    "start_time": "2024-09-16T12:00:25.041Z"
   },
   {
    "duration": 36,
    "start_time": "2024-09-16T12:00:34.021Z"
   },
   {
    "duration": 14,
    "start_time": "2024-09-16T12:00:55.173Z"
   },
   {
    "duration": 22,
    "start_time": "2024-09-16T12:42:23.787Z"
   },
   {
    "duration": 16,
    "start_time": "2024-09-16T12:42:32.438Z"
   },
   {
    "duration": 118,
    "start_time": "2024-09-16T12:43:19.859Z"
   },
   {
    "duration": 4,
    "start_time": "2024-09-16T12:45:04.116Z"
   },
   {
    "duration": 5,
    "start_time": "2024-09-16T12:46:13.469Z"
   },
   {
    "duration": 283,
    "start_time": "2024-09-16T12:47:05.179Z"
   },
   {
    "duration": 544,
    "start_time": "2024-09-16T12:47:14.994Z"
   },
   {
    "duration": 287,
    "start_time": "2024-09-16T12:47:30.578Z"
   },
   {
    "duration": 293,
    "start_time": "2024-09-16T12:47:45.954Z"
   },
   {
    "duration": 381,
    "start_time": "2024-09-16T12:47:56.956Z"
   },
   {
    "duration": 292,
    "start_time": "2024-09-16T12:48:04.730Z"
   },
   {
    "duration": 457,
    "start_time": "2024-09-16T12:49:07.369Z"
   },
   {
    "duration": 308,
    "start_time": "2024-09-16T12:49:17.561Z"
   },
   {
    "duration": 325,
    "start_time": "2024-09-16T12:49:22.830Z"
   },
   {
    "duration": 331,
    "start_time": "2024-09-16T12:49:31.650Z"
   },
   {
    "duration": 275,
    "start_time": "2024-09-16T12:50:13.488Z"
   },
   {
    "duration": 438,
    "start_time": "2024-09-16T12:50:19.994Z"
   },
   {
    "duration": 232,
    "start_time": "2024-09-16T12:50:25.226Z"
   },
   {
    "duration": 259,
    "start_time": "2024-09-16T12:50:28.829Z"
   },
   {
    "duration": 264,
    "start_time": "2024-09-16T12:51:02.646Z"
   },
   {
    "duration": 253,
    "start_time": "2024-09-16T12:51:14.144Z"
   },
   {
    "duration": 291,
    "start_time": "2024-09-16T12:51:17.600Z"
   },
   {
    "duration": 397,
    "start_time": "2024-09-16T12:51:26.976Z"
   },
   {
    "duration": 248,
    "start_time": "2024-09-16T12:51:31.976Z"
   },
   {
    "duration": 12,
    "start_time": "2024-09-16T12:52:16.622Z"
   },
   {
    "duration": 11,
    "start_time": "2024-09-16T12:52:26.573Z"
   },
   {
    "duration": 7,
    "start_time": "2024-09-16T12:52:31.041Z"
   },
   {
    "duration": 11,
    "start_time": "2024-09-16T12:52:38.108Z"
   },
   {
    "duration": 10,
    "start_time": "2024-09-16T12:52:44.658Z"
   },
   {
    "duration": 80,
    "start_time": "2024-09-16T13:14:49.733Z"
   },
   {
    "duration": 51,
    "start_time": "2024-09-16T13:15:35.387Z"
   },
   {
    "duration": 70,
    "start_time": "2024-09-16T14:36:59.642Z"
   },
   {
    "duration": 1374,
    "start_time": "2024-09-16T14:37:21.021Z"
   },
   {
    "duration": 292,
    "start_time": "2024-09-16T14:37:22.398Z"
   },
   {
    "duration": 16,
    "start_time": "2024-09-16T14:37:23.167Z"
   },
   {
    "duration": 34,
    "start_time": "2024-09-16T14:37:24.218Z"
   },
   {
    "duration": 2033,
    "start_time": "2024-09-16T14:37:25.180Z"
   },
   {
    "duration": 6,
    "start_time": "2024-09-16T14:37:27.215Z"
   },
   {
    "duration": 16,
    "start_time": "2024-09-16T14:37:27.608Z"
   },
   {
    "duration": 5,
    "start_time": "2024-09-16T14:37:28.000Z"
   },
   {
    "duration": 214,
    "start_time": "2024-09-16T14:37:29.275Z"
   },
   {
    "duration": 184,
    "start_time": "2024-09-16T14:37:30.582Z"
   },
   {
    "duration": 320,
    "start_time": "2024-09-16T14:37:31.572Z"
   },
   {
    "duration": 11,
    "start_time": "2024-09-16T14:37:31.894Z"
   },
   {
    "duration": 10,
    "start_time": "2024-09-16T14:37:32.834Z"
   },
   {
    "duration": 661,
    "start_time": "2024-09-16T14:37:33.159Z"
   },
   {
    "duration": 14,
    "start_time": "2024-09-16T14:37:34.161Z"
   },
   {
    "duration": 217,
    "start_time": "2024-09-16T14:37:34.568Z"
   },
   {
    "duration": 15,
    "start_time": "2024-09-16T14:37:36.313Z"
   },
   {
    "duration": 24,
    "start_time": "2024-09-16T14:37:36.704Z"
   },
   {
    "duration": 13,
    "start_time": "2024-09-16T14:37:37.038Z"
   },
   {
    "duration": 19,
    "start_time": "2024-09-16T14:37:38.000Z"
   },
   {
    "duration": 18,
    "start_time": "2024-09-16T14:37:38.336Z"
   },
   {
    "duration": 3,
    "start_time": "2024-09-16T14:37:38.784Z"
   },
   {
    "duration": 320,
    "start_time": "2024-09-16T14:37:40.778Z"
   },
   {
    "duration": 255,
    "start_time": "2024-09-16T14:37:41.156Z"
   },
   {
    "duration": 10,
    "start_time": "2024-09-16T14:37:41.413Z"
   },
   {
    "duration": 9,
    "start_time": "2024-09-16T14:37:41.682Z"
   },
   {
    "duration": 9,
    "start_time": "2024-09-16T14:37:42.416Z"
   },
   {
    "duration": 16,
    "start_time": "2024-09-16T14:37:42.650Z"
   },
   {
    "duration": 55,
    "start_time": "2024-09-16T14:37:44.840Z"
   },
   {
    "duration": 9,
    "start_time": "2024-09-16T14:37:45.504Z"
   },
   {
    "duration": 8,
    "start_time": "2024-09-16T14:38:51.208Z"
   },
   {
    "duration": 7,
    "start_time": "2024-09-16T14:38:58.616Z"
   },
   {
    "duration": 437,
    "start_time": "2024-09-16T14:39:36.092Z"
   },
   {
    "duration": 51,
    "start_time": "2024-09-16T14:39:58.587Z"
   },
   {
    "duration": 8,
    "start_time": "2024-09-16T14:40:42.400Z"
   },
   {
    "duration": 54,
    "start_time": "2024-09-16T14:41:01.640Z"
   },
   {
    "duration": 1230,
    "start_time": "2024-09-16T14:41:27.319Z"
   },
   {
    "duration": 76,
    "start_time": "2024-09-16T14:41:28.551Z"
   },
   {
    "duration": 20,
    "start_time": "2024-09-16T14:41:29.247Z"
   },
   {
    "duration": 36,
    "start_time": "2024-09-16T14:41:30.177Z"
   },
   {
    "duration": 2006,
    "start_time": "2024-09-16T14:41:30.988Z"
   },
   {
    "duration": 5,
    "start_time": "2024-09-16T14:41:32.997Z"
   },
   {
    "duration": 12,
    "start_time": "2024-09-16T14:41:33.319Z"
   },
   {
    "duration": 5,
    "start_time": "2024-09-16T14:41:33.609Z"
   },
   {
    "duration": 232,
    "start_time": "2024-09-16T14:41:34.969Z"
   },
   {
    "duration": 189,
    "start_time": "2024-09-16T14:41:36.495Z"
   },
   {
    "duration": 323,
    "start_time": "2024-09-16T14:41:37.698Z"
   },
   {
    "duration": 18,
    "start_time": "2024-09-16T14:41:38.089Z"
   },
   {
    "duration": 9,
    "start_time": "2024-09-16T14:41:39.377Z"
   },
   {
    "duration": 650,
    "start_time": "2024-09-16T14:41:39.822Z"
   },
   {
    "duration": 9,
    "start_time": "2024-09-16T14:41:41.313Z"
   },
   {
    "duration": 205,
    "start_time": "2024-09-16T14:41:41.805Z"
   },
   {
    "duration": 15,
    "start_time": "2024-09-16T14:41:44.295Z"
   },
   {
    "duration": 32,
    "start_time": "2024-09-16T14:41:44.738Z"
   },
   {
    "duration": 15,
    "start_time": "2024-09-16T14:41:45.197Z"
   },
   {
    "duration": 19,
    "start_time": "2024-09-16T14:41:47.068Z"
   },
   {
    "duration": 18,
    "start_time": "2024-09-16T14:41:47.361Z"
   },
   {
    "duration": 3,
    "start_time": "2024-09-16T14:41:47.931Z"
   },
   {
    "duration": 322,
    "start_time": "2024-09-16T14:41:49.191Z"
   },
   {
    "duration": 242,
    "start_time": "2024-09-16T14:41:49.575Z"
   },
   {
    "duration": 9,
    "start_time": "2024-09-16T14:41:49.991Z"
   },
   {
    "duration": 9,
    "start_time": "2024-09-16T14:41:50.795Z"
   },
   {
    "duration": 8,
    "start_time": "2024-09-16T14:41:51.405Z"
   },
   {
    "duration": 20,
    "start_time": "2024-09-16T14:41:51.949Z"
   },
   {
    "duration": 61,
    "start_time": "2024-09-16T14:41:55.131Z"
   },
   {
    "duration": 12,
    "start_time": "2024-09-16T14:41:58.160Z"
   },
   {
    "duration": 11,
    "start_time": "2024-09-16T14:42:11.255Z"
   },
   {
    "duration": 73,
    "start_time": "2024-09-16T14:45:51.319Z"
   },
   {
    "duration": 6,
    "start_time": "2024-09-16T14:49:13.467Z"
   },
   {
    "duration": 101,
    "start_time": "2024-09-16T14:50:38.527Z"
   },
   {
    "duration": 10,
    "start_time": "2024-09-16T14:50:41.391Z"
   },
   {
    "duration": 7,
    "start_time": "2024-09-16T14:51:03.889Z"
   },
   {
    "duration": 6,
    "start_time": "2024-09-16T14:51:37.164Z"
   },
   {
    "duration": 6,
    "start_time": "2024-09-16T14:54:08.157Z"
   },
   {
    "duration": 6,
    "start_time": "2024-09-16T14:55:18.669Z"
   },
   {
    "duration": 11,
    "start_time": "2024-09-16T14:55:37.235Z"
   },
   {
    "duration": 6,
    "start_time": "2024-09-16T15:01:55.909Z"
   },
   {
    "duration": 5,
    "start_time": "2024-09-16T15:02:10.228Z"
   },
   {
    "duration": 5,
    "start_time": "2024-09-16T15:03:25.189Z"
   },
   {
    "duration": 11,
    "start_time": "2024-09-16T15:05:12.901Z"
   },
   {
    "duration": 6,
    "start_time": "2024-09-16T15:05:27.087Z"
   },
   {
    "duration": 6,
    "start_time": "2024-09-16T15:05:52.093Z"
   },
   {
    "duration": 5,
    "start_time": "2024-09-16T15:06:08.742Z"
   },
   {
    "duration": 6,
    "start_time": "2024-09-16T15:06:12.295Z"
   },
   {
    "duration": 11,
    "start_time": "2024-09-16T15:18:24.426Z"
   },
   {
    "duration": 9,
    "start_time": "2024-09-16T15:18:55.445Z"
   },
   {
    "duration": 13,
    "start_time": "2024-09-16T15:19:03.389Z"
   },
   {
    "duration": 8,
    "start_time": "2024-09-16T15:19:25.248Z"
   },
   {
    "duration": 82,
    "start_time": "2024-09-16T16:01:00.471Z"
   },
   {
    "duration": 73,
    "start_time": "2024-09-16T16:05:53.458Z"
   },
   {
    "duration": 1373,
    "start_time": "2024-09-16T16:24:33.764Z"
   },
   {
    "duration": 272,
    "start_time": "2024-09-16T16:24:35.139Z"
   },
   {
    "duration": 14,
    "start_time": "2024-09-16T16:24:35.413Z"
   },
   {
    "duration": 42,
    "start_time": "2024-09-16T16:24:35.430Z"
   },
   {
    "duration": 1949,
    "start_time": "2024-09-16T16:24:35.474Z"
   },
   {
    "duration": 6,
    "start_time": "2024-09-16T16:24:37.425Z"
   },
   {
    "duration": 14,
    "start_time": "2024-09-16T16:24:37.432Z"
   },
   {
    "duration": 4,
    "start_time": "2024-09-16T16:24:37.448Z"
   },
   {
    "duration": 234,
    "start_time": "2024-09-16T16:24:37.454Z"
   },
   {
    "duration": 181,
    "start_time": "2024-09-16T16:24:37.691Z"
   },
   {
    "duration": 336,
    "start_time": "2024-09-16T16:24:37.875Z"
   },
   {
    "duration": 13,
    "start_time": "2024-09-16T16:24:38.214Z"
   },
   {
    "duration": 13,
    "start_time": "2024-09-16T16:24:38.229Z"
   },
   {
    "duration": 652,
    "start_time": "2024-09-16T16:24:38.244Z"
   },
   {
    "duration": 14,
    "start_time": "2024-09-16T16:24:38.898Z"
   },
   {
    "duration": 218,
    "start_time": "2024-09-16T16:24:38.913Z"
   },
   {
    "duration": 16,
    "start_time": "2024-09-16T16:24:39.133Z"
   },
   {
    "duration": 24,
    "start_time": "2024-09-16T16:24:39.151Z"
   },
   {
    "duration": 30,
    "start_time": "2024-09-16T16:24:39.177Z"
   },
   {
    "duration": 17,
    "start_time": "2024-09-16T16:24:39.209Z"
   },
   {
    "duration": 15,
    "start_time": "2024-09-16T16:24:39.228Z"
   },
   {
    "duration": 10,
    "start_time": "2024-09-16T16:24:39.245Z"
   },
   {
    "duration": 341,
    "start_time": "2024-09-16T16:24:39.257Z"
   },
   {
    "duration": 252,
    "start_time": "2024-09-16T16:24:39.604Z"
   },
   {
    "duration": 10,
    "start_time": "2024-09-16T16:24:39.859Z"
   },
   {
    "duration": 9,
    "start_time": "2024-09-16T16:24:39.871Z"
   },
   {
    "duration": 26,
    "start_time": "2024-09-16T16:24:39.882Z"
   },
   {
    "duration": 8,
    "start_time": "2024-09-16T16:24:39.911Z"
   },
   {
    "duration": 65,
    "start_time": "2024-09-16T16:24:39.921Z"
   },
   {
    "duration": 22,
    "start_time": "2024-09-16T16:24:39.987Z"
   },
   {
    "duration": 23,
    "start_time": "2024-09-16T16:24:40.011Z"
   },
   {
    "duration": 116,
    "start_time": "2024-09-16T16:24:40.036Z"
   },
   {
    "duration": 0,
    "start_time": "2024-09-16T16:24:40.154Z"
   },
   {
    "duration": 12,
    "start_time": "2024-09-16T16:29:24.922Z"
   },
   {
    "duration": 8,
    "start_time": "2024-09-16T16:30:41.841Z"
   },
   {
    "duration": 1208,
    "start_time": "2024-09-16T16:32:03.294Z"
   },
   {
    "duration": 70,
    "start_time": "2024-09-16T16:32:04.505Z"
   },
   {
    "duration": 14,
    "start_time": "2024-09-16T16:32:04.576Z"
   },
   {
    "duration": 44,
    "start_time": "2024-09-16T16:32:04.593Z"
   },
   {
    "duration": 1986,
    "start_time": "2024-09-16T16:32:04.639Z"
   },
   {
    "duration": 5,
    "start_time": "2024-09-16T16:32:06.627Z"
   },
   {
    "duration": 58,
    "start_time": "2024-09-16T16:32:06.633Z"
   },
   {
    "duration": 5,
    "start_time": "2024-09-16T16:32:06.693Z"
   },
   {
    "duration": 189,
    "start_time": "2024-09-16T16:32:06.700Z"
   },
   {
    "duration": 174,
    "start_time": "2024-09-16T16:32:06.892Z"
   },
   {
    "duration": 300,
    "start_time": "2024-09-16T16:32:07.067Z"
   },
   {
    "duration": 10,
    "start_time": "2024-09-16T16:32:07.369Z"
   },
   {
    "duration": 39,
    "start_time": "2024-09-16T16:32:07.380Z"
   },
   {
    "duration": 619,
    "start_time": "2024-09-16T16:32:07.421Z"
   },
   {
    "duration": 7,
    "start_time": "2024-09-16T16:32:08.042Z"
   },
   {
    "duration": 196,
    "start_time": "2024-09-16T16:32:08.051Z"
   },
   {
    "duration": 14,
    "start_time": "2024-09-16T16:32:08.249Z"
   },
   {
    "duration": 28,
    "start_time": "2024-09-16T16:32:08.264Z"
   },
   {
    "duration": 12,
    "start_time": "2024-09-16T16:32:08.304Z"
   },
   {
    "duration": 24,
    "start_time": "2024-09-16T16:32:08.318Z"
   },
   {
    "duration": 13,
    "start_time": "2024-09-16T16:32:08.343Z"
   },
   {
    "duration": 16,
    "start_time": "2024-09-16T16:32:08.358Z"
   },
   {
    "duration": 324,
    "start_time": "2024-09-16T16:32:08.375Z"
   },
   {
    "duration": 247,
    "start_time": "2024-09-16T16:32:08.705Z"
   },
   {
    "duration": 8,
    "start_time": "2024-09-16T16:32:08.954Z"
   },
   {
    "duration": 8,
    "start_time": "2024-09-16T16:32:08.964Z"
   },
   {
    "duration": 8,
    "start_time": "2024-09-16T16:32:08.973Z"
   },
   {
    "duration": 9,
    "start_time": "2024-09-16T16:32:09.007Z"
   },
   {
    "duration": 47,
    "start_time": "2024-09-16T16:32:09.018Z"
   },
   {
    "duration": 8,
    "start_time": "2024-09-16T16:32:09.066Z"
   },
   {
    "duration": 33,
    "start_time": "2024-09-16T16:32:09.075Z"
   },
   {
    "duration": 120,
    "start_time": "2024-09-16T16:32:09.109Z"
   },
   {
    "duration": 0,
    "start_time": "2024-09-16T16:32:09.231Z"
   },
   {
    "duration": 43,
    "start_time": "2024-09-16T17:22:09.745Z"
   },
   {
    "duration": 1274,
    "start_time": "2024-09-16T17:22:15.926Z"
   },
   {
    "duration": 367,
    "start_time": "2024-09-16T17:22:17.318Z"
   },
   {
    "duration": 24,
    "start_time": "2024-09-16T17:22:18.185Z"
   },
   {
    "duration": 21,
    "start_time": "2024-09-16T17:22:42.239Z"
   },
   {
    "duration": 24,
    "start_time": "2024-09-16T17:23:02.730Z"
   },
   {
    "duration": 3,
    "start_time": "2024-09-16T17:24:52.942Z"
   },
   {
    "duration": 71,
    "start_time": "2024-09-16T17:24:53.935Z"
   },
   {
    "duration": 20,
    "start_time": "2024-09-16T17:24:54.276Z"
   },
   {
    "duration": 29,
    "start_time": "2024-09-16T17:24:54.806Z"
   },
   {
    "duration": 1691,
    "start_time": "2024-09-16T17:24:55.144Z"
   },
   {
    "duration": 6,
    "start_time": "2024-09-16T17:24:56.838Z"
   },
   {
    "duration": 13,
    "start_time": "2024-09-16T17:24:56.846Z"
   },
   {
    "duration": 5,
    "start_time": "2024-09-16T17:24:56.861Z"
   },
   {
    "duration": 178,
    "start_time": "2024-09-16T17:24:57.732Z"
   },
   {
    "duration": 152,
    "start_time": "2024-09-16T17:24:58.605Z"
   },
   {
    "duration": 261,
    "start_time": "2024-09-16T17:24:59.286Z"
   },
   {
    "duration": 12,
    "start_time": "2024-09-16T17:24:59.630Z"
   },
   {
    "duration": 11,
    "start_time": "2024-09-16T17:25:00.148Z"
   },
   {
    "duration": 556,
    "start_time": "2024-09-16T17:25:00.518Z"
   },
   {
    "duration": 8,
    "start_time": "2024-09-16T17:25:01.230Z"
   },
   {
    "duration": 182,
    "start_time": "2024-09-16T17:25:01.398Z"
   },
   {
    "duration": 16,
    "start_time": "2024-09-16T17:25:02.814Z"
   },
   {
    "duration": 21,
    "start_time": "2024-09-16T17:25:02.981Z"
   },
   {
    "duration": 13,
    "start_time": "2024-09-16T17:25:03.159Z"
   },
   {
    "duration": 15,
    "start_time": "2024-09-16T17:25:03.870Z"
   },
   {
    "duration": 13,
    "start_time": "2024-09-16T17:25:04.039Z"
   },
   {
    "duration": 4,
    "start_time": "2024-09-16T17:25:04.222Z"
   },
   {
    "duration": 284,
    "start_time": "2024-09-16T17:25:04.877Z"
   },
   {
    "duration": 228,
    "start_time": "2024-09-16T17:25:05.163Z"
   },
   {
    "duration": 9,
    "start_time": "2024-09-16T17:25:05.393Z"
   },
   {
    "duration": 9,
    "start_time": "2024-09-16T17:25:05.557Z"
   },
   {
    "duration": 8,
    "start_time": "2024-09-16T17:25:05.726Z"
   },
   {
    "duration": 9,
    "start_time": "2024-09-16T17:25:05.910Z"
   },
   {
    "duration": 53,
    "start_time": "2024-09-16T17:25:07.046Z"
   },
   {
    "duration": 8,
    "start_time": "2024-09-16T17:25:07.668Z"
   },
   {
    "duration": 6,
    "start_time": "2024-09-16T17:25:08.829Z"
   },
   {
    "duration": 83,
    "start_time": "2024-09-16T17:25:09.597Z"
   },
   {
    "duration": 10,
    "start_time": "2024-09-16T17:25:53.141Z"
   },
   {
    "duration": 5,
    "start_time": "2024-09-16T17:26:33.189Z"
   },
   {
    "duration": 6,
    "start_time": "2024-09-16T17:27:06.188Z"
   },
   {
    "duration": 1128,
    "start_time": "2024-09-16T17:27:19.567Z"
   },
   {
    "duration": 74,
    "start_time": "2024-09-16T17:27:20.697Z"
   },
   {
    "duration": 27,
    "start_time": "2024-09-16T17:27:20.773Z"
   },
   {
    "duration": 36,
    "start_time": "2024-09-16T17:27:20.803Z"
   },
   {
    "duration": 1730,
    "start_time": "2024-09-16T17:27:20.841Z"
   },
   {
    "duration": 6,
    "start_time": "2024-09-16T17:27:22.572Z"
   },
   {
    "duration": 69,
    "start_time": "2024-09-16T17:27:22.579Z"
   },
   {
    "duration": 4,
    "start_time": "2024-09-16T17:27:22.650Z"
   },
   {
    "duration": 172,
    "start_time": "2024-09-16T17:27:22.655Z"
   },
   {
    "duration": 172,
    "start_time": "2024-09-16T17:27:22.831Z"
   },
   {
    "duration": 286,
    "start_time": "2024-09-16T17:27:23.005Z"
   },
   {
    "duration": 9,
    "start_time": "2024-09-16T17:27:23.293Z"
   },
   {
    "duration": 24,
    "start_time": "2024-09-16T17:27:23.303Z"
   },
   {
    "duration": 577,
    "start_time": "2024-09-16T17:27:23.329Z"
   },
   {
    "duration": 19,
    "start_time": "2024-09-16T17:27:23.907Z"
   },
   {
    "duration": 185,
    "start_time": "2024-09-16T17:27:23.928Z"
   },
   {
    "duration": 24,
    "start_time": "2024-09-16T17:27:24.115Z"
   },
   {
    "duration": 23,
    "start_time": "2024-09-16T17:27:24.140Z"
   },
   {
    "duration": 11,
    "start_time": "2024-09-16T17:27:24.165Z"
   },
   {
    "duration": 50,
    "start_time": "2024-09-16T17:27:24.178Z"
   },
   {
    "duration": 14,
    "start_time": "2024-09-16T17:27:24.230Z"
   },
   {
    "duration": 17,
    "start_time": "2024-09-16T17:27:24.246Z"
   },
   {
    "duration": 314,
    "start_time": "2024-09-16T17:27:24.265Z"
   },
   {
    "duration": 235,
    "start_time": "2024-09-16T17:27:24.580Z"
   },
   {
    "duration": 14,
    "start_time": "2024-09-16T17:27:24.817Z"
   },
   {
    "duration": 8,
    "start_time": "2024-09-16T17:27:24.832Z"
   },
   {
    "duration": 7,
    "start_time": "2024-09-16T17:27:24.842Z"
   },
   {
    "duration": 34,
    "start_time": "2024-09-16T17:27:24.852Z"
   },
   {
    "duration": 61,
    "start_time": "2024-09-16T17:27:24.887Z"
   },
   {
    "duration": 7,
    "start_time": "2024-09-16T17:27:24.950Z"
   },
   {
    "duration": 11,
    "start_time": "2024-09-16T17:27:24.958Z"
   },
   {
    "duration": 4,
    "start_time": "2024-09-16T17:27:24.971Z"
   },
   {
    "duration": 22,
    "start_time": "2024-09-16T17:27:24.977Z"
   },
   {
    "duration": 153,
    "start_time": "2024-09-16T17:29:51.285Z"
   },
   {
    "duration": 156,
    "start_time": "2024-09-16T17:30:02.810Z"
   },
   {
    "duration": 96,
    "start_time": "2024-09-16T17:32:40.723Z"
   },
   {
    "duration": 1096,
    "start_time": "2024-09-16T17:34:49.569Z"
   },
   {
    "duration": 71,
    "start_time": "2024-09-16T17:34:50.667Z"
   },
   {
    "duration": 24,
    "start_time": "2024-09-16T17:34:50.740Z"
   },
   {
    "duration": 32,
    "start_time": "2024-09-16T17:34:50.766Z"
   },
   {
    "duration": 1669,
    "start_time": "2024-09-16T17:34:50.801Z"
   },
   {
    "duration": 6,
    "start_time": "2024-09-16T17:34:52.471Z"
   },
   {
    "duration": 726,
    "start_time": "2024-09-16T17:34:52.478Z"
   },
   {
    "duration": 5,
    "start_time": "2024-09-16T17:34:53.206Z"
   },
   {
    "duration": 189,
    "start_time": "2024-09-16T17:34:53.212Z"
   },
   {
    "duration": 105,
    "start_time": "2024-09-16T17:34:53.404Z"
   },
   {
    "duration": 288,
    "start_time": "2024-09-16T17:34:53.511Z"
   },
   {
    "duration": 9,
    "start_time": "2024-09-16T17:34:53.801Z"
   },
   {
    "duration": 20,
    "start_time": "2024-09-16T17:34:53.811Z"
   },
   {
    "duration": 579,
    "start_time": "2024-09-16T17:34:53.833Z"
   },
   {
    "duration": 11,
    "start_time": "2024-09-16T17:34:54.414Z"
   },
   {
    "duration": 240,
    "start_time": "2024-09-16T17:34:54.426Z"
   },
   {
    "duration": 12,
    "start_time": "2024-09-16T17:34:54.668Z"
   },
   {
    "duration": 53,
    "start_time": "2024-09-16T17:34:54.681Z"
   },
   {
    "duration": 12,
    "start_time": "2024-09-16T17:34:54.735Z"
   },
   {
    "duration": 30,
    "start_time": "2024-09-16T17:34:54.748Z"
   },
   {
    "duration": 14,
    "start_time": "2024-09-16T17:34:54.780Z"
   },
   {
    "duration": 3,
    "start_time": "2024-09-16T17:34:54.796Z"
   },
   {
    "duration": 325,
    "start_time": "2024-09-16T17:34:54.800Z"
   },
   {
    "duration": 230,
    "start_time": "2024-09-16T17:34:55.127Z"
   },
   {
    "duration": 11,
    "start_time": "2024-09-16T17:34:55.359Z"
   },
   {
    "duration": 9,
    "start_time": "2024-09-16T17:34:55.372Z"
   },
   {
    "duration": 9,
    "start_time": "2024-09-16T17:34:55.382Z"
   },
   {
    "duration": 9,
    "start_time": "2024-09-16T17:34:55.426Z"
   },
   {
    "duration": 52,
    "start_time": "2024-09-16T17:34:55.437Z"
   },
   {
    "duration": 9,
    "start_time": "2024-09-16T17:34:55.490Z"
   },
   {
    "duration": 6,
    "start_time": "2024-09-16T17:34:55.525Z"
   },
   {
    "duration": 5,
    "start_time": "2024-09-16T17:34:55.532Z"
   },
   {
    "duration": 63,
    "start_time": "2024-09-16T17:34:55.539Z"
   },
   {
    "duration": 301,
    "start_time": "2024-09-16T17:35:18.575Z"
   },
   {
    "duration": 257,
    "start_time": "2024-09-16T17:36:00.799Z"
   },
   {
    "duration": 258,
    "start_time": "2024-09-16T17:36:53.679Z"
   },
   {
    "duration": 364,
    "start_time": "2024-09-16T17:37:01.895Z"
   },
   {
    "duration": 72,
    "start_time": "2024-09-16T17:53:09.572Z"
   },
   {
    "duration": 51,
    "start_time": "2024-09-16T17:53:42.844Z"
   },
   {
    "duration": 1062,
    "start_time": "2024-09-16T17:54:11.214Z"
   },
   {
    "duration": 75,
    "start_time": "2024-09-16T17:54:12.278Z"
   },
   {
    "duration": 23,
    "start_time": "2024-09-16T17:54:12.355Z"
   },
   {
    "duration": 46,
    "start_time": "2024-09-16T17:54:12.379Z"
   },
   {
    "duration": 1693,
    "start_time": "2024-09-16T17:54:12.427Z"
   },
   {
    "duration": 6,
    "start_time": "2024-09-16T17:54:14.121Z"
   },
   {
    "duration": 38,
    "start_time": "2024-09-16T17:54:14.129Z"
   },
   {
    "duration": 4,
    "start_time": "2024-09-16T17:54:14.168Z"
   },
   {
    "duration": 187,
    "start_time": "2024-09-16T17:54:14.173Z"
   },
   {
    "duration": 106,
    "start_time": "2024-09-16T17:54:14.362Z"
   },
   {
    "duration": 280,
    "start_time": "2024-09-16T17:54:14.469Z"
   },
   {
    "duration": 9,
    "start_time": "2024-09-16T17:54:14.751Z"
   },
   {
    "duration": 9,
    "start_time": "2024-09-16T17:54:14.761Z"
   },
   {
    "duration": 617,
    "start_time": "2024-09-16T17:54:14.773Z"
   },
   {
    "duration": 8,
    "start_time": "2024-09-16T17:54:15.392Z"
   },
   {
    "duration": 206,
    "start_time": "2024-09-16T17:54:15.402Z"
   },
   {
    "duration": 17,
    "start_time": "2024-09-16T17:54:15.610Z"
   },
   {
    "duration": 26,
    "start_time": "2024-09-16T17:54:15.629Z"
   },
   {
    "duration": 12,
    "start_time": "2024-09-16T17:54:15.656Z"
   },
   {
    "duration": 61,
    "start_time": "2024-09-16T17:54:15.669Z"
   },
   {
    "duration": 16,
    "start_time": "2024-09-16T17:54:15.732Z"
   },
   {
    "duration": 4,
    "start_time": "2024-09-16T17:54:15.750Z"
   },
   {
    "duration": 286,
    "start_time": "2024-09-16T17:54:15.756Z"
   },
   {
    "duration": 213,
    "start_time": "2024-09-16T17:54:16.043Z"
   },
   {
    "duration": 11,
    "start_time": "2024-09-16T17:54:16.258Z"
   },
   {
    "duration": 9,
    "start_time": "2024-09-16T17:54:16.271Z"
   },
   {
    "duration": 8,
    "start_time": "2024-09-16T17:54:16.281Z"
   },
   {
    "duration": 8,
    "start_time": "2024-09-16T17:54:16.325Z"
   },
   {
    "duration": 58,
    "start_time": "2024-09-16T17:54:16.334Z"
   },
   {
    "duration": 7,
    "start_time": "2024-09-16T17:54:16.393Z"
   },
   {
    "duration": 5,
    "start_time": "2024-09-16T17:54:16.425Z"
   },
   {
    "duration": 9,
    "start_time": "2024-09-16T17:54:16.432Z"
   },
   {
    "duration": 22,
    "start_time": "2024-09-16T17:54:16.442Z"
   },
   {
    "duration": 1117,
    "start_time": "2024-09-17T15:19:02.362Z"
   },
   {
    "duration": 69,
    "start_time": "2024-09-17T15:19:03.481Z"
   },
   {
    "duration": 61,
    "start_time": "2024-09-17T15:19:03.552Z"
   },
   {
    "duration": 47,
    "start_time": "2024-09-17T15:19:03.615Z"
   },
   {
    "duration": 1887,
    "start_time": "2024-09-17T15:19:03.664Z"
   },
   {
    "duration": 6,
    "start_time": "2024-09-17T15:19:05.552Z"
   },
   {
    "duration": 55,
    "start_time": "2024-09-17T15:19:05.559Z"
   },
   {
    "duration": 6,
    "start_time": "2024-09-17T15:19:05.616Z"
   },
   {
    "duration": 254,
    "start_time": "2024-09-17T15:19:05.624Z"
   },
   {
    "duration": 116,
    "start_time": "2024-09-17T15:19:05.880Z"
   },
   {
    "duration": 322,
    "start_time": "2024-09-17T15:19:05.998Z"
   },
   {
    "duration": 9,
    "start_time": "2024-09-17T15:19:06.322Z"
   },
   {
    "duration": 50,
    "start_time": "2024-09-17T15:19:06.332Z"
   },
   {
    "duration": 619,
    "start_time": "2024-09-17T15:19:06.384Z"
   },
   {
    "duration": 9,
    "start_time": "2024-09-17T15:19:07.004Z"
   },
   {
    "duration": 219,
    "start_time": "2024-09-17T15:19:07.015Z"
   },
   {
    "duration": 13,
    "start_time": "2024-09-17T15:19:07.236Z"
   },
   {
    "duration": 59,
    "start_time": "2024-09-17T15:19:07.251Z"
   },
   {
    "duration": 15,
    "start_time": "2024-09-17T15:19:07.312Z"
   },
   {
    "duration": 24,
    "start_time": "2024-09-17T15:19:07.329Z"
   },
   {
    "duration": 24,
    "start_time": "2024-09-17T15:19:07.355Z"
   },
   {
    "duration": 17,
    "start_time": "2024-09-17T15:19:07.381Z"
   },
   {
    "duration": 315,
    "start_time": "2024-09-17T15:19:07.399Z"
   },
   {
    "duration": 227,
    "start_time": "2024-09-17T15:19:07.715Z"
   },
   {
    "duration": 9,
    "start_time": "2024-09-17T15:19:07.943Z"
   },
   {
    "duration": 37,
    "start_time": "2024-09-17T15:19:07.953Z"
   },
   {
    "duration": 19,
    "start_time": "2024-09-17T15:19:07.992Z"
   },
   {
    "duration": 22,
    "start_time": "2024-09-17T15:19:08.014Z"
   },
   {
    "duration": 90,
    "start_time": "2024-09-17T15:19:08.037Z"
   },
   {
    "duration": 66,
    "start_time": "2024-09-17T15:19:08.128Z"
   },
   {
    "duration": 21,
    "start_time": "2024-09-17T15:19:08.196Z"
   },
   {
    "duration": 12,
    "start_time": "2024-09-17T15:19:08.219Z"
   },
   {
    "duration": 25,
    "start_time": "2024-09-17T15:19:08.233Z"
   }
  ],
  "kernelspec": {
   "display_name": "Python [conda env:base] *",
   "language": "python",
   "name": "conda-base-py"
  },
  "language_info": {
   "codemirror_mode": {
    "name": "ipython",
    "version": 3
   },
   "file_extension": ".py",
   "mimetype": "text/x-python",
   "name": "python",
   "nbconvert_exporter": "python",
   "pygments_lexer": "ipython3",
   "version": "3.12.7"
  },
  "toc": {
   "base_numbering": 1,
   "nav_menu": {},
   "number_sections": true,
   "sideBar": true,
   "skip_h1_title": true,
   "title_cell": "Table of Contents",
   "title_sidebar": "Contents",
   "toc_cell": false,
   "toc_position": {},
   "toc_section_display": true,
   "toc_window_display": false
  }
 },
 "nbformat": 4,
 "nbformat_minor": 5
}
